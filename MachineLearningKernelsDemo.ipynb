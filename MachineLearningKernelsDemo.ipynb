{
 "cells": [
  {
   "cell_type": "markdown",
   "metadata": {},
   "source": [
    "<a id=top></a>\n",
    "# Machine Learning with Kernels\n",
    "- <a href=#deffunctions>Some needed functions</a>\n",
    "- <a href=#getdata>Obtain and visually inspect Fisher's Iris Data</a>\n",
    "- <a href=#featengine>Feature Engineering</a>\n",
    "- <a href=#logisticregression>Model Fisher's Iris Data with Logistic Regression</a>\n",
    "- <a href=#kernelsvm>Model Fisher's Iris Data with the Kernel Support Vector Machine</a>\n",
    "- <a href=#crossval>Machine Learning Technique - Cross-validation</a>\n",
    "- <a href=#gridsearch>Hyperparameter Tuning - Grid Search</a>\n",
    "- <a href=#featsel>Feature Selection - Combinatorial Enumeration</a>\n",
    "- <a href=#ensemble>Ensemble Modeling</a>\n",
    "\n",
    "- <a href=#bottom>Bottom</a>"
   ]
  },
  {
   "cell_type": "code",
   "execution_count": 1,
   "metadata": {},
   "outputs": [
    {
     "data": {
      "text/html": [
       "        <script type=\"text/javascript\">\n",
       "        window.PlotlyConfig = {MathJaxConfig: 'local'};\n",
       "        if (window.MathJax) {MathJax.Hub.Config({SVG: {font: \"STIX-Web\"}});}\n",
       "        if (typeof require !== 'undefined') {\n",
       "        require.undef(\"plotly\");\n",
       "        requirejs.config({\n",
       "            paths: {\n",
       "                'plotly': ['https://cdn.plot.ly/plotly-latest.min']\n",
       "            }\n",
       "        });\n",
       "        require(['plotly'], function(Plotly) {\n",
       "            window._Plotly = Plotly;\n",
       "        });\n",
       "        }\n",
       "        </script>\n",
       "        "
      ]
     },
     "metadata": {},
     "output_type": "display_data"
    },
    {
     "data": {
      "application/vnd.plotly.v1+json": {
       "config": {
        "linkText": "Export to plot.ly",
        "plotlyServerURL": "https://plot.ly",
        "showLink": false
       },
       "data": [
        {
         "mode": "markers",
         "type": "scatter",
         "x": [
          1,
          4,
          7
         ],
         "y": [
          7,
          5,
          7
         ]
        },
        {
         "mode": "lines",
         "type": "scatter",
         "x": [
          1,
          2,
          3,
          4,
          5,
          6,
          7
         ],
         "y": [
          3,
          2,
          1,
          1,
          1,
          2,
          3
         ]
        }
       ],
       "layout": {
        "autosize": false,
        "height": 450,
        "showlegend": false,
        "template": {
         "data": {
          "bar": [
           {
            "error_x": {
             "color": "#2a3f5f"
            },
            "error_y": {
             "color": "#2a3f5f"
            },
            "marker": {
             "line": {
              "color": "#E5ECF6",
              "width": 0.5
             }
            },
            "type": "bar"
           }
          ],
          "barpolar": [
           {
            "marker": {
             "line": {
              "color": "#E5ECF6",
              "width": 0.5
             }
            },
            "type": "barpolar"
           }
          ],
          "carpet": [
           {
            "aaxis": {
             "endlinecolor": "#2a3f5f",
             "gridcolor": "white",
             "linecolor": "white",
             "minorgridcolor": "white",
             "startlinecolor": "#2a3f5f"
            },
            "baxis": {
             "endlinecolor": "#2a3f5f",
             "gridcolor": "white",
             "linecolor": "white",
             "minorgridcolor": "white",
             "startlinecolor": "#2a3f5f"
            },
            "type": "carpet"
           }
          ],
          "choropleth": [
           {
            "colorbar": {
             "outlinewidth": 0,
             "ticks": ""
            },
            "type": "choropleth"
           }
          ],
          "contour": [
           {
            "colorbar": {
             "outlinewidth": 0,
             "ticks": ""
            },
            "colorscale": [
             [
              0,
              "#0d0887"
             ],
             [
              0.1111111111111111,
              "#46039f"
             ],
             [
              0.2222222222222222,
              "#7201a8"
             ],
             [
              0.3333333333333333,
              "#9c179e"
             ],
             [
              0.4444444444444444,
              "#bd3786"
             ],
             [
              0.5555555555555556,
              "#d8576b"
             ],
             [
              0.6666666666666666,
              "#ed7953"
             ],
             [
              0.7777777777777778,
              "#fb9f3a"
             ],
             [
              0.8888888888888888,
              "#fdca26"
             ],
             [
              1,
              "#f0f921"
             ]
            ],
            "type": "contour"
           }
          ],
          "contourcarpet": [
           {
            "colorbar": {
             "outlinewidth": 0,
             "ticks": ""
            },
            "type": "contourcarpet"
           }
          ],
          "heatmap": [
           {
            "colorbar": {
             "outlinewidth": 0,
             "ticks": ""
            },
            "colorscale": [
             [
              0,
              "#0d0887"
             ],
             [
              0.1111111111111111,
              "#46039f"
             ],
             [
              0.2222222222222222,
              "#7201a8"
             ],
             [
              0.3333333333333333,
              "#9c179e"
             ],
             [
              0.4444444444444444,
              "#bd3786"
             ],
             [
              0.5555555555555556,
              "#d8576b"
             ],
             [
              0.6666666666666666,
              "#ed7953"
             ],
             [
              0.7777777777777778,
              "#fb9f3a"
             ],
             [
              0.8888888888888888,
              "#fdca26"
             ],
             [
              1,
              "#f0f921"
             ]
            ],
            "type": "heatmap"
           }
          ],
          "heatmapgl": [
           {
            "colorbar": {
             "outlinewidth": 0,
             "ticks": ""
            },
            "colorscale": [
             [
              0,
              "#0d0887"
             ],
             [
              0.1111111111111111,
              "#46039f"
             ],
             [
              0.2222222222222222,
              "#7201a8"
             ],
             [
              0.3333333333333333,
              "#9c179e"
             ],
             [
              0.4444444444444444,
              "#bd3786"
             ],
             [
              0.5555555555555556,
              "#d8576b"
             ],
             [
              0.6666666666666666,
              "#ed7953"
             ],
             [
              0.7777777777777778,
              "#fb9f3a"
             ],
             [
              0.8888888888888888,
              "#fdca26"
             ],
             [
              1,
              "#f0f921"
             ]
            ],
            "type": "heatmapgl"
           }
          ],
          "histogram": [
           {
            "marker": {
             "colorbar": {
              "outlinewidth": 0,
              "ticks": ""
             }
            },
            "type": "histogram"
           }
          ],
          "histogram2d": [
           {
            "colorbar": {
             "outlinewidth": 0,
             "ticks": ""
            },
            "colorscale": [
             [
              0,
              "#0d0887"
             ],
             [
              0.1111111111111111,
              "#46039f"
             ],
             [
              0.2222222222222222,
              "#7201a8"
             ],
             [
              0.3333333333333333,
              "#9c179e"
             ],
             [
              0.4444444444444444,
              "#bd3786"
             ],
             [
              0.5555555555555556,
              "#d8576b"
             ],
             [
              0.6666666666666666,
              "#ed7953"
             ],
             [
              0.7777777777777778,
              "#fb9f3a"
             ],
             [
              0.8888888888888888,
              "#fdca26"
             ],
             [
              1,
              "#f0f921"
             ]
            ],
            "type": "histogram2d"
           }
          ],
          "histogram2dcontour": [
           {
            "colorbar": {
             "outlinewidth": 0,
             "ticks": ""
            },
            "colorscale": [
             [
              0,
              "#0d0887"
             ],
             [
              0.1111111111111111,
              "#46039f"
             ],
             [
              0.2222222222222222,
              "#7201a8"
             ],
             [
              0.3333333333333333,
              "#9c179e"
             ],
             [
              0.4444444444444444,
              "#bd3786"
             ],
             [
              0.5555555555555556,
              "#d8576b"
             ],
             [
              0.6666666666666666,
              "#ed7953"
             ],
             [
              0.7777777777777778,
              "#fb9f3a"
             ],
             [
              0.8888888888888888,
              "#fdca26"
             ],
             [
              1,
              "#f0f921"
             ]
            ],
            "type": "histogram2dcontour"
           }
          ],
          "mesh3d": [
           {
            "colorbar": {
             "outlinewidth": 0,
             "ticks": ""
            },
            "type": "mesh3d"
           }
          ],
          "parcoords": [
           {
            "line": {
             "colorbar": {
              "outlinewidth": 0,
              "ticks": ""
             }
            },
            "type": "parcoords"
           }
          ],
          "pie": [
           {
            "automargin": true,
            "type": "pie"
           }
          ],
          "scatter": [
           {
            "marker": {
             "colorbar": {
              "outlinewidth": 0,
              "ticks": ""
             }
            },
            "type": "scatter"
           }
          ],
          "scatter3d": [
           {
            "line": {
             "colorbar": {
              "outlinewidth": 0,
              "ticks": ""
             }
            },
            "marker": {
             "colorbar": {
              "outlinewidth": 0,
              "ticks": ""
             }
            },
            "type": "scatter3d"
           }
          ],
          "scattercarpet": [
           {
            "marker": {
             "colorbar": {
              "outlinewidth": 0,
              "ticks": ""
             }
            },
            "type": "scattercarpet"
           }
          ],
          "scattergeo": [
           {
            "marker": {
             "colorbar": {
              "outlinewidth": 0,
              "ticks": ""
             }
            },
            "type": "scattergeo"
           }
          ],
          "scattergl": [
           {
            "marker": {
             "colorbar": {
              "outlinewidth": 0,
              "ticks": ""
             }
            },
            "type": "scattergl"
           }
          ],
          "scattermapbox": [
           {
            "marker": {
             "colorbar": {
              "outlinewidth": 0,
              "ticks": ""
             }
            },
            "type": "scattermapbox"
           }
          ],
          "scatterpolar": [
           {
            "marker": {
             "colorbar": {
              "outlinewidth": 0,
              "ticks": ""
             }
            },
            "type": "scatterpolar"
           }
          ],
          "scatterpolargl": [
           {
            "marker": {
             "colorbar": {
              "outlinewidth": 0,
              "ticks": ""
             }
            },
            "type": "scatterpolargl"
           }
          ],
          "scatterternary": [
           {
            "marker": {
             "colorbar": {
              "outlinewidth": 0,
              "ticks": ""
             }
            },
            "type": "scatterternary"
           }
          ],
          "surface": [
           {
            "colorbar": {
             "outlinewidth": 0,
             "ticks": ""
            },
            "colorscale": [
             [
              0,
              "#0d0887"
             ],
             [
              0.1111111111111111,
              "#46039f"
             ],
             [
              0.2222222222222222,
              "#7201a8"
             ],
             [
              0.3333333333333333,
              "#9c179e"
             ],
             [
              0.4444444444444444,
              "#bd3786"
             ],
             [
              0.5555555555555556,
              "#d8576b"
             ],
             [
              0.6666666666666666,
              "#ed7953"
             ],
             [
              0.7777777777777778,
              "#fb9f3a"
             ],
             [
              0.8888888888888888,
              "#fdca26"
             ],
             [
              1,
              "#f0f921"
             ]
            ],
            "type": "surface"
           }
          ],
          "table": [
           {
            "cells": {
             "fill": {
              "color": "#EBF0F8"
             },
             "line": {
              "color": "white"
             }
            },
            "header": {
             "fill": {
              "color": "#C8D4E3"
             },
             "line": {
              "color": "white"
             }
            },
            "type": "table"
           }
          ]
         },
         "layout": {
          "annotationdefaults": {
           "arrowcolor": "#2a3f5f",
           "arrowhead": 0,
           "arrowwidth": 1
          },
          "coloraxis": {
           "colorbar": {
            "outlinewidth": 0,
            "ticks": ""
           }
          },
          "colorscale": {
           "diverging": [
            [
             0,
             "#8e0152"
            ],
            [
             0.1,
             "#c51b7d"
            ],
            [
             0.2,
             "#de77ae"
            ],
            [
             0.3,
             "#f1b6da"
            ],
            [
             0.4,
             "#fde0ef"
            ],
            [
             0.5,
             "#f7f7f7"
            ],
            [
             0.6,
             "#e6f5d0"
            ],
            [
             0.7,
             "#b8e186"
            ],
            [
             0.8,
             "#7fbc41"
            ],
            [
             0.9,
             "#4d9221"
            ],
            [
             1,
             "#276419"
            ]
           ],
           "sequential": [
            [
             0,
             "#0d0887"
            ],
            [
             0.1111111111111111,
             "#46039f"
            ],
            [
             0.2222222222222222,
             "#7201a8"
            ],
            [
             0.3333333333333333,
             "#9c179e"
            ],
            [
             0.4444444444444444,
             "#bd3786"
            ],
            [
             0.5555555555555556,
             "#d8576b"
            ],
            [
             0.6666666666666666,
             "#ed7953"
            ],
            [
             0.7777777777777778,
             "#fb9f3a"
            ],
            [
             0.8888888888888888,
             "#fdca26"
            ],
            [
             1,
             "#f0f921"
            ]
           ],
           "sequentialminus": [
            [
             0,
             "#0d0887"
            ],
            [
             0.1111111111111111,
             "#46039f"
            ],
            [
             0.2222222222222222,
             "#7201a8"
            ],
            [
             0.3333333333333333,
             "#9c179e"
            ],
            [
             0.4444444444444444,
             "#bd3786"
            ],
            [
             0.5555555555555556,
             "#d8576b"
            ],
            [
             0.6666666666666666,
             "#ed7953"
            ],
            [
             0.7777777777777778,
             "#fb9f3a"
            ],
            [
             0.8888888888888888,
             "#fdca26"
            ],
            [
             1,
             "#f0f921"
            ]
           ]
          },
          "colorway": [
           "#636efa",
           "#EF553B",
           "#00cc96",
           "#ab63fa",
           "#FFA15A",
           "#19d3f3",
           "#FF6692",
           "#B6E880",
           "#FF97FF",
           "#FECB52"
          ],
          "font": {
           "color": "#2a3f5f"
          },
          "geo": {
           "bgcolor": "white",
           "lakecolor": "white",
           "landcolor": "#E5ECF6",
           "showlakes": true,
           "showland": true,
           "subunitcolor": "white"
          },
          "hoverlabel": {
           "align": "left"
          },
          "hovermode": "closest",
          "mapbox": {
           "style": "light"
          },
          "paper_bgcolor": "white",
          "plot_bgcolor": "#E5ECF6",
          "polar": {
           "angularaxis": {
            "gridcolor": "white",
            "linecolor": "white",
            "ticks": ""
           },
           "bgcolor": "#E5ECF6",
           "radialaxis": {
            "gridcolor": "white",
            "linecolor": "white",
            "ticks": ""
           }
          },
          "scene": {
           "xaxis": {
            "backgroundcolor": "#E5ECF6",
            "gridcolor": "white",
            "gridwidth": 2,
            "linecolor": "white",
            "showbackground": true,
            "ticks": "",
            "zerolinecolor": "white"
           },
           "yaxis": {
            "backgroundcolor": "#E5ECF6",
            "gridcolor": "white",
            "gridwidth": 2,
            "linecolor": "white",
            "showbackground": true,
            "ticks": "",
            "zerolinecolor": "white"
           },
           "zaxis": {
            "backgroundcolor": "#E5ECF6",
            "gridcolor": "white",
            "gridwidth": 2,
            "linecolor": "white",
            "showbackground": true,
            "ticks": "",
            "zerolinecolor": "white"
           }
          },
          "shapedefaults": {
           "line": {
            "color": "#2a3f5f"
           }
          },
          "ternary": {
           "aaxis": {
            "gridcolor": "white",
            "linecolor": "white",
            "ticks": ""
           },
           "baxis": {
            "gridcolor": "white",
            "linecolor": "white",
            "ticks": ""
           },
           "bgcolor": "#E5ECF6",
           "caxis": {
            "gridcolor": "white",
            "linecolor": "white",
            "ticks": ""
           }
          },
          "title": {
           "x": 0.05
          },
          "xaxis": {
           "automargin": true,
           "gridcolor": "white",
           "linecolor": "white",
           "ticks": "",
           "title": {
            "standoff": 15
           },
           "zerolinecolor": "white",
           "zerolinewidth": 2
          },
          "yaxis": {
           "automargin": true,
           "gridcolor": "white",
           "linecolor": "white",
           "ticks": "",
           "title": {
            "standoff": 15
           },
           "zerolinecolor": "white",
           "zerolinewidth": 2
          }
         }
        },
        "title": {
         "text": "Initialization Makes Me Smile<br>(and it's fun to show off a little...)"
        },
        "width": 500,
        "xaxis": {
         "autorange": true,
         "range": [
          0.5829145728643216,
          7.417085427135678
         ],
         "showgrid": false,
         "showticklabels": false,
         "type": "linear"
        },
        "yaxis": {
         "autorange": true,
         "range": [
          0.6614420062695925,
          7.432601880877743
         ],
         "showgrid": false,
         "showticklabels": false,
         "type": "linear"
        }
       }
      },
      "image/png": "[encoded data removed]",
      "text/html": [
       "<div>\n",
       "        \n",
       "        \n",
       "            <div id=\"30718d7f-3e40-4687-b5e8-195c8d7688d2\" class=\"plotly-graph-div\" style=\"height:525px; width:500px;\"></div>\n",
       "            <script type=\"text/javascript\">\n",
       "                require([\"plotly\"], function(Plotly) {\n",
       "                    window.PLOTLYENV=window.PLOTLYENV || {};\n",
       "                    \n",
       "                if (document.getElementById(\"30718d7f-3e40-4687-b5e8-195c8d7688d2\")) {\n",
       "                    Plotly.newPlot(\n",
       "                        '30718d7f-3e40-4687-b5e8-195c8d7688d2',\n",
       "                        [{\"mode\": \"markers\", \"type\": \"scatter\", \"x\": [1, 4, 7], \"y\": [7, 5, 7]}, {\"mode\": \"lines\", \"type\": \"scatter\", \"x\": [1, 2, 3, 4, 5, 6, 7], \"y\": [3, 2, 1, 1, 1, 2, 3]}],\n",
       "                        {\"autosize\": false, \"showlegend\": false, \"template\": {\"data\": {\"bar\": [{\"error_x\": {\"color\": \"#2a3f5f\"}, \"error_y\": {\"color\": \"#2a3f5f\"}, \"marker\": {\"line\": {\"color\": \"#E5ECF6\", \"width\": 0.5}}, \"type\": \"bar\"}], \"barpolar\": [{\"marker\": {\"line\": {\"color\": \"#E5ECF6\", \"width\": 0.5}}, \"type\": \"barpolar\"}], \"carpet\": [{\"aaxis\": {\"endlinecolor\": \"#2a3f5f\", \"gridcolor\": \"white\", \"linecolor\": \"white\", \"minorgridcolor\": \"white\", \"startlinecolor\": \"#2a3f5f\"}, \"baxis\": {\"endlinecolor\": \"#2a3f5f\", \"gridcolor\": \"white\", \"linecolor\": \"white\", \"minorgridcolor\": \"white\", \"startlinecolor\": \"#2a3f5f\"}, \"type\": \"carpet\"}], \"choropleth\": [{\"colorbar\": {\"outlinewidth\": 0, \"ticks\": \"\"}, \"type\": \"choropleth\"}], \"contour\": [{\"colorbar\": {\"outlinewidth\": 0, \"ticks\": \"\"}, \"colorscale\": [[0.0, \"#0d0887\"], [0.1111111111111111, \"#46039f\"], [0.2222222222222222, \"#7201a8\"], [0.3333333333333333, \"#9c179e\"], [0.4444444444444444, \"#bd3786\"], [0.5555555555555556, \"#d8576b\"], [0.6666666666666666, \"#ed7953\"], [0.7777777777777778, \"#fb9f3a\"], [0.8888888888888888, \"#fdca26\"], [1.0, \"#f0f921\"]], \"type\": \"contour\"}], \"contourcarpet\": [{\"colorbar\": {\"outlinewidth\": 0, \"ticks\": \"\"}, \"type\": \"contourcarpet\"}], \"heatmap\": [{\"colorbar\": {\"outlinewidth\": 0, \"ticks\": \"\"}, \"colorscale\": [[0.0, \"#0d0887\"], [0.1111111111111111, \"#46039f\"], [0.2222222222222222, \"#7201a8\"], [0.3333333333333333, \"#9c179e\"], [0.4444444444444444, \"#bd3786\"], [0.5555555555555556, \"#d8576b\"], [0.6666666666666666, \"#ed7953\"], [0.7777777777777778, \"#fb9f3a\"], [0.8888888888888888, \"#fdca26\"], [1.0, \"#f0f921\"]], \"type\": \"heatmap\"}], \"heatmapgl\": [{\"colorbar\": {\"outlinewidth\": 0, \"ticks\": \"\"}, \"colorscale\": [[0.0, \"#0d0887\"], [0.1111111111111111, \"#46039f\"], [0.2222222222222222, \"#7201a8\"], [0.3333333333333333, \"#9c179e\"], [0.4444444444444444, \"#bd3786\"], [0.5555555555555556, \"#d8576b\"], [0.6666666666666666, \"#ed7953\"], [0.7777777777777778, \"#fb9f3a\"], [0.8888888888888888, \"#fdca26\"], [1.0, \"#f0f921\"]], \"type\": \"heatmapgl\"}], \"histogram\": [{\"marker\": {\"colorbar\": {\"outlinewidth\": 0, \"ticks\": \"\"}}, \"type\": \"histogram\"}], \"histogram2d\": [{\"colorbar\": {\"outlinewidth\": 0, \"ticks\": \"\"}, \"colorscale\": [[0.0, \"#0d0887\"], [0.1111111111111111, \"#46039f\"], [0.2222222222222222, \"#7201a8\"], [0.3333333333333333, \"#9c179e\"], [0.4444444444444444, \"#bd3786\"], [0.5555555555555556, \"#d8576b\"], [0.6666666666666666, \"#ed7953\"], [0.7777777777777778, \"#fb9f3a\"], [0.8888888888888888, \"#fdca26\"], [1.0, \"#f0f921\"]], \"type\": \"histogram2d\"}], \"histogram2dcontour\": [{\"colorbar\": {\"outlinewidth\": 0, \"ticks\": \"\"}, \"colorscale\": [[0.0, \"#0d0887\"], [0.1111111111111111, \"#46039f\"], [0.2222222222222222, \"#7201a8\"], [0.3333333333333333, \"#9c179e\"], [0.4444444444444444, \"#bd3786\"], [0.5555555555555556, \"#d8576b\"], [0.6666666666666666, \"#ed7953\"], [0.7777777777777778, \"#fb9f3a\"], [0.8888888888888888, \"#fdca26\"], [1.0, \"#f0f921\"]], \"type\": \"histogram2dcontour\"}], \"mesh3d\": [{\"colorbar\": {\"outlinewidth\": 0, \"ticks\": \"\"}, \"type\": \"mesh3d\"}], \"parcoords\": [{\"line\": {\"colorbar\": {\"outlinewidth\": 0, \"ticks\": \"\"}}, \"type\": \"parcoords\"}], \"pie\": [{\"automargin\": true, \"type\": \"pie\"}], \"scatter\": [{\"marker\": {\"colorbar\": {\"outlinewidth\": 0, \"ticks\": \"\"}}, \"type\": \"scatter\"}], \"scatter3d\": [{\"line\": {\"colorbar\": {\"outlinewidth\": 0, \"ticks\": \"\"}}, \"marker\": {\"colorbar\": {\"outlinewidth\": 0, \"ticks\": \"\"}}, \"type\": \"scatter3d\"}], \"scattercarpet\": [{\"marker\": {\"colorbar\": {\"outlinewidth\": 0, \"ticks\": \"\"}}, \"type\": \"scattercarpet\"}], \"scattergeo\": [{\"marker\": {\"colorbar\": {\"outlinewidth\": 0, \"ticks\": \"\"}}, \"type\": \"scattergeo\"}], \"scattergl\": [{\"marker\": {\"colorbar\": {\"outlinewidth\": 0, \"ticks\": \"\"}}, \"type\": \"scattergl\"}], \"scattermapbox\": [{\"marker\": {\"colorbar\": {\"outlinewidth\": 0, \"ticks\": \"\"}}, \"type\": \"scattermapbox\"}], \"scatterpolar\": [{\"marker\": {\"colorbar\": {\"outlinewidth\": 0, \"ticks\": \"\"}}, \"type\": \"scatterpolar\"}], \"scatterpolargl\": [{\"marker\": {\"colorbar\": {\"outlinewidth\": 0, \"ticks\": \"\"}}, \"type\": \"scatterpolargl\"}], \"scatterternary\": [{\"marker\": {\"colorbar\": {\"outlinewidth\": 0, \"ticks\": \"\"}}, \"type\": \"scatterternary\"}], \"surface\": [{\"colorbar\": {\"outlinewidth\": 0, \"ticks\": \"\"}, \"colorscale\": [[0.0, \"#0d0887\"], [0.1111111111111111, \"#46039f\"], [0.2222222222222222, \"#7201a8\"], [0.3333333333333333, \"#9c179e\"], [0.4444444444444444, \"#bd3786\"], [0.5555555555555556, \"#d8576b\"], [0.6666666666666666, \"#ed7953\"], [0.7777777777777778, \"#fb9f3a\"], [0.8888888888888888, \"#fdca26\"], [1.0, \"#f0f921\"]], \"type\": \"surface\"}], \"table\": [{\"cells\": {\"fill\": {\"color\": \"#EBF0F8\"}, \"line\": {\"color\": \"white\"}}, \"header\": {\"fill\": {\"color\": \"#C8D4E3\"}, \"line\": {\"color\": \"white\"}}, \"type\": \"table\"}]}, \"layout\": {\"annotationdefaults\": {\"arrowcolor\": \"#2a3f5f\", \"arrowhead\": 0, \"arrowwidth\": 1}, \"coloraxis\": {\"colorbar\": {\"outlinewidth\": 0, \"ticks\": \"\"}}, \"colorscale\": {\"diverging\": [[0, \"#8e0152\"], [0.1, \"#c51b7d\"], [0.2, \"#de77ae\"], [0.3, \"#f1b6da\"], [0.4, \"#fde0ef\"], [0.5, \"#f7f7f7\"], [0.6, \"#e6f5d0\"], [0.7, \"#b8e186\"], [0.8, \"#7fbc41\"], [0.9, \"#4d9221\"], [1, \"#276419\"]], \"sequential\": [[0.0, \"#0d0887\"], [0.1111111111111111, \"#46039f\"], [0.2222222222222222, \"#7201a8\"], [0.3333333333333333, \"#9c179e\"], [0.4444444444444444, \"#bd3786\"], [0.5555555555555556, \"#d8576b\"], [0.6666666666666666, \"#ed7953\"], [0.7777777777777778, \"#fb9f3a\"], [0.8888888888888888, \"#fdca26\"], [1.0, \"#f0f921\"]], \"sequentialminus\": [[0.0, \"#0d0887\"], [0.1111111111111111, \"#46039f\"], [0.2222222222222222, \"#7201a8\"], [0.3333333333333333, \"#9c179e\"], [0.4444444444444444, \"#bd3786\"], [0.5555555555555556, \"#d8576b\"], [0.6666666666666666, \"#ed7953\"], [0.7777777777777778, \"#fb9f3a\"], [0.8888888888888888, \"#fdca26\"], [1.0, \"#f0f921\"]]}, \"colorway\": [\"#636efa\", \"#EF553B\", \"#00cc96\", \"#ab63fa\", \"#FFA15A\", \"#19d3f3\", \"#FF6692\", \"#B6E880\", \"#FF97FF\", \"#FECB52\"], \"font\": {\"color\": \"#2a3f5f\"}, \"geo\": {\"bgcolor\": \"white\", \"lakecolor\": \"white\", \"landcolor\": \"#E5ECF6\", \"showlakes\": true, \"showland\": true, \"subunitcolor\": \"white\"}, \"hoverlabel\": {\"align\": \"left\"}, \"hovermode\": \"closest\", \"mapbox\": {\"style\": \"light\"}, \"paper_bgcolor\": \"white\", \"plot_bgcolor\": \"#E5ECF6\", \"polar\": {\"angularaxis\": {\"gridcolor\": \"white\", \"linecolor\": \"white\", \"ticks\": \"\"}, \"bgcolor\": \"#E5ECF6\", \"radialaxis\": {\"gridcolor\": \"white\", \"linecolor\": \"white\", \"ticks\": \"\"}}, \"scene\": {\"xaxis\": {\"backgroundcolor\": \"#E5ECF6\", \"gridcolor\": \"white\", \"gridwidth\": 2, \"linecolor\": \"white\", \"showbackground\": true, \"ticks\": \"\", \"zerolinecolor\": \"white\"}, \"yaxis\": {\"backgroundcolor\": \"#E5ECF6\", \"gridcolor\": \"white\", \"gridwidth\": 2, \"linecolor\": \"white\", \"showbackground\": true, \"ticks\": \"\", \"zerolinecolor\": \"white\"}, \"zaxis\": {\"backgroundcolor\": \"#E5ECF6\", \"gridcolor\": \"white\", \"gridwidth\": 2, \"linecolor\": \"white\", \"showbackground\": true, \"ticks\": \"\", \"zerolinecolor\": \"white\"}}, \"shapedefaults\": {\"line\": {\"color\": \"#2a3f5f\"}}, \"ternary\": {\"aaxis\": {\"gridcolor\": \"white\", \"linecolor\": \"white\", \"ticks\": \"\"}, \"baxis\": {\"gridcolor\": \"white\", \"linecolor\": \"white\", \"ticks\": \"\"}, \"bgcolor\": \"#E5ECF6\", \"caxis\": {\"gridcolor\": \"white\", \"linecolor\": \"white\", \"ticks\": \"\"}}, \"title\": {\"x\": 0.05}, \"xaxis\": {\"automargin\": true, \"gridcolor\": \"white\", \"linecolor\": \"white\", \"ticks\": \"\", \"title\": {\"standoff\": 15}, \"zerolinecolor\": \"white\", \"zerolinewidth\": 2}, \"yaxis\": {\"automargin\": true, \"gridcolor\": \"white\", \"linecolor\": \"white\", \"ticks\": \"\", \"title\": {\"standoff\": 15}, \"zerolinecolor\": \"white\", \"zerolinewidth\": 2}}}, \"title\": {\"text\": \"Initialization Makes Me Smile<br>(and it's fun to show off a little...)\"}, \"width\": 500, \"xaxis\": {\"showgrid\": false, \"showticklabels\": false}, \"yaxis\": {\"showgrid\": false, \"showticklabels\": false}},\n",
       "                        {\"responsive\": true}\n",
       "                    ).then(function(){\n",
       "                            \n",
       "var gd = document.getElementById('30718d7f-3e40-4687-b5e8-195c8d7688d2');\n",
       "var x = new MutationObserver(function (mutations, observer) {{\n",
       "        var display = window.getComputedStyle(gd).display;\n",
       "        if (!display || display === 'none') {{\n",
       "            console.log([gd, 'removed!']);\n",
       "            Plotly.purge(gd);\n",
       "            observer.disconnect();\n",
       "        }}\n",
       "}});\n",
       "\n",
       "// Listen for the removal of the full notebook cells\n",
       "var notebookContainer = gd.closest('#notebook-container');\n",
       "if (notebookContainer) {{\n",
       "    x.observe(notebookContainer, {childList: true});\n",
       "}}\n",
       "\n",
       "// Listen for the clearing of the current output cell\n",
       "var outputEl = gd.closest('.output');\n",
       "if (outputEl) {{\n",
       "    x.observe(outputEl, {childList: true});\n",
       "}}\n",
       "\n",
       "                        })\n",
       "                };\n",
       "                });\n",
       "            </script>\n",
       "        </div>"
      ]
     },
     "metadata": {},
     "output_type": "display_data"
    }
   ],
   "source": [
    "import math\n",
    "import numpy as np\n",
    "import pandas as pd\n",
    "from itertools import combinations, product\n",
    "from scipy import stats\n",
    "from scipy.special import comb\n",
    "\n",
    "from sklearn.datasets import load_iris, load_boston, load_diabetes\n",
    "from sklearn.metrics import pairwise, confusion_matrix\n",
    "from sklearn.model_selection import ShuffleSplit, StratifiedShuffleSplit, cross_val_score, GridSearchCV\n",
    "from sklearn.svm import SVC\n",
    "from sklearn.linear_model import LogisticRegression, LinearRegression\n",
    "from sklearn.ensemble import RandomForestClassifier, VotingClassifier, StackingClassifier\n",
    "from sklearn.tree import DecisionTreeClassifier, plot_tree\n",
    "\n",
    "from IPython.display import display, Math\n",
    "\n",
    "import plotly.express as px\n",
    "import plotly.graph_objects as go\n",
    "import chart_studio.plotly as ply\n",
    "import plotly.tools as plytool\n",
    "import plotly.figure_factory as ff\n",
    "import plotly.offline as plyoff\n",
    "import plotly.subplots as plysub\n",
    "\n",
    "# if using jupyter lab, must have the plotly extension installed: https://github.com/jupyterlab/jupyter-renderers/tree/master/packages/plotly-extension\n",
    "# jupyter labextension install @jupyterlab/plotly-extension\n",
    "# to use plotly offline, need to initialize with a plot; might as well have fun with it\n",
    "plyoff.init_notebook_mode(connected=True)\n",
    "x1 = [1,4,7]; y1 = [7,5,7]\n",
    "x2 = [1,2,3,4,5,6,7]; y2 = [3,2,1,1,1,2,3]\n",
    "plyoff.iplot(go.Figure(data=[go.Scatter({'x':x1, 'y':y1, 'mode':'markers'}),\n",
    "                             go.Scatter({'x':x2, 'y':y2, 'mode':'lines'})],\n",
    "                                        layout=go.Layout(autosize=False,width=500,title=\"Initialization Makes Me Smile<br>(and it's fun to show off a little...)\",\n",
    "                                                         showlegend=False, xaxis={'showgrid':False, 'showticklabels':False},\n",
    "                                                         yaxis={'showgrid':False, 'showticklabels':False})))\n",
    "\n",
    "# if I want to show a df, I want to show *all* of it\n",
    "pd.options.display.max_rows = 999\n",
    "pd.options.display.max_columns = 999\n",
    "pd.options.display.max_colwidth=200"
   ]
  },
  {
   "cell_type": "markdown",
   "metadata": {},
   "source": [
    "<a id=deffunctions></a>\n",
    "### Some needed functions\n",
    "<a href=#top>Go to top</a> - <a href=#bottom>Go to bottom</a>"
   ]
  },
  {
   "cell_type": "code",
   "execution_count": 2,
   "metadata": {},
   "outputs": [],
   "source": [
    "def VarSubset(p):\n",
    "    \"\"\"\n",
    "    Generate an array of binary indices that can be used for all-subset combinatorial analysis\n",
    "    of a dataset with p features.\n",
    "    ---\n",
    "    Usage: subset_binaries, subset_sizes = VarSubset(p)\n",
    "    ---\n",
    "    p: integer indicating number of features to subset\n",
    "    subset_binaries: (2^p, p) array of all subsets binary indices that can be used to subset\n",
    "        into the presumed original data matrix\n",
    "    subset_sizes: 2^p array indicating number of features in each subset\n",
    "    ---\n",
    "    ex: p = 4; cols = np.arange(p); bins,sizs = QB.VarSubset(p); print(cols[bins[8,:]])\n",
    "    JAH 20060131; JAH 20121018 - ported to python; JAH 20200219 modified to use itertools.combinations\n",
    "    \"\"\"\n",
    "    \n",
    "    # check that p is int; could just duck-type it, but if user passes anything else, something is screwed up\n",
    "    if type(p) is not int:\n",
    "        raise ValueError(\"The number of features must be integer: %s\"%VarSubset.__doc__)\n",
    "    \n",
    "    # prepare the output array; we want bool, but have to start with int, so the assignment below works correctly\n",
    "    subBins = np.zeros((2**p,p),dtype=int)\n",
    "    \n",
    "    '''\n",
    "    # slower (order of magnitude at least!) deprecated code\n",
    "    # loop through all subsets :-( getting the binary representations\n",
    "    for cnt in range(1,2**p):\n",
    "        # get binary representation into a list, then put it in the array\n",
    "        tmp = bin(cnt)[2:]\n",
    "        subBins[cnt,(-len(tmp)):] = list(tmp)'''\n",
    "        \n",
    "    # fill in the singleton (and empty) subsets\n",
    "    subBins[1:(p+1),:] = np.eye(p) # shift by 1 to have the empty subset at the beginning\n",
    "    # iterate over combination cardinalities, excluding 1 & p, to fill in the subsets\n",
    "    sttRow = 1+p\n",
    "    for cnt in range(2,p):\n",
    "        # get the cnt-length combinations\n",
    "        combos = np.asarray(list(combinations(range(p), r=cnt)))\n",
    "        c = len(combos)\n",
    "        # create the binary vectors\n",
    "        cmbBins = np.zeros(shape=(c,p))\n",
    "        np.put_along_axis(cmbBins, combos, 1, axis=1)\n",
    "        # store in subBins\n",
    "        subBins[sttRow:(sttRow+c)] = cmbBins\n",
    "        sttRow += c\n",
    "    # fill in the saturated subset\n",
    "    subBins[-1,:] = 1\n",
    "    \n",
    "    # fill in the variable counts\n",
    "    subSize = np.sum(subBins,axis=1)\n",
    "    \n",
    "    # finally sort by variable counts\n",
    "    tmp = np.argsort(subSize)\n",
    "    \n",
    "    return subBins[tmp,:]==1, subSize[tmp]"
   ]
  },
  {
   "cell_type": "code",
   "execution_count": 3,
   "metadata": {},
   "outputs": [],
   "source": [
    "def myConfusionMatrix(y_true, y_pred, labels, names):\n",
    "    # first build the confusion matrix\n",
    "    dat = confusion_matrix(y_true, y_pred, labels)\n",
    "    # now make and return a nice-looking dataframe   \n",
    "    return pd.DataFrame(dat, columns=names, index=names)"
   ]
  },
  {
   "cell_type": "markdown",
   "metadata": {},
   "source": [
    "<a id=getdata></a>\n",
    "### Obtain and visually inspect Fisher's Iris Data\n",
    "<a href=#top>Go to top</a> - <a href=#bottom>Go to bottom</a>\n",
    "\n",
    "Fisher's Iris data is a famous dataset that has long been used as statisticians for classification (*supervised learning*) and clustering (*unsupervised learning*). The features are four measurements (*sepal_length*, *sepal_width*, *petal_length*, *petal_width*) taken from samples of three different varieties of iris flower (*setosa*, *versicolor*, *virginica*). For classification models, the target is to use the features to predict the variety of iris.\n",
    "<center><img src=\"./irises.jfif\" alt=\"Iris Varieties\" width=\"900\"/></center>\n",
    "\n",
    "\n",
    "Source: Fisher, R.A. \"The use of multiple measurements in taxonomic problems\"\n",
    "     Annual Eugenics, 7, Part II, 179-188 (1936); also in \"Contributions to\n",
    "     Mathematical Statistics\" (John Wiley, NY, 1950).  "
   ]
  },
  {
   "cell_type": "code",
   "execution_count": 4,
   "metadata": {},
   "outputs": [
    {
     "name": "stdout",
     "output_type": "stream",
     "text": [
      "Iris Data: Observations = 150, Features = 4, Classes = 3\n",
      "++++++++++++++++++++++++++++++++++++++++++\n"
     ]
    },
    {
     "data": {
      "text/html": [
       "<div>\n",
       "<style scoped>\n",
       "    .dataframe tbody tr th:only-of-type {\n",
       "        vertical-align: middle;\n",
       "    }\n",
       "\n",
       "    .dataframe tbody tr th {\n",
       "        vertical-align: top;\n",
       "    }\n",
       "\n",
       "    .dataframe thead th {\n",
       "        text-align: right;\n",
       "    }\n",
       "</style>\n",
       "<table border=\"1\" class=\"dataframe\">\n",
       "  <thead>\n",
       "    <tr style=\"text-align: right;\">\n",
       "      <th></th>\n",
       "      <th>Class</th>\n",
       "      <th>Variety</th>\n",
       "      <th>Color</th>\n",
       "      <th>sep_len</th>\n",
       "      <th>sep_wid</th>\n",
       "      <th>pet_len</th>\n",
       "      <th>pet_wid</th>\n",
       "    </tr>\n",
       "  </thead>\n",
       "  <tbody>\n",
       "    <tr>\n",
       "      <th>0</th>\n",
       "      <td>0</td>\n",
       "      <td>setosa</td>\n",
       "      <td>#1f77b4</td>\n",
       "      <td>5.1</td>\n",
       "      <td>3.5</td>\n",
       "      <td>1.4</td>\n",
       "      <td>0.2</td>\n",
       "    </tr>\n",
       "    <tr>\n",
       "      <th>1</th>\n",
       "      <td>0</td>\n",
       "      <td>setosa</td>\n",
       "      <td>#1f77b4</td>\n",
       "      <td>4.9</td>\n",
       "      <td>3.0</td>\n",
       "      <td>1.4</td>\n",
       "      <td>0.2</td>\n",
       "    </tr>\n",
       "    <tr>\n",
       "      <th>2</th>\n",
       "      <td>0</td>\n",
       "      <td>setosa</td>\n",
       "      <td>#1f77b4</td>\n",
       "      <td>4.7</td>\n",
       "      <td>3.2</td>\n",
       "      <td>1.3</td>\n",
       "      <td>0.2</td>\n",
       "    </tr>\n",
       "    <tr>\n",
       "      <th>3</th>\n",
       "      <td>0</td>\n",
       "      <td>setosa</td>\n",
       "      <td>#1f77b4</td>\n",
       "      <td>4.6</td>\n",
       "      <td>3.1</td>\n",
       "      <td>1.5</td>\n",
       "      <td>0.2</td>\n",
       "    </tr>\n",
       "    <tr>\n",
       "      <th>4</th>\n",
       "      <td>0</td>\n",
       "      <td>setosa</td>\n",
       "      <td>#1f77b4</td>\n",
       "      <td>5.0</td>\n",
       "      <td>3.6</td>\n",
       "      <td>1.4</td>\n",
       "      <td>0.2</td>\n",
       "    </tr>\n",
       "  </tbody>\n",
       "</table>\n",
       "</div>"
      ],
      "text/plain": [
       "   Class Variety    Color  sep_len  sep_wid  pet_len  pet_wid\n",
       "0      0  setosa  #1f77b4      5.1      3.5      1.4      0.2\n",
       "1      0  setosa  #1f77b4      4.9      3.0      1.4      0.2\n",
       "2      0  setosa  #1f77b4      4.7      3.2      1.3      0.2\n",
       "3      0  setosa  #1f77b4      4.6      3.1      1.5      0.2\n",
       "4      0  setosa  #1f77b4      5.0      3.6      1.4      0.2"
      ]
     },
     "metadata": {},
     "output_type": "display_data"
    },
    {
     "name": "stdout",
     "output_type": "stream",
     "text": [
      "Count by Variety\n",
      "++++++++++++++++++++++++++++++++++++++++++\n"
     ]
    },
    {
     "data": {
      "text/plain": [
       "setosa        50\n",
       "versicolor    50\n",
       "virginica     50\n",
       "Name: Variety, dtype: int64"
      ]
     },
     "metadata": {},
     "output_type": "display_data"
    }
   ],
   "source": [
    "''' get the data '''\n",
    "iris = load_iris()\n",
    "data = iris.data\n",
    "labels = iris.target\n",
    "features = iris.feature_names\n",
    "varieties = iris.target_names\n",
    "(n,p) = data.shape\n",
    "k = len(np.unique(iris.target))\n",
    "\n",
    "# set colors by variety\n",
    "colors = ['#1f77b4','#ff7f0e','#2ca02c'] # muted blue, safety orange, cooked asparagus green (WTF!)\n",
    "\n",
    "# rename features\n",
    "features = [f[:3]+'_'+f[6:9]for f in features]\n",
    "\n",
    "# make a dataframe\n",
    "cols = ['Class','Variety','Color']; cols.extend(features)\n",
    "irisData = pd.DataFrame(np.c_[labels,[np.nan]*n,[np.nan]*n,data], columns=cols)\n",
    "irisData = irisData.astype({'Class':int})\n",
    "irisData.Variety = irisData.Class.apply(lambda x: varieties[x])\n",
    "irisData.Color = irisData.Class.apply(lambda x: colors[x])\n",
    "\n",
    "# talk\n",
    "mysep='+'*42\n",
    "print('Iris Data: Observations = %d, Features = %d, Classes = %d\\n%s'%(n,p,k,mysep))\n",
    "display(irisData.head())\n",
    "print('Count by Variety\\n%s'%mysep)\n",
    "display(irisData.Variety.value_counts().sort_index())"
   ]
  },
  {
   "cell_type": "code",
   "execution_count": 5,
   "metadata": {},
   "outputs": [
    {
     "data": {
      "application/vnd.plotly.v1+json": {
       "config": {
        "plotlyServerURL": "https://plot.ly"
       },
       "data": [
        {
         "diagonal": {
          "visible": false
         },
         "dimensions": [
          {
           "axis": {
            "matches": true
           },
           "label": "sep_len",
           "values": [
            5.1,
            4.9,
            4.7,
            4.6,
            5,
            5.4,
            4.6,
            5,
            4.4,
            4.9,
            5.4,
            4.8,
            4.8,
            4.3,
            5.8,
            5.7,
            5.4,
            5.1,
            5.7,
            5.1,
            5.4,
            5.1,
            4.6,
            5.1,
            4.8,
            5,
            5,
            5.2,
            5.2,
            4.7,
            4.8,
            5.4,
            5.2,
            5.5,
            4.9,
            5,
            5.5,
            4.9,
            4.4,
            5.1,
            5,
            4.5,
            4.4,
            5,
            5.1,
            4.8,
            5.1,
            4.6,
            5.3,
            5
           ]
          },
          {
           "axis": {
            "matches": true
           },
           "label": "sep_wid",
           "values": [
            3.5,
            3,
            3.2,
            3.1,
            3.6,
            3.9,
            3.4,
            3.4,
            2.9,
            3.1,
            3.7,
            3.4,
            3,
            3,
            4,
            4.4,
            3.9,
            3.5,
            3.8,
            3.8,
            3.4,
            3.7,
            3.6,
            3.3,
            3.4,
            3,
            3.4,
            3.5,
            3.4,
            3.2,
            3.1,
            3.4,
            4.1,
            4.2,
            3.1,
            3.2,
            3.5,
            3.6,
            3,
            3.4,
            3.5,
            2.3,
            3.2,
            3.5,
            3.8,
            3,
            3.8,
            3.2,
            3.7,
            3.3
           ]
          },
          {
           "axis": {
            "matches": true
           },
           "label": "pet_len",
           "values": [
            1.4,
            1.4,
            1.3,
            1.5,
            1.4,
            1.7,
            1.4,
            1.5,
            1.4,
            1.5,
            1.5,
            1.6,
            1.4,
            1.1,
            1.2,
            1.5,
            1.3,
            1.4,
            1.7,
            1.5,
            1.7,
            1.5,
            1,
            1.7,
            1.9,
            1.6,
            1.6,
            1.5,
            1.4,
            1.6,
            1.6,
            1.5,
            1.5,
            1.4,
            1.5,
            1.2,
            1.3,
            1.4,
            1.3,
            1.5,
            1.3,
            1.3,
            1.3,
            1.6,
            1.9,
            1.4,
            1.6,
            1.4,
            1.5,
            1.4
           ]
          },
          {
           "axis": {
            "matches": true
           },
           "label": "pet_wid",
           "values": [
            0.2,
            0.2,
            0.2,
            0.2,
            0.2,
            0.4,
            0.3,
            0.2,
            0.2,
            0.1,
            0.2,
            0.2,
            0.1,
            0.1,
            0.2,
            0.4,
            0.4,
            0.3,
            0.3,
            0.3,
            0.2,
            0.4,
            0.2,
            0.5,
            0.2,
            0.2,
            0.4,
            0.2,
            0.2,
            0.2,
            0.2,
            0.4,
            0.1,
            0.2,
            0.2,
            0.2,
            0.2,
            0.1,
            0.2,
            0.2,
            0.3,
            0.3,
            0.2,
            0.6,
            0.4,
            0.3,
            0.2,
            0.2,
            0.2,
            0.2
           ]
          }
         ],
         "hovertemplate": "Variety=setosa<br>%{xaxis.title.text}=%{x}<br>%{yaxis.title.text}=%{y}<extra></extra>",
         "legendgroup": "setosa",
         "marker": {
          "color": "#636efa",
          "symbol": "circle"
         },
         "name": "setosa",
         "showlegend": true,
         "type": "splom"
        },
        {
         "diagonal": {
          "visible": false
         },
         "dimensions": [
          {
           "axis": {
            "matches": true
           },
           "label": "sep_len",
           "values": [
            7,
            6.4,
            6.9,
            5.5,
            6.5,
            5.7,
            6.3,
            4.9,
            6.6,
            5.2,
            5,
            5.9,
            6,
            6.1,
            5.6,
            6.7,
            5.6,
            5.8,
            6.2,
            5.6,
            5.9,
            6.1,
            6.3,
            6.1,
            6.4,
            6.6,
            6.8,
            6.7,
            6,
            5.7,
            5.5,
            5.5,
            5.8,
            6,
            5.4,
            6,
            6.7,
            6.3,
            5.6,
            5.5,
            5.5,
            6.1,
            5.8,
            5,
            5.6,
            5.7,
            5.7,
            6.2,
            5.1,
            5.7
           ]
          },
          {
           "axis": {
            "matches": true
           },
           "label": "sep_wid",
           "values": [
            3.2,
            3.2,
            3.1,
            2.3,
            2.8,
            2.8,
            3.3,
            2.4,
            2.9,
            2.7,
            2,
            3,
            2.2,
            2.9,
            2.9,
            3.1,
            3,
            2.7,
            2.2,
            2.5,
            3.2,
            2.8,
            2.5,
            2.8,
            2.9,
            3,
            2.8,
            3,
            2.9,
            2.6,
            2.4,
            2.4,
            2.7,
            2.7,
            3,
            3.4,
            3.1,
            2.3,
            3,
            2.5,
            2.6,
            3,
            2.6,
            2.3,
            2.7,
            3,
            2.9,
            2.9,
            2.5,
            2.8
           ]
          },
          {
           "axis": {
            "matches": true
           },
           "label": "pet_len",
           "values": [
            4.7,
            4.5,
            4.9,
            4,
            4.6,
            4.5,
            4.7,
            3.3,
            4.6,
            3.9,
            3.5,
            4.2,
            4,
            4.7,
            3.6,
            4.4,
            4.5,
            4.1,
            4.5,
            3.9,
            4.8,
            4,
            4.9,
            4.7,
            4.3,
            4.4,
            4.8,
            5,
            4.5,
            3.5,
            3.8,
            3.7,
            3.9,
            5.1,
            4.5,
            4.5,
            4.7,
            4.4,
            4.1,
            4,
            4.4,
            4.6,
            4,
            3.3,
            4.2,
            4.2,
            4.2,
            4.3,
            3,
            4.1
           ]
          },
          {
           "axis": {
            "matches": true
           },
           "label": "pet_wid",
           "values": [
            1.4,
            1.5,
            1.5,
            1.3,
            1.5,
            1.3,
            1.6,
            1,
            1.3,
            1.4,
            1,
            1.5,
            1,
            1.4,
            1.3,
            1.4,
            1.5,
            1,
            1.5,
            1.1,
            1.8,
            1.3,
            1.5,
            1.2,
            1.3,
            1.4,
            1.4,
            1.7,
            1.5,
            1,
            1.1,
            1,
            1.2,
            1.6,
            1.5,
            1.6,
            1.5,
            1.3,
            1.3,
            1.3,
            1.2,
            1.4,
            1.2,
            1,
            1.3,
            1.2,
            1.3,
            1.3,
            1.1,
            1.3
           ]
          }
         ],
         "hovertemplate": "Variety=versicolor<br>%{xaxis.title.text}=%{x}<br>%{yaxis.title.text}=%{y}<extra></extra>",
         "legendgroup": "versicolor",
         "marker": {
          "color": "#EF553B",
          "symbol": "circle"
         },
         "name": "versicolor",
         "showlegend": true,
         "type": "splom"
        },
        {
         "diagonal": {
          "visible": false
         },
         "dimensions": [
          {
           "axis": {
            "matches": true
           },
           "label": "sep_len",
           "values": [
            6.3,
            5.8,
            7.1,
            6.3,
            6.5,
            7.6,
            4.9,
            7.3,
            6.7,
            7.2,
            6.5,
            6.4,
            6.8,
            5.7,
            5.8,
            6.4,
            6.5,
            7.7,
            7.7,
            6,
            6.9,
            5.6,
            7.7,
            6.3,
            6.7,
            7.2,
            6.2,
            6.1,
            6.4,
            7.2,
            7.4,
            7.9,
            6.4,
            6.3,
            6.1,
            7.7,
            6.3,
            6.4,
            6,
            6.9,
            6.7,
            6.9,
            5.8,
            6.8,
            6.7,
            6.7,
            6.3,
            6.5,
            6.2,
            5.9
           ]
          },
          {
           "axis": {
            "matches": true
           },
           "label": "sep_wid",
           "values": [
            3.3,
            2.7,
            3,
            2.9,
            3,
            3,
            2.5,
            2.9,
            2.5,
            3.6,
            3.2,
            2.7,
            3,
            2.5,
            2.8,
            3.2,
            3,
            3.8,
            2.6,
            2.2,
            3.2,
            2.8,
            2.8,
            2.7,
            3.3,
            3.2,
            2.8,
            3,
            2.8,
            3,
            2.8,
            3.8,
            2.8,
            2.8,
            2.6,
            3,
            3.4,
            3.1,
            3,
            3.1,
            3.1,
            3.1,
            2.7,
            3.2,
            3.3,
            3,
            2.5,
            3,
            3.4,
            3
           ]
          },
          {
           "axis": {
            "matches": true
           },
           "label": "pet_len",
           "values": [
            6,
            5.1,
            5.9,
            5.6,
            5.8,
            6.6,
            4.5,
            6.3,
            5.8,
            6.1,
            5.1,
            5.3,
            5.5,
            5,
            5.1,
            5.3,
            5.5,
            6.7,
            6.9,
            5,
            5.7,
            4.9,
            6.7,
            4.9,
            5.7,
            6,
            4.8,
            4.9,
            5.6,
            5.8,
            6.1,
            6.4,
            5.6,
            5.1,
            5.6,
            6.1,
            5.6,
            5.5,
            4.8,
            5.4,
            5.6,
            5.1,
            5.1,
            5.9,
            5.7,
            5.2,
            5,
            5.2,
            5.4,
            5.1
           ]
          },
          {
           "axis": {
            "matches": true
           },
           "label": "pet_wid",
           "values": [
            2.5,
            1.9,
            2.1,
            1.8,
            2.2,
            2.1,
            1.7,
            1.8,
            1.8,
            2.5,
            2,
            1.9,
            2.1,
            2,
            2.4,
            2.3,
            1.8,
            2.2,
            2.3,
            1.5,
            2.3,
            2,
            2,
            1.8,
            2.1,
            1.8,
            1.8,
            1.8,
            2.1,
            1.6,
            1.9,
            2,
            2.2,
            1.5,
            1.4,
            2.3,
            2.4,
            1.8,
            1.8,
            2.1,
            2.4,
            2.3,
            1.9,
            2.3,
            2.5,
            2.3,
            1.9,
            2,
            2.3,
            1.8
           ]
          }
         ],
         "hovertemplate": "Variety=virginica<br>%{xaxis.title.text}=%{x}<br>%{yaxis.title.text}=%{y}<extra></extra>",
         "legendgroup": "virginica",
         "marker": {
          "color": "#00cc96",
          "symbol": "circle"
         },
         "name": "virginica",
         "showlegend": true,
         "type": "splom"
        }
       ],
       "layout": {
        "autosize": true,
        "dragmode": "select",
        "legend": {
         "title": {
          "text": "Variety"
         },
         "tracegroupgap": 0
        },
        "margin": {
         "t": 60
        },
        "template": {
         "data": {
          "bar": [
           {
            "error_x": {
             "color": "#2a3f5f"
            },
            "error_y": {
             "color": "#2a3f5f"
            },
            "marker": {
             "line": {
              "color": "#E5ECF6",
              "width": 0.5
             }
            },
            "type": "bar"
           }
          ],
          "barpolar": [
           {
            "marker": {
             "line": {
              "color": "#E5ECF6",
              "width": 0.5
             }
            },
            "type": "barpolar"
           }
          ],
          "carpet": [
           {
            "aaxis": {
             "endlinecolor": "#2a3f5f",
             "gridcolor": "white",
             "linecolor": "white",
             "minorgridcolor": "white",
             "startlinecolor": "#2a3f5f"
            },
            "baxis": {
             "endlinecolor": "#2a3f5f",
             "gridcolor": "white",
             "linecolor": "white",
             "minorgridcolor": "white",
             "startlinecolor": "#2a3f5f"
            },
            "type": "carpet"
           }
          ],
          "choropleth": [
           {
            "colorbar": {
             "outlinewidth": 0,
             "ticks": ""
            },
            "type": "choropleth"
           }
          ],
          "contour": [
           {
            "colorbar": {
             "outlinewidth": 0,
             "ticks": ""
            },
            "colorscale": [
             [
              0,
              "#0d0887"
             ],
             [
              0.1111111111111111,
              "#46039f"
             ],
             [
              0.2222222222222222,
              "#7201a8"
             ],
             [
              0.3333333333333333,
              "#9c179e"
             ],
             [
              0.4444444444444444,
              "#bd3786"
             ],
             [
              0.5555555555555556,
              "#d8576b"
             ],
             [
              0.6666666666666666,
              "#ed7953"
             ],
             [
              0.7777777777777778,
              "#fb9f3a"
             ],
             [
              0.8888888888888888,
              "#fdca26"
             ],
             [
              1,
              "#f0f921"
             ]
            ],
            "type": "contour"
           }
          ],
          "contourcarpet": [
           {
            "colorbar": {
             "outlinewidth": 0,
             "ticks": ""
            },
            "type": "contourcarpet"
           }
          ],
          "heatmap": [
           {
            "colorbar": {
             "outlinewidth": 0,
             "ticks": ""
            },
            "colorscale": [
             [
              0,
              "#0d0887"
             ],
             [
              0.1111111111111111,
              "#46039f"
             ],
             [
              0.2222222222222222,
              "#7201a8"
             ],
             [
              0.3333333333333333,
              "#9c179e"
             ],
             [
              0.4444444444444444,
              "#bd3786"
             ],
             [
              0.5555555555555556,
              "#d8576b"
             ],
             [
              0.6666666666666666,
              "#ed7953"
             ],
             [
              0.7777777777777778,
              "#fb9f3a"
             ],
             [
              0.8888888888888888,
              "#fdca26"
             ],
             [
              1,
              "#f0f921"
             ]
            ],
            "type": "heatmap"
           }
          ],
          "heatmapgl": [
           {
            "colorbar": {
             "outlinewidth": 0,
             "ticks": ""
            },
            "colorscale": [
             [
              0,
              "#0d0887"
             ],
             [
              0.1111111111111111,
              "#46039f"
             ],
             [
              0.2222222222222222,
              "#7201a8"
             ],
             [
              0.3333333333333333,
              "#9c179e"
             ],
             [
              0.4444444444444444,
              "#bd3786"
             ],
             [
              0.5555555555555556,
              "#d8576b"
             ],
             [
              0.6666666666666666,
              "#ed7953"
             ],
             [
              0.7777777777777778,
              "#fb9f3a"
             ],
             [
              0.8888888888888888,
              "#fdca26"
             ],
             [
              1,
              "#f0f921"
             ]
            ],
            "type": "heatmapgl"
           }
          ],
          "histogram": [
           {
            "marker": {
             "colorbar": {
              "outlinewidth": 0,
              "ticks": ""
             }
            },
            "type": "histogram"
           }
          ],
          "histogram2d": [
           {
            "colorbar": {
             "outlinewidth": 0,
             "ticks": ""
            },
            "colorscale": [
             [
              0,
              "#0d0887"
             ],
             [
              0.1111111111111111,
              "#46039f"
             ],
             [
              0.2222222222222222,
              "#7201a8"
             ],
             [
              0.3333333333333333,
              "#9c179e"
             ],
             [
              0.4444444444444444,
              "#bd3786"
             ],
             [
              0.5555555555555556,
              "#d8576b"
             ],
             [
              0.6666666666666666,
              "#ed7953"
             ],
             [
              0.7777777777777778,
              "#fb9f3a"
             ],
             [
              0.8888888888888888,
              "#fdca26"
             ],
             [
              1,
              "#f0f921"
             ]
            ],
            "type": "histogram2d"
           }
          ],
          "histogram2dcontour": [
           {
            "colorbar": {
             "outlinewidth": 0,
             "ticks": ""
            },
            "colorscale": [
             [
              0,
              "#0d0887"
             ],
             [
              0.1111111111111111,
              "#46039f"
             ],
             [
              0.2222222222222222,
              "#7201a8"
             ],
             [
              0.3333333333333333,
              "#9c179e"
             ],
             [
              0.4444444444444444,
              "#bd3786"
             ],
             [
              0.5555555555555556,
              "#d8576b"
             ],
             [
              0.6666666666666666,
              "#ed7953"
             ],
             [
              0.7777777777777778,
              "#fb9f3a"
             ],
             [
              0.8888888888888888,
              "#fdca26"
             ],
             [
              1,
              "#f0f921"
             ]
            ],
            "type": "histogram2dcontour"
           }
          ],
          "mesh3d": [
           {
            "colorbar": {
             "outlinewidth": 0,
             "ticks": ""
            },
            "type": "mesh3d"
           }
          ],
          "parcoords": [
           {
            "line": {
             "colorbar": {
              "outlinewidth": 0,
              "ticks": ""
             }
            },
            "type": "parcoords"
           }
          ],
          "pie": [
           {
            "automargin": true,
            "type": "pie"
           }
          ],
          "scatter": [
           {
            "marker": {
             "colorbar": {
              "outlinewidth": 0,
              "ticks": ""
             }
            },
            "type": "scatter"
           }
          ],
          "scatter3d": [
           {
            "line": {
             "colorbar": {
              "outlinewidth": 0,
              "ticks": ""
             }
            },
            "marker": {
             "colorbar": {
              "outlinewidth": 0,
              "ticks": ""
             }
            },
            "type": "scatter3d"
           }
          ],
          "scattercarpet": [
           {
            "marker": {
             "colorbar": {
              "outlinewidth": 0,
              "ticks": ""
             }
            },
            "type": "scattercarpet"
           }
          ],
          "scattergeo": [
           {
            "marker": {
             "colorbar": {
              "outlinewidth": 0,
              "ticks": ""
             }
            },
            "type": "scattergeo"
           }
          ],
          "scattergl": [
           {
            "marker": {
             "colorbar": {
              "outlinewidth": 0,
              "ticks": ""
             }
            },
            "type": "scattergl"
           }
          ],
          "scattermapbox": [
           {
            "marker": {
             "colorbar": {
              "outlinewidth": 0,
              "ticks": ""
             }
            },
            "type": "scattermapbox"
           }
          ],
          "scatterpolar": [
           {
            "marker": {
             "colorbar": {
              "outlinewidth": 0,
              "ticks": ""
             }
            },
            "type": "scatterpolar"
           }
          ],
          "scatterpolargl": [
           {
            "marker": {
             "colorbar": {
              "outlinewidth": 0,
              "ticks": ""
             }
            },
            "type": "scatterpolargl"
           }
          ],
          "scatterternary": [
           {
            "marker": {
             "colorbar": {
              "outlinewidth": 0,
              "ticks": ""
             }
            },
            "type": "scatterternary"
           }
          ],
          "surface": [
           {
            "colorbar": {
             "outlinewidth": 0,
             "ticks": ""
            },
            "colorscale": [
             [
              0,
              "#0d0887"
             ],
             [
              0.1111111111111111,
              "#46039f"
             ],
             [
              0.2222222222222222,
              "#7201a8"
             ],
             [
              0.3333333333333333,
              "#9c179e"
             ],
             [
              0.4444444444444444,
              "#bd3786"
             ],
             [
              0.5555555555555556,
              "#d8576b"
             ],
             [
              0.6666666666666666,
              "#ed7953"
             ],
             [
              0.7777777777777778,
              "#fb9f3a"
             ],
             [
              0.8888888888888888,
              "#fdca26"
             ],
             [
              1,
              "#f0f921"
             ]
            ],
            "type": "surface"
           }
          ],
          "table": [
           {
            "cells": {
             "fill": {
              "color": "#EBF0F8"
             },
             "line": {
              "color": "white"
             }
            },
            "header": {
             "fill": {
              "color": "#C8D4E3"
             },
             "line": {
              "color": "white"
             }
            },
            "type": "table"
           }
          ]
         },
         "layout": {
          "annotationdefaults": {
           "arrowcolor": "#2a3f5f",
           "arrowhead": 0,
           "arrowwidth": 1
          },
          "coloraxis": {
           "colorbar": {
            "outlinewidth": 0,
            "ticks": ""
           }
          },
          "colorscale": {
           "diverging": [
            [
             0,
             "#8e0152"
            ],
            [
             0.1,
             "#c51b7d"
            ],
            [
             0.2,
             "#de77ae"
            ],
            [
             0.3,
             "#f1b6da"
            ],
            [
             0.4,
             "#fde0ef"
            ],
            [
             0.5,
             "#f7f7f7"
            ],
            [
             0.6,
             "#e6f5d0"
            ],
            [
             0.7,
             "#b8e186"
            ],
            [
             0.8,
             "#7fbc41"
            ],
            [
             0.9,
             "#4d9221"
            ],
            [
             1,
             "#276419"
            ]
           ],
           "sequential": [
            [
             0,
             "#0d0887"
            ],
            [
             0.1111111111111111,
             "#46039f"
            ],
            [
             0.2222222222222222,
             "#7201a8"
            ],
            [
             0.3333333333333333,
             "#9c179e"
            ],
            [
             0.4444444444444444,
             "#bd3786"
            ],
            [
             0.5555555555555556,
             "#d8576b"
            ],
            [
             0.6666666666666666,
             "#ed7953"
            ],
            [
             0.7777777777777778,
             "#fb9f3a"
            ],
            [
             0.8888888888888888,
             "#fdca26"
            ],
            [
             1,
             "#f0f921"
            ]
           ],
           "sequentialminus": [
            [
             0,
             "#0d0887"
            ],
            [
             0.1111111111111111,
             "#46039f"
            ],
            [
             0.2222222222222222,
             "#7201a8"
            ],
            [
             0.3333333333333333,
             "#9c179e"
            ],
            [
             0.4444444444444444,
             "#bd3786"
            ],
            [
             0.5555555555555556,
             "#d8576b"
            ],
            [
             0.6666666666666666,
             "#ed7953"
            ],
            [
             0.7777777777777778,
             "#fb9f3a"
            ],
            [
             0.8888888888888888,
             "#fdca26"
            ],
            [
             1,
             "#f0f921"
            ]
           ]
          },
          "colorway": [
           "#636efa",
           "#EF553B",
           "#00cc96",
           "#ab63fa",
           "#FFA15A",
           "#19d3f3",
           "#FF6692",
           "#B6E880",
           "#FF97FF",
           "#FECB52"
          ],
          "font": {
           "color": "#2a3f5f"
          },
          "geo": {
           "bgcolor": "white",
           "lakecolor": "white",
           "landcolor": "#E5ECF6",
           "showlakes": true,
           "showland": true,
           "subunitcolor": "white"
          },
          "hoverlabel": {
           "align": "left"
          },
          "hovermode": "closest",
          "mapbox": {
           "style": "light"
          },
          "paper_bgcolor": "white",
          "plot_bgcolor": "#E5ECF6",
          "polar": {
           "angularaxis": {
            "gridcolor": "white",
            "linecolor": "white",
            "ticks": ""
           },
           "bgcolor": "#E5ECF6",
           "radialaxis": {
            "gridcolor": "white",
            "linecolor": "white",
            "ticks": ""
           }
          },
          "scene": {
           "xaxis": {
            "backgroundcolor": "#E5ECF6",
            "gridcolor": "white",
            "gridwidth": 2,
            "linecolor": "white",
            "showbackground": true,
            "ticks": "",
            "zerolinecolor": "white"
           },
           "yaxis": {
            "backgroundcolor": "#E5ECF6",
            "gridcolor": "white",
            "gridwidth": 2,
            "linecolor": "white",
            "showbackground": true,
            "ticks": "",
            "zerolinecolor": "white"
           },
           "zaxis": {
            "backgroundcolor": "#E5ECF6",
            "gridcolor": "white",
            "gridwidth": 2,
            "linecolor": "white",
            "showbackground": true,
            "ticks": "",
            "zerolinecolor": "white"
           }
          },
          "shapedefaults": {
           "line": {
            "color": "#2a3f5f"
           }
          },
          "ternary": {
           "aaxis": {
            "gridcolor": "white",
            "linecolor": "white",
            "ticks": ""
           },
           "baxis": {
            "gridcolor": "white",
            "linecolor": "white",
            "ticks": ""
           },
           "bgcolor": "#E5ECF6",
           "caxis": {
            "gridcolor": "white",
            "linecolor": "white",
            "ticks": ""
           }
          },
          "title": {
           "x": 0.05
          },
          "xaxis": {
           "automargin": true,
           "gridcolor": "white",
           "linecolor": "white",
           "ticks": "",
           "title": {
            "standoff": 15
           },
           "zerolinecolor": "white",
           "zerolinewidth": 2
          },
          "yaxis": {
           "automargin": true,
           "gridcolor": "white",
           "linecolor": "white",
           "ticks": "",
           "title": {
            "standoff": 15
           },
           "zerolinecolor": "white",
           "zerolinewidth": 2
          }
         }
        },
        "xaxis": {
         "autorange": true,
         "range": [
          3.8363083164300202,
          8.36369168356998
         ],
         "type": "linear"
        },
        "xaxis2": {
         "autorange": true,
         "range": [
          1.690872210953347,
          4.709127789046653
         ],
         "type": "linear"
        },
        "xaxis3": {
         "autorange": true,
         "range": [
          0.24006085192697768,
          7.659939148073023
         ],
         "type": "linear"
        },
        "xaxis4": {
         "autorange": true,
         "range": [
          -0.20912778904665316,
          2.809127789046653
         ],
         "type": "linear"
        },
        "yaxis": {
         "autorange": true,
         "range": [
          3.8363083164300202,
          8.36369168356998
         ],
         "type": "linear"
        },
        "yaxis2": {
         "autorange": true,
         "range": [
          1.690872210953347,
          4.709127789046653
         ],
         "type": "linear"
        },
        "yaxis3": {
         "autorange": true,
         "range": [
          0.24006085192697768,
          7.659939148073023
         ],
         "type": "linear"
        },
        "yaxis4": {
         "autorange": true,
         "range": [
          -0.20912778904665316,
          2.809127789046653
         ],
         "type": "linear"
        }
       }
      },
      "image/png": "[encoded data removed]",
      "text/html": [
       "<div>\n",
       "        \n",
       "        \n",
       "            <div id=\"a64a26bd-e523-4b88-bd41-2dc6e6f66e59\" class=\"plotly-graph-div\" style=\"height:525px; width:100%;\"></div>\n",
       "            <script type=\"text/javascript\">\n",
       "                require([\"plotly\"], function(Plotly) {\n",
       "                    window.PLOTLYENV=window.PLOTLYENV || {};\n",
       "                    \n",
       "                if (document.getElementById(\"a64a26bd-e523-4b88-bd41-2dc6e6f66e59\")) {\n",
       "                    Plotly.newPlot(\n",
       "                        'a64a26bd-e523-4b88-bd41-2dc6e6f66e59',\n",
       "                        [{\"diagonal\": {\"visible\": false}, \"dimensions\": [{\"axis\": {\"matches\": true}, \"label\": \"sep_len\", \"values\": [5.1, 4.9, 4.7, 4.6, 5.0, 5.4, 4.6, 5.0, 4.4, 4.9, 5.4, 4.8, 4.8, 4.3, 5.8, 5.7, 5.4, 5.1, 5.7, 5.1, 5.4, 5.1, 4.6, 5.1, 4.8, 5.0, 5.0, 5.2, 5.2, 4.7, 4.8, 5.4, 5.2, 5.5, 4.9, 5.0, 5.5, 4.9, 4.4, 5.1, 5.0, 4.5, 4.4, 5.0, 5.1, 4.8, 5.1, 4.6, 5.3, 5.0]}, {\"axis\": {\"matches\": true}, \"label\": \"sep_wid\", \"values\": [3.5, 3.0, 3.2, 3.1, 3.6, 3.9, 3.4, 3.4, 2.9, 3.1, 3.7, 3.4, 3.0, 3.0, 4.0, 4.4, 3.9, 3.5, 3.8, 3.8, 3.4, 3.7, 3.6, 3.3, 3.4, 3.0, 3.4, 3.5, 3.4, 3.2, 3.1, 3.4, 4.1, 4.2, 3.1, 3.2, 3.5, 3.6, 3.0, 3.4, 3.5, 2.3, 3.2, 3.5, 3.8, 3.0, 3.8, 3.2, 3.7, 3.3]}, {\"axis\": {\"matches\": true}, \"label\": \"pet_len\", \"values\": [1.4, 1.4, 1.3, 1.5, 1.4, 1.7, 1.4, 1.5, 1.4, 1.5, 1.5, 1.6, 1.4, 1.1, 1.2, 1.5, 1.3, 1.4, 1.7, 1.5, 1.7, 1.5, 1.0, 1.7, 1.9, 1.6, 1.6, 1.5, 1.4, 1.6, 1.6, 1.5, 1.5, 1.4, 1.5, 1.2, 1.3, 1.4, 1.3, 1.5, 1.3, 1.3, 1.3, 1.6, 1.9, 1.4, 1.6, 1.4, 1.5, 1.4]}, {\"axis\": {\"matches\": true}, \"label\": \"pet_wid\", \"values\": [0.2, 0.2, 0.2, 0.2, 0.2, 0.4, 0.3, 0.2, 0.2, 0.1, 0.2, 0.2, 0.1, 0.1, 0.2, 0.4, 0.4, 0.3, 0.3, 0.3, 0.2, 0.4, 0.2, 0.5, 0.2, 0.2, 0.4, 0.2, 0.2, 0.2, 0.2, 0.4, 0.1, 0.2, 0.2, 0.2, 0.2, 0.1, 0.2, 0.2, 0.3, 0.3, 0.2, 0.6, 0.4, 0.3, 0.2, 0.2, 0.2, 0.2]}], \"hovertemplate\": \"Variety=setosa<br>%{xaxis.title.text}=%{x}<br>%{yaxis.title.text}=%{y}<extra></extra>\", \"legendgroup\": \"setosa\", \"marker\": {\"color\": \"#636efa\", \"symbol\": \"circle\"}, \"name\": \"setosa\", \"showlegend\": true, \"type\": \"splom\"}, {\"diagonal\": {\"visible\": false}, \"dimensions\": [{\"axis\": {\"matches\": true}, \"label\": \"sep_len\", \"values\": [7.0, 6.4, 6.9, 5.5, 6.5, 5.7, 6.3, 4.9, 6.6, 5.2, 5.0, 5.9, 6.0, 6.1, 5.6, 6.7, 5.6, 5.8, 6.2, 5.6, 5.9, 6.1, 6.3, 6.1, 6.4, 6.6, 6.8, 6.7, 6.0, 5.7, 5.5, 5.5, 5.8, 6.0, 5.4, 6.0, 6.7, 6.3, 5.6, 5.5, 5.5, 6.1, 5.8, 5.0, 5.6, 5.7, 5.7, 6.2, 5.1, 5.7]}, {\"axis\": {\"matches\": true}, \"label\": \"sep_wid\", \"values\": [3.2, 3.2, 3.1, 2.3, 2.8, 2.8, 3.3, 2.4, 2.9, 2.7, 2.0, 3.0, 2.2, 2.9, 2.9, 3.1, 3.0, 2.7, 2.2, 2.5, 3.2, 2.8, 2.5, 2.8, 2.9, 3.0, 2.8, 3.0, 2.9, 2.6, 2.4, 2.4, 2.7, 2.7, 3.0, 3.4, 3.1, 2.3, 3.0, 2.5, 2.6, 3.0, 2.6, 2.3, 2.7, 3.0, 2.9, 2.9, 2.5, 2.8]}, {\"axis\": {\"matches\": true}, \"label\": \"pet_len\", \"values\": [4.7, 4.5, 4.9, 4.0, 4.6, 4.5, 4.7, 3.3, 4.6, 3.9, 3.5, 4.2, 4.0, 4.7, 3.6, 4.4, 4.5, 4.1, 4.5, 3.9, 4.8, 4.0, 4.9, 4.7, 4.3, 4.4, 4.8, 5.0, 4.5, 3.5, 3.8, 3.7, 3.9, 5.1, 4.5, 4.5, 4.7, 4.4, 4.1, 4.0, 4.4, 4.6, 4.0, 3.3, 4.2, 4.2, 4.2, 4.3, 3.0, 4.1]}, {\"axis\": {\"matches\": true}, \"label\": \"pet_wid\", \"values\": [1.4, 1.5, 1.5, 1.3, 1.5, 1.3, 1.6, 1.0, 1.3, 1.4, 1.0, 1.5, 1.0, 1.4, 1.3, 1.4, 1.5, 1.0, 1.5, 1.1, 1.8, 1.3, 1.5, 1.2, 1.3, 1.4, 1.4, 1.7, 1.5, 1.0, 1.1, 1.0, 1.2, 1.6, 1.5, 1.6, 1.5, 1.3, 1.3, 1.3, 1.2, 1.4, 1.2, 1.0, 1.3, 1.2, 1.3, 1.3, 1.1, 1.3]}], \"hovertemplate\": \"Variety=versicolor<br>%{xaxis.title.text}=%{x}<br>%{yaxis.title.text}=%{y}<extra></extra>\", \"legendgroup\": \"versicolor\", \"marker\": {\"color\": \"#EF553B\", \"symbol\": \"circle\"}, \"name\": \"versicolor\", \"showlegend\": true, \"type\": \"splom\"}, {\"diagonal\": {\"visible\": false}, \"dimensions\": [{\"axis\": {\"matches\": true}, \"label\": \"sep_len\", \"values\": [6.3, 5.8, 7.1, 6.3, 6.5, 7.6, 4.9, 7.3, 6.7, 7.2, 6.5, 6.4, 6.8, 5.7, 5.8, 6.4, 6.5, 7.7, 7.7, 6.0, 6.9, 5.6, 7.7, 6.3, 6.7, 7.2, 6.2, 6.1, 6.4, 7.2, 7.4, 7.9, 6.4, 6.3, 6.1, 7.7, 6.3, 6.4, 6.0, 6.9, 6.7, 6.9, 5.8, 6.8, 6.7, 6.7, 6.3, 6.5, 6.2, 5.9]}, {\"axis\": {\"matches\": true}, \"label\": \"sep_wid\", \"values\": [3.3, 2.7, 3.0, 2.9, 3.0, 3.0, 2.5, 2.9, 2.5, 3.6, 3.2, 2.7, 3.0, 2.5, 2.8, 3.2, 3.0, 3.8, 2.6, 2.2, 3.2, 2.8, 2.8, 2.7, 3.3, 3.2, 2.8, 3.0, 2.8, 3.0, 2.8, 3.8, 2.8, 2.8, 2.6, 3.0, 3.4, 3.1, 3.0, 3.1, 3.1, 3.1, 2.7, 3.2, 3.3, 3.0, 2.5, 3.0, 3.4, 3.0]}, {\"axis\": {\"matches\": true}, \"label\": \"pet_len\", \"values\": [6.0, 5.1, 5.9, 5.6, 5.8, 6.6, 4.5, 6.3, 5.8, 6.1, 5.1, 5.3, 5.5, 5.0, 5.1, 5.3, 5.5, 6.7, 6.9, 5.0, 5.7, 4.9, 6.7, 4.9, 5.7, 6.0, 4.8, 4.9, 5.6, 5.8, 6.1, 6.4, 5.6, 5.1, 5.6, 6.1, 5.6, 5.5, 4.8, 5.4, 5.6, 5.1, 5.1, 5.9, 5.7, 5.2, 5.0, 5.2, 5.4, 5.1]}, {\"axis\": {\"matches\": true}, \"label\": \"pet_wid\", \"values\": [2.5, 1.9, 2.1, 1.8, 2.2, 2.1, 1.7, 1.8, 1.8, 2.5, 2.0, 1.9, 2.1, 2.0, 2.4, 2.3, 1.8, 2.2, 2.3, 1.5, 2.3, 2.0, 2.0, 1.8, 2.1, 1.8, 1.8, 1.8, 2.1, 1.6, 1.9, 2.0, 2.2, 1.5, 1.4, 2.3, 2.4, 1.8, 1.8, 2.1, 2.4, 2.3, 1.9, 2.3, 2.5, 2.3, 1.9, 2.0, 2.3, 1.8]}], \"hovertemplate\": \"Variety=virginica<br>%{xaxis.title.text}=%{x}<br>%{yaxis.title.text}=%{y}<extra></extra>\", \"legendgroup\": \"virginica\", \"marker\": {\"color\": \"#00cc96\", \"symbol\": \"circle\"}, \"name\": \"virginica\", \"showlegend\": true, \"type\": \"splom\"}],\n",
       "                        {\"dragmode\": \"select\", \"legend\": {\"title\": {\"text\": \"Variety\"}, \"tracegroupgap\": 0}, \"margin\": {\"t\": 60}, \"template\": {\"data\": {\"bar\": [{\"error_x\": {\"color\": \"#2a3f5f\"}, \"error_y\": {\"color\": \"#2a3f5f\"}, \"marker\": {\"line\": {\"color\": \"#E5ECF6\", \"width\": 0.5}}, \"type\": \"bar\"}], \"barpolar\": [{\"marker\": {\"line\": {\"color\": \"#E5ECF6\", \"width\": 0.5}}, \"type\": \"barpolar\"}], \"carpet\": [{\"aaxis\": {\"endlinecolor\": \"#2a3f5f\", \"gridcolor\": \"white\", \"linecolor\": \"white\", \"minorgridcolor\": \"white\", \"startlinecolor\": \"#2a3f5f\"}, \"baxis\": {\"endlinecolor\": \"#2a3f5f\", \"gridcolor\": \"white\", \"linecolor\": \"white\", \"minorgridcolor\": \"white\", \"startlinecolor\": \"#2a3f5f\"}, \"type\": \"carpet\"}], \"choropleth\": [{\"colorbar\": {\"outlinewidth\": 0, \"ticks\": \"\"}, \"type\": \"choropleth\"}], \"contour\": [{\"colorbar\": {\"outlinewidth\": 0, \"ticks\": \"\"}, \"colorscale\": [[0.0, \"#0d0887\"], [0.1111111111111111, \"#46039f\"], [0.2222222222222222, \"#7201a8\"], [0.3333333333333333, \"#9c179e\"], [0.4444444444444444, \"#bd3786\"], [0.5555555555555556, \"#d8576b\"], [0.6666666666666666, \"#ed7953\"], [0.7777777777777778, \"#fb9f3a\"], [0.8888888888888888, \"#fdca26\"], [1.0, \"#f0f921\"]], \"type\": \"contour\"}], \"contourcarpet\": [{\"colorbar\": {\"outlinewidth\": 0, \"ticks\": \"\"}, \"type\": \"contourcarpet\"}], \"heatmap\": [{\"colorbar\": {\"outlinewidth\": 0, \"ticks\": \"\"}, \"colorscale\": [[0.0, \"#0d0887\"], [0.1111111111111111, \"#46039f\"], [0.2222222222222222, \"#7201a8\"], [0.3333333333333333, \"#9c179e\"], [0.4444444444444444, \"#bd3786\"], [0.5555555555555556, \"#d8576b\"], [0.6666666666666666, \"#ed7953\"], [0.7777777777777778, \"#fb9f3a\"], [0.8888888888888888, \"#fdca26\"], [1.0, \"#f0f921\"]], \"type\": \"heatmap\"}], \"heatmapgl\": [{\"colorbar\": {\"outlinewidth\": 0, \"ticks\": \"\"}, \"colorscale\": [[0.0, \"#0d0887\"], [0.1111111111111111, \"#46039f\"], [0.2222222222222222, \"#7201a8\"], [0.3333333333333333, \"#9c179e\"], [0.4444444444444444, \"#bd3786\"], [0.5555555555555556, \"#d8576b\"], [0.6666666666666666, \"#ed7953\"], [0.7777777777777778, \"#fb9f3a\"], [0.8888888888888888, \"#fdca26\"], [1.0, \"#f0f921\"]], \"type\": \"heatmapgl\"}], \"histogram\": [{\"marker\": {\"colorbar\": {\"outlinewidth\": 0, \"ticks\": \"\"}}, \"type\": \"histogram\"}], \"histogram2d\": [{\"colorbar\": {\"outlinewidth\": 0, \"ticks\": \"\"}, \"colorscale\": [[0.0, \"#0d0887\"], [0.1111111111111111, \"#46039f\"], [0.2222222222222222, \"#7201a8\"], [0.3333333333333333, \"#9c179e\"], [0.4444444444444444, \"#bd3786\"], [0.5555555555555556, \"#d8576b\"], [0.6666666666666666, \"#ed7953\"], [0.7777777777777778, \"#fb9f3a\"], [0.8888888888888888, \"#fdca26\"], [1.0, \"#f0f921\"]], \"type\": \"histogram2d\"}], \"histogram2dcontour\": [{\"colorbar\": {\"outlinewidth\": 0, \"ticks\": \"\"}, \"colorscale\": [[0.0, \"#0d0887\"], [0.1111111111111111, \"#46039f\"], [0.2222222222222222, \"#7201a8\"], [0.3333333333333333, \"#9c179e\"], [0.4444444444444444, \"#bd3786\"], [0.5555555555555556, \"#d8576b\"], [0.6666666666666666, \"#ed7953\"], [0.7777777777777778, \"#fb9f3a\"], [0.8888888888888888, \"#fdca26\"], [1.0, \"#f0f921\"]], \"type\": \"histogram2dcontour\"}], \"mesh3d\": [{\"colorbar\": {\"outlinewidth\": 0, \"ticks\": \"\"}, \"type\": \"mesh3d\"}], \"parcoords\": [{\"line\": {\"colorbar\": {\"outlinewidth\": 0, \"ticks\": \"\"}}, \"type\": \"parcoords\"}], \"pie\": [{\"automargin\": true, \"type\": \"pie\"}], \"scatter\": [{\"marker\": {\"colorbar\": {\"outlinewidth\": 0, \"ticks\": \"\"}}, \"type\": \"scatter\"}], \"scatter3d\": [{\"line\": {\"colorbar\": {\"outlinewidth\": 0, \"ticks\": \"\"}}, \"marker\": {\"colorbar\": {\"outlinewidth\": 0, \"ticks\": \"\"}}, \"type\": \"scatter3d\"}], \"scattercarpet\": [{\"marker\": {\"colorbar\": {\"outlinewidth\": 0, \"ticks\": \"\"}}, \"type\": \"scattercarpet\"}], \"scattergeo\": [{\"marker\": {\"colorbar\": {\"outlinewidth\": 0, \"ticks\": \"\"}}, \"type\": \"scattergeo\"}], \"scattergl\": [{\"marker\": {\"colorbar\": {\"outlinewidth\": 0, \"ticks\": \"\"}}, \"type\": \"scattergl\"}], \"scattermapbox\": [{\"marker\": {\"colorbar\": {\"outlinewidth\": 0, \"ticks\": \"\"}}, \"type\": \"scattermapbox\"}], \"scatterpolar\": [{\"marker\": {\"colorbar\": {\"outlinewidth\": 0, \"ticks\": \"\"}}, \"type\": \"scatterpolar\"}], \"scatterpolargl\": [{\"marker\": {\"colorbar\": {\"outlinewidth\": 0, \"ticks\": \"\"}}, \"type\": \"scatterpolargl\"}], \"scatterternary\": [{\"marker\": {\"colorbar\": {\"outlinewidth\": 0, \"ticks\": \"\"}}, \"type\": \"scatterternary\"}], \"surface\": [{\"colorbar\": {\"outlinewidth\": 0, \"ticks\": \"\"}, \"colorscale\": [[0.0, \"#0d0887\"], [0.1111111111111111, \"#46039f\"], [0.2222222222222222, \"#7201a8\"], [0.3333333333333333, \"#9c179e\"], [0.4444444444444444, \"#bd3786\"], [0.5555555555555556, \"#d8576b\"], [0.6666666666666666, \"#ed7953\"], [0.7777777777777778, \"#fb9f3a\"], [0.8888888888888888, \"#fdca26\"], [1.0, \"#f0f921\"]], \"type\": \"surface\"}], \"table\": [{\"cells\": {\"fill\": {\"color\": \"#EBF0F8\"}, \"line\": {\"color\": \"white\"}}, \"header\": {\"fill\": {\"color\": \"#C8D4E3\"}, \"line\": {\"color\": \"white\"}}, \"type\": \"table\"}]}, \"layout\": {\"annotationdefaults\": {\"arrowcolor\": \"#2a3f5f\", \"arrowhead\": 0, \"arrowwidth\": 1}, \"coloraxis\": {\"colorbar\": {\"outlinewidth\": 0, \"ticks\": \"\"}}, \"colorscale\": {\"diverging\": [[0, \"#8e0152\"], [0.1, \"#c51b7d\"], [0.2, \"#de77ae\"], [0.3, \"#f1b6da\"], [0.4, \"#fde0ef\"], [0.5, \"#f7f7f7\"], [0.6, \"#e6f5d0\"], [0.7, \"#b8e186\"], [0.8, \"#7fbc41\"], [0.9, \"#4d9221\"], [1, \"#276419\"]], \"sequential\": [[0.0, \"#0d0887\"], [0.1111111111111111, \"#46039f\"], [0.2222222222222222, \"#7201a8\"], [0.3333333333333333, \"#9c179e\"], [0.4444444444444444, \"#bd3786\"], [0.5555555555555556, \"#d8576b\"], [0.6666666666666666, \"#ed7953\"], [0.7777777777777778, \"#fb9f3a\"], [0.8888888888888888, \"#fdca26\"], [1.0, \"#f0f921\"]], \"sequentialminus\": [[0.0, \"#0d0887\"], [0.1111111111111111, \"#46039f\"], [0.2222222222222222, \"#7201a8\"], [0.3333333333333333, \"#9c179e\"], [0.4444444444444444, \"#bd3786\"], [0.5555555555555556, \"#d8576b\"], [0.6666666666666666, \"#ed7953\"], [0.7777777777777778, \"#fb9f3a\"], [0.8888888888888888, \"#fdca26\"], [1.0, \"#f0f921\"]]}, \"colorway\": [\"#636efa\", \"#EF553B\", \"#00cc96\", \"#ab63fa\", \"#FFA15A\", \"#19d3f3\", \"#FF6692\", \"#B6E880\", \"#FF97FF\", \"#FECB52\"], \"font\": {\"color\": \"#2a3f5f\"}, \"geo\": {\"bgcolor\": \"white\", \"lakecolor\": \"white\", \"landcolor\": \"#E5ECF6\", \"showlakes\": true, \"showland\": true, \"subunitcolor\": \"white\"}, \"hoverlabel\": {\"align\": \"left\"}, \"hovermode\": \"closest\", \"mapbox\": {\"style\": \"light\"}, \"paper_bgcolor\": \"white\", \"plot_bgcolor\": \"#E5ECF6\", \"polar\": {\"angularaxis\": {\"gridcolor\": \"white\", \"linecolor\": \"white\", \"ticks\": \"\"}, \"bgcolor\": \"#E5ECF6\", \"radialaxis\": {\"gridcolor\": \"white\", \"linecolor\": \"white\", \"ticks\": \"\"}}, \"scene\": {\"xaxis\": {\"backgroundcolor\": \"#E5ECF6\", \"gridcolor\": \"white\", \"gridwidth\": 2, \"linecolor\": \"white\", \"showbackground\": true, \"ticks\": \"\", \"zerolinecolor\": \"white\"}, \"yaxis\": {\"backgroundcolor\": \"#E5ECF6\", \"gridcolor\": \"white\", \"gridwidth\": 2, \"linecolor\": \"white\", \"showbackground\": true, \"ticks\": \"\", \"zerolinecolor\": \"white\"}, \"zaxis\": {\"backgroundcolor\": \"#E5ECF6\", \"gridcolor\": \"white\", \"gridwidth\": 2, \"linecolor\": \"white\", \"showbackground\": true, \"ticks\": \"\", \"zerolinecolor\": \"white\"}}, \"shapedefaults\": {\"line\": {\"color\": \"#2a3f5f\"}}, \"ternary\": {\"aaxis\": {\"gridcolor\": \"white\", \"linecolor\": \"white\", \"ticks\": \"\"}, \"baxis\": {\"gridcolor\": \"white\", \"linecolor\": \"white\", \"ticks\": \"\"}, \"bgcolor\": \"#E5ECF6\", \"caxis\": {\"gridcolor\": \"white\", \"linecolor\": \"white\", \"ticks\": \"\"}}, \"title\": {\"x\": 0.05}, \"xaxis\": {\"automargin\": true, \"gridcolor\": \"white\", \"linecolor\": \"white\", \"ticks\": \"\", \"title\": {\"standoff\": 15}, \"zerolinecolor\": \"white\", \"zerolinewidth\": 2}, \"yaxis\": {\"automargin\": true, \"gridcolor\": \"white\", \"linecolor\": \"white\", \"ticks\": \"\", \"title\": {\"standoff\": 15}, \"zerolinecolor\": \"white\", \"zerolinewidth\": 2}}}},\n",
       "                        {\"responsive\": true}\n",
       "                    ).then(function(){\n",
       "                            \n",
       "var gd = document.getElementById('a64a26bd-e523-4b88-bd41-2dc6e6f66e59');\n",
       "var x = new MutationObserver(function (mutations, observer) {{\n",
       "        var display = window.getComputedStyle(gd).display;\n",
       "        if (!display || display === 'none') {{\n",
       "            console.log([gd, 'removed!']);\n",
       "            Plotly.purge(gd);\n",
       "            observer.disconnect();\n",
       "        }}\n",
       "}});\n",
       "\n",
       "// Listen for the removal of the full notebook cells\n",
       "var notebookContainer = gd.closest('#notebook-container');\n",
       "if (notebookContainer) {{\n",
       "    x.observe(notebookContainer, {childList: true});\n",
       "}}\n",
       "\n",
       "// Listen for the clearing of the current output cell\n",
       "var outputEl = gd.closest('.output');\n",
       "if (outputEl) {{\n",
       "    x.observe(outputEl, {childList: true});\n",
       "}}\n",
       "\n",
       "                        })\n",
       "                };\n",
       "                });\n",
       "            </script>\n",
       "        </div>"
      ]
     },
     "metadata": {},
     "output_type": "display_data"
    }
   ],
   "source": [
    "# scatterplot matrix\n",
    "px.scatter_matrix(irisData, color='Variety', dimensions=features).update_traces(diagonal_visible=False).show()"
   ]
  },
  {
   "cell_type": "code",
   "execution_count": 6,
   "metadata": {},
   "outputs": [
    {
     "data": {
      "application/vnd.plotly.v1+json": {
       "config": {
        "linkText": "Export to plot.ly",
        "plotlyServerURL": "https://plot.ly",
        "showLink": false
       },
       "data": [
        {
         "boxmean": "sd",
         "boxpoints": "outliers",
         "legendgroup": "setosa",
         "marker": {
          "color": "#1f77b4"
         },
         "name": "setosa",
         "showlegend": true,
         "type": "box",
         "xaxis": "x",
         "y": [
          5.1,
          4.9,
          4.7,
          4.6,
          5,
          5.4,
          4.6,
          5,
          4.4,
          4.9,
          5.4,
          4.8,
          4.8,
          4.3,
          5.8,
          5.7,
          5.4,
          5.1,
          5.7,
          5.1,
          5.4,
          5.1,
          4.6,
          5.1,
          4.8,
          5,
          5,
          5.2,
          5.2,
          4.7,
          4.8,
          5.4,
          5.2,
          5.5,
          4.9,
          5,
          5.5,
          4.9,
          4.4,
          5.1,
          5,
          4.5,
          4.4,
          5,
          5.1,
          4.8,
          5.1,
          4.6,
          5.3,
          5
         ],
         "yaxis": "y"
        },
        {
         "boxmean": "sd",
         "boxpoints": "outliers",
         "legendgroup": "versicolor",
         "marker": {
          "color": "#ff7f0e"
         },
         "name": "versicolor",
         "showlegend": true,
         "type": "box",
         "xaxis": "x",
         "y": [
          7,
          6.4,
          6.9,
          5.5,
          6.5,
          5.7,
          6.3,
          4.9,
          6.6,
          5.2,
          5,
          5.9,
          6,
          6.1,
          5.6,
          6.7,
          5.6,
          5.8,
          6.2,
          5.6,
          5.9,
          6.1,
          6.3,
          6.1,
          6.4,
          6.6,
          6.8,
          6.7,
          6,
          5.7,
          5.5,
          5.5,
          5.8,
          6,
          5.4,
          6,
          6.7,
          6.3,
          5.6,
          5.5,
          5.5,
          6.1,
          5.8,
          5,
          5.6,
          5.7,
          5.7,
          6.2,
          5.1,
          5.7
         ],
         "yaxis": "y"
        },
        {
         "boxmean": "sd",
         "boxpoints": "outliers",
         "legendgroup": "virginica",
         "marker": {
          "color": "#2ca02c"
         },
         "name": "virginica",
         "showlegend": true,
         "type": "box",
         "xaxis": "x",
         "y": [
          6.3,
          5.8,
          7.1,
          6.3,
          6.5,
          7.6,
          4.9,
          7.3,
          6.7,
          7.2,
          6.5,
          6.4,
          6.8,
          5.7,
          5.8,
          6.4,
          6.5,
          7.7,
          7.7,
          6,
          6.9,
          5.6,
          7.7,
          6.3,
          6.7,
          7.2,
          6.2,
          6.1,
          6.4,
          7.2,
          7.4,
          7.9,
          6.4,
          6.3,
          6.1,
          7.7,
          6.3,
          6.4,
          6,
          6.9,
          6.7,
          6.9,
          5.8,
          6.8,
          6.7,
          6.7,
          6.3,
          6.5,
          6.2,
          5.9
         ],
         "yaxis": "y"
        },
        {
         "boxmean": "sd",
         "boxpoints": "outliers",
         "legendgroup": "setosa",
         "marker": {
          "color": "#1f77b4"
         },
         "name": "setosa",
         "showlegend": false,
         "type": "box",
         "xaxis": "x2",
         "y": [
          3.5,
          3,
          3.2,
          3.1,
          3.6,
          3.9,
          3.4,
          3.4,
          2.9,
          3.1,
          3.7,
          3.4,
          3,
          3,
          4,
          4.4,
          3.9,
          3.5,
          3.8,
          3.8,
          3.4,
          3.7,
          3.6,
          3.3,
          3.4,
          3,
          3.4,
          3.5,
          3.4,
          3.2,
          3.1,
          3.4,
          4.1,
          4.2,
          3.1,
          3.2,
          3.5,
          3.6,
          3,
          3.4,
          3.5,
          2.3,
          3.2,
          3.5,
          3.8,
          3,
          3.8,
          3.2,
          3.7,
          3.3
         ],
         "yaxis": "y2"
        },
        {
         "boxmean": "sd",
         "boxpoints": "outliers",
         "legendgroup": "versicolor",
         "marker": {
          "color": "#ff7f0e"
         },
         "name": "versicolor",
         "showlegend": false,
         "type": "box",
         "xaxis": "x2",
         "y": [
          3.2,
          3.2,
          3.1,
          2.3,
          2.8,
          2.8,
          3.3,
          2.4,
          2.9,
          2.7,
          2,
          3,
          2.2,
          2.9,
          2.9,
          3.1,
          3,
          2.7,
          2.2,
          2.5,
          3.2,
          2.8,
          2.5,
          2.8,
          2.9,
          3,
          2.8,
          3,
          2.9,
          2.6,
          2.4,
          2.4,
          2.7,
          2.7,
          3,
          3.4,
          3.1,
          2.3,
          3,
          2.5,
          2.6,
          3,
          2.6,
          2.3,
          2.7,
          3,
          2.9,
          2.9,
          2.5,
          2.8
         ],
         "yaxis": "y2"
        },
        {
         "boxmean": "sd",
         "boxpoints": "outliers",
         "legendgroup": "virginica",
         "marker": {
          "color": "#2ca02c"
         },
         "name": "virginica",
         "showlegend": false,
         "type": "box",
         "xaxis": "x2",
         "y": [
          3.3,
          2.7,
          3,
          2.9,
          3,
          3,
          2.5,
          2.9,
          2.5,
          3.6,
          3.2,
          2.7,
          3,
          2.5,
          2.8,
          3.2,
          3,
          3.8,
          2.6,
          2.2,
          3.2,
          2.8,
          2.8,
          2.7,
          3.3,
          3.2,
          2.8,
          3,
          2.8,
          3,
          2.8,
          3.8,
          2.8,
          2.8,
          2.6,
          3,
          3.4,
          3.1,
          3,
          3.1,
          3.1,
          3.1,
          2.7,
          3.2,
          3.3,
          3,
          2.5,
          3,
          3.4,
          3
         ],
         "yaxis": "y2"
        },
        {
         "boxmean": "sd",
         "boxpoints": "outliers",
         "legendgroup": "setosa",
         "marker": {
          "color": "#1f77b4"
         },
         "name": "setosa",
         "showlegend": false,
         "type": "box",
         "xaxis": "x3",
         "y": [
          1.4,
          1.4,
          1.3,
          1.5,
          1.4,
          1.7,
          1.4,
          1.5,
          1.4,
          1.5,
          1.5,
          1.6,
          1.4,
          1.1,
          1.2,
          1.5,
          1.3,
          1.4,
          1.7,
          1.5,
          1.7,
          1.5,
          1,
          1.7,
          1.9,
          1.6,
          1.6,
          1.5,
          1.4,
          1.6,
          1.6,
          1.5,
          1.5,
          1.4,
          1.5,
          1.2,
          1.3,
          1.4,
          1.3,
          1.5,
          1.3,
          1.3,
          1.3,
          1.6,
          1.9,
          1.4,
          1.6,
          1.4,
          1.5,
          1.4
         ],
         "yaxis": "y3"
        },
        {
         "boxmean": "sd",
         "boxpoints": "outliers",
         "legendgroup": "versicolor",
         "marker": {
          "color": "#ff7f0e"
         },
         "name": "versicolor",
         "showlegend": false,
         "type": "box",
         "xaxis": "x3",
         "y": [
          4.7,
          4.5,
          4.9,
          4,
          4.6,
          4.5,
          4.7,
          3.3,
          4.6,
          3.9,
          3.5,
          4.2,
          4,
          4.7,
          3.6,
          4.4,
          4.5,
          4.1,
          4.5,
          3.9,
          4.8,
          4,
          4.9,
          4.7,
          4.3,
          4.4,
          4.8,
          5,
          4.5,
          3.5,
          3.8,
          3.7,
          3.9,
          5.1,
          4.5,
          4.5,
          4.7,
          4.4,
          4.1,
          4,
          4.4,
          4.6,
          4,
          3.3,
          4.2,
          4.2,
          4.2,
          4.3,
          3,
          4.1
         ],
         "yaxis": "y3"
        },
        {
         "boxmean": "sd",
         "boxpoints": "outliers",
         "legendgroup": "virginica",
         "marker": {
          "color": "#2ca02c"
         },
         "name": "virginica",
         "showlegend": false,
         "type": "box",
         "xaxis": "x3",
         "y": [
          6,
          5.1,
          5.9,
          5.6,
          5.8,
          6.6,
          4.5,
          6.3,
          5.8,
          6.1,
          5.1,
          5.3,
          5.5,
          5,
          5.1,
          5.3,
          5.5,
          6.7,
          6.9,
          5,
          5.7,
          4.9,
          6.7,
          4.9,
          5.7,
          6,
          4.8,
          4.9,
          5.6,
          5.8,
          6.1,
          6.4,
          5.6,
          5.1,
          5.6,
          6.1,
          5.6,
          5.5,
          4.8,
          5.4,
          5.6,
          5.1,
          5.1,
          5.9,
          5.7,
          5.2,
          5,
          5.2,
          5.4,
          5.1
         ],
         "yaxis": "y3"
        },
        {
         "boxmean": "sd",
         "boxpoints": "outliers",
         "legendgroup": "setosa",
         "marker": {
          "color": "#1f77b4"
         },
         "name": "setosa",
         "showlegend": false,
         "type": "box",
         "xaxis": "x4",
         "y": [
          0.2,
          0.2,
          0.2,
          0.2,
          0.2,
          0.4,
          0.3,
          0.2,
          0.2,
          0.1,
          0.2,
          0.2,
          0.1,
          0.1,
          0.2,
          0.4,
          0.4,
          0.3,
          0.3,
          0.3,
          0.2,
          0.4,
          0.2,
          0.5,
          0.2,
          0.2,
          0.4,
          0.2,
          0.2,
          0.2,
          0.2,
          0.4,
          0.1,
          0.2,
          0.2,
          0.2,
          0.2,
          0.1,
          0.2,
          0.2,
          0.3,
          0.3,
          0.2,
          0.6,
          0.4,
          0.3,
          0.2,
          0.2,
          0.2,
          0.2
         ],
         "yaxis": "y4"
        },
        {
         "boxmean": "sd",
         "boxpoints": "outliers",
         "legendgroup": "versicolor",
         "marker": {
          "color": "#ff7f0e"
         },
         "name": "versicolor",
         "showlegend": false,
         "type": "box",
         "xaxis": "x4",
         "y": [
          1.4,
          1.5,
          1.5,
          1.3,
          1.5,
          1.3,
          1.6,
          1,
          1.3,
          1.4,
          1,
          1.5,
          1,
          1.4,
          1.3,
          1.4,
          1.5,
          1,
          1.5,
          1.1,
          1.8,
          1.3,
          1.5,
          1.2,
          1.3,
          1.4,
          1.4,
          1.7,
          1.5,
          1,
          1.1,
          1,
          1.2,
          1.6,
          1.5,
          1.6,
          1.5,
          1.3,
          1.3,
          1.3,
          1.2,
          1.4,
          1.2,
          1,
          1.3,
          1.2,
          1.3,
          1.3,
          1.1,
          1.3
         ],
         "yaxis": "y4"
        },
        {
         "boxmean": "sd",
         "boxpoints": "outliers",
         "legendgroup": "virginica",
         "marker": {
          "color": "#2ca02c"
         },
         "name": "virginica",
         "showlegend": false,
         "type": "box",
         "xaxis": "x4",
         "y": [
          2.5,
          1.9,
          2.1,
          1.8,
          2.2,
          2.1,
          1.7,
          1.8,
          1.8,
          2.5,
          2,
          1.9,
          2.1,
          2,
          2.4,
          2.3,
          1.8,
          2.2,
          2.3,
          1.5,
          2.3,
          2,
          2,
          1.8,
          2.1,
          1.8,
          1.8,
          1.8,
          2.1,
          1.6,
          1.9,
          2,
          2.2,
          1.5,
          1.4,
          2.3,
          2.4,
          1.8,
          1.8,
          2.1,
          2.4,
          2.3,
          1.9,
          2.3,
          2.5,
          2.3,
          1.9,
          2,
          2.3,
          1.8
         ],
         "yaxis": "y4"
        }
       ],
       "layout": {
        "annotations": [
         {
          "font": {
           "size": 16
          },
          "showarrow": false,
          "text": "sep_len",
          "x": 0.225,
          "xanchor": "center",
          "xref": "paper",
          "y": 1,
          "yanchor": "bottom",
          "yref": "paper"
         },
         {
          "font": {
           "size": 16
          },
          "showarrow": false,
          "text": "sep_wid",
          "x": 0.775,
          "xanchor": "center",
          "xref": "paper",
          "y": 1,
          "yanchor": "bottom",
          "yref": "paper"
         },
         {
          "font": {
           "size": 16
          },
          "showarrow": false,
          "text": "pet_len",
          "x": 0.225,
          "xanchor": "center",
          "xref": "paper",
          "y": 0.375,
          "yanchor": "bottom",
          "yref": "paper"
         },
         {
          "font": {
           "size": 16
          },
          "showarrow": false,
          "text": "pet_wid",
          "x": 0.775,
          "xanchor": "center",
          "xref": "paper",
          "y": 0.375,
          "yanchor": "bottom",
          "yref": "paper"
         }
        ],
        "autosize": true,
        "template": {
         "data": {
          "bar": [
           {
            "error_x": {
             "color": "#2a3f5f"
            },
            "error_y": {
             "color": "#2a3f5f"
            },
            "marker": {
             "line": {
              "color": "#E5ECF6",
              "width": 0.5
             }
            },
            "type": "bar"
           }
          ],
          "barpolar": [
           {
            "marker": {
             "line": {
              "color": "#E5ECF6",
              "width": 0.5
             }
            },
            "type": "barpolar"
           }
          ],
          "carpet": [
           {
            "aaxis": {
             "endlinecolor": "#2a3f5f",
             "gridcolor": "white",
             "linecolor": "white",
             "minorgridcolor": "white",
             "startlinecolor": "#2a3f5f"
            },
            "baxis": {
             "endlinecolor": "#2a3f5f",
             "gridcolor": "white",
             "linecolor": "white",
             "minorgridcolor": "white",
             "startlinecolor": "#2a3f5f"
            },
            "type": "carpet"
           }
          ],
          "choropleth": [
           {
            "colorbar": {
             "outlinewidth": 0,
             "ticks": ""
            },
            "type": "choropleth"
           }
          ],
          "contour": [
           {
            "colorbar": {
             "outlinewidth": 0,
             "ticks": ""
            },
            "colorscale": [
             [
              0,
              "#0d0887"
             ],
             [
              0.1111111111111111,
              "#46039f"
             ],
             [
              0.2222222222222222,
              "#7201a8"
             ],
             [
              0.3333333333333333,
              "#9c179e"
             ],
             [
              0.4444444444444444,
              "#bd3786"
             ],
             [
              0.5555555555555556,
              "#d8576b"
             ],
             [
              0.6666666666666666,
              "#ed7953"
             ],
             [
              0.7777777777777778,
              "#fb9f3a"
             ],
             [
              0.8888888888888888,
              "#fdca26"
             ],
             [
              1,
              "#f0f921"
             ]
            ],
            "type": "contour"
           }
          ],
          "contourcarpet": [
           {
            "colorbar": {
             "outlinewidth": 0,
             "ticks": ""
            },
            "type": "contourcarpet"
           }
          ],
          "heatmap": [
           {
            "colorbar": {
             "outlinewidth": 0,
             "ticks": ""
            },
            "colorscale": [
             [
              0,
              "#0d0887"
             ],
             [
              0.1111111111111111,
              "#46039f"
             ],
             [
              0.2222222222222222,
              "#7201a8"
             ],
             [
              0.3333333333333333,
              "#9c179e"
             ],
             [
              0.4444444444444444,
              "#bd3786"
             ],
             [
              0.5555555555555556,
              "#d8576b"
             ],
             [
              0.6666666666666666,
              "#ed7953"
             ],
             [
              0.7777777777777778,
              "#fb9f3a"
             ],
             [
              0.8888888888888888,
              "#fdca26"
             ],
             [
              1,
              "#f0f921"
             ]
            ],
            "type": "heatmap"
           }
          ],
          "heatmapgl": [
           {
            "colorbar": {
             "outlinewidth": 0,
             "ticks": ""
            },
            "colorscale": [
             [
              0,
              "#0d0887"
             ],
             [
              0.1111111111111111,
              "#46039f"
             ],
             [
              0.2222222222222222,
              "#7201a8"
             ],
             [
              0.3333333333333333,
              "#9c179e"
             ],
             [
              0.4444444444444444,
              "#bd3786"
             ],
             [
              0.5555555555555556,
              "#d8576b"
             ],
             [
              0.6666666666666666,
              "#ed7953"
             ],
             [
              0.7777777777777778,
              "#fb9f3a"
             ],
             [
              0.8888888888888888,
              "#fdca26"
             ],
             [
              1,
              "#f0f921"
             ]
            ],
            "type": "heatmapgl"
           }
          ],
          "histogram": [
           {
            "marker": {
             "colorbar": {
              "outlinewidth": 0,
              "ticks": ""
             }
            },
            "type": "histogram"
           }
          ],
          "histogram2d": [
           {
            "colorbar": {
             "outlinewidth": 0,
             "ticks": ""
            },
            "colorscale": [
             [
              0,
              "#0d0887"
             ],
             [
              0.1111111111111111,
              "#46039f"
             ],
             [
              0.2222222222222222,
              "#7201a8"
             ],
             [
              0.3333333333333333,
              "#9c179e"
             ],
             [
              0.4444444444444444,
              "#bd3786"
             ],
             [
              0.5555555555555556,
              "#d8576b"
             ],
             [
              0.6666666666666666,
              "#ed7953"
             ],
             [
              0.7777777777777778,
              "#fb9f3a"
             ],
             [
              0.8888888888888888,
              "#fdca26"
             ],
             [
              1,
              "#f0f921"
             ]
            ],
            "type": "histogram2d"
           }
          ],
          "histogram2dcontour": [
           {
            "colorbar": {
             "outlinewidth": 0,
             "ticks": ""
            },
            "colorscale": [
             [
              0,
              "#0d0887"
             ],
             [
              0.1111111111111111,
              "#46039f"
             ],
             [
              0.2222222222222222,
              "#7201a8"
             ],
             [
              0.3333333333333333,
              "#9c179e"
             ],
             [
              0.4444444444444444,
              "#bd3786"
             ],
             [
              0.5555555555555556,
              "#d8576b"
             ],
             [
              0.6666666666666666,
              "#ed7953"
             ],
             [
              0.7777777777777778,
              "#fb9f3a"
             ],
             [
              0.8888888888888888,
              "#fdca26"
             ],
             [
              1,
              "#f0f921"
             ]
            ],
            "type": "histogram2dcontour"
           }
          ],
          "mesh3d": [
           {
            "colorbar": {
             "outlinewidth": 0,
             "ticks": ""
            },
            "type": "mesh3d"
           }
          ],
          "parcoords": [
           {
            "line": {
             "colorbar": {
              "outlinewidth": 0,
              "ticks": ""
             }
            },
            "type": "parcoords"
           }
          ],
          "pie": [
           {
            "automargin": true,
            "type": "pie"
           }
          ],
          "scatter": [
           {
            "marker": {
             "colorbar": {
              "outlinewidth": 0,
              "ticks": ""
             }
            },
            "type": "scatter"
           }
          ],
          "scatter3d": [
           {
            "line": {
             "colorbar": {
              "outlinewidth": 0,
              "ticks": ""
             }
            },
            "marker": {
             "colorbar": {
              "outlinewidth": 0,
              "ticks": ""
             }
            },
            "type": "scatter3d"
           }
          ],
          "scattercarpet": [
           {
            "marker": {
             "colorbar": {
              "outlinewidth": 0,
              "ticks": ""
             }
            },
            "type": "scattercarpet"
           }
          ],
          "scattergeo": [
           {
            "marker": {
             "colorbar": {
              "outlinewidth": 0,
              "ticks": ""
             }
            },
            "type": "scattergeo"
           }
          ],
          "scattergl": [
           {
            "marker": {
             "colorbar": {
              "outlinewidth": 0,
              "ticks": ""
             }
            },
            "type": "scattergl"
           }
          ],
          "scattermapbox": [
           {
            "marker": {
             "colorbar": {
              "outlinewidth": 0,
              "ticks": ""
             }
            },
            "type": "scattermapbox"
           }
          ],
          "scatterpolar": [
           {
            "marker": {
             "colorbar": {
              "outlinewidth": 0,
              "ticks": ""
             }
            },
            "type": "scatterpolar"
           }
          ],
          "scatterpolargl": [
           {
            "marker": {
             "colorbar": {
              "outlinewidth": 0,
              "ticks": ""
             }
            },
            "type": "scatterpolargl"
           }
          ],
          "scatterternary": [
           {
            "marker": {
             "colorbar": {
              "outlinewidth": 0,
              "ticks": ""
             }
            },
            "type": "scatterternary"
           }
          ],
          "surface": [
           {
            "colorbar": {
             "outlinewidth": 0,
             "ticks": ""
            },
            "colorscale": [
             [
              0,
              "#0d0887"
             ],
             [
              0.1111111111111111,
              "#46039f"
             ],
             [
              0.2222222222222222,
              "#7201a8"
             ],
             [
              0.3333333333333333,
              "#9c179e"
             ],
             [
              0.4444444444444444,
              "#bd3786"
             ],
             [
              0.5555555555555556,
              "#d8576b"
             ],
             [
              0.6666666666666666,
              "#ed7953"
             ],
             [
              0.7777777777777778,
              "#fb9f3a"
             ],
             [
              0.8888888888888888,
              "#fdca26"
             ],
             [
              1,
              "#f0f921"
             ]
            ],
            "type": "surface"
           }
          ],
          "table": [
           {
            "cells": {
             "fill": {
              "color": "#EBF0F8"
             },
             "line": {
              "color": "white"
             }
            },
            "header": {
             "fill": {
              "color": "#C8D4E3"
             },
             "line": {
              "color": "white"
             }
            },
            "type": "table"
           }
          ]
         },
         "layout": {
          "annotationdefaults": {
           "arrowcolor": "#2a3f5f",
           "arrowhead": 0,
           "arrowwidth": 1
          },
          "coloraxis": {
           "colorbar": {
            "outlinewidth": 0,
            "ticks": ""
           }
          },
          "colorscale": {
           "diverging": [
            [
             0,
             "#8e0152"
            ],
            [
             0.1,
             "#c51b7d"
            ],
            [
             0.2,
             "#de77ae"
            ],
            [
             0.3,
             "#f1b6da"
            ],
            [
             0.4,
             "#fde0ef"
            ],
            [
             0.5,
             "#f7f7f7"
            ],
            [
             0.6,
             "#e6f5d0"
            ],
            [
             0.7,
             "#b8e186"
            ],
            [
             0.8,
             "#7fbc41"
            ],
            [
             0.9,
             "#4d9221"
            ],
            [
             1,
             "#276419"
            ]
           ],
           "sequential": [
            [
             0,
             "#0d0887"
            ],
            [
             0.1111111111111111,
             "#46039f"
            ],
            [
             0.2222222222222222,
             "#7201a8"
            ],
            [
             0.3333333333333333,
             "#9c179e"
            ],
            [
             0.4444444444444444,
             "#bd3786"
            ],
            [
             0.5555555555555556,
             "#d8576b"
            ],
            [
             0.6666666666666666,
             "#ed7953"
            ],
            [
             0.7777777777777778,
             "#fb9f3a"
            ],
            [
             0.8888888888888888,
             "#fdca26"
            ],
            [
             1,
             "#f0f921"
            ]
           ],
           "sequentialminus": [
            [
             0,
             "#0d0887"
            ],
            [
             0.1111111111111111,
             "#46039f"
            ],
            [
             0.2222222222222222,
             "#7201a8"
            ],
            [
             0.3333333333333333,
             "#9c179e"
            ],
            [
             0.4444444444444444,
             "#bd3786"
            ],
            [
             0.5555555555555556,
             "#d8576b"
            ],
            [
             0.6666666666666666,
             "#ed7953"
            ],
            [
             0.7777777777777778,
             "#fb9f3a"
            ],
            [
             0.8888888888888888,
             "#fdca26"
            ],
            [
             1,
             "#f0f921"
            ]
           ]
          },
          "colorway": [
           "#636efa",
           "#EF553B",
           "#00cc96",
           "#ab63fa",
           "#FFA15A",
           "#19d3f3",
           "#FF6692",
           "#B6E880",
           "#FF97FF",
           "#FECB52"
          ],
          "font": {
           "color": "#2a3f5f"
          },
          "geo": {
           "bgcolor": "white",
           "lakecolor": "white",
           "landcolor": "#E5ECF6",
           "showlakes": true,
           "showland": true,
           "subunitcolor": "white"
          },
          "hoverlabel": {
           "align": "left"
          },
          "hovermode": "closest",
          "mapbox": {
           "style": "light"
          },
          "paper_bgcolor": "white",
          "plot_bgcolor": "#E5ECF6",
          "polar": {
           "angularaxis": {
            "gridcolor": "white",
            "linecolor": "white",
            "ticks": ""
           },
           "bgcolor": "#E5ECF6",
           "radialaxis": {
            "gridcolor": "white",
            "linecolor": "white",
            "ticks": ""
           }
          },
          "scene": {
           "xaxis": {
            "backgroundcolor": "#E5ECF6",
            "gridcolor": "white",
            "gridwidth": 2,
            "linecolor": "white",
            "showbackground": true,
            "ticks": "",
            "zerolinecolor": "white"
           },
           "yaxis": {
            "backgroundcolor": "#E5ECF6",
            "gridcolor": "white",
            "gridwidth": 2,
            "linecolor": "white",
            "showbackground": true,
            "ticks": "",
            "zerolinecolor": "white"
           },
           "zaxis": {
            "backgroundcolor": "#E5ECF6",
            "gridcolor": "white",
            "gridwidth": 2,
            "linecolor": "white",
            "showbackground": true,
            "ticks": "",
            "zerolinecolor": "white"
           }
          },
          "shapedefaults": {
           "line": {
            "color": "#2a3f5f"
           }
          },
          "ternary": {
           "aaxis": {
            "gridcolor": "white",
            "linecolor": "white",
            "ticks": ""
           },
           "baxis": {
            "gridcolor": "white",
            "linecolor": "white",
            "ticks": ""
           },
           "bgcolor": "#E5ECF6",
           "caxis": {
            "gridcolor": "white",
            "linecolor": "white",
            "ticks": ""
           }
          },
          "title": {
           "x": 0.05
          },
          "xaxis": {
           "automargin": true,
           "gridcolor": "white",
           "linecolor": "white",
           "ticks": "",
           "title": {
            "standoff": 15
           },
           "zerolinecolor": "white",
           "zerolinewidth": 2
          },
          "yaxis": {
           "automargin": true,
           "gridcolor": "white",
           "linecolor": "white",
           "ticks": "",
           "title": {
            "standoff": 15
           },
           "zerolinecolor": "white",
           "zerolinewidth": 2
          }
         }
        },
        "title": {
         "text": "Iris Data Feature Box Plots"
        },
        "xaxis": {
         "anchor": "y",
         "autorange": true,
         "domain": [
          0,
          0.45
         ],
         "range": [
          -0.5,
          2.5
         ],
         "type": "category"
        },
        "xaxis2": {
         "anchor": "y2",
         "autorange": true,
         "domain": [
          0.55,
          1
         ],
         "range": [
          -0.5,
          2.5
         ],
         "type": "category"
        },
        "xaxis3": {
         "anchor": "y3",
         "autorange": true,
         "domain": [
          0,
          0.45
         ],
         "range": [
          -0.5,
          2.5
         ],
         "type": "category"
        },
        "xaxis4": {
         "anchor": "y4",
         "autorange": true,
         "domain": [
          0.55,
          1
         ],
         "range": [
          -0.5,
          2.5
         ],
         "type": "category"
        },
        "yaxis": {
         "anchor": "x",
         "autorange": true,
         "domain": [
          0.625,
          1
         ],
         "range": [
          4.1,
          8.1
         ],
         "type": "linear"
        },
        "yaxis2": {
         "anchor": "x2",
         "autorange": true,
         "domain": [
          0.625,
          1
         ],
         "range": [
          1.8666666666666667,
          4.533333333333334
         ],
         "type": "linear"
        },
        "yaxis3": {
         "anchor": "x3",
         "autorange": true,
         "domain": [
          0,
          0.375
         ],
         "range": [
          0.6722222222222222,
          7.227777777777778
         ],
         "type": "linear"
        },
        "yaxis4": {
         "anchor": "x4",
         "autorange": true,
         "domain": [
          0,
          0.375
         ],
         "range": [
          -0.033333333333333326,
          2.6333333333333333
         ],
         "type": "linear"
        }
       }
      },
      "image/png": "[encoded data removed]",
      "text/html": [
       "<div>\n",
       "        \n",
       "        \n",
       "            <div id=\"07553c16-f4bc-4d3d-b691-12e1b21fe975\" class=\"plotly-graph-div\" style=\"height:525px; width:100%;\"></div>\n",
       "            <script type=\"text/javascript\">\n",
       "                require([\"plotly\"], function(Plotly) {\n",
       "                    window.PLOTLYENV=window.PLOTLYENV || {};\n",
       "                    \n",
       "                if (document.getElementById(\"07553c16-f4bc-4d3d-b691-12e1b21fe975\")) {\n",
       "                    Plotly.newPlot(\n",
       "                        '07553c16-f4bc-4d3d-b691-12e1b21fe975',\n",
       "                        [{\"boxmean\": \"sd\", \"boxpoints\": \"outliers\", \"legendgroup\": \"setosa\", \"marker\": {\"color\": \"#1f77b4\"}, \"name\": \"setosa\", \"showlegend\": true, \"type\": \"box\", \"xaxis\": \"x\", \"y\": [5.1, 4.9, 4.7, 4.6, 5.0, 5.4, 4.6, 5.0, 4.4, 4.9, 5.4, 4.8, 4.8, 4.3, 5.8, 5.7, 5.4, 5.1, 5.7, 5.1, 5.4, 5.1, 4.6, 5.1, 4.8, 5.0, 5.0, 5.2, 5.2, 4.7, 4.8, 5.4, 5.2, 5.5, 4.9, 5.0, 5.5, 4.9, 4.4, 5.1, 5.0, 4.5, 4.4, 5.0, 5.1, 4.8, 5.1, 4.6, 5.3, 5.0], \"yaxis\": \"y\"}, {\"boxmean\": \"sd\", \"boxpoints\": \"outliers\", \"legendgroup\": \"versicolor\", \"marker\": {\"color\": \"#ff7f0e\"}, \"name\": \"versicolor\", \"showlegend\": true, \"type\": \"box\", \"xaxis\": \"x\", \"y\": [7.0, 6.4, 6.9, 5.5, 6.5, 5.7, 6.3, 4.9, 6.6, 5.2, 5.0, 5.9, 6.0, 6.1, 5.6, 6.7, 5.6, 5.8, 6.2, 5.6, 5.9, 6.1, 6.3, 6.1, 6.4, 6.6, 6.8, 6.7, 6.0, 5.7, 5.5, 5.5, 5.8, 6.0, 5.4, 6.0, 6.7, 6.3, 5.6, 5.5, 5.5, 6.1, 5.8, 5.0, 5.6, 5.7, 5.7, 6.2, 5.1, 5.7], \"yaxis\": \"y\"}, {\"boxmean\": \"sd\", \"boxpoints\": \"outliers\", \"legendgroup\": \"virginica\", \"marker\": {\"color\": \"#2ca02c\"}, \"name\": \"virginica\", \"showlegend\": true, \"type\": \"box\", \"xaxis\": \"x\", \"y\": [6.3, 5.8, 7.1, 6.3, 6.5, 7.6, 4.9, 7.3, 6.7, 7.2, 6.5, 6.4, 6.8, 5.7, 5.8, 6.4, 6.5, 7.7, 7.7, 6.0, 6.9, 5.6, 7.7, 6.3, 6.7, 7.2, 6.2, 6.1, 6.4, 7.2, 7.4, 7.9, 6.4, 6.3, 6.1, 7.7, 6.3, 6.4, 6.0, 6.9, 6.7, 6.9, 5.8, 6.8, 6.7, 6.7, 6.3, 6.5, 6.2, 5.9], \"yaxis\": \"y\"}, {\"boxmean\": \"sd\", \"boxpoints\": \"outliers\", \"legendgroup\": \"setosa\", \"marker\": {\"color\": \"#1f77b4\"}, \"name\": \"setosa\", \"showlegend\": false, \"type\": \"box\", \"xaxis\": \"x2\", \"y\": [3.5, 3.0, 3.2, 3.1, 3.6, 3.9, 3.4, 3.4, 2.9, 3.1, 3.7, 3.4, 3.0, 3.0, 4.0, 4.4, 3.9, 3.5, 3.8, 3.8, 3.4, 3.7, 3.6, 3.3, 3.4, 3.0, 3.4, 3.5, 3.4, 3.2, 3.1, 3.4, 4.1, 4.2, 3.1, 3.2, 3.5, 3.6, 3.0, 3.4, 3.5, 2.3, 3.2, 3.5, 3.8, 3.0, 3.8, 3.2, 3.7, 3.3], \"yaxis\": \"y2\"}, {\"boxmean\": \"sd\", \"boxpoints\": \"outliers\", \"legendgroup\": \"versicolor\", \"marker\": {\"color\": \"#ff7f0e\"}, \"name\": \"versicolor\", \"showlegend\": false, \"type\": \"box\", \"xaxis\": \"x2\", \"y\": [3.2, 3.2, 3.1, 2.3, 2.8, 2.8, 3.3, 2.4, 2.9, 2.7, 2.0, 3.0, 2.2, 2.9, 2.9, 3.1, 3.0, 2.7, 2.2, 2.5, 3.2, 2.8, 2.5, 2.8, 2.9, 3.0, 2.8, 3.0, 2.9, 2.6, 2.4, 2.4, 2.7, 2.7, 3.0, 3.4, 3.1, 2.3, 3.0, 2.5, 2.6, 3.0, 2.6, 2.3, 2.7, 3.0, 2.9, 2.9, 2.5, 2.8], \"yaxis\": \"y2\"}, {\"boxmean\": \"sd\", \"boxpoints\": \"outliers\", \"legendgroup\": \"virginica\", \"marker\": {\"color\": \"#2ca02c\"}, \"name\": \"virginica\", \"showlegend\": false, \"type\": \"box\", \"xaxis\": \"x2\", \"y\": [3.3, 2.7, 3.0, 2.9, 3.0, 3.0, 2.5, 2.9, 2.5, 3.6, 3.2, 2.7, 3.0, 2.5, 2.8, 3.2, 3.0, 3.8, 2.6, 2.2, 3.2, 2.8, 2.8, 2.7, 3.3, 3.2, 2.8, 3.0, 2.8, 3.0, 2.8, 3.8, 2.8, 2.8, 2.6, 3.0, 3.4, 3.1, 3.0, 3.1, 3.1, 3.1, 2.7, 3.2, 3.3, 3.0, 2.5, 3.0, 3.4, 3.0], \"yaxis\": \"y2\"}, {\"boxmean\": \"sd\", \"boxpoints\": \"outliers\", \"legendgroup\": \"setosa\", \"marker\": {\"color\": \"#1f77b4\"}, \"name\": \"setosa\", \"showlegend\": false, \"type\": \"box\", \"xaxis\": \"x3\", \"y\": [1.4, 1.4, 1.3, 1.5, 1.4, 1.7, 1.4, 1.5, 1.4, 1.5, 1.5, 1.6, 1.4, 1.1, 1.2, 1.5, 1.3, 1.4, 1.7, 1.5, 1.7, 1.5, 1.0, 1.7, 1.9, 1.6, 1.6, 1.5, 1.4, 1.6, 1.6, 1.5, 1.5, 1.4, 1.5, 1.2, 1.3, 1.4, 1.3, 1.5, 1.3, 1.3, 1.3, 1.6, 1.9, 1.4, 1.6, 1.4, 1.5, 1.4], \"yaxis\": \"y3\"}, {\"boxmean\": \"sd\", \"boxpoints\": \"outliers\", \"legendgroup\": \"versicolor\", \"marker\": {\"color\": \"#ff7f0e\"}, \"name\": \"versicolor\", \"showlegend\": false, \"type\": \"box\", \"xaxis\": \"x3\", \"y\": [4.7, 4.5, 4.9, 4.0, 4.6, 4.5, 4.7, 3.3, 4.6, 3.9, 3.5, 4.2, 4.0, 4.7, 3.6, 4.4, 4.5, 4.1, 4.5, 3.9, 4.8, 4.0, 4.9, 4.7, 4.3, 4.4, 4.8, 5.0, 4.5, 3.5, 3.8, 3.7, 3.9, 5.1, 4.5, 4.5, 4.7, 4.4, 4.1, 4.0, 4.4, 4.6, 4.0, 3.3, 4.2, 4.2, 4.2, 4.3, 3.0, 4.1], \"yaxis\": \"y3\"}, {\"boxmean\": \"sd\", \"boxpoints\": \"outliers\", \"legendgroup\": \"virginica\", \"marker\": {\"color\": \"#2ca02c\"}, \"name\": \"virginica\", \"showlegend\": false, \"type\": \"box\", \"xaxis\": \"x3\", \"y\": [6.0, 5.1, 5.9, 5.6, 5.8, 6.6, 4.5, 6.3, 5.8, 6.1, 5.1, 5.3, 5.5, 5.0, 5.1, 5.3, 5.5, 6.7, 6.9, 5.0, 5.7, 4.9, 6.7, 4.9, 5.7, 6.0, 4.8, 4.9, 5.6, 5.8, 6.1, 6.4, 5.6, 5.1, 5.6, 6.1, 5.6, 5.5, 4.8, 5.4, 5.6, 5.1, 5.1, 5.9, 5.7, 5.2, 5.0, 5.2, 5.4, 5.1], \"yaxis\": \"y3\"}, {\"boxmean\": \"sd\", \"boxpoints\": \"outliers\", \"legendgroup\": \"setosa\", \"marker\": {\"color\": \"#1f77b4\"}, \"name\": \"setosa\", \"showlegend\": false, \"type\": \"box\", \"xaxis\": \"x4\", \"y\": [0.2, 0.2, 0.2, 0.2, 0.2, 0.4, 0.3, 0.2, 0.2, 0.1, 0.2, 0.2, 0.1, 0.1, 0.2, 0.4, 0.4, 0.3, 0.3, 0.3, 0.2, 0.4, 0.2, 0.5, 0.2, 0.2, 0.4, 0.2, 0.2, 0.2, 0.2, 0.4, 0.1, 0.2, 0.2, 0.2, 0.2, 0.1, 0.2, 0.2, 0.3, 0.3, 0.2, 0.6, 0.4, 0.3, 0.2, 0.2, 0.2, 0.2], \"yaxis\": \"y4\"}, {\"boxmean\": \"sd\", \"boxpoints\": \"outliers\", \"legendgroup\": \"versicolor\", \"marker\": {\"color\": \"#ff7f0e\"}, \"name\": \"versicolor\", \"showlegend\": false, \"type\": \"box\", \"xaxis\": \"x4\", \"y\": [1.4, 1.5, 1.5, 1.3, 1.5, 1.3, 1.6, 1.0, 1.3, 1.4, 1.0, 1.5, 1.0, 1.4, 1.3, 1.4, 1.5, 1.0, 1.5, 1.1, 1.8, 1.3, 1.5, 1.2, 1.3, 1.4, 1.4, 1.7, 1.5, 1.0, 1.1, 1.0, 1.2, 1.6, 1.5, 1.6, 1.5, 1.3, 1.3, 1.3, 1.2, 1.4, 1.2, 1.0, 1.3, 1.2, 1.3, 1.3, 1.1, 1.3], \"yaxis\": \"y4\"}, {\"boxmean\": \"sd\", \"boxpoints\": \"outliers\", \"legendgroup\": \"virginica\", \"marker\": {\"color\": \"#2ca02c\"}, \"name\": \"virginica\", \"showlegend\": false, \"type\": \"box\", \"xaxis\": \"x4\", \"y\": [2.5, 1.9, 2.1, 1.8, 2.2, 2.1, 1.7, 1.8, 1.8, 2.5, 2.0, 1.9, 2.1, 2.0, 2.4, 2.3, 1.8, 2.2, 2.3, 1.5, 2.3, 2.0, 2.0, 1.8, 2.1, 1.8, 1.8, 1.8, 2.1, 1.6, 1.9, 2.0, 2.2, 1.5, 1.4, 2.3, 2.4, 1.8, 1.8, 2.1, 2.4, 2.3, 1.9, 2.3, 2.5, 2.3, 1.9, 2.0, 2.3, 1.8], \"yaxis\": \"y4\"}],\n",
       "                        {\"annotations\": [{\"font\": {\"size\": 16}, \"showarrow\": false, \"text\": \"sep_len\", \"x\": 0.225, \"xanchor\": \"center\", \"xref\": \"paper\", \"y\": 1.0, \"yanchor\": \"bottom\", \"yref\": \"paper\"}, {\"font\": {\"size\": 16}, \"showarrow\": false, \"text\": \"sep_wid\", \"x\": 0.775, \"xanchor\": \"center\", \"xref\": \"paper\", \"y\": 1.0, \"yanchor\": \"bottom\", \"yref\": \"paper\"}, {\"font\": {\"size\": 16}, \"showarrow\": false, \"text\": \"pet_len\", \"x\": 0.225, \"xanchor\": \"center\", \"xref\": \"paper\", \"y\": 0.375, \"yanchor\": \"bottom\", \"yref\": \"paper\"}, {\"font\": {\"size\": 16}, \"showarrow\": false, \"text\": \"pet_wid\", \"x\": 0.775, \"xanchor\": \"center\", \"xref\": \"paper\", \"y\": 0.375, \"yanchor\": \"bottom\", \"yref\": \"paper\"}], \"template\": {\"data\": {\"bar\": [{\"error_x\": {\"color\": \"#2a3f5f\"}, \"error_y\": {\"color\": \"#2a3f5f\"}, \"marker\": {\"line\": {\"color\": \"#E5ECF6\", \"width\": 0.5}}, \"type\": \"bar\"}], \"barpolar\": [{\"marker\": {\"line\": {\"color\": \"#E5ECF6\", \"width\": 0.5}}, \"type\": \"barpolar\"}], \"carpet\": [{\"aaxis\": {\"endlinecolor\": \"#2a3f5f\", \"gridcolor\": \"white\", \"linecolor\": \"white\", \"minorgridcolor\": \"white\", \"startlinecolor\": \"#2a3f5f\"}, \"baxis\": {\"endlinecolor\": \"#2a3f5f\", \"gridcolor\": \"white\", \"linecolor\": \"white\", \"minorgridcolor\": \"white\", \"startlinecolor\": \"#2a3f5f\"}, \"type\": \"carpet\"}], \"choropleth\": [{\"colorbar\": {\"outlinewidth\": 0, \"ticks\": \"\"}, \"type\": \"choropleth\"}], \"contour\": [{\"colorbar\": {\"outlinewidth\": 0, \"ticks\": \"\"}, \"colorscale\": [[0.0, \"#0d0887\"], [0.1111111111111111, \"#46039f\"], [0.2222222222222222, \"#7201a8\"], [0.3333333333333333, \"#9c179e\"], [0.4444444444444444, \"#bd3786\"], [0.5555555555555556, \"#d8576b\"], [0.6666666666666666, \"#ed7953\"], [0.7777777777777778, \"#fb9f3a\"], [0.8888888888888888, \"#fdca26\"], [1.0, \"#f0f921\"]], \"type\": \"contour\"}], \"contourcarpet\": [{\"colorbar\": {\"outlinewidth\": 0, \"ticks\": \"\"}, \"type\": \"contourcarpet\"}], \"heatmap\": [{\"colorbar\": {\"outlinewidth\": 0, \"ticks\": \"\"}, \"colorscale\": [[0.0, \"#0d0887\"], [0.1111111111111111, \"#46039f\"], [0.2222222222222222, \"#7201a8\"], [0.3333333333333333, \"#9c179e\"], [0.4444444444444444, \"#bd3786\"], [0.5555555555555556, \"#d8576b\"], [0.6666666666666666, \"#ed7953\"], [0.7777777777777778, \"#fb9f3a\"], [0.8888888888888888, \"#fdca26\"], [1.0, \"#f0f921\"]], \"type\": \"heatmap\"}], \"heatmapgl\": [{\"colorbar\": {\"outlinewidth\": 0, \"ticks\": \"\"}, \"colorscale\": [[0.0, \"#0d0887\"], [0.1111111111111111, \"#46039f\"], [0.2222222222222222, \"#7201a8\"], [0.3333333333333333, \"#9c179e\"], [0.4444444444444444, \"#bd3786\"], [0.5555555555555556, \"#d8576b\"], [0.6666666666666666, \"#ed7953\"], [0.7777777777777778, \"#fb9f3a\"], [0.8888888888888888, \"#fdca26\"], [1.0, \"#f0f921\"]], \"type\": \"heatmapgl\"}], \"histogram\": [{\"marker\": {\"colorbar\": {\"outlinewidth\": 0, \"ticks\": \"\"}}, \"type\": \"histogram\"}], \"histogram2d\": [{\"colorbar\": {\"outlinewidth\": 0, \"ticks\": \"\"}, \"colorscale\": [[0.0, \"#0d0887\"], [0.1111111111111111, \"#46039f\"], [0.2222222222222222, \"#7201a8\"], [0.3333333333333333, \"#9c179e\"], [0.4444444444444444, \"#bd3786\"], [0.5555555555555556, \"#d8576b\"], [0.6666666666666666, \"#ed7953\"], [0.7777777777777778, \"#fb9f3a\"], [0.8888888888888888, \"#fdca26\"], [1.0, \"#f0f921\"]], \"type\": \"histogram2d\"}], \"histogram2dcontour\": [{\"colorbar\": {\"outlinewidth\": 0, \"ticks\": \"\"}, \"colorscale\": [[0.0, \"#0d0887\"], [0.1111111111111111, \"#46039f\"], [0.2222222222222222, \"#7201a8\"], [0.3333333333333333, \"#9c179e\"], [0.4444444444444444, \"#bd3786\"], [0.5555555555555556, \"#d8576b\"], [0.6666666666666666, \"#ed7953\"], [0.7777777777777778, \"#fb9f3a\"], [0.8888888888888888, \"#fdca26\"], [1.0, \"#f0f921\"]], \"type\": \"histogram2dcontour\"}], \"mesh3d\": [{\"colorbar\": {\"outlinewidth\": 0, \"ticks\": \"\"}, \"type\": \"mesh3d\"}], \"parcoords\": [{\"line\": {\"colorbar\": {\"outlinewidth\": 0, \"ticks\": \"\"}}, \"type\": \"parcoords\"}], \"pie\": [{\"automargin\": true, \"type\": \"pie\"}], \"scatter\": [{\"marker\": {\"colorbar\": {\"outlinewidth\": 0, \"ticks\": \"\"}}, \"type\": \"scatter\"}], \"scatter3d\": [{\"line\": {\"colorbar\": {\"outlinewidth\": 0, \"ticks\": \"\"}}, \"marker\": {\"colorbar\": {\"outlinewidth\": 0, \"ticks\": \"\"}}, \"type\": \"scatter3d\"}], \"scattercarpet\": [{\"marker\": {\"colorbar\": {\"outlinewidth\": 0, \"ticks\": \"\"}}, \"type\": \"scattercarpet\"}], \"scattergeo\": [{\"marker\": {\"colorbar\": {\"outlinewidth\": 0, \"ticks\": \"\"}}, \"type\": \"scattergeo\"}], \"scattergl\": [{\"marker\": {\"colorbar\": {\"outlinewidth\": 0, \"ticks\": \"\"}}, \"type\": \"scattergl\"}], \"scattermapbox\": [{\"marker\": {\"colorbar\": {\"outlinewidth\": 0, \"ticks\": \"\"}}, \"type\": \"scattermapbox\"}], \"scatterpolar\": [{\"marker\": {\"colorbar\": {\"outlinewidth\": 0, \"ticks\": \"\"}}, \"type\": \"scatterpolar\"}], \"scatterpolargl\": [{\"marker\": {\"colorbar\": {\"outlinewidth\": 0, \"ticks\": \"\"}}, \"type\": \"scatterpolargl\"}], \"scatterternary\": [{\"marker\": {\"colorbar\": {\"outlinewidth\": 0, \"ticks\": \"\"}}, \"type\": \"scatterternary\"}], \"surface\": [{\"colorbar\": {\"outlinewidth\": 0, \"ticks\": \"\"}, \"colorscale\": [[0.0, \"#0d0887\"], [0.1111111111111111, \"#46039f\"], [0.2222222222222222, \"#7201a8\"], [0.3333333333333333, \"#9c179e\"], [0.4444444444444444, \"#bd3786\"], [0.5555555555555556, \"#d8576b\"], [0.6666666666666666, \"#ed7953\"], [0.7777777777777778, \"#fb9f3a\"], [0.8888888888888888, \"#fdca26\"], [1.0, \"#f0f921\"]], \"type\": \"surface\"}], \"table\": [{\"cells\": {\"fill\": {\"color\": \"#EBF0F8\"}, \"line\": {\"color\": \"white\"}}, \"header\": {\"fill\": {\"color\": \"#C8D4E3\"}, \"line\": {\"color\": \"white\"}}, \"type\": \"table\"}]}, \"layout\": {\"annotationdefaults\": {\"arrowcolor\": \"#2a3f5f\", \"arrowhead\": 0, \"arrowwidth\": 1}, \"coloraxis\": {\"colorbar\": {\"outlinewidth\": 0, \"ticks\": \"\"}}, \"colorscale\": {\"diverging\": [[0, \"#8e0152\"], [0.1, \"#c51b7d\"], [0.2, \"#de77ae\"], [0.3, \"#f1b6da\"], [0.4, \"#fde0ef\"], [0.5, \"#f7f7f7\"], [0.6, \"#e6f5d0\"], [0.7, \"#b8e186\"], [0.8, \"#7fbc41\"], [0.9, \"#4d9221\"], [1, \"#276419\"]], \"sequential\": [[0.0, \"#0d0887\"], [0.1111111111111111, \"#46039f\"], [0.2222222222222222, \"#7201a8\"], [0.3333333333333333, \"#9c179e\"], [0.4444444444444444, \"#bd3786\"], [0.5555555555555556, \"#d8576b\"], [0.6666666666666666, \"#ed7953\"], [0.7777777777777778, \"#fb9f3a\"], [0.8888888888888888, \"#fdca26\"], [1.0, \"#f0f921\"]], \"sequentialminus\": [[0.0, \"#0d0887\"], [0.1111111111111111, \"#46039f\"], [0.2222222222222222, \"#7201a8\"], [0.3333333333333333, \"#9c179e\"], [0.4444444444444444, \"#bd3786\"], [0.5555555555555556, \"#d8576b\"], [0.6666666666666666, \"#ed7953\"], [0.7777777777777778, \"#fb9f3a\"], [0.8888888888888888, \"#fdca26\"], [1.0, \"#f0f921\"]]}, \"colorway\": [\"#636efa\", \"#EF553B\", \"#00cc96\", \"#ab63fa\", \"#FFA15A\", \"#19d3f3\", \"#FF6692\", \"#B6E880\", \"#FF97FF\", \"#FECB52\"], \"font\": {\"color\": \"#2a3f5f\"}, \"geo\": {\"bgcolor\": \"white\", \"lakecolor\": \"white\", \"landcolor\": \"#E5ECF6\", \"showlakes\": true, \"showland\": true, \"subunitcolor\": \"white\"}, \"hoverlabel\": {\"align\": \"left\"}, \"hovermode\": \"closest\", \"mapbox\": {\"style\": \"light\"}, \"paper_bgcolor\": \"white\", \"plot_bgcolor\": \"#E5ECF6\", \"polar\": {\"angularaxis\": {\"gridcolor\": \"white\", \"linecolor\": \"white\", \"ticks\": \"\"}, \"bgcolor\": \"#E5ECF6\", \"radialaxis\": {\"gridcolor\": \"white\", \"linecolor\": \"white\", \"ticks\": \"\"}}, \"scene\": {\"xaxis\": {\"backgroundcolor\": \"#E5ECF6\", \"gridcolor\": \"white\", \"gridwidth\": 2, \"linecolor\": \"white\", \"showbackground\": true, \"ticks\": \"\", \"zerolinecolor\": \"white\"}, \"yaxis\": {\"backgroundcolor\": \"#E5ECF6\", \"gridcolor\": \"white\", \"gridwidth\": 2, \"linecolor\": \"white\", \"showbackground\": true, \"ticks\": \"\", \"zerolinecolor\": \"white\"}, \"zaxis\": {\"backgroundcolor\": \"#E5ECF6\", \"gridcolor\": \"white\", \"gridwidth\": 2, \"linecolor\": \"white\", \"showbackground\": true, \"ticks\": \"\", \"zerolinecolor\": \"white\"}}, \"shapedefaults\": {\"line\": {\"color\": \"#2a3f5f\"}}, \"ternary\": {\"aaxis\": {\"gridcolor\": \"white\", \"linecolor\": \"white\", \"ticks\": \"\"}, \"baxis\": {\"gridcolor\": \"white\", \"linecolor\": \"white\", \"ticks\": \"\"}, \"bgcolor\": \"#E5ECF6\", \"caxis\": {\"gridcolor\": \"white\", \"linecolor\": \"white\", \"ticks\": \"\"}}, \"title\": {\"x\": 0.05}, \"xaxis\": {\"automargin\": true, \"gridcolor\": \"white\", \"linecolor\": \"white\", \"ticks\": \"\", \"title\": {\"standoff\": 15}, \"zerolinecolor\": \"white\", \"zerolinewidth\": 2}, \"yaxis\": {\"automargin\": true, \"gridcolor\": \"white\", \"linecolor\": \"white\", \"ticks\": \"\", \"title\": {\"standoff\": 15}, \"zerolinecolor\": \"white\", \"zerolinewidth\": 2}}}, \"title\": {\"text\": \"Iris Data Feature Box Plots\"}, \"xaxis\": {\"anchor\": \"y\", \"domain\": [0.0, 0.45]}, \"xaxis2\": {\"anchor\": \"y2\", \"domain\": [0.55, 1.0]}, \"xaxis3\": {\"anchor\": \"y3\", \"domain\": [0.0, 0.45]}, \"xaxis4\": {\"anchor\": \"y4\", \"domain\": [0.55, 1.0]}, \"yaxis\": {\"anchor\": \"x\", \"domain\": [0.625, 1.0]}, \"yaxis2\": {\"anchor\": \"x2\", \"domain\": [0.625, 1.0]}, \"yaxis3\": {\"anchor\": \"x3\", \"domain\": [0.0, 0.375]}, \"yaxis4\": {\"anchor\": \"x4\", \"domain\": [0.0, 0.375]}},\n",
       "                        {\"responsive\": true}\n",
       "                    ).then(function(){\n",
       "                            \n",
       "var gd = document.getElementById('07553c16-f4bc-4d3d-b691-12e1b21fe975');\n",
       "var x = new MutationObserver(function (mutations, observer) {{\n",
       "        var display = window.getComputedStyle(gd).display;\n",
       "        if (!display || display === 'none') {{\n",
       "            console.log([gd, 'removed!']);\n",
       "            Plotly.purge(gd);\n",
       "            observer.disconnect();\n",
       "        }}\n",
       "}});\n",
       "\n",
       "// Listen for the removal of the full notebook cells\n",
       "var notebookContainer = gd.closest('#notebook-container');\n",
       "if (notebookContainer) {{\n",
       "    x.observe(notebookContainer, {childList: true});\n",
       "}}\n",
       "\n",
       "// Listen for the clearing of the current output cell\n",
       "var outputEl = gd.closest('.output');\n",
       "if (outputEl) {{\n",
       "    x.observe(outputEl, {childList: true});\n",
       "}}\n",
       "\n",
       "                        })\n",
       "                };\n",
       "                });\n",
       "            </script>\n",
       "        </div>"
      ]
     },
     "metadata": {},
     "output_type": "display_data"
    }
   ],
   "source": [
    "# show distribution of features by class\n",
    "fig = plysub.make_subplots(rows=2, cols=2, subplot_titles=features, print_grid=False)\n",
    "fig['layout'].update(title = 'Iris Data Feature Box Plots')\n",
    "\n",
    "cells = [(1,1),(1,2),(2,1),(2,2)]\n",
    "for i,feat in enumerate(features):\n",
    "    for var,col in zip(varieties,colors):\n",
    "        thisData = irisData.loc[irisData.Variety==var,feat]\n",
    "        trc = go.Box(y=thisData, name=var, showlegend=(i==0), legendgroup=var,\n",
    "             marker=dict(color=col), boxmean='sd', boxpoints='outliers')\n",
    "        fig.append_trace(trc,cells[i][0],cells[i][1])\n",
    "        \n",
    "plyoff.iplot(fig)"
   ]
  },
  {
   "cell_type": "markdown",
   "metadata": {},
   "source": [
    "<a id=featengine></a>\n",
    "### Feature Engineering\n",
    "<a href=#top>Go to top</a> - <a href=#bottom>Go to bottom</a>\n",
    "\n",
    "**Feature Engineering** is an important part of the data science process, in which new features are computed and added to the dataset, as functions of existing observed features. Examples include pairwise interactions, higher orders, or discretizations. There would be different reasons for engineering features such as these, depending on *domain knowledge* of the *data-generating process*.\n",
    "\n",
    "For example, if modeling oil volume produced from a well in a given month, features may include the $\\text{oil}$ and $\\text{water}$ produced in the previous month. While both these features are likely significant, a third - the $\\text{water cut}=\\frac{\\text{water}}{\\text{water}+\\text{oil}}$ - would also be a useful feature.\n",
    "\n",
    "In the case of Fisher's Iris data, I suspect that interactions between the four input features may be useful features."
   ]
  },
  {
   "cell_type": "code",
   "execution_count": 7,
   "metadata": {},
   "outputs": [
    {
     "data": {
      "text/html": [
       "<div>\n",
       "<style scoped>\n",
       "    .dataframe tbody tr th:only-of-type {\n",
       "        vertical-align: middle;\n",
       "    }\n",
       "\n",
       "    .dataframe tbody tr th {\n",
       "        vertical-align: top;\n",
       "    }\n",
       "\n",
       "    .dataframe thead th {\n",
       "        text-align: right;\n",
       "    }\n",
       "</style>\n",
       "<table border=\"1\" class=\"dataframe\">\n",
       "  <thead>\n",
       "    <tr style=\"text-align: right;\">\n",
       "      <th></th>\n",
       "      <th>Class</th>\n",
       "      <th>Variety</th>\n",
       "      <th>Color</th>\n",
       "      <th>sep_len</th>\n",
       "      <th>sep_wid</th>\n",
       "      <th>pet_len</th>\n",
       "      <th>pet_wid</th>\n",
       "      <th>sep_len_x_sep_wid</th>\n",
       "      <th>sep_len_x_pet_len</th>\n",
       "      <th>sep_len_x_pet_wid</th>\n",
       "      <th>sep_wid_x_pet_len</th>\n",
       "      <th>sep_wid_x_pet_wid</th>\n",
       "      <th>pet_len_x_pet_wid</th>\n",
       "    </tr>\n",
       "  </thead>\n",
       "  <tbody>\n",
       "    <tr>\n",
       "      <th>0</th>\n",
       "      <td>0</td>\n",
       "      <td>setosa</td>\n",
       "      <td>#1f77b4</td>\n",
       "      <td>5.1</td>\n",
       "      <td>3.5</td>\n",
       "      <td>1.4</td>\n",
       "      <td>0.2</td>\n",
       "      <td>17.85</td>\n",
       "      <td>7.14</td>\n",
       "      <td>1.02</td>\n",
       "      <td>4.90</td>\n",
       "      <td>0.70</td>\n",
       "      <td>0.28</td>\n",
       "    </tr>\n",
       "    <tr>\n",
       "      <th>1</th>\n",
       "      <td>0</td>\n",
       "      <td>setosa</td>\n",
       "      <td>#1f77b4</td>\n",
       "      <td>4.9</td>\n",
       "      <td>3.0</td>\n",
       "      <td>1.4</td>\n",
       "      <td>0.2</td>\n",
       "      <td>14.70</td>\n",
       "      <td>6.86</td>\n",
       "      <td>0.98</td>\n",
       "      <td>4.20</td>\n",
       "      <td>0.60</td>\n",
       "      <td>0.28</td>\n",
       "    </tr>\n",
       "    <tr>\n",
       "      <th>2</th>\n",
       "      <td>0</td>\n",
       "      <td>setosa</td>\n",
       "      <td>#1f77b4</td>\n",
       "      <td>4.7</td>\n",
       "      <td>3.2</td>\n",
       "      <td>1.3</td>\n",
       "      <td>0.2</td>\n",
       "      <td>15.04</td>\n",
       "      <td>6.11</td>\n",
       "      <td>0.94</td>\n",
       "      <td>4.16</td>\n",
       "      <td>0.64</td>\n",
       "      <td>0.26</td>\n",
       "    </tr>\n",
       "    <tr>\n",
       "      <th>3</th>\n",
       "      <td>0</td>\n",
       "      <td>setosa</td>\n",
       "      <td>#1f77b4</td>\n",
       "      <td>4.6</td>\n",
       "      <td>3.1</td>\n",
       "      <td>1.5</td>\n",
       "      <td>0.2</td>\n",
       "      <td>14.26</td>\n",
       "      <td>6.90</td>\n",
       "      <td>0.92</td>\n",
       "      <td>4.65</td>\n",
       "      <td>0.62</td>\n",
       "      <td>0.30</td>\n",
       "    </tr>\n",
       "    <tr>\n",
       "      <th>4</th>\n",
       "      <td>0</td>\n",
       "      <td>setosa</td>\n",
       "      <td>#1f77b4</td>\n",
       "      <td>5.0</td>\n",
       "      <td>3.6</td>\n",
       "      <td>1.4</td>\n",
       "      <td>0.2</td>\n",
       "      <td>18.00</td>\n",
       "      <td>7.00</td>\n",
       "      <td>1.00</td>\n",
       "      <td>5.04</td>\n",
       "      <td>0.72</td>\n",
       "      <td>0.28</td>\n",
       "    </tr>\n",
       "  </tbody>\n",
       "</table>\n",
       "</div>"
      ],
      "text/plain": [
       "   Class Variety    Color  sep_len  sep_wid  pet_len  pet_wid  \\\n",
       "0      0  setosa  #1f77b4      5.1      3.5      1.4      0.2   \n",
       "1      0  setosa  #1f77b4      4.9      3.0      1.4      0.2   \n",
       "2      0  setosa  #1f77b4      4.7      3.2      1.3      0.2   \n",
       "3      0  setosa  #1f77b4      4.6      3.1      1.5      0.2   \n",
       "4      0  setosa  #1f77b4      5.0      3.6      1.4      0.2   \n",
       "\n",
       "   sep_len_x_sep_wid  sep_len_x_pet_len  sep_len_x_pet_wid  sep_wid_x_pet_len  \\\n",
       "0              17.85               7.14               1.02               4.90   \n",
       "1              14.70               6.86               0.98               4.20   \n",
       "2              15.04               6.11               0.94               4.16   \n",
       "3              14.26               6.90               0.92               4.65   \n",
       "4              18.00               7.00               1.00               5.04   \n",
       "\n",
       "   sep_wid_x_pet_wid  pet_len_x_pet_wid  \n",
       "0               0.70               0.28  \n",
       "1               0.60               0.28  \n",
       "2               0.64               0.26  \n",
       "3               0.62               0.30  \n",
       "4               0.72               0.28  "
      ]
     },
     "metadata": {},
     "output_type": "display_data"
    }
   ],
   "source": [
    "# add all pairwise feature interactions and generate the hierarchy dependency map\n",
    "depends = np.zeros(shape=(p, int(comb(p,2))), dtype=float)\n",
    "for i, pair in enumerate(combinations(range(p),r=2)):\n",
    "    # create the pairwise interaction feature\n",
    "    cross = features[pair[0]]+'_x_'+features[pair[1]]\n",
    "    irisData[cross] = irisData[features[pair[0]]] * irisData[features[pair[1]]]\n",
    "    features.append(cross)\n",
    "    # update the dependency map\n",
    "    depends[pair[0],i] = 1\n",
    "    depends[pair[1],i] = 1    \n",
    "p = len(features) # update the number features\n",
    "display(irisData.head())"
   ]
  },
  {
   "cell_type": "markdown",
   "metadata": {},
   "source": [
    "<a id=logisticregression></a>\n",
    "### Model Fisher's Iris Data with Logistic Regression\n",
    "<a href=#top>Go to top</a> - <a href=#bottom>Go to bottom</a>\n",
    "\n",
    "In statistics, the **logistic model** is used to model the *probability* of a binary outcome $y_i$ (win vs. lose, or 1 vs. 0). The model assumes that the *log odds* for the binary outcome can be modeled as a linear combination of features in the data:\n",
    "\n",
    "$\\text{log_odds}_i(y_i=1)=\\frac{P\\left(y_i=1\\right)}{1-P\\left(y_i=1\\right)} = b_0+\\sum_{i=1}^pb_ix_i^j,\\ j=1,\\ldots,p$.\n",
    "\n",
    "The **logistic function** (or *logit*) is then used to convert the *log odds* for the binary outcome to the *probability* of the binary class:\n",
    "\n",
    "$P\\left(y_i=1\\right) = \\left(1+e^{-\\text{log_odds}_i}\\right)^{-1}$.\n",
    "\n",
    "A **decision function** is then used to predict, conditional upon the feature values used to compute the *log odds*, the binary outcome:\n",
    "\n",
    "$\\hat{y}_i=\\begin{cases}1 & P\\left(y_i=1\\right)>P_{thresh}\\\\\n",
    "0&P\\left(y_i=1\\right)<=P_{thresh}\\end{cases}$.\n",
    "\n",
    "An optimization algorithm, such as *maximum likelihood* or *gradient descent* is used to optimally estimate the linear coefficients $b_i$, and the decision threshold $P_{thresh}$ can be also be optimized. These parameters are generally optimized to minimize a cost function such as:\n",
    "\n",
    "$\\text{cost}_i=\\sum_{i=1}^n-y_i\\times\\log{\\hat{y}_i} + \\left(1-y_i\\right)\\times\\log{\\left(1-\\hat{y}_i\\right)}$.\n",
    "\n",
    "Logistic regression can be extended to model multinary classes (animal, vegetable, mineral) in multiple ways. If **multinomial logistic regression** is used, the cost function is modified to account for the losses accross all classes. The other common modification is to use **one-vs-rest** logistic regression (OVR), in which a binary logistic model is estimated for each class against all the others (hence the name). For example:\n",
    "- animal vs. vegetable+mineral\n",
    "- vegetable vs. animal+mineral\n",
    "- mineral vs. animal+vegatable\n",
    "\n",
    "When predicting the class for an observation with the OVR method, the predicted probabilities are computed for each class, then normalized to sum to 1. Whichever class is asscociated with the highest normalized probability is the predicted class for that observation."
   ]
  },
  {
   "cell_type": "code",
   "execution_count": 8,
   "metadata": {},
   "outputs": [],
   "source": [
    "''' fit the model and use it for prediction on the entire dataset '''\n",
    "# prep the data\n",
    "data = irisData[features].values\n",
    "labl = irisData.Class.values\n",
    "# fit & predict\n",
    "LR = LogisticRegression(multi_class='ovr', max_iter=500, n_jobs=-1, random_state=42)\n",
    "LR.fit(X=data, y=labl)\n",
    "pred = LR.predict(X=data)\n",
    "# add prediction to the dataframe\n",
    "irisData['LRPred'] = pred"
   ]
  },
  {
   "cell_type": "code",
   "execution_count": 9,
   "metadata": {},
   "outputs": [
    {
     "name": "stdout",
     "output_type": "stream",
     "text": [
      "Linear models for predicting the log odds for each class against all the others\n",
      "++++++++++++++++++++++++++++++++++++++++++\n"
     ]
    },
    {
     "data": {
      "text/latex": [
       "$\\displaystyle \\begin{align}setosa =& 7.31 + -0.01\\times sep\\_len + 0.07\\times sep\\_wid + -0.13\\times pet\\_len + -0.06\\times pet\\_wid + 0.35\\times sep\\_len\\_x\\_sep\\_wid + -0.67\\times sep\\_len\\_x\\_pet\\_len + -0.31\\times sep\\_len\\_x\\_pet\\_wid + -0.20\\times sep\\_wid\\_x\\_pet\\_len + -0.13\\times sep\\_wid\\_x\\_pet\\_wid + -0.23\\times pet\\_len\\_x\\_pet\\_wid\\\\versicolor =& 0.24 + 0.77\\times sep\\_len + -0.54\\times sep\\_wid + 0.84\\times pet\\_len + 0.52\\times pet\\_wid + -0.90\\times sep\\_len\\_x\\_sep\\_wid + 0.05\\times sep\\_len\\_x\\_pet\\_len + 1.20\\times sep\\_len\\_x\\_pet\\_wid + 1.19\\times sep\\_wid\\_x\\_pet\\_len + 1.20\\times sep\\_wid\\_x\\_pet\\_wid + -3.56\\times pet\\_len\\_x\\_pet\\_wid\\\\virginica =& -12.45 + -0.33\\times sep\\_len + -0.05\\times sep\\_wid + 0.27\\times pet\\_len + 0.17\\times pet\\_wid + -1.08\\times sep\\_len\\_x\\_sep\\_wid + 0.28\\times sep\\_len\\_x\\_pet\\_len + 0.50\\times sep\\_len\\_x\\_pet\\_wid + 0.49\\times sep\\_wid\\_x\\_pet\\_len + 0.37\\times sep\\_wid\\_x\\_pet\\_wid + 1.22\\times pet\\_len\\_x\\_pet\\_wid\\end{align}$"
      ],
      "text/plain": [
       "<IPython.core.display.Math object>"
      ]
     },
     "metadata": {},
     "output_type": "display_data"
    }
   ],
   "source": [
    "# display the actual model(s) generated\n",
    "modls = ['']*k\n",
    "for var in range(k):\n",
    "    modls[var] = '%s =& %0.2f + '%(varieties[var], LR.intercept_[var]) + ' + '.join(['%0.2f\\\\times %s'%(coef,feat.replace('_','\\\\_')) for feat,coef in zip(features,LR.coef_[var,:])])\n",
    "print('Linear models for predicting the log odds for each class against all the others\\n%s'%mysep)\n",
    "display(Math(r'{}'.format('\\\\begin{align}'+'\\\\\\\\'.join(modls) + '\\\\end{align}')))        "
   ]
  },
  {
   "cell_type": "code",
   "execution_count": 10,
   "metadata": {},
   "outputs": [
    {
     "name": "stdout",
     "output_type": "stream",
     "text": [
      "Logistic Regression Results\n",
      "++++++++++++++++++++++++++++++++++++++++++\n",
      "Correct Classification Rate: 98.00%\n",
      "Confusion Matrix\n"
     ]
    },
    {
     "data": {
      "text/html": [
       "<div>\n",
       "<style scoped>\n",
       "    .dataframe tbody tr th:only-of-type {\n",
       "        vertical-align: middle;\n",
       "    }\n",
       "\n",
       "    .dataframe tbody tr th {\n",
       "        vertical-align: top;\n",
       "    }\n",
       "\n",
       "    .dataframe thead th {\n",
       "        text-align: right;\n",
       "    }\n",
       "</style>\n",
       "<table border=\"1\" class=\"dataframe\">\n",
       "  <thead>\n",
       "    <tr style=\"text-align: right;\">\n",
       "      <th></th>\n",
       "      <th>setosa</th>\n",
       "      <th>versicolor</th>\n",
       "      <th>virginica</th>\n",
       "    </tr>\n",
       "  </thead>\n",
       "  <tbody>\n",
       "    <tr>\n",
       "      <th>setosa</th>\n",
       "      <td>50</td>\n",
       "      <td>0</td>\n",
       "      <td>0</td>\n",
       "    </tr>\n",
       "    <tr>\n",
       "      <th>versicolor</th>\n",
       "      <td>0</td>\n",
       "      <td>48</td>\n",
       "      <td>2</td>\n",
       "    </tr>\n",
       "    <tr>\n",
       "      <th>virginica</th>\n",
       "      <td>0</td>\n",
       "      <td>1</td>\n",
       "      <td>49</td>\n",
       "    </tr>\n",
       "  </tbody>\n",
       "</table>\n",
       "</div>"
      ],
      "text/plain": [
       "            setosa  versicolor  virginica\n",
       "setosa          50           0          0\n",
       "versicolor       0          48          2\n",
       "virginica        0           1         49"
      ]
     },
     "metadata": {},
     "output_type": "display_data"
    },
    {
     "name": "stdout",
     "output_type": "stream",
     "text": [
      "Prediction Errors\n"
     ]
    },
    {
     "data": {
      "text/html": [
       "<div>\n",
       "<style scoped>\n",
       "    .dataframe tbody tr th:only-of-type {\n",
       "        vertical-align: middle;\n",
       "    }\n",
       "\n",
       "    .dataframe tbody tr th {\n",
       "        vertical-align: top;\n",
       "    }\n",
       "\n",
       "    .dataframe thead th {\n",
       "        text-align: right;\n",
       "    }\n",
       "</style>\n",
       "<table border=\"1\" class=\"dataframe\">\n",
       "  <thead>\n",
       "    <tr style=\"text-align: right;\">\n",
       "      <th></th>\n",
       "      <th>Class</th>\n",
       "      <th>Variety</th>\n",
       "      <th>Color</th>\n",
       "      <th>sep_len</th>\n",
       "      <th>sep_wid</th>\n",
       "      <th>pet_len</th>\n",
       "      <th>pet_wid</th>\n",
       "      <th>sep_len_x_sep_wid</th>\n",
       "      <th>sep_len_x_pet_len</th>\n",
       "      <th>sep_len_x_pet_wid</th>\n",
       "      <th>sep_wid_x_pet_len</th>\n",
       "      <th>sep_wid_x_pet_wid</th>\n",
       "      <th>pet_len_x_pet_wid</th>\n",
       "      <th>LRPred</th>\n",
       "    </tr>\n",
       "  </thead>\n",
       "  <tbody>\n",
       "    <tr>\n",
       "      <th>70</th>\n",
       "      <td>1</td>\n",
       "      <td>versicolor</td>\n",
       "      <td>#ff7f0e</td>\n",
       "      <td>5.9</td>\n",
       "      <td>3.2</td>\n",
       "      <td>4.8</td>\n",
       "      <td>1.8</td>\n",
       "      <td>18.88</td>\n",
       "      <td>28.32</td>\n",
       "      <td>10.62</td>\n",
       "      <td>15.36</td>\n",
       "      <td>5.76</td>\n",
       "      <td>8.64</td>\n",
       "      <td>2</td>\n",
       "    </tr>\n",
       "    <tr>\n",
       "      <th>83</th>\n",
       "      <td>1</td>\n",
       "      <td>versicolor</td>\n",
       "      <td>#ff7f0e</td>\n",
       "      <td>6.0</td>\n",
       "      <td>2.7</td>\n",
       "      <td>5.1</td>\n",
       "      <td>1.6</td>\n",
       "      <td>16.20</td>\n",
       "      <td>30.60</td>\n",
       "      <td>9.60</td>\n",
       "      <td>13.77</td>\n",
       "      <td>4.32</td>\n",
       "      <td>8.16</td>\n",
       "      <td>2</td>\n",
       "    </tr>\n",
       "    <tr>\n",
       "      <th>133</th>\n",
       "      <td>2</td>\n",
       "      <td>virginica</td>\n",
       "      <td>#2ca02c</td>\n",
       "      <td>6.3</td>\n",
       "      <td>2.8</td>\n",
       "      <td>5.1</td>\n",
       "      <td>1.5</td>\n",
       "      <td>17.64</td>\n",
       "      <td>32.13</td>\n",
       "      <td>9.45</td>\n",
       "      <td>14.28</td>\n",
       "      <td>4.20</td>\n",
       "      <td>7.65</td>\n",
       "      <td>1</td>\n",
       "    </tr>\n",
       "  </tbody>\n",
       "</table>\n",
       "</div>"
      ],
      "text/plain": [
       "     Class     Variety    Color  sep_len  sep_wid  pet_len  pet_wid  \\\n",
       "70       1  versicolor  #ff7f0e      5.9      3.2      4.8      1.8   \n",
       "83       1  versicolor  #ff7f0e      6.0      2.7      5.1      1.6   \n",
       "133      2   virginica  #2ca02c      6.3      2.8      5.1      1.5   \n",
       "\n",
       "     sep_len_x_sep_wid  sep_len_x_pet_len  sep_len_x_pet_wid  \\\n",
       "70               18.88              28.32              10.62   \n",
       "83               16.20              30.60               9.60   \n",
       "133              17.64              32.13               9.45   \n",
       "\n",
       "     sep_wid_x_pet_len  sep_wid_x_pet_wid  pet_len_x_pet_wid  LRPred  \n",
       "70               15.36               5.76               8.64       2  \n",
       "83               13.77               4.32               8.16       2  \n",
       "133              14.28               4.20               7.65       1  "
      ]
     },
     "metadata": {},
     "output_type": "display_data"
    }
   ],
   "source": [
    "''' evaluate the model '''\n",
    "# overall correct classification rate\n",
    "classRate = LR.score(X=data, y=labl)\n",
    "print('Logistic Regression Results\\n%s\\nCorrect Classification Rate: %0.2f%%'%(mysep,100*classRate))\n",
    "# confusion matrix\n",
    "confMat = myConfusionMatrix(labl, pred, range(k), varieties)\n",
    "print('Confusion Matrix')\n",
    "display(confMat)\n",
    "print('Prediction Errors')\n",
    "display(irisData[irisData.Class != irisData.LRPred])"
   ]
  },
  {
   "cell_type": "code",
   "execution_count": 11,
   "metadata": {},
   "outputs": [
    {
     "name": "stdout",
     "output_type": "stream",
     "text": [
      "Predicting observation 42\n",
      "     setosa: log odds=7.15, probability(norm)=1.00(0.97)_P_A\n",
      " versicolor: log odds=-3.37, probability(norm)=0.03(0.03)\n",
      "  virginica: log odds=-24.26, probability(norm)=0.00(0.00)\n",
      "++++++++++++++++++++++++++++++++++++++++++\n",
      "Actual variety = setosa, Predicted variety = setosa\n",
      "Prediction was correct!\n"
     ]
    }
   ],
   "source": [
    "''' demonstrate the computations for a few observations'''\n",
    "obsDemo = 42 # 42 should be correct, 70 should not\n",
    "\n",
    "# compute class probabilities\n",
    "probs = np.squeeze(LR.predict_proba(X=np.atleast_2d(irisData.loc[obsDemo,features].values)))\n",
    "logOdds = [0]*k\n",
    "rawProbs = [0]*k\n",
    "strs = ['']*k\n",
    "for var in range(k):\n",
    "    coef = LR.coef_[var,:]\n",
    "    # compute\n",
    "    logOdds[var] = LR.intercept_[var] + np.sum(irisData.loc[obsDemo,features]*coef)\n",
    "    rawProbs[var] = 1/(1+math.exp(-logOdds[var]))\n",
    "    # pepare to talk\n",
    "    strs[var] = ' %10s: log odds=%0.2f, probability(norm)=%0.2f(%0.2f)'%(varieties[var],logOdds[var],rawProbs[var],probs[var])\n",
    "# choose the maximum prob as the prediction\n",
    "mx = np.argmax(probs)\n",
    "strs[mx] = strs[mx] + '_P'\n",
    "strs[irisData.loc[obsDemo,'Class']] = strs[irisData.loc[obsDemo,'Class']] + '_A'\n",
    "\n",
    "# share results\n",
    "print('Predicting observation %d'%obsDemo)\n",
    "print('\\n'.join(strs))\n",
    "print('%s\\nActual variety = %s, Predicted variety = %s'%(mysep,irisData.loc[obsDemo,'Variety'], varieties[mx]))\n",
    "print('Prediction was%s correct!'%([' not',''][int(mx==irisData.loc[obsDemo,'Class'])]))"
   ]
  },
  {
   "cell_type": "code",
   "execution_count": 12,
   "metadata": {},
   "outputs": [
    {
     "data": {
      "application/vnd.plotly.v1+json": {
       "config": {
        "linkText": "Export to plot.ly",
        "plotlyServerURL": "https://plot.ly",
        "showLink": false
       },
       "data": [
        {
         "mode": "markers",
         "name": "Log Odds",
         "type": "scatter",
         "x": [
          1.4,
          1.4,
          1.3,
          1.5,
          1.4,
          1.7,
          1.4,
          1.5,
          1.4,
          1.5,
          1.5,
          1.6,
          1.4,
          1.1,
          1.2,
          1.5,
          1.3,
          1.4,
          1.7,
          1.5,
          1.7,
          1.5,
          1,
          1.7,
          1.9,
          1.6,
          1.6,
          1.5,
          1.4,
          1.6,
          1.6,
          1.5,
          1.5,
          1.4,
          1.5,
          1.2,
          1.3,
          1.4,
          1.3,
          1.5,
          1.3,
          1.3,
          1.3,
          1.6,
          1.9,
          1.4,
          1.6,
          1.4,
          1.5,
          1.4,
          4.7,
          4.5,
          4.9,
          4,
          4.6,
          4.5,
          4.7,
          3.3,
          4.6,
          3.9,
          3.5,
          4.2,
          4,
          4.7,
          3.6,
          4.4,
          4.5,
          4.1,
          4.5,
          3.9,
          4.8,
          4,
          4.9,
          4.7,
          4.3,
          4.4,
          4.8,
          5,
          4.5,
          3.5,
          3.8,
          3.7,
          3.9,
          5.1,
          4.5,
          4.5,
          4.7,
          4.4,
          4.1,
          4,
          4.4,
          4.6,
          4,
          3.3,
          4.2,
          4.2,
          4.2,
          4.3,
          3,
          4.1,
          6,
          5.1,
          5.9,
          5.6,
          5.8,
          6.6,
          4.5,
          6.3,
          5.8,
          6.1,
          5.1,
          5.3,
          5.5,
          5,
          5.1,
          5.3,
          5.5,
          6.7,
          6.9,
          5,
          5.7,
          4.9,
          6.7,
          4.9,
          5.7,
          6,
          4.8,
          4.9,
          5.6,
          5.8,
          6.1,
          6.4,
          5.6,
          5.1,
          5.6,
          6.1,
          5.6,
          5.5,
          4.8,
          5.4,
          5.6,
          5.1,
          5.1,
          5.9,
          5.7,
          5.2,
          5,
          5.2,
          5.4,
          5.1
         ],
         "xaxis": "x",
         "y": [
          3.835119661741178,
          3.835119661741178,
          4.127044602099026,
          3.5431947213833297,
          3.835119661741178,
          2.959344840667632,
          3.835119661741178,
          3.5431947213833297,
          3.835119661741178,
          3.5431947213833297,
          3.5431947213833297,
          3.2512697810254805,
          3.835119661741178,
          4.710894482814723,
          4.418969542456875,
          3.5431947213833297,
          4.127044602099026,
          3.835119661741178,
          2.959344840667632,
          3.5431947213833297,
          2.959344840667632,
          3.5431947213833297,
          5.002819423172572,
          2.959344840667632,
          2.3754949599519355,
          3.2512697810254805,
          3.2512697810254805,
          3.5431947213833297,
          3.835119661741178,
          3.2512697810254805,
          3.2512697810254805,
          3.5431947213833297,
          3.5431947213833297,
          3.835119661741178,
          3.5431947213833297,
          4.418969542456875,
          4.127044602099026,
          3.835119661741178,
          4.127044602099026,
          3.5431947213833297,
          4.127044602099026,
          4.127044602099026,
          4.127044602099026,
          3.2512697810254805,
          2.3754949599519355,
          3.835119661741178,
          3.2512697810254805,
          3.835119661741178,
          3.5431947213833297,
          3.835119661741178,
          -5.798403370067826,
          -5.214553489352129,
          -6.382253250783524,
          -3.7549287875628856,
          -5.506478429709976,
          -5.214553489352129,
          -5.798403370067826,
          -1.7114542050579455,
          -5.506478429709976,
          -3.4630038472050373,
          -2.295304085773642,
          -4.338778668278584,
          -3.7549287875628856,
          -5.798403370067826,
          -2.5872290261314923,
          -4.922628548994281,
          -5.214553489352129,
          -4.046853727920734,
          -5.214553489352129,
          -3.4630038472050373,
          -6.090328310425674,
          -3.7549287875628856,
          -6.382253250783524,
          -5.798403370067826,
          -4.630703608636431,
          -4.922628548994281,
          -6.090328310425674,
          -6.6741781911413725,
          -5.214553489352129,
          -2.295304085773642,
          -3.171078906847187,
          -2.8791539664893406,
          -3.4630038472050373,
          -6.966103131499219,
          -5.214553489352129,
          -5.214553489352129,
          -5.798403370067826,
          -4.922628548994281,
          -4.046853727920734,
          -3.7549287875628856,
          -4.922628548994281,
          -5.506478429709976,
          -3.7549287875628856,
          -1.7114542050579455,
          -4.338778668278584,
          -4.338778668278584,
          -4.338778668278584,
          -4.630703608636431,
          -0.8356793839843988,
          -4.046853727920734,
          -9.593427594719856,
          -6.966103131499219,
          -9.301502654362011,
          -8.425727833288462,
          -9.009577714004159,
          -11.34497723686695,
          -5.214553489352129,
          -10.469202415793404,
          -9.009577714004159,
          -9.885352535077704,
          -6.966103131499219,
          -7.549953012214917,
          -8.133802892930614,
          -6.6741781911413725,
          -6.966103131499219,
          -7.549953012214917,
          -8.133802892930614,
          -11.636902177224798,
          -12.220752057940494,
          -6.6741781911413725,
          -8.71765277364631,
          -6.382253250783524,
          -11.636902177224798,
          -6.382253250783524,
          -8.71765277364631,
          -9.593427594719856,
          -6.090328310425674,
          -6.382253250783524,
          -8.425727833288462,
          -9.009577714004159,
          -9.885352535077704,
          -10.761127356151253,
          -8.425727833288462,
          -6.966103131499219,
          -8.425727833288462,
          -9.885352535077704,
          -8.425727833288462,
          -8.133802892930614,
          -6.090328310425674,
          -7.8418779525727675,
          -8.425727833288462,
          -6.966103131499219,
          -6.966103131499219,
          -9.301502654362011,
          -8.71765277364631,
          -7.258028071857069,
          -6.6741781911413725,
          -7.258028071857069,
          -7.8418779525727675,
          -6.966103131499219
         ],
         "yaxis": "y"
        },
        {
         "legendgroup": "Fit Line",
         "line": {
          "color": "black",
          "width": 1
         },
         "mode": "lines",
         "name": "Fit Line",
         "type": "scatter",
         "x": [
          0,
          0.0696969696969697,
          0.1393939393939394,
          0.2090909090909091,
          0.2787878787878788,
          0.3484848484848485,
          0.4181818181818182,
          0.4878787878787879,
          0.5575757575757576,
          0.6272727272727273,
          0.696969696969697,
          0.7666666666666667,
          0.8363636363636364,
          0.9060606060606061,
          0.9757575757575758,
          1.0454545454545454,
          1.1151515151515152,
          1.184848484848485,
          1.2545454545454546,
          1.3242424242424242,
          1.393939393939394,
          1.4636363636363638,
          1.5333333333333334,
          1.603030303030303,
          1.6727272727272728,
          1.7424242424242427,
          1.8121212121212122,
          1.8818181818181818,
          1.9515151515151516,
          2.0212121212121215,
          2.090909090909091,
          2.1606060606060606,
          2.2303030303030305,
          2.3000000000000003,
          2.36969696969697,
          2.4393939393939394,
          2.5090909090909093,
          2.578787878787879,
          2.6484848484848484,
          2.7181818181818183,
          2.787878787878788,
          2.857575757575758,
          2.9272727272727277,
          2.996969696969697,
          3.066666666666667,
          3.1363636363636367,
          3.206060606060606,
          3.275757575757576,
          3.3454545454545457,
          3.4151515151515155,
          3.4848484848484853,
          3.5545454545454547,
          3.6242424242424245,
          3.6939393939393943,
          3.7636363636363637,
          3.8333333333333335,
          3.9030303030303033,
          3.972727272727273,
          4.042424242424243,
          4.112121212121212,
          4.181818181818182,
          4.251515151515152,
          4.321212121212121,
          4.3909090909090915,
          4.460606060606061,
          4.53030303030303,
          4.6000000000000005,
          4.66969696969697,
          4.73939393939394,
          4.8090909090909095,
          4.878787878787879,
          4.948484848484849,
          5.0181818181818185,
          5.087878787878788,
          5.157575757575758,
          5.2272727272727275,
          5.296969696969697,
          5.366666666666667,
          5.4363636363636365,
          5.506060606060607,
          5.575757575757576,
          5.6454545454545455,
          5.715151515151516,
          5.784848484848485,
          5.854545454545455,
          5.924242424242425,
          5.993939393939394,
          6.063636363636364,
          6.133333333333334,
          6.203030303030303,
          6.272727272727273,
          6.342424242424243,
          6.412121212121212,
          6.481818181818182,
          6.551515151515152,
          6.621212121212122,
          6.690909090909091,
          6.760606060606061,
          6.830303030303031,
          6.9
         ],
         "xaxis": "x",
         "y": [
          7.922068826751058,
          7.718605989531952,
          7.515143152312845,
          7.311680315093739,
          7.108217477874632,
          6.904754640655526,
          6.701291803436419,
          6.497828966217312,
          6.294366128998205,
          6.090903291779099,
          5.887440454559992,
          5.683977617340886,
          5.480514780121779,
          5.277051942902672,
          5.073589105683565,
          4.8701262684644595,
          4.666663431245352,
          4.463200594026246,
          4.259737756807139,
          4.0562749195880325,
          3.852812082368926,
          3.6493492451498186,
          3.445886407930713,
          3.2424235707116065,
          3.0389607334925,
          2.8354978962733925,
          2.632035059054286,
          2.4285722218351804,
          2.225109384616073,
          2.0216465473969665,
          1.8181837101778608,
          1.6147208729587534,
          1.411258035739647,
          1.2077951985205395,
          1.004332361301433,
          0.8008695240823274,
          0.59740668686322,
          0.39394384964411344,
          0.1904810124250078,
          -0.012981824794099595,
          -0.2164446620132061,
          -0.41990749923231263,
          -0.6233703364514209,
          -0.8268331736705257,
          -1.0302960108896322,
          -1.2337588481087405,
          -1.4372216853278452,
          -1.6406845225469517,
          -1.8441473597660583,
          -2.0476101969851666,
          -2.251073034204273,
          -2.454535871423378,
          -2.657998708642486,
          -2.8614615458615926,
          -3.0649243830806974,
          -3.2683872202998057,
          -3.471850057518912,
          -3.6753128947380187,
          -3.878775731957125,
          -4.082238569176232,
          -4.2857014063953365,
          -4.489164243614445,
          -4.692627080833551,
          -4.89608991805266,
          -5.099552755271764,
          -5.303015592490871,
          -5.506478429709979,
          -5.709941266929084,
          -5.913404104148192,
          -6.116866941367299,
          -6.320329778586403,
          -6.523792615805512,
          -6.727255453024618,
          -6.930718290243723,
          -7.134181127462831,
          -7.337643964681938,
          -7.5411068019010425,
          -7.744569639120151,
          -7.948032476339257,
          -8.151495313558364,
          -8.35495815077747,
          -8.558420987996577,
          -8.761883825215683,
          -8.96534666243479,
          -9.1688094996539,
          -9.372272336873003,
          -9.57573517409211,
          -9.77919801131122,
          -9.982660848530323,
          -10.186123685749429,
          -10.38958652296854,
          -10.593049360187642,
          -10.796512197406749,
          -10.999975034625855,
          -11.203437871844962,
          -11.406900709064072,
          -11.610363546283175,
          -11.813826383502281,
          -12.017289220721391,
          -12.220752057940494
         ],
         "yaxis": "y"
        },
        {
         "mode": "markers",
         "name": "Probability",
         "type": "scatter",
         "x": [
          1.4,
          1.4,
          1.3,
          1.5,
          1.4,
          1.7,
          1.4,
          1.5,
          1.4,
          1.5,
          1.5,
          1.6,
          1.4,
          1.1,
          1.2,
          1.5,
          1.3,
          1.4,
          1.7,
          1.5,
          1.7,
          1.5,
          1,
          1.7,
          1.9,
          1.6,
          1.6,
          1.5,
          1.4,
          1.6,
          1.6,
          1.5,
          1.5,
          1.4,
          1.5,
          1.2,
          1.3,
          1.4,
          1.3,
          1.5,
          1.3,
          1.3,
          1.3,
          1.6,
          1.9,
          1.4,
          1.6,
          1.4,
          1.5,
          1.4,
          4.7,
          4.5,
          4.9,
          4,
          4.6,
          4.5,
          4.7,
          3.3,
          4.6,
          3.9,
          3.5,
          4.2,
          4,
          4.7,
          3.6,
          4.4,
          4.5,
          4.1,
          4.5,
          3.9,
          4.8,
          4,
          4.9,
          4.7,
          4.3,
          4.4,
          4.8,
          5,
          4.5,
          3.5,
          3.8,
          3.7,
          3.9,
          5.1,
          4.5,
          4.5,
          4.7,
          4.4,
          4.1,
          4,
          4.4,
          4.6,
          4,
          3.3,
          4.2,
          4.2,
          4.2,
          4.3,
          3,
          4.1,
          6,
          5.1,
          5.9,
          5.6,
          5.8,
          6.6,
          4.5,
          6.3,
          5.8,
          6.1,
          5.1,
          5.3,
          5.5,
          5,
          5.1,
          5.3,
          5.5,
          6.7,
          6.9,
          5,
          5.7,
          4.9,
          6.7,
          4.9,
          5.7,
          6,
          4.8,
          4.9,
          5.6,
          5.8,
          6.1,
          6.4,
          5.6,
          5.1,
          5.6,
          6.1,
          5.6,
          5.5,
          4.8,
          5.4,
          5.6,
          5.1,
          5.1,
          5.9,
          5.7,
          5.2,
          5,
          5.2,
          5.4,
          5.1
         ],
         "xaxis": "x2",
         "y": [
          0.8232029367275316,
          0.8232029367275316,
          0.8268690984197715,
          0.8192288280382358,
          0.8232029367275316,
          0.8099290538177455,
          0.8232029367275316,
          0.8192288280382358,
          0.8232029367275316,
          0.8192288280382358,
          0.8192288280382358,
          0.8148481733832935,
          0.8232029367275316,
          0.8335521685477002,
          0.8303006979489002,
          0.8192288280382358,
          0.8268690984197715,
          0.8232029367275316,
          0.8099290538177455,
          0.8192288280382358,
          0.8099290538177455,
          0.8192288280382358,
          0.8366637701942077,
          0.8099290538177455,
          0.797716842492051,
          0.8148481733832935,
          0.8148481733832935,
          0.8192288280382358,
          0.8232029367275316,
          0.8148481733832935,
          0.8148481733832935,
          0.8192288280382358,
          0.8192288280382358,
          0.8232029367275316,
          0.8192288280382358,
          0.8303006979489002,
          0.8268690984197715,
          0.8232029367275316,
          0.8268690984197715,
          0.8192288280382358,
          0.8268690984197715,
          0.8268690984197715,
          0.8268690984197715,
          0.8148481733832935,
          0.797716842492051,
          0.8232029367275316,
          0.8148481733832935,
          0.8232029367275316,
          0.8192288280382358,
          0.8232029367275316,
          0.004140549567368607,
          0.009331544294820858,
          0.0018447279338578602,
          0.05667211381978139,
          0.006232289906586884,
          0.009331544294820858,
          0.004140549567368607,
          0.3344942977060205,
          0.006232289906586884,
          0.0772556320202429,
          0.22307252066955058,
          0.028968242903271848,
          0.05667211381978139,
          0.004140549567368607,
          0.1761569866113719,
          0.013822685203761922,
          0.009331544294820858,
          0.04086991672672155,
          0.009331544294820858,
          0.0772556320202429,
          0.0027538642879470937,
          0.05667211381978139,
          0.0018447279338578602,
          0.004140549567368607,
          0.02017832639615419,
          0.013822685203761922,
          0.0027538642879470937,
          0.0012503974242464495,
          0.009331544294820858,
          0.22307252066955058,
          0.10353149380339093,
          0.13631885878704536,
          0.0772556320202429,
          0.0008598443563977744,
          0.009331544294820858,
          0.009331544294820858,
          0.004140549567368607,
          0.013822685203761922,
          0.04086991672672155,
          0.05667211381978139,
          0.013822685203761922,
          0.006232289906586884,
          0.05667211381978139,
          0.3344942977060205,
          0.028968242903271848,
          0.028968242903271848,
          0.028968242903271848,
          0.02017832639615419,
          0.5136623028749018,
          0.04086991672672155,
          4.7251126210729346e-05,
          0.0008598443563977744,
          6.386848952824401e-05,
          0.00016039131083032355,
          8.651728196821134e-05,
          7.907686322900187e-06,
          0.009331544294820858,
          1.9278734292097206e-05,
          8.651728196821134e-05,
          3.501120566280164e-05,
          0.0008598443563977744,
          0.00042480082949744,
          0.0002200868269557555,
          0.0012503974242464495,
          0.0008598443563977744,
          0.00042480082949744,
          0.0002200868269557555,
          5.878418681707966e-06,
          3.2497791314704857e-06,
          0.0012503974242464495,
          0.00011755309510123909,
          0.0018447279338578602,
          5.878418681707966e-06,
          0.0018447279338578602,
          0.00011755309510123909,
          4.7251126210729346e-05,
          0.0027538642879470937,
          0.0018447279338578602,
          0.00016039131083032355,
          8.651728196821134e-05,
          3.501120566280164e-05,
          1.4319162550787298e-05,
          0.00016039131083032355,
          0.0008598443563977744,
          0.00016039131083032355,
          3.501120566280164e-05,
          0.00016039131083032355,
          0.0002200868269557555,
          0.0027538642879470937,
          0.0003042863734646286,
          0.00016039131083032355,
          0.0008598443563977744,
          0.0008598443563977744,
          6.386848952824401e-05,
          0.00011755309510123909,
          0.0006001815133974514,
          0.0012503974242464495,
          0.0006001815133974514,
          0.0003042863734646286,
          0.0008598443563977744
         ],
         "yaxis": "y2"
        },
        {
         "legendgroup": "Fit Line",
         "line": {
          "color": "black",
          "width": 1
         },
         "mode": "lines",
         "name": "Fit Line",
         "showlegend": false,
         "type": "scatter",
         "x": [
          0,
          0.0696969696969697,
          0.1393939393939394,
          0.2090909090909091,
          0.2787878787878788,
          0.3484848484848485,
          0.4181818181818182,
          0.4878787878787879,
          0.5575757575757576,
          0.6272727272727273,
          0.696969696969697,
          0.7666666666666667,
          0.8363636363636364,
          0.9060606060606061,
          0.9757575757575758,
          1.0454545454545454,
          1.1151515151515152,
          1.184848484848485,
          1.2545454545454546,
          1.3242424242424242,
          1.393939393939394,
          1.4636363636363638,
          1.5333333333333334,
          1.603030303030303,
          1.6727272727272728,
          1.7424242424242427,
          1.8121212121212122,
          1.8818181818181818,
          1.9515151515151516,
          2.0212121212121215,
          2.090909090909091,
          2.1606060606060606,
          2.2303030303030305,
          2.3000000000000003,
          2.36969696969697,
          2.4393939393939394,
          2.5090909090909093,
          2.578787878787879,
          2.6484848484848484,
          2.7181818181818183,
          2.787878787878788,
          2.857575757575758,
          2.9272727272727277,
          2.996969696969697,
          3.066666666666667,
          3.1363636363636367,
          3.206060606060606,
          3.275757575757576,
          3.3454545454545457,
          3.4151515151515155,
          3.4848484848484853,
          3.5545454545454547,
          3.6242424242424245,
          3.6939393939393943,
          3.7636363636363637,
          3.8333333333333335,
          3.9030303030303033,
          3.972727272727273,
          4.042424242424243,
          4.112121212121212,
          4.181818181818182,
          4.251515151515152,
          4.321212121212121,
          4.3909090909090915,
          4.460606060606061,
          4.53030303030303,
          4.6000000000000005,
          4.66969696969697,
          4.73939393939394,
          4.8090909090909095,
          4.878787878787879,
          4.948484848484849,
          5.0181818181818185,
          5.087878787878788,
          5.157575757575758,
          5.2272727272727275,
          5.296969696969697,
          5.366666666666667,
          5.4363636363636365,
          5.506060606060607,
          5.575757575757576,
          5.6454545454545455,
          5.715151515151516,
          5.784848484848485,
          5.854545454545455,
          5.924242424242425,
          5.993939393939394,
          6.063636363636364,
          6.133333333333334,
          6.203030303030303,
          6.272727272727273,
          6.342424242424243,
          6.412121212121212,
          6.481818181818182,
          6.551515151515152,
          6.621212121212122,
          6.690909090909091,
          6.760606060606061,
          6.830303030303031,
          6.9
         ],
         "xaxis": "x2",
         "y": [
          0.8639564847721756,
          0.8621941721990098,
          0.8604155109527716,
          0.858620034766036,
          0.8568071465415382,
          0.8549760860246142,
          0.8531258898578506,
          0.8512553422393564,
          0.8493629139961,
          0.8474466873819355,
          0.8455042632969784,
          0.8435326468783334,
          0.8415281065058013,
          0.8394860001706772,
          0.8374005618390066,
          0.8352646388693533,
          0.8330693696875396,
          0.83080378875215,
          0.8284543433554342,
          0.8260043040148481,
          0.8234330471927063,
          0.8207151859929703,
          0.8178195216197447,
          0.8147077862485212,
          0.8113331473855558,
          0.8076384460689612,
          0.8035541483598778,
          0.7989960043582088,
          0.7938624355149002,
          0.7880317147876861,
          0.781359072184932,
          0.7736739585910808,
          0.7647778414996659,
          0.7544430925127862,
          0.7424137550835218,
          0.7284092319314369,
          0.7121321556511674,
          0.693281811257322,
          0.6715743224650024,
          0.6467702097995389,
          0.6187087003279634,
          0.5873462482271204,
          0.552794307371898,
          0.5153490798225753,
          0.4755047499269143,
          0.4339427233206669,
          0.39149326348738456,
          0.34907215523187013,
          0.30760176501220915,
          0.2679305224133084,
          0.23076540103600424,
          0.19662816295508442,
          0.16583959688711508,
          0.13852932402220938,
          0.11466413615332127,
          0.09408613852718452,
          0.07655278060130165,
          0.06177308200212667,
          0.04943690272431894,
          0.03923624927262355,
          0.030879074745130713,
          0.024096852127544914,
          0.018647540946717462,
          0.014315592659189101,
          0.010910453470473534,
          0.008264675697622384,
          0.006232289906586854,
          0.004687613814070434,
          0.0035243102786822285,
          0.0026543558109654976,
          0.002006647297149615,
          0.0015251649551685932,
          0.0011667987418514446,
          0.0008990499205640219,
          0.0006978250205670243,
          0.0005454799770168222,
          0.00042919298428429633,
          0.0003396771637434376,
          0.0002702010139492181,
          0.0002158646960950515,
          0.0001730766489620469,
          0.0001391805197510659,
          0.00011219149688774445,
          9.061059162538493e-05,
          7.329368781626384e-05,
          5.935876675029888e-05,
          4.8119662619224936e-05,
          3.903828049102352e-05,
          3.168972617883965e-05,
          2.573653855211942e-05,
          2.090940566738968e-05,
          1.6992555592193975e-05,
          1.3812562048227891e-05,
          1.1229678337295496e-05,
          9.13106804350997e-06,
          7.42547657819401e-06,
          6.039009742300784e-06,
          4.9117714414081845e-06,
          3.995174026070123e-06,
          3.2497791314704857e-06
         ],
         "yaxis": "y2"
        },
        {
         "legendgroup": "Bands",
         "line": {
          "color": "red",
          "width": 1
         },
         "mode": "lines",
         "name": "Bands",
         "type": "scatter",
         "x": [
          0,
          0.0696969696969697,
          0.1393939393939394,
          0.2090909090909091,
          0.2787878787878788,
          0.3484848484848485,
          0.4181818181818182,
          0.4878787878787879,
          0.5575757575757576,
          0.6272727272727273,
          0.696969696969697,
          0.7666666666666667,
          0.8363636363636364,
          0.9060606060606061,
          0.9757575757575758,
          1.0454545454545454,
          1.1151515151515152,
          1.184848484848485,
          1.2545454545454546,
          1.3242424242424242,
          1.393939393939394,
          1.4636363636363638,
          1.5333333333333334,
          1.603030303030303,
          1.6727272727272728,
          1.7424242424242427,
          1.8121212121212122,
          1.8818181818181818,
          1.9515151515151516,
          2.0212121212121215,
          2.090909090909091,
          2.1606060606060606,
          2.2303030303030305,
          2.3000000000000003,
          2.36969696969697,
          2.4393939393939394,
          2.5090909090909093,
          2.578787878787879,
          2.6484848484848484,
          2.7181818181818183,
          2.787878787878788,
          2.857575757575758,
          2.9272727272727277,
          2.996969696969697,
          3.066666666666667,
          3.1363636363636367,
          3.206060606060606,
          3.275757575757576,
          3.3454545454545457,
          3.4151515151515155,
          3.4848484848484853,
          3.5545454545454547,
          3.6242424242424245,
          3.6939393939393943,
          3.7636363636363637,
          3.8333333333333335,
          3.9030303030303033,
          3.972727272727273,
          4.042424242424243,
          4.112121212121212,
          4.181818181818182,
          4.251515151515152,
          4.321212121212121,
          4.3909090909090915,
          4.460606060606061,
          4.53030303030303,
          4.6000000000000005,
          4.66969696969697,
          4.73939393939394,
          4.8090909090909095,
          4.878787878787879,
          4.948484848484849,
          5.0181818181818185,
          5.087878787878788,
          5.157575757575758,
          5.2272727272727275,
          5.296969696969697,
          5.366666666666667,
          5.4363636363636365,
          5.506060606060607,
          5.575757575757576,
          5.6454545454545455,
          5.715151515151516,
          5.784848484848485,
          5.854545454545455,
          5.924242424242425,
          5.993939393939394,
          6.063636363636364,
          6.133333333333334,
          6.203030303030303,
          6.272727272727273,
          6.342424242424243,
          6.412121212121212,
          6.481818181818182,
          6.551515151515152,
          6.621212121212122,
          6.690909090909091,
          6.760606060606061,
          6.830303030303031,
          6.9
         ],
         "xaxis": "x2",
         "y": [
          0.4,
          0.4,
          0.4,
          0.4,
          0.4,
          0.4,
          0.4,
          0.4,
          0.4,
          0.4,
          0.4,
          0.4,
          0.4,
          0.4,
          0.4,
          0.4,
          0.4,
          0.4,
          0.4,
          0.4,
          0.4,
          0.4,
          0.4,
          0.4,
          0.4,
          0.4,
          0.4,
          0.4,
          0.4,
          0.4,
          0.4,
          0.4,
          0.4,
          0.4,
          0.4,
          0.4,
          0.4,
          0.4,
          0.4,
          0.4,
          0.4,
          0.4,
          0.4,
          0.4,
          0.4,
          0.4,
          0.4,
          0.4,
          0.4,
          0.4,
          0.4,
          0.4,
          0.4,
          0.4,
          0.4,
          0.4,
          0.4,
          0.4,
          0.4,
          0.4,
          0.4,
          0.4,
          0.4,
          0.4,
          0.4,
          0.4,
          0.4,
          0.4,
          0.4,
          0.4,
          0.4,
          0.4,
          0.4,
          0.4,
          0.4,
          0.4,
          0.4,
          0.4,
          0.4,
          0.4,
          0.4,
          0.4,
          0.4,
          0.4,
          0.4,
          0.4,
          0.4,
          0.4,
          0.4,
          0.4,
          0.4,
          0.4,
          0.4,
          0.4,
          0.4,
          0.4,
          0.4,
          0.4,
          0.4,
          0.4
         ],
         "yaxis": "y2"
        },
        {
         "line": {
          "color": "green",
          "width": 1
         },
         "mode": "lines",
         "name": "Discriminator",
         "type": "scatter",
         "x": [
          0,
          0.0696969696969697,
          0.1393939393939394,
          0.2090909090909091,
          0.2787878787878788,
          0.3484848484848485,
          0.4181818181818182,
          0.4878787878787879,
          0.5575757575757576,
          0.6272727272727273,
          0.696969696969697,
          0.7666666666666667,
          0.8363636363636364,
          0.9060606060606061,
          0.9757575757575758,
          1.0454545454545454,
          1.1151515151515152,
          1.184848484848485,
          1.2545454545454546,
          1.3242424242424242,
          1.393939393939394,
          1.4636363636363638,
          1.5333333333333334,
          1.603030303030303,
          1.6727272727272728,
          1.7424242424242427,
          1.8121212121212122,
          1.8818181818181818,
          1.9515151515151516,
          2.0212121212121215,
          2.090909090909091,
          2.1606060606060606,
          2.2303030303030305,
          2.3000000000000003,
          2.36969696969697,
          2.4393939393939394,
          2.5090909090909093,
          2.578787878787879,
          2.6484848484848484,
          2.7181818181818183,
          2.787878787878788,
          2.857575757575758,
          2.9272727272727277,
          2.996969696969697,
          3.066666666666667,
          3.1363636363636367,
          3.206060606060606,
          3.275757575757576,
          3.3454545454545457,
          3.4151515151515155,
          3.4848484848484853,
          3.5545454545454547,
          3.6242424242424245,
          3.6939393939393943,
          3.7636363636363637,
          3.8333333333333335,
          3.9030303030303033,
          3.972727272727273,
          4.042424242424243,
          4.112121212121212,
          4.181818181818182,
          4.251515151515152,
          4.321212121212121,
          4.3909090909090915,
          4.460606060606061,
          4.53030303030303,
          4.6000000000000005,
          4.66969696969697,
          4.73939393939394,
          4.8090909090909095,
          4.878787878787879,
          4.948484848484849,
          5.0181818181818185,
          5.087878787878788,
          5.157575757575758,
          5.2272727272727275,
          5.296969696969697,
          5.366666666666667,
          5.4363636363636365,
          5.506060606060607,
          5.575757575757576,
          5.6454545454545455,
          5.715151515151516,
          5.784848484848485,
          5.854545454545455,
          5.924242424242425,
          5.993939393939394,
          6.063636363636364,
          6.133333333333334,
          6.203030303030303,
          6.272727272727273,
          6.342424242424243,
          6.412121212121212,
          6.481818181818182,
          6.551515151515152,
          6.621212121212122,
          6.690909090909091,
          6.760606060606061,
          6.830303030303031,
          6.9
         ],
         "xaxis": "x2",
         "y": [
          0.5,
          0.5,
          0.5,
          0.5,
          0.5,
          0.5,
          0.5,
          0.5,
          0.5,
          0.5,
          0.5,
          0.5,
          0.5,
          0.5,
          0.5,
          0.5,
          0.5,
          0.5,
          0.5,
          0.5,
          0.5,
          0.5,
          0.5,
          0.5,
          0.5,
          0.5,
          0.5,
          0.5,
          0.5,
          0.5,
          0.5,
          0.5,
          0.5,
          0.5,
          0.5,
          0.5,
          0.5,
          0.5,
          0.5,
          0.5,
          0.5,
          0.5,
          0.5,
          0.5,
          0.5,
          0.5,
          0.5,
          0.5,
          0.5,
          0.5,
          0.5,
          0.5,
          0.5,
          0.5,
          0.5,
          0.5,
          0.5,
          0.5,
          0.5,
          0.5,
          0.5,
          0.5,
          0.5,
          0.5,
          0.5,
          0.5,
          0.5,
          0.5,
          0.5,
          0.5,
          0.5,
          0.5,
          0.5,
          0.5,
          0.5,
          0.5,
          0.5,
          0.5,
          0.5,
          0.5,
          0.5,
          0.5,
          0.5,
          0.5,
          0.5,
          0.5,
          0.5,
          0.5,
          0.5,
          0.5,
          0.5,
          0.5,
          0.5,
          0.5,
          0.5,
          0.5,
          0.5,
          0.5,
          0.5,
          0.5
         ],
         "yaxis": "y2"
        },
        {
         "legendgroup": "Bands",
         "line": {
          "color": "red",
          "width": 1
         },
         "mode": "lines",
         "name": "Bands",
         "showlegend": false,
         "type": "scatter",
         "x": [
          0,
          0.0696969696969697,
          0.1393939393939394,
          0.2090909090909091,
          0.2787878787878788,
          0.3484848484848485,
          0.4181818181818182,
          0.4878787878787879,
          0.5575757575757576,
          0.6272727272727273,
          0.696969696969697,
          0.7666666666666667,
          0.8363636363636364,
          0.9060606060606061,
          0.9757575757575758,
          1.0454545454545454,
          1.1151515151515152,
          1.184848484848485,
          1.2545454545454546,
          1.3242424242424242,
          1.393939393939394,
          1.4636363636363638,
          1.5333333333333334,
          1.603030303030303,
          1.6727272727272728,
          1.7424242424242427,
          1.8121212121212122,
          1.8818181818181818,
          1.9515151515151516,
          2.0212121212121215,
          2.090909090909091,
          2.1606060606060606,
          2.2303030303030305,
          2.3000000000000003,
          2.36969696969697,
          2.4393939393939394,
          2.5090909090909093,
          2.578787878787879,
          2.6484848484848484,
          2.7181818181818183,
          2.787878787878788,
          2.857575757575758,
          2.9272727272727277,
          2.996969696969697,
          3.066666666666667,
          3.1363636363636367,
          3.206060606060606,
          3.275757575757576,
          3.3454545454545457,
          3.4151515151515155,
          3.4848484848484853,
          3.5545454545454547,
          3.6242424242424245,
          3.6939393939393943,
          3.7636363636363637,
          3.8333333333333335,
          3.9030303030303033,
          3.972727272727273,
          4.042424242424243,
          4.112121212121212,
          4.181818181818182,
          4.251515151515152,
          4.321212121212121,
          4.3909090909090915,
          4.460606060606061,
          4.53030303030303,
          4.6000000000000005,
          4.66969696969697,
          4.73939393939394,
          4.8090909090909095,
          4.878787878787879,
          4.948484848484849,
          5.0181818181818185,
          5.087878787878788,
          5.157575757575758,
          5.2272727272727275,
          5.296969696969697,
          5.366666666666667,
          5.4363636363636365,
          5.506060606060607,
          5.575757575757576,
          5.6454545454545455,
          5.715151515151516,
          5.784848484848485,
          5.854545454545455,
          5.924242424242425,
          5.993939393939394,
          6.063636363636364,
          6.133333333333334,
          6.203030303030303,
          6.272727272727273,
          6.342424242424243,
          6.412121212121212,
          6.481818181818182,
          6.551515151515152,
          6.621212121212122,
          6.690909090909091,
          6.760606060606061,
          6.830303030303031,
          6.9
         ],
         "xaxis": "x2",
         "y": [
          0.6,
          0.6,
          0.6,
          0.6,
          0.6,
          0.6,
          0.6,
          0.6,
          0.6,
          0.6,
          0.6,
          0.6,
          0.6,
          0.6,
          0.6,
          0.6,
          0.6,
          0.6,
          0.6,
          0.6,
          0.6,
          0.6,
          0.6,
          0.6,
          0.6,
          0.6,
          0.6,
          0.6,
          0.6,
          0.6,
          0.6,
          0.6,
          0.6,
          0.6,
          0.6,
          0.6,
          0.6,
          0.6,
          0.6,
          0.6,
          0.6,
          0.6,
          0.6,
          0.6,
          0.6,
          0.6,
          0.6,
          0.6,
          0.6,
          0.6,
          0.6,
          0.6,
          0.6,
          0.6,
          0.6,
          0.6,
          0.6,
          0.6,
          0.6,
          0.6,
          0.6,
          0.6,
          0.6,
          0.6,
          0.6,
          0.6,
          0.6,
          0.6,
          0.6,
          0.6,
          0.6,
          0.6,
          0.6,
          0.6,
          0.6,
          0.6,
          0.6,
          0.6,
          0.6,
          0.6,
          0.6,
          0.6,
          0.6,
          0.6,
          0.6,
          0.6,
          0.6,
          0.6,
          0.6,
          0.6,
          0.6,
          0.6,
          0.6,
          0.6,
          0.6,
          0.6,
          0.6,
          0.6,
          0.6,
          0.6
         ],
         "yaxis": "y2"
        }
       ],
       "layout": {
        "annotations": [
         {
          "font": {
           "size": 16
          },
          "showarrow": false,
          "text": "$log\\_odds(setosa) = 7.92 + -2.92 \\times pet\\_len$",
          "x": 0.225,
          "xanchor": "center",
          "xref": "paper",
          "y": 1,
          "yanchor": "bottom",
          "yref": "paper"
         },
         {
          "font": {
           "size": 16
          },
          "showarrow": false,
          "text": "$Probability(setosa) = Logit(log\\_odds)$",
          "x": 0.775,
          "xanchor": "center",
          "xref": "paper",
          "y": 1,
          "yanchor": "bottom",
          "yref": "paper"
         }
        ],
        "autosize": true,
        "showlegend": true,
        "template": {
         "data": {
          "bar": [
           {
            "error_x": {
             "color": "#2a3f5f"
            },
            "error_y": {
             "color": "#2a3f5f"
            },
            "marker": {
             "line": {
              "color": "#E5ECF6",
              "width": 0.5
             }
            },
            "type": "bar"
           }
          ],
          "barpolar": [
           {
            "marker": {
             "line": {
              "color": "#E5ECF6",
              "width": 0.5
             }
            },
            "type": "barpolar"
           }
          ],
          "carpet": [
           {
            "aaxis": {
             "endlinecolor": "#2a3f5f",
             "gridcolor": "white",
             "linecolor": "white",
             "minorgridcolor": "white",
             "startlinecolor": "#2a3f5f"
            },
            "baxis": {
             "endlinecolor": "#2a3f5f",
             "gridcolor": "white",
             "linecolor": "white",
             "minorgridcolor": "white",
             "startlinecolor": "#2a3f5f"
            },
            "type": "carpet"
           }
          ],
          "choropleth": [
           {
            "colorbar": {
             "outlinewidth": 0,
             "ticks": ""
            },
            "type": "choropleth"
           }
          ],
          "contour": [
           {
            "colorbar": {
             "outlinewidth": 0,
             "ticks": ""
            },
            "colorscale": [
             [
              0,
              "#0d0887"
             ],
             [
              0.1111111111111111,
              "#46039f"
             ],
             [
              0.2222222222222222,
              "#7201a8"
             ],
             [
              0.3333333333333333,
              "#9c179e"
             ],
             [
              0.4444444444444444,
              "#bd3786"
             ],
             [
              0.5555555555555556,
              "#d8576b"
             ],
             [
              0.6666666666666666,
              "#ed7953"
             ],
             [
              0.7777777777777778,
              "#fb9f3a"
             ],
             [
              0.8888888888888888,
              "#fdca26"
             ],
             [
              1,
              "#f0f921"
             ]
            ],
            "type": "contour"
           }
          ],
          "contourcarpet": [
           {
            "colorbar": {
             "outlinewidth": 0,
             "ticks": ""
            },
            "type": "contourcarpet"
           }
          ],
          "heatmap": [
           {
            "colorbar": {
             "outlinewidth": 0,
             "ticks": ""
            },
            "colorscale": [
             [
              0,
              "#0d0887"
             ],
             [
              0.1111111111111111,
              "#46039f"
             ],
             [
              0.2222222222222222,
              "#7201a8"
             ],
             [
              0.3333333333333333,
              "#9c179e"
             ],
             [
              0.4444444444444444,
              "#bd3786"
             ],
             [
              0.5555555555555556,
              "#d8576b"
             ],
             [
              0.6666666666666666,
              "#ed7953"
             ],
             [
              0.7777777777777778,
              "#fb9f3a"
             ],
             [
              0.8888888888888888,
              "#fdca26"
             ],
             [
              1,
              "#f0f921"
             ]
            ],
            "type": "heatmap"
           }
          ],
          "heatmapgl": [
           {
            "colorbar": {
             "outlinewidth": 0,
             "ticks": ""
            },
            "colorscale": [
             [
              0,
              "#0d0887"
             ],
             [
              0.1111111111111111,
              "#46039f"
             ],
             [
              0.2222222222222222,
              "#7201a8"
             ],
             [
              0.3333333333333333,
              "#9c179e"
             ],
             [
              0.4444444444444444,
              "#bd3786"
             ],
             [
              0.5555555555555556,
              "#d8576b"
             ],
             [
              0.6666666666666666,
              "#ed7953"
             ],
             [
              0.7777777777777778,
              "#fb9f3a"
             ],
             [
              0.8888888888888888,
              "#fdca26"
             ],
             [
              1,
              "#f0f921"
             ]
            ],
            "type": "heatmapgl"
           }
          ],
          "histogram": [
           {
            "marker": {
             "colorbar": {
              "outlinewidth": 0,
              "ticks": ""
             }
            },
            "type": "histogram"
           }
          ],
          "histogram2d": [
           {
            "colorbar": {
             "outlinewidth": 0,
             "ticks": ""
            },
            "colorscale": [
             [
              0,
              "#0d0887"
             ],
             [
              0.1111111111111111,
              "#46039f"
             ],
             [
              0.2222222222222222,
              "#7201a8"
             ],
             [
              0.3333333333333333,
              "#9c179e"
             ],
             [
              0.4444444444444444,
              "#bd3786"
             ],
             [
              0.5555555555555556,
              "#d8576b"
             ],
             [
              0.6666666666666666,
              "#ed7953"
             ],
             [
              0.7777777777777778,
              "#fb9f3a"
             ],
             [
              0.8888888888888888,
              "#fdca26"
             ],
             [
              1,
              "#f0f921"
             ]
            ],
            "type": "histogram2d"
           }
          ],
          "histogram2dcontour": [
           {
            "colorbar": {
             "outlinewidth": 0,
             "ticks": ""
            },
            "colorscale": [
             [
              0,
              "#0d0887"
             ],
             [
              0.1111111111111111,
              "#46039f"
             ],
             [
              0.2222222222222222,
              "#7201a8"
             ],
             [
              0.3333333333333333,
              "#9c179e"
             ],
             [
              0.4444444444444444,
              "#bd3786"
             ],
             [
              0.5555555555555556,
              "#d8576b"
             ],
             [
              0.6666666666666666,
              "#ed7953"
             ],
             [
              0.7777777777777778,
              "#fb9f3a"
             ],
             [
              0.8888888888888888,
              "#fdca26"
             ],
             [
              1,
              "#f0f921"
             ]
            ],
            "type": "histogram2dcontour"
           }
          ],
          "mesh3d": [
           {
            "colorbar": {
             "outlinewidth": 0,
             "ticks": ""
            },
            "type": "mesh3d"
           }
          ],
          "parcoords": [
           {
            "line": {
             "colorbar": {
              "outlinewidth": 0,
              "ticks": ""
             }
            },
            "type": "parcoords"
           }
          ],
          "pie": [
           {
            "automargin": true,
            "type": "pie"
           }
          ],
          "scatter": [
           {
            "marker": {
             "colorbar": {
              "outlinewidth": 0,
              "ticks": ""
             }
            },
            "type": "scatter"
           }
          ],
          "scatter3d": [
           {
            "line": {
             "colorbar": {
              "outlinewidth": 0,
              "ticks": ""
             }
            },
            "marker": {
             "colorbar": {
              "outlinewidth": 0,
              "ticks": ""
             }
            },
            "type": "scatter3d"
           }
          ],
          "scattercarpet": [
           {
            "marker": {
             "colorbar": {
              "outlinewidth": 0,
              "ticks": ""
             }
            },
            "type": "scattercarpet"
           }
          ],
          "scattergeo": [
           {
            "marker": {
             "colorbar": {
              "outlinewidth": 0,
              "ticks": ""
             }
            },
            "type": "scattergeo"
           }
          ],
          "scattergl": [
           {
            "marker": {
             "colorbar": {
              "outlinewidth": 0,
              "ticks": ""
             }
            },
            "type": "scattergl"
           }
          ],
          "scattermapbox": [
           {
            "marker": {
             "colorbar": {
              "outlinewidth": 0,
              "ticks": ""
             }
            },
            "type": "scattermapbox"
           }
          ],
          "scatterpolar": [
           {
            "marker": {
             "colorbar": {
              "outlinewidth": 0,
              "ticks": ""
             }
            },
            "type": "scatterpolar"
           }
          ],
          "scatterpolargl": [
           {
            "marker": {
             "colorbar": {
              "outlinewidth": 0,
              "ticks": ""
             }
            },
            "type": "scatterpolargl"
           }
          ],
          "scatterternary": [
           {
            "marker": {
             "colorbar": {
              "outlinewidth": 0,
              "ticks": ""
             }
            },
            "type": "scatterternary"
           }
          ],
          "surface": [
           {
            "colorbar": {
             "outlinewidth": 0,
             "ticks": ""
            },
            "colorscale": [
             [
              0,
              "#0d0887"
             ],
             [
              0.1111111111111111,
              "#46039f"
             ],
             [
              0.2222222222222222,
              "#7201a8"
             ],
             [
              0.3333333333333333,
              "#9c179e"
             ],
             [
              0.4444444444444444,
              "#bd3786"
             ],
             [
              0.5555555555555556,
              "#d8576b"
             ],
             [
              0.6666666666666666,
              "#ed7953"
             ],
             [
              0.7777777777777778,
              "#fb9f3a"
             ],
             [
              0.8888888888888888,
              "#fdca26"
             ],
             [
              1,
              "#f0f921"
             ]
            ],
            "type": "surface"
           }
          ],
          "table": [
           {
            "cells": {
             "fill": {
              "color": "#EBF0F8"
             },
             "line": {
              "color": "white"
             }
            },
            "header": {
             "fill": {
              "color": "#C8D4E3"
             },
             "line": {
              "color": "white"
             }
            },
            "type": "table"
           }
          ]
         },
         "layout": {
          "annotationdefaults": {
           "arrowcolor": "#2a3f5f",
           "arrowhead": 0,
           "arrowwidth": 1
          },
          "coloraxis": {
           "colorbar": {
            "outlinewidth": 0,
            "ticks": ""
           }
          },
          "colorscale": {
           "diverging": [
            [
             0,
             "#8e0152"
            ],
            [
             0.1,
             "#c51b7d"
            ],
            [
             0.2,
             "#de77ae"
            ],
            [
             0.3,
             "#f1b6da"
            ],
            [
             0.4,
             "#fde0ef"
            ],
            [
             0.5,
             "#f7f7f7"
            ],
            [
             0.6,
             "#e6f5d0"
            ],
            [
             0.7,
             "#b8e186"
            ],
            [
             0.8,
             "#7fbc41"
            ],
            [
             0.9,
             "#4d9221"
            ],
            [
             1,
             "#276419"
            ]
           ],
           "sequential": [
            [
             0,
             "#0d0887"
            ],
            [
             0.1111111111111111,
             "#46039f"
            ],
            [
             0.2222222222222222,
             "#7201a8"
            ],
            [
             0.3333333333333333,
             "#9c179e"
            ],
            [
             0.4444444444444444,
             "#bd3786"
            ],
            [
             0.5555555555555556,
             "#d8576b"
            ],
            [
             0.6666666666666666,
             "#ed7953"
            ],
            [
             0.7777777777777778,
             "#fb9f3a"
            ],
            [
             0.8888888888888888,
             "#fdca26"
            ],
            [
             1,
             "#f0f921"
            ]
           ],
           "sequentialminus": [
            [
             0,
             "#0d0887"
            ],
            [
             0.1111111111111111,
             "#46039f"
            ],
            [
             0.2222222222222222,
             "#7201a8"
            ],
            [
             0.3333333333333333,
             "#9c179e"
            ],
            [
             0.4444444444444444,
             "#bd3786"
            ],
            [
             0.5555555555555556,
             "#d8576b"
            ],
            [
             0.6666666666666666,
             "#ed7953"
            ],
            [
             0.7777777777777778,
             "#fb9f3a"
            ],
            [
             0.8888888888888888,
             "#fdca26"
            ],
            [
             1,
             "#f0f921"
            ]
           ]
          },
          "colorway": [
           "#636efa",
           "#EF553B",
           "#00cc96",
           "#ab63fa",
           "#FFA15A",
           "#19d3f3",
           "#FF6692",
           "#B6E880",
           "#FF97FF",
           "#FECB52"
          ],
          "font": {
           "color": "#2a3f5f"
          },
          "geo": {
           "bgcolor": "white",
           "lakecolor": "white",
           "landcolor": "#E5ECF6",
           "showlakes": true,
           "showland": true,
           "subunitcolor": "white"
          },
          "hoverlabel": {
           "align": "left"
          },
          "hovermode": "closest",
          "mapbox": {
           "style": "light"
          },
          "paper_bgcolor": "white",
          "plot_bgcolor": "#E5ECF6",
          "polar": {
           "angularaxis": {
            "gridcolor": "white",
            "linecolor": "white",
            "ticks": ""
           },
           "bgcolor": "#E5ECF6",
           "radialaxis": {
            "gridcolor": "white",
            "linecolor": "white",
            "ticks": ""
           }
          },
          "scene": {
           "xaxis": {
            "backgroundcolor": "#E5ECF6",
            "gridcolor": "white",
            "gridwidth": 2,
            "linecolor": "white",
            "showbackground": true,
            "ticks": "",
            "zerolinecolor": "white"
           },
           "yaxis": {
            "backgroundcolor": "#E5ECF6",
            "gridcolor": "white",
            "gridwidth": 2,
            "linecolor": "white",
            "showbackground": true,
            "ticks": "",
            "zerolinecolor": "white"
           },
           "zaxis": {
            "backgroundcolor": "#E5ECF6",
            "gridcolor": "white",
            "gridwidth": 2,
            "linecolor": "white",
            "showbackground": true,
            "ticks": "",
            "zerolinecolor": "white"
           }
          },
          "shapedefaults": {
           "line": {
            "color": "#2a3f5f"
           }
          },
          "ternary": {
           "aaxis": {
            "gridcolor": "white",
            "linecolor": "white",
            "ticks": ""
           },
           "baxis": {
            "gridcolor": "white",
            "linecolor": "white",
            "ticks": ""
           },
           "bgcolor": "#E5ECF6",
           "caxis": {
            "gridcolor": "white",
            "linecolor": "white",
            "ticks": ""
           }
          },
          "title": {
           "x": 0.05
          },
          "xaxis": {
           "automargin": true,
           "gridcolor": "white",
           "linecolor": "white",
           "ticks": "",
           "title": {
            "standoff": 15
           },
           "zerolinecolor": "white",
           "zerolinewidth": 2
          },
          "yaxis": {
           "automargin": true,
           "gridcolor": "white",
           "linecolor": "white",
           "ticks": "",
           "title": {
            "standoff": 15
           },
           "zerolinecolor": "white",
           "zerolinewidth": 2
          }
         }
        },
        "title": {
         "text": "Iris setosa vs. Other Varieties"
        },
        "xaxis": {
         "anchor": "y",
         "autorange": true,
         "domain": [
          0,
          0.45
         ],
         "range": [
          0,
          7.36361373129374
         ],
         "type": "linear"
        },
        "xaxis2": {
         "anchor": "y2",
         "autorange": true,
         "domain": [
          0.55,
          1
         ],
         "range": [
          0,
          7.36361373129374
         ],
         "type": "linear"
        },
        "yaxis": {
         "anchor": "x",
         "autorange": true,
         "domain": [
          0,
          1
         ],
         "range": [
          -13.673055758090669,
          9.058654331216413
         ],
         "type": "linear"
        },
        "yaxis2": {
         "anchor": "x2",
         "autorange": true,
         "domain": [
          0,
          1
         ],
         "range": [
          -0.06228804929560212,
          0.9127061970915323
         ],
         "type": "linear"
        }
       }
      },
      "image/png": "[encoded data removed]",
      "text/html": [
       "<div>\n",
       "        \n",
       "        \n",
       "            <div id=\"9537f314-5760-42a2-b0f9-d77068fbe039\" class=\"plotly-graph-div\" style=\"height:525px; width:100%;\"></div>\n",
       "            <script type=\"text/javascript\">\n",
       "                require([\"plotly\"], function(Plotly) {\n",
       "                    window.PLOTLYENV=window.PLOTLYENV || {};\n",
       "                    \n",
       "                if (document.getElementById(\"9537f314-5760-42a2-b0f9-d77068fbe039\")) {\n",
       "                    Plotly.newPlot(\n",
       "                        '9537f314-5760-42a2-b0f9-d77068fbe039',\n",
       "                        [{\"mode\": \"markers\", \"name\": \"Log Odds\", \"type\": \"scatter\", \"x\": [1.4, 1.4, 1.3, 1.5, 1.4, 1.7, 1.4, 1.5, 1.4, 1.5, 1.5, 1.6, 1.4, 1.1, 1.2, 1.5, 1.3, 1.4, 1.7, 1.5, 1.7, 1.5, 1.0, 1.7, 1.9, 1.6, 1.6, 1.5, 1.4, 1.6, 1.6, 1.5, 1.5, 1.4, 1.5, 1.2, 1.3, 1.4, 1.3, 1.5, 1.3, 1.3, 1.3, 1.6, 1.9, 1.4, 1.6, 1.4, 1.5, 1.4, 4.7, 4.5, 4.9, 4.0, 4.6, 4.5, 4.7, 3.3, 4.6, 3.9, 3.5, 4.2, 4.0, 4.7, 3.6, 4.4, 4.5, 4.1, 4.5, 3.9, 4.8, 4.0, 4.9, 4.7, 4.3, 4.4, 4.8, 5.0, 4.5, 3.5, 3.8, 3.7, 3.9, 5.1, 4.5, 4.5, 4.7, 4.4, 4.1, 4.0, 4.4, 4.6, 4.0, 3.3, 4.2, 4.2, 4.2, 4.3, 3.0, 4.1, 6.0, 5.1, 5.9, 5.6, 5.8, 6.6, 4.5, 6.3, 5.8, 6.1, 5.1, 5.3, 5.5, 5.0, 5.1, 5.3, 5.5, 6.7, 6.9, 5.0, 5.7, 4.9, 6.7, 4.9, 5.7, 6.0, 4.8, 4.9, 5.6, 5.8, 6.1, 6.4, 5.6, 5.1, 5.6, 6.1, 5.6, 5.5, 4.8, 5.4, 5.6, 5.1, 5.1, 5.9, 5.7, 5.2, 5.0, 5.2, 5.4, 5.1], \"xaxis\": \"x\", \"y\": [3.835119661741178, 3.835119661741178, 4.127044602099026, 3.5431947213833297, 3.835119661741178, 2.959344840667632, 3.835119661741178, 3.5431947213833297, 3.835119661741178, 3.5431947213833297, 3.5431947213833297, 3.2512697810254805, 3.835119661741178, 4.710894482814723, 4.418969542456875, 3.5431947213833297, 4.127044602099026, 3.835119661741178, 2.959344840667632, 3.5431947213833297, 2.959344840667632, 3.5431947213833297, 5.002819423172572, 2.959344840667632, 2.3754949599519355, 3.2512697810254805, 3.2512697810254805, 3.5431947213833297, 3.835119661741178, 3.2512697810254805, 3.2512697810254805, 3.5431947213833297, 3.5431947213833297, 3.835119661741178, 3.5431947213833297, 4.418969542456875, 4.127044602099026, 3.835119661741178, 4.127044602099026, 3.5431947213833297, 4.127044602099026, 4.127044602099026, 4.127044602099026, 3.2512697810254805, 2.3754949599519355, 3.835119661741178, 3.2512697810254805, 3.835119661741178, 3.5431947213833297, 3.835119661741178, -5.798403370067826, -5.214553489352129, -6.382253250783524, -3.7549287875628856, -5.506478429709976, -5.214553489352129, -5.798403370067826, -1.7114542050579455, -5.506478429709976, -3.4630038472050373, -2.295304085773642, -4.338778668278584, -3.7549287875628856, -5.798403370067826, -2.5872290261314923, -4.922628548994281, -5.214553489352129, -4.046853727920734, -5.214553489352129, -3.4630038472050373, -6.090328310425674, -3.7549287875628856, -6.382253250783524, -5.798403370067826, -4.630703608636431, -4.922628548994281, -6.090328310425674, -6.6741781911413725, -5.214553489352129, -2.295304085773642, -3.171078906847187, -2.8791539664893406, -3.4630038472050373, -6.966103131499219, -5.214553489352129, -5.214553489352129, -5.798403370067826, -4.922628548994281, -4.046853727920734, -3.7549287875628856, -4.922628548994281, -5.506478429709976, -3.7549287875628856, -1.7114542050579455, -4.338778668278584, -4.338778668278584, -4.338778668278584, -4.630703608636431, -0.8356793839843988, -4.046853727920734, -9.593427594719856, -6.966103131499219, -9.301502654362011, -8.425727833288462, -9.009577714004159, -11.34497723686695, -5.214553489352129, -10.469202415793404, -9.009577714004159, -9.885352535077704, -6.966103131499219, -7.549953012214917, -8.133802892930614, -6.6741781911413725, -6.966103131499219, -7.549953012214917, -8.133802892930614, -11.636902177224798, -12.220752057940494, -6.6741781911413725, -8.71765277364631, -6.382253250783524, -11.636902177224798, -6.382253250783524, -8.71765277364631, -9.593427594719856, -6.090328310425674, -6.382253250783524, -8.425727833288462, -9.009577714004159, -9.885352535077704, -10.761127356151253, -8.425727833288462, -6.966103131499219, -8.425727833288462, -9.885352535077704, -8.425727833288462, -8.133802892930614, -6.090328310425674, -7.8418779525727675, -8.425727833288462, -6.966103131499219, -6.966103131499219, -9.301502654362011, -8.71765277364631, -7.258028071857069, -6.6741781911413725, -7.258028071857069, -7.8418779525727675, -6.966103131499219], \"yaxis\": \"y\"}, {\"legendgroup\": \"Fit Line\", \"line\": {\"color\": \"black\", \"width\": 1}, \"mode\": \"lines\", \"name\": \"Fit Line\", \"type\": \"scatter\", \"x\": [0.0, 0.0696969696969697, 0.1393939393939394, 0.2090909090909091, 0.2787878787878788, 0.3484848484848485, 0.4181818181818182, 0.4878787878787879, 0.5575757575757576, 0.6272727272727273, 0.696969696969697, 0.7666666666666667, 0.8363636363636364, 0.9060606060606061, 0.9757575757575758, 1.0454545454545454, 1.1151515151515152, 1.184848484848485, 1.2545454545454546, 1.3242424242424242, 1.393939393939394, 1.4636363636363638, 1.5333333333333334, 1.603030303030303, 1.6727272727272728, 1.7424242424242427, 1.8121212121212122, 1.8818181818181818, 1.9515151515151516, 2.0212121212121215, 2.090909090909091, 2.1606060606060606, 2.2303030303030305, 2.3000000000000003, 2.36969696969697, 2.4393939393939394, 2.5090909090909093, 2.578787878787879, 2.6484848484848484, 2.7181818181818183, 2.787878787878788, 2.857575757575758, 2.9272727272727277, 2.996969696969697, 3.066666666666667, 3.1363636363636367, 3.206060606060606, 3.275757575757576, 3.3454545454545457, 3.4151515151515155, 3.4848484848484853, 3.5545454545454547, 3.6242424242424245, 3.6939393939393943, 3.7636363636363637, 3.8333333333333335, 3.9030303030303033, 3.972727272727273, 4.042424242424243, 4.112121212121212, 4.181818181818182, 4.251515151515152, 4.321212121212121, 4.3909090909090915, 4.460606060606061, 4.53030303030303, 4.6000000000000005, 4.66969696969697, 4.73939393939394, 4.8090909090909095, 4.878787878787879, 4.948484848484849, 5.0181818181818185, 5.087878787878788, 5.157575757575758, 5.2272727272727275, 5.296969696969697, 5.366666666666667, 5.4363636363636365, 5.506060606060607, 5.575757575757576, 5.6454545454545455, 5.715151515151516, 5.784848484848485, 5.854545454545455, 5.924242424242425, 5.993939393939394, 6.063636363636364, 6.133333333333334, 6.203030303030303, 6.272727272727273, 6.342424242424243, 6.412121212121212, 6.481818181818182, 6.551515151515152, 6.621212121212122, 6.690909090909091, 6.760606060606061, 6.830303030303031, 6.9], \"xaxis\": \"x\", \"y\": [7.922068826751058, 7.718605989531952, 7.515143152312845, 7.311680315093739, 7.108217477874632, 6.904754640655526, 6.701291803436419, 6.497828966217312, 6.294366128998205, 6.090903291779099, 5.887440454559992, 5.683977617340886, 5.480514780121779, 5.277051942902672, 5.073589105683565, 4.8701262684644595, 4.666663431245352, 4.463200594026246, 4.259737756807139, 4.0562749195880325, 3.852812082368926, 3.6493492451498186, 3.445886407930713, 3.2424235707116065, 3.0389607334925, 2.8354978962733925, 2.632035059054286, 2.4285722218351804, 2.225109384616073, 2.0216465473969665, 1.8181837101778608, 1.6147208729587534, 1.411258035739647, 1.2077951985205395, 1.004332361301433, 0.8008695240823274, 0.59740668686322, 0.39394384964411344, 0.1904810124250078, -0.012981824794099595, -0.2164446620132061, -0.41990749923231263, -0.6233703364514209, -0.8268331736705257, -1.0302960108896322, -1.2337588481087405, -1.4372216853278452, -1.6406845225469517, -1.8441473597660583, -2.0476101969851666, -2.251073034204273, -2.454535871423378, -2.657998708642486, -2.8614615458615926, -3.0649243830806974, -3.2683872202998057, -3.471850057518912, -3.6753128947380187, -3.878775731957125, -4.082238569176232, -4.2857014063953365, -4.489164243614445, -4.692627080833551, -4.89608991805266, -5.099552755271764, -5.303015592490871, -5.506478429709979, -5.709941266929084, -5.913404104148192, -6.116866941367299, -6.320329778586403, -6.523792615805512, -6.727255453024618, -6.930718290243723, -7.134181127462831, -7.337643964681938, -7.5411068019010425, -7.744569639120151, -7.948032476339257, -8.151495313558364, -8.35495815077747, -8.558420987996577, -8.761883825215683, -8.96534666243479, -9.1688094996539, -9.372272336873003, -9.57573517409211, -9.77919801131122, -9.982660848530323, -10.186123685749429, -10.38958652296854, -10.593049360187642, -10.796512197406749, -10.999975034625855, -11.203437871844962, -11.406900709064072, -11.610363546283175, -11.813826383502281, -12.017289220721391, -12.220752057940494], \"yaxis\": \"y\"}, {\"mode\": \"markers\", \"name\": \"Probability\", \"type\": \"scatter\", \"x\": [1.4, 1.4, 1.3, 1.5, 1.4, 1.7, 1.4, 1.5, 1.4, 1.5, 1.5, 1.6, 1.4, 1.1, 1.2, 1.5, 1.3, 1.4, 1.7, 1.5, 1.7, 1.5, 1.0, 1.7, 1.9, 1.6, 1.6, 1.5, 1.4, 1.6, 1.6, 1.5, 1.5, 1.4, 1.5, 1.2, 1.3, 1.4, 1.3, 1.5, 1.3, 1.3, 1.3, 1.6, 1.9, 1.4, 1.6, 1.4, 1.5, 1.4, 4.7, 4.5, 4.9, 4.0, 4.6, 4.5, 4.7, 3.3, 4.6, 3.9, 3.5, 4.2, 4.0, 4.7, 3.6, 4.4, 4.5, 4.1, 4.5, 3.9, 4.8, 4.0, 4.9, 4.7, 4.3, 4.4, 4.8, 5.0, 4.5, 3.5, 3.8, 3.7, 3.9, 5.1, 4.5, 4.5, 4.7, 4.4, 4.1, 4.0, 4.4, 4.6, 4.0, 3.3, 4.2, 4.2, 4.2, 4.3, 3.0, 4.1, 6.0, 5.1, 5.9, 5.6, 5.8, 6.6, 4.5, 6.3, 5.8, 6.1, 5.1, 5.3, 5.5, 5.0, 5.1, 5.3, 5.5, 6.7, 6.9, 5.0, 5.7, 4.9, 6.7, 4.9, 5.7, 6.0, 4.8, 4.9, 5.6, 5.8, 6.1, 6.4, 5.6, 5.1, 5.6, 6.1, 5.6, 5.5, 4.8, 5.4, 5.6, 5.1, 5.1, 5.9, 5.7, 5.2, 5.0, 5.2, 5.4, 5.1], \"xaxis\": \"x2\", \"y\": [0.8232029367275316, 0.8232029367275316, 0.8268690984197715, 0.8192288280382358, 0.8232029367275316, 0.8099290538177455, 0.8232029367275316, 0.8192288280382358, 0.8232029367275316, 0.8192288280382358, 0.8192288280382358, 0.8148481733832935, 0.8232029367275316, 0.8335521685477002, 0.8303006979489002, 0.8192288280382358, 0.8268690984197715, 0.8232029367275316, 0.8099290538177455, 0.8192288280382358, 0.8099290538177455, 0.8192288280382358, 0.8366637701942077, 0.8099290538177455, 0.797716842492051, 0.8148481733832935, 0.8148481733832935, 0.8192288280382358, 0.8232029367275316, 0.8148481733832935, 0.8148481733832935, 0.8192288280382358, 0.8192288280382358, 0.8232029367275316, 0.8192288280382358, 0.8303006979489002, 0.8268690984197715, 0.8232029367275316, 0.8268690984197715, 0.8192288280382358, 0.8268690984197715, 0.8268690984197715, 0.8268690984197715, 0.8148481733832935, 0.797716842492051, 0.8232029367275316, 0.8148481733832935, 0.8232029367275316, 0.8192288280382358, 0.8232029367275316, 0.004140549567368607, 0.009331544294820858, 0.0018447279338578602, 0.05667211381978139, 0.006232289906586884, 0.009331544294820858, 0.004140549567368607, 0.3344942977060205, 0.006232289906586884, 0.0772556320202429, 0.22307252066955058, 0.028968242903271848, 0.05667211381978139, 0.004140549567368607, 0.1761569866113719, 0.013822685203761922, 0.009331544294820858, 0.04086991672672155, 0.009331544294820858, 0.0772556320202429, 0.0027538642879470937, 0.05667211381978139, 0.0018447279338578602, 0.004140549567368607, 0.02017832639615419, 0.013822685203761922, 0.0027538642879470937, 0.0012503974242464495, 0.009331544294820858, 0.22307252066955058, 0.10353149380339093, 0.13631885878704536, 0.0772556320202429, 0.0008598443563977744, 0.009331544294820858, 0.009331544294820858, 0.004140549567368607, 0.013822685203761922, 0.04086991672672155, 0.05667211381978139, 0.013822685203761922, 0.006232289906586884, 0.05667211381978139, 0.3344942977060205, 0.028968242903271848, 0.028968242903271848, 0.028968242903271848, 0.02017832639615419, 0.5136623028749018, 0.04086991672672155, 4.7251126210729346e-05, 0.0008598443563977744, 6.386848952824401e-05, 0.00016039131083032355, 8.651728196821134e-05, 7.907686322900187e-06, 0.009331544294820858, 1.9278734292097206e-05, 8.651728196821134e-05, 3.501120566280164e-05, 0.0008598443563977744, 0.00042480082949744, 0.0002200868269557555, 0.0012503974242464495, 0.0008598443563977744, 0.00042480082949744, 0.0002200868269557555, 5.878418681707966e-06, 3.2497791314704857e-06, 0.0012503974242464495, 0.00011755309510123909, 0.0018447279338578602, 5.878418681707966e-06, 0.0018447279338578602, 0.00011755309510123909, 4.7251126210729346e-05, 0.0027538642879470937, 0.0018447279338578602, 0.00016039131083032355, 8.651728196821134e-05, 3.501120566280164e-05, 1.4319162550787298e-05, 0.00016039131083032355, 0.0008598443563977744, 0.00016039131083032355, 3.501120566280164e-05, 0.00016039131083032355, 0.0002200868269557555, 0.0027538642879470937, 0.0003042863734646286, 0.00016039131083032355, 0.0008598443563977744, 0.0008598443563977744, 6.386848952824401e-05, 0.00011755309510123909, 0.0006001815133974514, 0.0012503974242464495, 0.0006001815133974514, 0.0003042863734646286, 0.0008598443563977744], \"yaxis\": \"y2\"}, {\"legendgroup\": \"Fit Line\", \"line\": {\"color\": \"black\", \"width\": 1}, \"mode\": \"lines\", \"name\": \"Fit Line\", \"showlegend\": false, \"type\": \"scatter\", \"x\": [0.0, 0.0696969696969697, 0.1393939393939394, 0.2090909090909091, 0.2787878787878788, 0.3484848484848485, 0.4181818181818182, 0.4878787878787879, 0.5575757575757576, 0.6272727272727273, 0.696969696969697, 0.7666666666666667, 0.8363636363636364, 0.9060606060606061, 0.9757575757575758, 1.0454545454545454, 1.1151515151515152, 1.184848484848485, 1.2545454545454546, 1.3242424242424242, 1.393939393939394, 1.4636363636363638, 1.5333333333333334, 1.603030303030303, 1.6727272727272728, 1.7424242424242427, 1.8121212121212122, 1.8818181818181818, 1.9515151515151516, 2.0212121212121215, 2.090909090909091, 2.1606060606060606, 2.2303030303030305, 2.3000000000000003, 2.36969696969697, 2.4393939393939394, 2.5090909090909093, 2.578787878787879, 2.6484848484848484, 2.7181818181818183, 2.787878787878788, 2.857575757575758, 2.9272727272727277, 2.996969696969697, 3.066666666666667, 3.1363636363636367, 3.206060606060606, 3.275757575757576, 3.3454545454545457, 3.4151515151515155, 3.4848484848484853, 3.5545454545454547, 3.6242424242424245, 3.6939393939393943, 3.7636363636363637, 3.8333333333333335, 3.9030303030303033, 3.972727272727273, 4.042424242424243, 4.112121212121212, 4.181818181818182, 4.251515151515152, 4.321212121212121, 4.3909090909090915, 4.460606060606061, 4.53030303030303, 4.6000000000000005, 4.66969696969697, 4.73939393939394, 4.8090909090909095, 4.878787878787879, 4.948484848484849, 5.0181818181818185, 5.087878787878788, 5.157575757575758, 5.2272727272727275, 5.296969696969697, 5.366666666666667, 5.4363636363636365, 5.506060606060607, 5.575757575757576, 5.6454545454545455, 5.715151515151516, 5.784848484848485, 5.854545454545455, 5.924242424242425, 5.993939393939394, 6.063636363636364, 6.133333333333334, 6.203030303030303, 6.272727272727273, 6.342424242424243, 6.412121212121212, 6.481818181818182, 6.551515151515152, 6.621212121212122, 6.690909090909091, 6.760606060606061, 6.830303030303031, 6.9], \"xaxis\": \"x2\", \"y\": [0.8639564847721756, 0.8621941721990098, 0.8604155109527716, 0.858620034766036, 0.8568071465415382, 0.8549760860246142, 0.8531258898578506, 0.8512553422393564, 0.8493629139961, 0.8474466873819355, 0.8455042632969784, 0.8435326468783334, 0.8415281065058013, 0.8394860001706772, 0.8374005618390066, 0.8352646388693533, 0.8330693696875396, 0.83080378875215, 0.8284543433554342, 0.8260043040148481, 0.8234330471927063, 0.8207151859929703, 0.8178195216197447, 0.8147077862485212, 0.8113331473855558, 0.8076384460689612, 0.8035541483598778, 0.7989960043582088, 0.7938624355149002, 0.7880317147876861, 0.781359072184932, 0.7736739585910808, 0.7647778414996659, 0.7544430925127862, 0.7424137550835218, 0.7284092319314369, 0.7121321556511674, 0.693281811257322, 0.6715743224650024, 0.6467702097995389, 0.6187087003279634, 0.5873462482271204, 0.552794307371898, 0.5153490798225753, 0.4755047499269143, 0.4339427233206669, 0.39149326348738456, 0.34907215523187013, 0.30760176501220915, 0.2679305224133084, 0.23076540103600424, 0.19662816295508442, 0.16583959688711508, 0.13852932402220938, 0.11466413615332127, 0.09408613852718452, 0.07655278060130165, 0.06177308200212667, 0.04943690272431894, 0.03923624927262355, 0.030879074745130713, 0.024096852127544914, 0.018647540946717462, 0.014315592659189101, 0.010910453470473534, 0.008264675697622384, 0.006232289906586854, 0.004687613814070434, 0.0035243102786822285, 0.0026543558109654976, 0.002006647297149615, 0.0015251649551685932, 0.0011667987418514446, 0.0008990499205640219, 0.0006978250205670243, 0.0005454799770168222, 0.00042919298428429633, 0.0003396771637434376, 0.0002702010139492181, 0.0002158646960950515, 0.0001730766489620469, 0.0001391805197510659, 0.00011219149688774445, 9.061059162538493e-05, 7.329368781626384e-05, 5.935876675029888e-05, 4.8119662619224936e-05, 3.903828049102352e-05, 3.168972617883965e-05, 2.573653855211942e-05, 2.090940566738968e-05, 1.6992555592193975e-05, 1.3812562048227891e-05, 1.1229678337295496e-05, 9.13106804350997e-06, 7.42547657819401e-06, 6.039009742300784e-06, 4.9117714414081845e-06, 3.995174026070123e-06, 3.2497791314704857e-06], \"yaxis\": \"y2\"}, {\"legendgroup\": \"Bands\", \"line\": {\"color\": \"red\", \"width\": 1}, \"mode\": \"lines\", \"name\": \"Bands\", \"type\": \"scatter\", \"x\": [0.0, 0.0696969696969697, 0.1393939393939394, 0.2090909090909091, 0.2787878787878788, 0.3484848484848485, 0.4181818181818182, 0.4878787878787879, 0.5575757575757576, 0.6272727272727273, 0.696969696969697, 0.7666666666666667, 0.8363636363636364, 0.9060606060606061, 0.9757575757575758, 1.0454545454545454, 1.1151515151515152, 1.184848484848485, 1.2545454545454546, 1.3242424242424242, 1.393939393939394, 1.4636363636363638, 1.5333333333333334, 1.603030303030303, 1.6727272727272728, 1.7424242424242427, 1.8121212121212122, 1.8818181818181818, 1.9515151515151516, 2.0212121212121215, 2.090909090909091, 2.1606060606060606, 2.2303030303030305, 2.3000000000000003, 2.36969696969697, 2.4393939393939394, 2.5090909090909093, 2.578787878787879, 2.6484848484848484, 2.7181818181818183, 2.787878787878788, 2.857575757575758, 2.9272727272727277, 2.996969696969697, 3.066666666666667, 3.1363636363636367, 3.206060606060606, 3.275757575757576, 3.3454545454545457, 3.4151515151515155, 3.4848484848484853, 3.5545454545454547, 3.6242424242424245, 3.6939393939393943, 3.7636363636363637, 3.8333333333333335, 3.9030303030303033, 3.972727272727273, 4.042424242424243, 4.112121212121212, 4.181818181818182, 4.251515151515152, 4.321212121212121, 4.3909090909090915, 4.460606060606061, 4.53030303030303, 4.6000000000000005, 4.66969696969697, 4.73939393939394, 4.8090909090909095, 4.878787878787879, 4.948484848484849, 5.0181818181818185, 5.087878787878788, 5.157575757575758, 5.2272727272727275, 5.296969696969697, 5.366666666666667, 5.4363636363636365, 5.506060606060607, 5.575757575757576, 5.6454545454545455, 5.715151515151516, 5.784848484848485, 5.854545454545455, 5.924242424242425, 5.993939393939394, 6.063636363636364, 6.133333333333334, 6.203030303030303, 6.272727272727273, 6.342424242424243, 6.412121212121212, 6.481818181818182, 6.551515151515152, 6.621212121212122, 6.690909090909091, 6.760606060606061, 6.830303030303031, 6.9], \"xaxis\": \"x2\", \"y\": [0.4, 0.4, 0.4, 0.4, 0.4, 0.4, 0.4, 0.4, 0.4, 0.4, 0.4, 0.4, 0.4, 0.4, 0.4, 0.4, 0.4, 0.4, 0.4, 0.4, 0.4, 0.4, 0.4, 0.4, 0.4, 0.4, 0.4, 0.4, 0.4, 0.4, 0.4, 0.4, 0.4, 0.4, 0.4, 0.4, 0.4, 0.4, 0.4, 0.4, 0.4, 0.4, 0.4, 0.4, 0.4, 0.4, 0.4, 0.4, 0.4, 0.4, 0.4, 0.4, 0.4, 0.4, 0.4, 0.4, 0.4, 0.4, 0.4, 0.4, 0.4, 0.4, 0.4, 0.4, 0.4, 0.4, 0.4, 0.4, 0.4, 0.4, 0.4, 0.4, 0.4, 0.4, 0.4, 0.4, 0.4, 0.4, 0.4, 0.4, 0.4, 0.4, 0.4, 0.4, 0.4, 0.4, 0.4, 0.4, 0.4, 0.4, 0.4, 0.4, 0.4, 0.4, 0.4, 0.4, 0.4, 0.4, 0.4, 0.4], \"yaxis\": \"y2\"}, {\"line\": {\"color\": \"green\", \"width\": 1}, \"mode\": \"lines\", \"name\": \"Discriminator\", \"type\": \"scatter\", \"x\": [0.0, 0.0696969696969697, 0.1393939393939394, 0.2090909090909091, 0.2787878787878788, 0.3484848484848485, 0.4181818181818182, 0.4878787878787879, 0.5575757575757576, 0.6272727272727273, 0.696969696969697, 0.7666666666666667, 0.8363636363636364, 0.9060606060606061, 0.9757575757575758, 1.0454545454545454, 1.1151515151515152, 1.184848484848485, 1.2545454545454546, 1.3242424242424242, 1.393939393939394, 1.4636363636363638, 1.5333333333333334, 1.603030303030303, 1.6727272727272728, 1.7424242424242427, 1.8121212121212122, 1.8818181818181818, 1.9515151515151516, 2.0212121212121215, 2.090909090909091, 2.1606060606060606, 2.2303030303030305, 2.3000000000000003, 2.36969696969697, 2.4393939393939394, 2.5090909090909093, 2.578787878787879, 2.6484848484848484, 2.7181818181818183, 2.787878787878788, 2.857575757575758, 2.9272727272727277, 2.996969696969697, 3.066666666666667, 3.1363636363636367, 3.206060606060606, 3.275757575757576, 3.3454545454545457, 3.4151515151515155, 3.4848484848484853, 3.5545454545454547, 3.6242424242424245, 3.6939393939393943, 3.7636363636363637, 3.8333333333333335, 3.9030303030303033, 3.972727272727273, 4.042424242424243, 4.112121212121212, 4.181818181818182, 4.251515151515152, 4.321212121212121, 4.3909090909090915, 4.460606060606061, 4.53030303030303, 4.6000000000000005, 4.66969696969697, 4.73939393939394, 4.8090909090909095, 4.878787878787879, 4.948484848484849, 5.0181818181818185, 5.087878787878788, 5.157575757575758, 5.2272727272727275, 5.296969696969697, 5.366666666666667, 5.4363636363636365, 5.506060606060607, 5.575757575757576, 5.6454545454545455, 5.715151515151516, 5.784848484848485, 5.854545454545455, 5.924242424242425, 5.993939393939394, 6.063636363636364, 6.133333333333334, 6.203030303030303, 6.272727272727273, 6.342424242424243, 6.412121212121212, 6.481818181818182, 6.551515151515152, 6.621212121212122, 6.690909090909091, 6.760606060606061, 6.830303030303031, 6.9], \"xaxis\": \"x2\", \"y\": [0.5, 0.5, 0.5, 0.5, 0.5, 0.5, 0.5, 0.5, 0.5, 0.5, 0.5, 0.5, 0.5, 0.5, 0.5, 0.5, 0.5, 0.5, 0.5, 0.5, 0.5, 0.5, 0.5, 0.5, 0.5, 0.5, 0.5, 0.5, 0.5, 0.5, 0.5, 0.5, 0.5, 0.5, 0.5, 0.5, 0.5, 0.5, 0.5, 0.5, 0.5, 0.5, 0.5, 0.5, 0.5, 0.5, 0.5, 0.5, 0.5, 0.5, 0.5, 0.5, 0.5, 0.5, 0.5, 0.5, 0.5, 0.5, 0.5, 0.5, 0.5, 0.5, 0.5, 0.5, 0.5, 0.5, 0.5, 0.5, 0.5, 0.5, 0.5, 0.5, 0.5, 0.5, 0.5, 0.5, 0.5, 0.5, 0.5, 0.5, 0.5, 0.5, 0.5, 0.5, 0.5, 0.5, 0.5, 0.5, 0.5, 0.5, 0.5, 0.5, 0.5, 0.5, 0.5, 0.5, 0.5, 0.5, 0.5, 0.5], \"yaxis\": \"y2\"}, {\"legendgroup\": \"Bands\", \"line\": {\"color\": \"red\", \"width\": 1}, \"mode\": \"lines\", \"name\": \"Bands\", \"showlegend\": false, \"type\": \"scatter\", \"x\": [0.0, 0.0696969696969697, 0.1393939393939394, 0.2090909090909091, 0.2787878787878788, 0.3484848484848485, 0.4181818181818182, 0.4878787878787879, 0.5575757575757576, 0.6272727272727273, 0.696969696969697, 0.7666666666666667, 0.8363636363636364, 0.9060606060606061, 0.9757575757575758, 1.0454545454545454, 1.1151515151515152, 1.184848484848485, 1.2545454545454546, 1.3242424242424242, 1.393939393939394, 1.4636363636363638, 1.5333333333333334, 1.603030303030303, 1.6727272727272728, 1.7424242424242427, 1.8121212121212122, 1.8818181818181818, 1.9515151515151516, 2.0212121212121215, 2.090909090909091, 2.1606060606060606, 2.2303030303030305, 2.3000000000000003, 2.36969696969697, 2.4393939393939394, 2.5090909090909093, 2.578787878787879, 2.6484848484848484, 2.7181818181818183, 2.787878787878788, 2.857575757575758, 2.9272727272727277, 2.996969696969697, 3.066666666666667, 3.1363636363636367, 3.206060606060606, 3.275757575757576, 3.3454545454545457, 3.4151515151515155, 3.4848484848484853, 3.5545454545454547, 3.6242424242424245, 3.6939393939393943, 3.7636363636363637, 3.8333333333333335, 3.9030303030303033, 3.972727272727273, 4.042424242424243, 4.112121212121212, 4.181818181818182, 4.251515151515152, 4.321212121212121, 4.3909090909090915, 4.460606060606061, 4.53030303030303, 4.6000000000000005, 4.66969696969697, 4.73939393939394, 4.8090909090909095, 4.878787878787879, 4.948484848484849, 5.0181818181818185, 5.087878787878788, 5.157575757575758, 5.2272727272727275, 5.296969696969697, 5.366666666666667, 5.4363636363636365, 5.506060606060607, 5.575757575757576, 5.6454545454545455, 5.715151515151516, 5.784848484848485, 5.854545454545455, 5.924242424242425, 5.993939393939394, 6.063636363636364, 6.133333333333334, 6.203030303030303, 6.272727272727273, 6.342424242424243, 6.412121212121212, 6.481818181818182, 6.551515151515152, 6.621212121212122, 6.690909090909091, 6.760606060606061, 6.830303030303031, 6.9], \"xaxis\": \"x2\", \"y\": [0.6, 0.6, 0.6, 0.6, 0.6, 0.6, 0.6, 0.6, 0.6, 0.6, 0.6, 0.6, 0.6, 0.6, 0.6, 0.6, 0.6, 0.6, 0.6, 0.6, 0.6, 0.6, 0.6, 0.6, 0.6, 0.6, 0.6, 0.6, 0.6, 0.6, 0.6, 0.6, 0.6, 0.6, 0.6, 0.6, 0.6, 0.6, 0.6, 0.6, 0.6, 0.6, 0.6, 0.6, 0.6, 0.6, 0.6, 0.6, 0.6, 0.6, 0.6, 0.6, 0.6, 0.6, 0.6, 0.6, 0.6, 0.6, 0.6, 0.6, 0.6, 0.6, 0.6, 0.6, 0.6, 0.6, 0.6, 0.6, 0.6, 0.6, 0.6, 0.6, 0.6, 0.6, 0.6, 0.6, 0.6, 0.6, 0.6, 0.6, 0.6, 0.6, 0.6, 0.6, 0.6, 0.6, 0.6, 0.6, 0.6, 0.6, 0.6, 0.6, 0.6, 0.6, 0.6, 0.6, 0.6, 0.6, 0.6, 0.6], \"yaxis\": \"y2\"}],\n",
       "                        {\"annotations\": [{\"font\": {\"size\": 16}, \"showarrow\": false, \"text\": \"$log\\\\_odds(setosa) = 7.92 + -2.92 \\\\times pet\\\\_len$\", \"x\": 0.225, \"xanchor\": \"center\", \"xref\": \"paper\", \"y\": 1.0, \"yanchor\": \"bottom\", \"yref\": \"paper\"}, {\"font\": {\"size\": 16}, \"showarrow\": false, \"text\": \"$Probability(setosa) = Logit(log\\\\_odds)$\", \"x\": 0.775, \"xanchor\": \"center\", \"xref\": \"paper\", \"y\": 1.0, \"yanchor\": \"bottom\", \"yref\": \"paper\"}], \"showlegend\": true, \"template\": {\"data\": {\"bar\": [{\"error_x\": {\"color\": \"#2a3f5f\"}, \"error_y\": {\"color\": \"#2a3f5f\"}, \"marker\": {\"line\": {\"color\": \"#E5ECF6\", \"width\": 0.5}}, \"type\": \"bar\"}], \"barpolar\": [{\"marker\": {\"line\": {\"color\": \"#E5ECF6\", \"width\": 0.5}}, \"type\": \"barpolar\"}], \"carpet\": [{\"aaxis\": {\"endlinecolor\": \"#2a3f5f\", \"gridcolor\": \"white\", \"linecolor\": \"white\", \"minorgridcolor\": \"white\", \"startlinecolor\": \"#2a3f5f\"}, \"baxis\": {\"endlinecolor\": \"#2a3f5f\", \"gridcolor\": \"white\", \"linecolor\": \"white\", \"minorgridcolor\": \"white\", \"startlinecolor\": \"#2a3f5f\"}, \"type\": \"carpet\"}], \"choropleth\": [{\"colorbar\": {\"outlinewidth\": 0, \"ticks\": \"\"}, \"type\": \"choropleth\"}], \"contour\": [{\"colorbar\": {\"outlinewidth\": 0, \"ticks\": \"\"}, \"colorscale\": [[0.0, \"#0d0887\"], [0.1111111111111111, \"#46039f\"], [0.2222222222222222, \"#7201a8\"], [0.3333333333333333, \"#9c179e\"], [0.4444444444444444, \"#bd3786\"], [0.5555555555555556, \"#d8576b\"], [0.6666666666666666, \"#ed7953\"], [0.7777777777777778, \"#fb9f3a\"], [0.8888888888888888, \"#fdca26\"], [1.0, \"#f0f921\"]], \"type\": \"contour\"}], \"contourcarpet\": [{\"colorbar\": {\"outlinewidth\": 0, \"ticks\": \"\"}, \"type\": \"contourcarpet\"}], \"heatmap\": [{\"colorbar\": {\"outlinewidth\": 0, \"ticks\": \"\"}, \"colorscale\": [[0.0, \"#0d0887\"], [0.1111111111111111, \"#46039f\"], [0.2222222222222222, \"#7201a8\"], [0.3333333333333333, \"#9c179e\"], [0.4444444444444444, \"#bd3786\"], [0.5555555555555556, \"#d8576b\"], [0.6666666666666666, \"#ed7953\"], [0.7777777777777778, \"#fb9f3a\"], [0.8888888888888888, \"#fdca26\"], [1.0, \"#f0f921\"]], \"type\": \"heatmap\"}], \"heatmapgl\": [{\"colorbar\": {\"outlinewidth\": 0, \"ticks\": \"\"}, \"colorscale\": [[0.0, \"#0d0887\"], [0.1111111111111111, \"#46039f\"], [0.2222222222222222, \"#7201a8\"], [0.3333333333333333, \"#9c179e\"], [0.4444444444444444, \"#bd3786\"], [0.5555555555555556, \"#d8576b\"], [0.6666666666666666, \"#ed7953\"], [0.7777777777777778, \"#fb9f3a\"], [0.8888888888888888, \"#fdca26\"], [1.0, \"#f0f921\"]], \"type\": \"heatmapgl\"}], \"histogram\": [{\"marker\": {\"colorbar\": {\"outlinewidth\": 0, \"ticks\": \"\"}}, \"type\": \"histogram\"}], \"histogram2d\": [{\"colorbar\": {\"outlinewidth\": 0, \"ticks\": \"\"}, \"colorscale\": [[0.0, \"#0d0887\"], [0.1111111111111111, \"#46039f\"], [0.2222222222222222, \"#7201a8\"], [0.3333333333333333, \"#9c179e\"], [0.4444444444444444, \"#bd3786\"], [0.5555555555555556, \"#d8576b\"], [0.6666666666666666, \"#ed7953\"], [0.7777777777777778, \"#fb9f3a\"], [0.8888888888888888, \"#fdca26\"], [1.0, \"#f0f921\"]], \"type\": \"histogram2d\"}], \"histogram2dcontour\": [{\"colorbar\": {\"outlinewidth\": 0, \"ticks\": \"\"}, \"colorscale\": [[0.0, \"#0d0887\"], [0.1111111111111111, \"#46039f\"], [0.2222222222222222, \"#7201a8\"], [0.3333333333333333, \"#9c179e\"], [0.4444444444444444, \"#bd3786\"], [0.5555555555555556, \"#d8576b\"], [0.6666666666666666, \"#ed7953\"], [0.7777777777777778, \"#fb9f3a\"], [0.8888888888888888, \"#fdca26\"], [1.0, \"#f0f921\"]], \"type\": \"histogram2dcontour\"}], \"mesh3d\": [{\"colorbar\": {\"outlinewidth\": 0, \"ticks\": \"\"}, \"type\": \"mesh3d\"}], \"parcoords\": [{\"line\": {\"colorbar\": {\"outlinewidth\": 0, \"ticks\": \"\"}}, \"type\": \"parcoords\"}], \"pie\": [{\"automargin\": true, \"type\": \"pie\"}], \"scatter\": [{\"marker\": {\"colorbar\": {\"outlinewidth\": 0, \"ticks\": \"\"}}, \"type\": \"scatter\"}], \"scatter3d\": [{\"line\": {\"colorbar\": {\"outlinewidth\": 0, \"ticks\": \"\"}}, \"marker\": {\"colorbar\": {\"outlinewidth\": 0, \"ticks\": \"\"}}, \"type\": \"scatter3d\"}], \"scattercarpet\": [{\"marker\": {\"colorbar\": {\"outlinewidth\": 0, \"ticks\": \"\"}}, \"type\": \"scattercarpet\"}], \"scattergeo\": [{\"marker\": {\"colorbar\": {\"outlinewidth\": 0, \"ticks\": \"\"}}, \"type\": \"scattergeo\"}], \"scattergl\": [{\"marker\": {\"colorbar\": {\"outlinewidth\": 0, \"ticks\": \"\"}}, \"type\": \"scattergl\"}], \"scattermapbox\": [{\"marker\": {\"colorbar\": {\"outlinewidth\": 0, \"ticks\": \"\"}}, \"type\": \"scattermapbox\"}], \"scatterpolar\": [{\"marker\": {\"colorbar\": {\"outlinewidth\": 0, \"ticks\": \"\"}}, \"type\": \"scatterpolar\"}], \"scatterpolargl\": [{\"marker\": {\"colorbar\": {\"outlinewidth\": 0, \"ticks\": \"\"}}, \"type\": \"scatterpolargl\"}], \"scatterternary\": [{\"marker\": {\"colorbar\": {\"outlinewidth\": 0, \"ticks\": \"\"}}, \"type\": \"scatterternary\"}], \"surface\": [{\"colorbar\": {\"outlinewidth\": 0, \"ticks\": \"\"}, \"colorscale\": [[0.0, \"#0d0887\"], [0.1111111111111111, \"#46039f\"], [0.2222222222222222, \"#7201a8\"], [0.3333333333333333, \"#9c179e\"], [0.4444444444444444, \"#bd3786\"], [0.5555555555555556, \"#d8576b\"], [0.6666666666666666, \"#ed7953\"], [0.7777777777777778, \"#fb9f3a\"], [0.8888888888888888, \"#fdca26\"], [1.0, \"#f0f921\"]], \"type\": \"surface\"}], \"table\": [{\"cells\": {\"fill\": {\"color\": \"#EBF0F8\"}, \"line\": {\"color\": \"white\"}}, \"header\": {\"fill\": {\"color\": \"#C8D4E3\"}, \"line\": {\"color\": \"white\"}}, \"type\": \"table\"}]}, \"layout\": {\"annotationdefaults\": {\"arrowcolor\": \"#2a3f5f\", \"arrowhead\": 0, \"arrowwidth\": 1}, \"coloraxis\": {\"colorbar\": {\"outlinewidth\": 0, \"ticks\": \"\"}}, \"colorscale\": {\"diverging\": [[0, \"#8e0152\"], [0.1, \"#c51b7d\"], [0.2, \"#de77ae\"], [0.3, \"#f1b6da\"], [0.4, \"#fde0ef\"], [0.5, \"#f7f7f7\"], [0.6, \"#e6f5d0\"], [0.7, \"#b8e186\"], [0.8, \"#7fbc41\"], [0.9, \"#4d9221\"], [1, \"#276419\"]], \"sequential\": [[0.0, \"#0d0887\"], [0.1111111111111111, \"#46039f\"], [0.2222222222222222, \"#7201a8\"], [0.3333333333333333, \"#9c179e\"], [0.4444444444444444, \"#bd3786\"], [0.5555555555555556, \"#d8576b\"], [0.6666666666666666, \"#ed7953\"], [0.7777777777777778, \"#fb9f3a\"], [0.8888888888888888, \"#fdca26\"], [1.0, \"#f0f921\"]], \"sequentialminus\": [[0.0, \"#0d0887\"], [0.1111111111111111, \"#46039f\"], [0.2222222222222222, \"#7201a8\"], [0.3333333333333333, \"#9c179e\"], [0.4444444444444444, \"#bd3786\"], [0.5555555555555556, \"#d8576b\"], [0.6666666666666666, \"#ed7953\"], [0.7777777777777778, \"#fb9f3a\"], [0.8888888888888888, \"#fdca26\"], [1.0, \"#f0f921\"]]}, \"colorway\": [\"#636efa\", \"#EF553B\", \"#00cc96\", \"#ab63fa\", \"#FFA15A\", \"#19d3f3\", \"#FF6692\", \"#B6E880\", \"#FF97FF\", \"#FECB52\"], \"font\": {\"color\": \"#2a3f5f\"}, \"geo\": {\"bgcolor\": \"white\", \"lakecolor\": \"white\", \"landcolor\": \"#E5ECF6\", \"showlakes\": true, \"showland\": true, \"subunitcolor\": \"white\"}, \"hoverlabel\": {\"align\": \"left\"}, \"hovermode\": \"closest\", \"mapbox\": {\"style\": \"light\"}, \"paper_bgcolor\": \"white\", \"plot_bgcolor\": \"#E5ECF6\", \"polar\": {\"angularaxis\": {\"gridcolor\": \"white\", \"linecolor\": \"white\", \"ticks\": \"\"}, \"bgcolor\": \"#E5ECF6\", \"radialaxis\": {\"gridcolor\": \"white\", \"linecolor\": \"white\", \"ticks\": \"\"}}, \"scene\": {\"xaxis\": {\"backgroundcolor\": \"#E5ECF6\", \"gridcolor\": \"white\", \"gridwidth\": 2, \"linecolor\": \"white\", \"showbackground\": true, \"ticks\": \"\", \"zerolinecolor\": \"white\"}, \"yaxis\": {\"backgroundcolor\": \"#E5ECF6\", \"gridcolor\": \"white\", \"gridwidth\": 2, \"linecolor\": \"white\", \"showbackground\": true, \"ticks\": \"\", \"zerolinecolor\": \"white\"}, \"zaxis\": {\"backgroundcolor\": \"#E5ECF6\", \"gridcolor\": \"white\", \"gridwidth\": 2, \"linecolor\": \"white\", \"showbackground\": true, \"ticks\": \"\", \"zerolinecolor\": \"white\"}}, \"shapedefaults\": {\"line\": {\"color\": \"#2a3f5f\"}}, \"ternary\": {\"aaxis\": {\"gridcolor\": \"white\", \"linecolor\": \"white\", \"ticks\": \"\"}, \"baxis\": {\"gridcolor\": \"white\", \"linecolor\": \"white\", \"ticks\": \"\"}, \"bgcolor\": \"#E5ECF6\", \"caxis\": {\"gridcolor\": \"white\", \"linecolor\": \"white\", \"ticks\": \"\"}}, \"title\": {\"x\": 0.05}, \"xaxis\": {\"automargin\": true, \"gridcolor\": \"white\", \"linecolor\": \"white\", \"ticks\": \"\", \"title\": {\"standoff\": 15}, \"zerolinecolor\": \"white\", \"zerolinewidth\": 2}, \"yaxis\": {\"automargin\": true, \"gridcolor\": \"white\", \"linecolor\": \"white\", \"ticks\": \"\", \"title\": {\"standoff\": 15}, \"zerolinecolor\": \"white\", \"zerolinewidth\": 2}}}, \"title\": {\"text\": \"Iris setosa vs. Other Varieties\"}, \"xaxis\": {\"anchor\": \"y\", \"domain\": [0.0, 0.45]}, \"xaxis2\": {\"anchor\": \"y2\", \"domain\": [0.55, 1.0]}, \"yaxis\": {\"anchor\": \"x\", \"domain\": [0.0, 1.0]}, \"yaxis2\": {\"anchor\": \"x2\", \"domain\": [0.0, 1.0]}},\n",
       "                        {\"responsive\": true}\n",
       "                    ).then(function(){\n",
       "                            \n",
       "var gd = document.getElementById('9537f314-5760-42a2-b0f9-d77068fbe039');\n",
       "var x = new MutationObserver(function (mutations, observer) {{\n",
       "        var display = window.getComputedStyle(gd).display;\n",
       "        if (!display || display === 'none') {{\n",
       "            console.log([gd, 'removed!']);\n",
       "            Plotly.purge(gd);\n",
       "            observer.disconnect();\n",
       "        }}\n",
       "}});\n",
       "\n",
       "// Listen for the removal of the full notebook cells\n",
       "var notebookContainer = gd.closest('#notebook-container');\n",
       "if (notebookContainer) {{\n",
       "    x.observe(notebookContainer, {childList: true});\n",
       "}}\n",
       "\n",
       "// Listen for the clearing of the current output cell\n",
       "var outputEl = gd.closest('.output');\n",
       "if (outputEl) {{\n",
       "    x.observe(outputEl, {childList: true});\n",
       "}}\n",
       "\n",
       "                        })\n",
       "                };\n",
       "                });\n",
       "            </script>\n",
       "        </div>"
      ]
     },
     "metadata": {},
     "output_type": "display_data"
    }
   ],
   "source": [
    "''' demonstrate what logistic regression is doing '''\n",
    "# feature & class to demo\n",
    "thisFeat = 'pet_len'\n",
    "thisVariety = 'setosa'\n",
    "\n",
    "# get data\n",
    "thisClass = np.argwhere(varieties==thisVariety)[0,0]\n",
    "demoData = np.atleast_2d(irisData[thisFeat].values).T\n",
    "demoLabl = irisData.Class.values\n",
    "\n",
    "# fit the logistic model for a single feature\n",
    "LR = LogisticRegression(multi_class='ovr', max_iter=500, n_jobs=-1, random_state=42)\n",
    "LR.fit(X=demoData, y=demoLabl)\n",
    "\n",
    "# obtain result for a single class against the others\n",
    "eqtn = '%0.2f + %0.2f \\\\times %s'%(LR.intercept_[thisClass], LR.coef_[thisClass],thisFeat.replace('_','\\\\_'))\n",
    "logOdds = LR.intercept_[thisClass] + demoData*LR.coef_[thisClass]\n",
    "probs = LR.predict_proba(X=demoData)[:,thisClass]\n",
    "plotDat = pd.DataFrame(np.c_[demoData,logOdds,probs],columns=['data','logodd','prob'])\n",
    "\n",
    "# create the fit lines\n",
    "X = np.squeeze(np.linspace(0,max(demoData),100))\n",
    "Yl = LR.intercept_[thisClass] + X*LR.coef_[thisClass]\n",
    "Yp = LR.predict_proba(X=np.atleast_2d(X).T)[:,thisClass]\n",
    "Yd = np.ones(shape=X.shape)\n",
    "\n",
    "# plot\n",
    "fig = plysub.make_subplots(rows=1, cols=2, print_grid=False,\n",
    "                           subplot_titles=['$log\\\\_odds(%s) = %s$'%(thisVariety,eqtn),\n",
    "                                           '$Probability(%s) = Logit(log\\\\_odds)$'%thisVariety])\n",
    "fig['layout'].update(title = 'Iris %s vs. Other Varieties'%thisVariety, showlegend=True)\n",
    "trcs = [go.Scatter(x=plotDat.data, y=plotDat.logodd, mode='markers', name='Log Odds'),\n",
    "       go.Scatter(x=X,y=Yl, mode='lines', name='Fit Line', line={'color':'black','width':1}, legendgroup='Fit Line')]\n",
    "for t in trcs:\n",
    "    fig.append_trace(t,1,1)\n",
    "trcs = [go.Scatter(x=plotDat.data, y=plotDat.prob, mode='markers', name='Probability'),\n",
    "        go.Scatter(x=X,y=Yp, mode='lines', name='Fit Line', line={'color':'black', 'width':1},legendgroup='Fit Line', showlegend=False),\n",
    "        go.Scatter(x=X,y=Yd*0.4, mode='lines', name='Bands', line={'color':'red', 'width':1}, legendgroup='Bands'),\n",
    "        go.Scatter(x=X,y=Yd*0.5, mode='lines', name='Discriminator', line={'color':'green', 'width':1}),\n",
    "        go.Scatter(x=X,y=Yd*0.6, mode='lines', name='Bands', line={'color':'red', 'width':1}, legendgroup='Bands', showlegend=False)]\n",
    "for t in trcs:\n",
    "    fig.append_trace(t,1,2)\n",
    "\n",
    "plyoff.iplot(fig)"
   ]
  },
  {
   "cell_type": "markdown",
   "metadata": {},
   "source": [
    "<a id=kernelsvm></a>\n",
    "### Model Fisher's Iris Data with the Kernel Support Vector Machine\n",
    "<a href=#top>Go to top</a> - <a href=#bottom>Go to bottom</a>\n",
    "#### The Kernel Trick\n",
    "The term *kernel* refers to a **Reproducing Kernel Hilbert Space**, first investigated by the mathematician Aronszajn in 1950. Applying a kernel to some data $X\\in\\mathbb{R}^{n\\times p}$ corresponds to nonlinearly mapping $X$ into a higher dimensional feature space $F$, then taking the dot product of all *pairs of observations* in this space.\n",
    "\n",
    "Instead of mapping the data then computing the dot product, we can simply compute a function $K\\left(X,X\\right)$ which is equivalent; this is called the *kernel trick*. Applying the kernel trick on a dataset of dimensions $n\\times p$ results in an $n\\times n$-sized **Gram matrix** $K$. Kernel-based machine learning techniques, such as kernel support vector machines, apply the specified statistical model to $K$, rather than $X$.\n",
    "\n",
    "While inflating this dimensionality seems counter-intuitive, the benefit we get is that clusters / groups in data can often be better separated in the higher-dimensional kernel space. This is because the elements of the $K$ matrix are all functions of\n",
    "distances between all pairs of observations in $X$.\n",
    "<center><img src=\"./kerneltrick_separation.png\" alt=\"Cluster Separation by the Kernel Trick\" width=\"700\"/></center>\n",
    "\n",
    "There are several kernel functions. The seven most common are:\n",
    "- Polynomial: $\\left(\\gamma x_i^\\prime x_j+c_0\\right)^d$ ($d=1$: linear, $d=2$: quadratic, $d=3$: cubic)\n",
    "- Gaussian RBF: $\\exp\\left(-\\gamma\\left\\Vert x_i-x_j\\right\\Vert^2\\right)$\n",
    "- Sigmoid: $\\tanh\\left(\\gamma x_i^\\prime x_j+c_0\\right)$\n",
    "- Laplace: $\\exp\\left(-\\gamma\\left\\Vert x_i-x_j\\right\\Vert_1\\right)$\n",
    "- Chi-squared: $\\exp\\left(-\\gamma\\sum_i\\left(\\frac{\\left(x_i-x_j\\right)^2}{x_i+x_j}\\right)\\right)$\n",
    "\n",
    "#### Support Vector Machines\n",
    "A binary **Support Vector Machine** (SVM) is a discriminative classifier formally defined by a separating hyperplane. In other words, given data $X$ with known class labels $Y$, the algorithm outputs a hyperplane, estimated using the features in $X$, which optimally separates the observations by class, with the widest separation margin.\n",
    "<center><img src=\"./svm.png\" alt=\"Support Vector Machine\" width=\"250\"/></center>\n",
    "\n",
    "The support vector machine is a generalization of discriminant analysis, in which $m\\le n$ observations are selected to estimate the separating hyperplane defined as\n",
    "$f\\left(x_i\\right) = b_0+\\sum_{j=1}^p b_ix_i^j,\\ j=1,\\ldots, p$.\n",
    "\n",
    "Under both discriminant analysis and support vector machines, the class prediction is defined by\n",
    "\n",
    "$\\hat{y}_i = \\begin{cases}1 & f\\left(x_i\\right) >= 0\\\\\n",
    "0 & f\\left(x_i\\right)<0\\end{cases}$.\n",
    "\n",
    "The intercept and coefficients of the discriminating hyperplane are optimized via quadratic programming:\n",
    "\n",
    "$\\begin{align}\n",
    "\\left(\\mathbf{b}^*,b_0^*\\right)=&\\underset{\\mathbf{b},b,\\xi}{\\min}\\left[\\frac{1}{2}\\mathbf{b}^\\prime\\mathbf{b}+C\\sum_{i=1}^n\\xi_i^d\\right]\\text{, subject to}\\\\\n",
    "&y_i\\left(b_0+\\mathbf{b}^\\prime x_i\\right) \\ge1-\\xi_i\\\\\n",
    "&i=1,\\ldots,m,\\ C>0,\\ \\xi_i\\ge0\n",
    "\\end{align}$\n",
    "\n",
    "When $d=1$, we say the SVM is *L1 soft margin trained*, otherwise, it's *L2 soft margin trained*; $C$ is a regularization constant. This is the primal optimization problem; in many cases, the dual is easier to solve.\n",
    "\n",
    "Note that the mathematical formulation actually requires $y_i\\in[1,-1]$, but this is a trivial modification from the usual $[0,1]$ setup. The binary support vector machine can be extended to multinary classification in the same way as logistic regression.\n",
    "\n",
    "#### Kernel Support Vector Machine\n",
    "Extension to Kernel SVM is straightforward - instead of using the raw data $X$ to estimate the separating hyperplane (and later prediction), the kernelized data $K$ is used."
   ]
  },
  {
   "cell_type": "code",
   "execution_count": 13,
   "metadata": {},
   "outputs": [
    {
     "name": "stdout",
     "output_type": "stream",
     "text": [
      "Correct classification rate for linear = 98.00%\n",
      "Correct classification rate for poly = 98.67%\n",
      "Correct classification rate for rbf = 99.33%\n",
      "Correct classification rate for sigmoid = 33.33%\n"
     ]
    }
   ],
   "source": [
    "''' evaluate performance in Feature Space with 4 kernels '''\n",
    "# get the data\n",
    "data = irisData[features].values\n",
    "labl = irisData.Class.values\n",
    "\n",
    "# setup to use the kernels\n",
    "kernels = {'linear':[{'degree':0, 'gamma':'auto', 'coef0':0},None,0.0], # no params needed\n",
    "         'poly':[{'degree':2, 'gamma':1/p, 'coef0':0},None,0.0],        # all params needed\n",
    "         'rbf':[{'degree':0, 'gamma':1/p, 'coef0':0},None,0.0],         # only gamma param needed\n",
    "         'sigmoid':[{'degree':0, 'gamma':1/p, 'coef0':0},None,0.0]}     # degree param neeed\n",
    "kernCnt = len(kernels)\n",
    "\n",
    "# iterate over each kernel to fit & score\n",
    "for kern,val in kernels.items():\n",
    "    # define the estimator\n",
    "    ksvm = SVC(kernel=kern, degree=val[0]['degree'], gamma=val[0]['gamma'], coef0=val[0]['coef0'], random_state=42)\n",
    "    kernels[kern][1] = ksvm\n",
    "    # fit & score\n",
    "    ksvm.fit(X=data, y=labl)\n",
    "    kernels[kern][2] = ksvm.score(X=data, y=labl)\n",
    "    # store predictions\n",
    "    irisData['%sSVMPred'%kern] = ksvm.predict(X=data)\n",
    "    # talk\n",
    "    print('Correct classification rate for %s = %0.2f%%'%(kern,100*val[2]))"
   ]
  },
  {
   "cell_type": "code",
   "execution_count": 14,
   "metadata": {},
   "outputs": [
    {
     "name": "stdout",
     "output_type": "stream",
     "text": [
      "rbf kernel svm Results\n",
      "++++++++++++++++++++++++++++++++++++++++++\n",
      "Correct Classification Rate: 99.33%\n",
      "Confusion Matrix\n"
     ]
    },
    {
     "data": {
      "text/html": [
       "<div>\n",
       "<style scoped>\n",
       "    .dataframe tbody tr th:only-of-type {\n",
       "        vertical-align: middle;\n",
       "    }\n",
       "\n",
       "    .dataframe tbody tr th {\n",
       "        vertical-align: top;\n",
       "    }\n",
       "\n",
       "    .dataframe thead th {\n",
       "        text-align: right;\n",
       "    }\n",
       "</style>\n",
       "<table border=\"1\" class=\"dataframe\">\n",
       "  <thead>\n",
       "    <tr style=\"text-align: right;\">\n",
       "      <th></th>\n",
       "      <th>setosa</th>\n",
       "      <th>versicolor</th>\n",
       "      <th>virginica</th>\n",
       "    </tr>\n",
       "  </thead>\n",
       "  <tbody>\n",
       "    <tr>\n",
       "      <th>setosa</th>\n",
       "      <td>50</td>\n",
       "      <td>0</td>\n",
       "      <td>0</td>\n",
       "    </tr>\n",
       "    <tr>\n",
       "      <th>versicolor</th>\n",
       "      <td>0</td>\n",
       "      <td>49</td>\n",
       "      <td>1</td>\n",
       "    </tr>\n",
       "    <tr>\n",
       "      <th>virginica</th>\n",
       "      <td>0</td>\n",
       "      <td>0</td>\n",
       "      <td>50</td>\n",
       "    </tr>\n",
       "  </tbody>\n",
       "</table>\n",
       "</div>"
      ],
      "text/plain": [
       "            setosa  versicolor  virginica\n",
       "setosa          50           0          0\n",
       "versicolor       0          49          1\n",
       "virginica        0           0         50"
      ]
     },
     "metadata": {},
     "output_type": "display_data"
    },
    {
     "name": "stdout",
     "output_type": "stream",
     "text": [
      "Prediction Errors\n"
     ]
    },
    {
     "data": {
      "text/html": [
       "<div>\n",
       "<style scoped>\n",
       "    .dataframe tbody tr th:only-of-type {\n",
       "        vertical-align: middle;\n",
       "    }\n",
       "\n",
       "    .dataframe tbody tr th {\n",
       "        vertical-align: top;\n",
       "    }\n",
       "\n",
       "    .dataframe thead th {\n",
       "        text-align: right;\n",
       "    }\n",
       "</style>\n",
       "<table border=\"1\" class=\"dataframe\">\n",
       "  <thead>\n",
       "    <tr style=\"text-align: right;\">\n",
       "      <th></th>\n",
       "      <th>Class</th>\n",
       "      <th>Variety</th>\n",
       "      <th>Color</th>\n",
       "      <th>sep_len</th>\n",
       "      <th>sep_wid</th>\n",
       "      <th>pet_len</th>\n",
       "      <th>pet_wid</th>\n",
       "      <th>sep_len_x_sep_wid</th>\n",
       "      <th>sep_len_x_pet_len</th>\n",
       "      <th>sep_len_x_pet_wid</th>\n",
       "      <th>sep_wid_x_pet_len</th>\n",
       "      <th>sep_wid_x_pet_wid</th>\n",
       "      <th>pet_len_x_pet_wid</th>\n",
       "      <th>LRPred</th>\n",
       "      <th>linearSVMPred</th>\n",
       "      <th>polySVMPred</th>\n",
       "      <th>rbfSVMPred</th>\n",
       "      <th>sigmoidSVMPred</th>\n",
       "    </tr>\n",
       "  </thead>\n",
       "  <tbody>\n",
       "    <tr>\n",
       "      <th>70</th>\n",
       "      <td>1</td>\n",
       "      <td>versicolor</td>\n",
       "      <td>#ff7f0e</td>\n",
       "      <td>5.9</td>\n",
       "      <td>3.2</td>\n",
       "      <td>4.8</td>\n",
       "      <td>1.8</td>\n",
       "      <td>18.88</td>\n",
       "      <td>28.32</td>\n",
       "      <td>10.62</td>\n",
       "      <td>15.36</td>\n",
       "      <td>5.76</td>\n",
       "      <td>8.64</td>\n",
       "      <td>2</td>\n",
       "      <td>2</td>\n",
       "      <td>1</td>\n",
       "      <td>2</td>\n",
       "      <td>2</td>\n",
       "    </tr>\n",
       "  </tbody>\n",
       "</table>\n",
       "</div>"
      ],
      "text/plain": [
       "    Class     Variety    Color  sep_len  sep_wid  pet_len  pet_wid  \\\n",
       "70      1  versicolor  #ff7f0e      5.9      3.2      4.8      1.8   \n",
       "\n",
       "    sep_len_x_sep_wid  sep_len_x_pet_len  sep_len_x_pet_wid  \\\n",
       "70              18.88              28.32              10.62   \n",
       "\n",
       "    sep_wid_x_pet_len  sep_wid_x_pet_wid  pet_len_x_pet_wid  LRPred  \\\n",
       "70              15.36               5.76               8.64       2   \n",
       "\n",
       "    linearSVMPred  polySVMPred  rbfSVMPred  sigmoidSVMPred  \n",
       "70              2            1           2               2  "
      ]
     },
     "metadata": {},
     "output_type": "display_data"
    }
   ],
   "source": [
    "''' evaluate the model '''\n",
    "thisKernel = 'rbf'\n",
    "# overall correct classification rate\n",
    "classRate = kernels[thisKernel][2]\n",
    "print('%s kernel svm Results\\n%s\\nCorrect Classification Rate: %0.2f%%'%(thisKernel,mysep,100*classRate))\n",
    "# confusion matrix\n",
    "confMat = myConfusionMatrix(labl, irisData['%sSVMPred'%thisKernel].values, range(k), varieties)\n",
    "print('Confusion Matrix')\n",
    "display(confMat)\n",
    "print('Prediction Errors')\n",
    "display(irisData[irisData.Class != irisData['%sSVMPred'%thisKernel]])"
   ]
  },
  {
   "cell_type": "markdown",
   "metadata": {},
   "source": [
    "The first three all outperformed logistic regression, but there is a possibility that these correct classification rates are all\n",
    "inflated because the model has been *overfit* to the observed data, which was used for both model estimation and model evaluation.  We can fix this with *cross-validation*."
   ]
  },
  {
   "cell_type": "markdown",
   "metadata": {},
   "source": [
    "<a id=crossval></a>\n",
    "### Machine Learning Technique - Cross-validation\n",
    "<a href=#top>Go to top</a> - <a href=#bottom>Go to bottom</a>\n",
    "\n",
    "Machine learning models are typically (as long as they are appropriate for the problem and data) very good at learning patterns in the data to which they are fit. This includes the random noise present in that data. A model that fits the data on which it was trained *too well* is said to be **overfit**. Overfitting is a problem because it limits the *generalizability* of a model to data other than that on which it was trained - it hurts subsequent *inference* and *prediction*. Overitting can be overcome by training and tuning a model on one dataset, then testing or evaluating it's performance on another dataset.\n",
    "\n",
    "**Cross-validation** is a process by which a dataset is partitioned into smaller datasets that are used for:\n",
    "- training / tuning a model\n",
    "- testing the performance of a model\n",
    "- evaluating multiple models or for early stopping (this is relatively recent, and optional)\n",
    "\n",
    "Testing a machine learning model on data other than that on which it was trained is beneficial for generalizability because the random noise component of the testing set will typically be different than the random noise in the training set. This is exactly analagous to the situation when new data is subsequently presented to a model. There are several different forms of cross-validation, but no matter which is used, the data is cross-validated multiple times, and the empirical distribution of model results on the testing sets - mean prediction accuracy, for example - is evaluated. **k-fold** is one form of cross-validation.\n",
    "\n",
    "In k-fold cross-validation, a dataset is partitioned (or *folded*) into training / testing sets $k$ times. In each partitioning, a sliding $\\frac{n}{k}$ window of data is defined to be the testing set, with the remaining $n\\times\\left(1-\\frac{1}{k}\\right)$ observations the training set. This can be seen here, for $k=5$.\n",
    "<center><img src=\"./kfoldcrossval_k5.png\" alt=\"5-fold Cross-validation\" width=\"500\"/></center>\n",
    "\n",
    "I tend not to use k-fold cross-validation, instead generally preferring **randomized cross-validation**. Randomized cross-validation does exactly what it sounds like - the modeler selects a proportion $p$ of the data to use for testing, and $n\\times p$ observations are selected uniformly randomly from the dataset as the testing set. The remaining $n\\left(1-p\\right)$ observations become the training set. Because the dataset is partitioned randomly, we generally perform many such random partitions (more than k-fold). Randomized cross-validation with $p=0.20$ may look as shown here (grey arrows indicate testing set).\n",
    "<center><img src=\"./randomcrossval_p20.png\" alt=\"Random Cross-validation\" width=\"400\"/></center>\n",
    "\n",
    "In the images above, the data is shown as data for a binary classification problem, indicated by the color of the markers. This should bring to mind a potential shortcoming of both forms of cross-validation shown here. If the data are being used for classification or clustering, and the proportion of data in any class are too small, it would be possible for a training / testing set to not represent all classes present in a dataset. This would hurt the generalizability which we hope to achieve by using cross-validation.\n",
    "\n",
    "**Stratified cross-validation** solves this - for both k-fold and randomized methods - by folding / randomizing such that the proportion of data in each class in the dataset is preserved in training / testing sets."
   ]
  },
  {
   "cell_type": "code",
   "execution_count": 15,
   "metadata": {},
   "outputs": [
    {
     "name": "stdout",
     "output_type": "stream",
     "text": [
      "Random split 0020 of 0100\n",
      "Random split 0040 of 0100\n",
      "Random split 0060 of 0100\n",
      "Random split 0080 of 0100\n",
      "Random split 0100 of 0100\n"
     ]
    },
    {
     "data": {
      "text/html": [
       "<div>\n",
       "<style scoped>\n",
       "    .dataframe tbody tr th:only-of-type {\n",
       "        vertical-align: middle;\n",
       "    }\n",
       "\n",
       "    .dataframe tbody tr th {\n",
       "        vertical-align: top;\n",
       "    }\n",
       "\n",
       "    .dataframe thead th {\n",
       "        text-align: right;\n",
       "    }\n",
       "</style>\n",
       "<table border=\"1\" class=\"dataframe\">\n",
       "  <thead>\n",
       "    <tr style=\"text-align: right;\">\n",
       "      <th></th>\n",
       "      <th>linear_trn</th>\n",
       "      <th>linear_tst</th>\n",
       "      <th>poly_trn</th>\n",
       "      <th>poly_tst</th>\n",
       "      <th>rbf_trn</th>\n",
       "      <th>rbf_tst</th>\n",
       "      <th>sigmoid_trn</th>\n",
       "      <th>sigmoid_tst</th>\n",
       "    </tr>\n",
       "  </thead>\n",
       "  <tbody>\n",
       "    <tr>\n",
       "      <th>count</th>\n",
       "      <td>100.000000</td>\n",
       "      <td>100.000000</td>\n",
       "      <td>100.000000</td>\n",
       "      <td>100.000000</td>\n",
       "      <td>100.000000</td>\n",
       "      <td>100.000000</td>\n",
       "      <td>1.000000e+02</td>\n",
       "      <td>1.000000e+02</td>\n",
       "    </tr>\n",
       "    <tr>\n",
       "      <th>mean</th>\n",
       "      <td>0.983500</td>\n",
       "      <td>0.960333</td>\n",
       "      <td>0.989750</td>\n",
       "      <td>0.962000</td>\n",
       "      <td>0.994167</td>\n",
       "      <td>0.948333</td>\n",
       "      <td>3.333333e-01</td>\n",
       "      <td>3.333333e-01</td>\n",
       "    </tr>\n",
       "    <tr>\n",
       "      <th>std</th>\n",
       "      <td>0.006037</td>\n",
       "      <td>0.035987</td>\n",
       "      <td>0.007287</td>\n",
       "      <td>0.035143</td>\n",
       "      <td>0.006097</td>\n",
       "      <td>0.038599</td>\n",
       "      <td>3.905356e-16</td>\n",
       "      <td>3.905356e-16</td>\n",
       "    </tr>\n",
       "    <tr>\n",
       "      <th>min</th>\n",
       "      <td>0.975000</td>\n",
       "      <td>0.833333</td>\n",
       "      <td>0.975000</td>\n",
       "      <td>0.866667</td>\n",
       "      <td>0.975000</td>\n",
       "      <td>0.833333</td>\n",
       "      <td>3.333333e-01</td>\n",
       "      <td>3.333333e-01</td>\n",
       "    </tr>\n",
       "    <tr>\n",
       "      <th>25%</th>\n",
       "      <td>0.983333</td>\n",
       "      <td>0.933333</td>\n",
       "      <td>0.983333</td>\n",
       "      <td>0.933333</td>\n",
       "      <td>0.991667</td>\n",
       "      <td>0.933333</td>\n",
       "      <td>3.333333e-01</td>\n",
       "      <td>3.333333e-01</td>\n",
       "    </tr>\n",
       "    <tr>\n",
       "      <th>50%</th>\n",
       "      <td>0.983333</td>\n",
       "      <td>0.966667</td>\n",
       "      <td>0.987500</td>\n",
       "      <td>0.966667</td>\n",
       "      <td>0.991667</td>\n",
       "      <td>0.966667</td>\n",
       "      <td>3.333333e-01</td>\n",
       "      <td>3.333333e-01</td>\n",
       "    </tr>\n",
       "    <tr>\n",
       "      <th>75%</th>\n",
       "      <td>0.985417</td>\n",
       "      <td>1.000000</td>\n",
       "      <td>1.000000</td>\n",
       "      <td>1.000000</td>\n",
       "      <td>1.000000</td>\n",
       "      <td>0.966667</td>\n",
       "      <td>3.333333e-01</td>\n",
       "      <td>3.333333e-01</td>\n",
       "    </tr>\n",
       "    <tr>\n",
       "      <th>max</th>\n",
       "      <td>1.000000</td>\n",
       "      <td>1.000000</td>\n",
       "      <td>1.000000</td>\n",
       "      <td>1.000000</td>\n",
       "      <td>1.000000</td>\n",
       "      <td>1.000000</td>\n",
       "      <td>3.333333e-01</td>\n",
       "      <td>3.333333e-01</td>\n",
       "    </tr>\n",
       "  </tbody>\n",
       "</table>\n",
       "</div>"
      ],
      "text/plain": [
       "       linear_trn  linear_tst    poly_trn    poly_tst     rbf_trn     rbf_tst  \\\n",
       "count  100.000000  100.000000  100.000000  100.000000  100.000000  100.000000   \n",
       "mean     0.983500    0.960333    0.989750    0.962000    0.994167    0.948333   \n",
       "std      0.006037    0.035987    0.007287    0.035143    0.006097    0.038599   \n",
       "min      0.975000    0.833333    0.975000    0.866667    0.975000    0.833333   \n",
       "25%      0.983333    0.933333    0.983333    0.933333    0.991667    0.933333   \n",
       "50%      0.983333    0.966667    0.987500    0.966667    0.991667    0.966667   \n",
       "75%      0.985417    1.000000    1.000000    1.000000    1.000000    0.966667   \n",
       "max      1.000000    1.000000    1.000000    1.000000    1.000000    1.000000   \n",
       "\n",
       "        sigmoid_trn   sigmoid_tst  \n",
       "count  1.000000e+02  1.000000e+02  \n",
       "mean   3.333333e-01  3.333333e-01  \n",
       "std    3.905356e-16  3.905356e-16  \n",
       "min    3.333333e-01  3.333333e-01  \n",
       "25%    3.333333e-01  3.333333e-01  \n",
       "50%    3.333333e-01  3.333333e-01  \n",
       "75%    3.333333e-01  3.333333e-01  \n",
       "max    3.333333e-01  3.333333e-01  "
      ]
     },
     "metadata": {},
     "output_type": "display_data"
    }
   ],
   "source": [
    "''' overfitting to the observed data is an important concern, so apply cross-validation '''\n",
    "# get the data\n",
    "data = irisData[features].values\n",
    "labl = irisData.Class.values\n",
    "\n",
    "# set up the randomized cross-validator\n",
    "splits = 100\n",
    "testSize = 0.20\n",
    "crossVal = StratifiedShuffleSplit(splits, test_size=testSize, random_state=42)\n",
    "\n",
    "# perform the cross-validation model evaluation; if I only wanted the test score, could have used\n",
    "# the cross_val_score object, but then the 4 kernels would not be evaluated on the same dataset each\n",
    "# time, which could induce bias\n",
    "crossValKernelScores = np.zeros((2,splits, kernCnt),dtype=float)\n",
    "talkFreq = int(0.2*splits)\n",
    "for i,(trn,tst) in enumerate(crossVal.split(data, labl)):\n",
    "    # talk\n",
    "    if (i+1) % talkFreq == 0:\n",
    "        print('Random split %04d of %04d'%(i+1,splits))\n",
    "    # get the training / testing data\n",
    "    trnData = data[trn]; trnLabl = labl[trn]\n",
    "    tstData = data[tst]; tstLabl = labl[tst]\n",
    "    # iterate over each kernel to fit & score\n",
    "    for j,(kern,val) in enumerate(kernels.items()):\n",
    "        # define the estimator\n",
    "        ksvm = SVC(kernel=kern, degree=val[0]['degree'], gamma=val[0]['gamma'], coef0=val[0]['coef0'], random_state=42)\n",
    "        # fit & score\n",
    "        ksvm.fit(X=trnData, y=trnLabl)\n",
    "        crossValKernelScores[0,i,j] = ksvm.score(X=trnData, y=trnLabl)\n",
    "        crossValKernelScores[1,i,j] = ksvm.score(X=tstData, y=tstLabl)\n",
    "    \n",
    "# summarize & talk\n",
    "trnScores = pd.DataFrame(data=crossValKernelScores[0,:,:], columns=kernels.keys())\n",
    "tstScores = pd.DataFrame(data=crossValKernelScores[1,:,:], columns=kernels.keys())\n",
    "scores = trnScores.join(tstScores, how='inner', lsuffix='_trn', rsuffix='_tst').sort_index(axis=1)\n",
    "display(scores.describe())"
   ]
  },
  {
   "cell_type": "code",
   "execution_count": 16,
   "metadata": {},
   "outputs": [
    {
     "data": {
      "application/vnd.plotly.v1+json": {
       "config": {
        "linkText": "Export to plot.ly",
        "plotlyServerURL": "https://plot.ly",
        "showLink": false
       },
       "data": [
        {
         "boxmean": "sd",
         "boxpoints": "outliers",
         "name": "linear",
         "type": "box",
         "y": [
          1,
          0.9666666666666667,
          0.9333333333333333,
          0.9666666666666667,
          0.9333333333333333,
          0.9333333333333333,
          1,
          0.9666666666666667,
          0.9666666666666667,
          0.9333333333333333,
          0.9666666666666667,
          0.9333333333333333,
          0.9333333333333333,
          1,
          0.9666666666666667,
          1,
          1,
          0.9666666666666667,
          0.9,
          0.9333333333333333,
          0.9666666666666667,
          1,
          0.9666666666666667,
          0.9333333333333333,
          0.9333333333333333,
          0.9333333333333333,
          1,
          1,
          0.9666666666666667,
          0.9666666666666667,
          0.9666666666666667,
          0.9666666666666667,
          1,
          0.9666666666666667,
          0.9666666666666667,
          0.9666666666666667,
          0.9666666666666667,
          1,
          1,
          0.9333333333333333,
          1,
          1,
          0.9666666666666667,
          0.9666666666666667,
          0.9,
          0.9666666666666667,
          1,
          0.9666666666666667,
          1,
          0.9333333333333333,
          0.9,
          1,
          0.9333333333333333,
          1,
          0.9666666666666667,
          0.9333333333333333,
          0.9666666666666667,
          0.9666666666666667,
          1,
          0.9666666666666667,
          0.9,
          0.9666666666666667,
          0.9666666666666667,
          0.9666666666666667,
          0.9,
          0.9666666666666667,
          0.9666666666666667,
          1,
          0.9666666666666667,
          1,
          1,
          0.9333333333333333,
          0.9,
          0.9,
          1,
          1,
          1,
          1,
          0.9,
          0.9333333333333333,
          1,
          0.9,
          0.9,
          1,
          1,
          0.9666666666666667,
          0.9666666666666667,
          1,
          0.9666666666666667,
          1,
          0.9,
          0.8333333333333334,
          0.9666666666666667,
          0.9333333333333333,
          0.8666666666666667,
          0.9333333333333333,
          0.9666666666666667,
          0.9333333333333333,
          0.9666666666666667,
          0.9333333333333333
         ]
        },
        {
         "boxmean": "sd",
         "boxpoints": "outliers",
         "name": "poly",
         "type": "box",
         "y": [
          1,
          0.9666666666666667,
          0.9666666666666667,
          0.9666666666666667,
          0.9,
          0.9333333333333333,
          1,
          0.9666666666666667,
          0.9333333333333333,
          0.9333333333333333,
          0.9333333333333333,
          1,
          0.9333333333333333,
          1,
          0.9666666666666667,
          0.9,
          1,
          0.9666666666666667,
          0.9,
          0.9333333333333333,
          1,
          1,
          1,
          0.9333333333333333,
          0.9666666666666667,
          0.9666666666666667,
          1,
          1,
          0.9666666666666667,
          0.9333333333333333,
          1,
          0.9666666666666667,
          1,
          0.9333333333333333,
          0.9666666666666667,
          0.9333333333333333,
          0.9666666666666667,
          1,
          1,
          0.9333333333333333,
          1,
          1,
          1,
          0.9666666666666667,
          0.9333333333333333,
          0.9666666666666667,
          1,
          0.9666666666666667,
          1,
          0.9333333333333333,
          0.9,
          1,
          0.9666666666666667,
          1,
          0.9666666666666667,
          0.9,
          0.9666666666666667,
          0.9666666666666667,
          1,
          0.9333333333333333,
          0.9,
          0.9666666666666667,
          0.9666666666666667,
          0.9666666666666667,
          0.9,
          0.9666666666666667,
          0.9666666666666667,
          1,
          1,
          1,
          1,
          0.9333333333333333,
          0.9333333333333333,
          0.9333333333333333,
          1,
          1,
          1,
          1,
          0.9333333333333333,
          0.9666666666666667,
          1,
          0.9333333333333333,
          0.9666666666666667,
          1,
          0.9333333333333333,
          0.9666666666666667,
          0.9666666666666667,
          1,
          0.9666666666666667,
          1,
          0.9333333333333333,
          0.8666666666666667,
          0.9333333333333333,
          0.9333333333333333,
          0.8666666666666667,
          0.9,
          0.9,
          0.9333333333333333,
          0.9666666666666667,
          0.9666666666666667
         ]
        },
        {
         "boxmean": "sd",
         "boxpoints": "outliers",
         "name": "rbf",
         "type": "box",
         "y": [
          0.9666666666666667,
          0.9666666666666667,
          0.9666666666666667,
          1,
          0.8666666666666667,
          0.9333333333333333,
          1,
          0.9666666666666667,
          0.9333333333333333,
          0.9333333333333333,
          0.9,
          0.9666666666666667,
          0.9333333333333333,
          1,
          0.9666666666666667,
          0.9666666666666667,
          0.9666666666666667,
          0.9666666666666667,
          0.9,
          0.9333333333333333,
          0.9666666666666667,
          1,
          0.9333333333333333,
          0.9666666666666667,
          0.9,
          0.9,
          1,
          1,
          0.9666666666666667,
          0.9,
          0.9,
          0.9,
          1,
          0.8333333333333334,
          0.9666666666666667,
          0.9333333333333333,
          0.9333333333333333,
          1,
          1,
          0.9333333333333333,
          1,
          0.9333333333333333,
          1,
          0.9666666666666667,
          0.9333333333333333,
          0.9333333333333333,
          1,
          0.9333333333333333,
          0.9666666666666667,
          0.8666666666666667,
          0.8666666666666667,
          0.9666666666666667,
          0.9666666666666667,
          0.9666666666666667,
          0.9666666666666667,
          0.9666666666666667,
          0.9666666666666667,
          0.9666666666666667,
          0.9666666666666667,
          0.9666666666666667,
          0.9,
          0.9,
          0.9666666666666667,
          0.9666666666666667,
          0.9333333333333333,
          0.9333333333333333,
          0.9,
          0.9666666666666667,
          0.9666666666666667,
          1,
          1,
          0.9333333333333333,
          0.9333333333333333,
          0.9333333333333333,
          0.9333333333333333,
          1,
          1,
          0.9666666666666667,
          0.9666666666666667,
          0.9,
          1,
          0.9,
          0.9666666666666667,
          0.9666666666666667,
          0.9333333333333333,
          0.9666666666666667,
          0.9666666666666667,
          0.9666666666666667,
          0.9666666666666667,
          1,
          0.9333333333333333,
          0.9,
          0.9333333333333333,
          0.9,
          0.8666666666666667,
          0.9,
          0.8666666666666667,
          0.9333333333333333,
          0.9666666666666667,
          0.9333333333333333
         ]
        }
       ],
       "layout": {
        "autosize": true,
        "template": {
         "data": {
          "bar": [
           {
            "error_x": {
             "color": "#2a3f5f"
            },
            "error_y": {
             "color": "#2a3f5f"
            },
            "marker": {
             "line": {
              "color": "#E5ECF6",
              "width": 0.5
             }
            },
            "type": "bar"
           }
          ],
          "barpolar": [
           {
            "marker": {
             "line": {
              "color": "#E5ECF6",
              "width": 0.5
             }
            },
            "type": "barpolar"
           }
          ],
          "carpet": [
           {
            "aaxis": {
             "endlinecolor": "#2a3f5f",
             "gridcolor": "white",
             "linecolor": "white",
             "minorgridcolor": "white",
             "startlinecolor": "#2a3f5f"
            },
            "baxis": {
             "endlinecolor": "#2a3f5f",
             "gridcolor": "white",
             "linecolor": "white",
             "minorgridcolor": "white",
             "startlinecolor": "#2a3f5f"
            },
            "type": "carpet"
           }
          ],
          "choropleth": [
           {
            "colorbar": {
             "outlinewidth": 0,
             "ticks": ""
            },
            "type": "choropleth"
           }
          ],
          "contour": [
           {
            "colorbar": {
             "outlinewidth": 0,
             "ticks": ""
            },
            "colorscale": [
             [
              0,
              "#0d0887"
             ],
             [
              0.1111111111111111,
              "#46039f"
             ],
             [
              0.2222222222222222,
              "#7201a8"
             ],
             [
              0.3333333333333333,
              "#9c179e"
             ],
             [
              0.4444444444444444,
              "#bd3786"
             ],
             [
              0.5555555555555556,
              "#d8576b"
             ],
             [
              0.6666666666666666,
              "#ed7953"
             ],
             [
              0.7777777777777778,
              "#fb9f3a"
             ],
             [
              0.8888888888888888,
              "#fdca26"
             ],
             [
              1,
              "#f0f921"
             ]
            ],
            "type": "contour"
           }
          ],
          "contourcarpet": [
           {
            "colorbar": {
             "outlinewidth": 0,
             "ticks": ""
            },
            "type": "contourcarpet"
           }
          ],
          "heatmap": [
           {
            "colorbar": {
             "outlinewidth": 0,
             "ticks": ""
            },
            "colorscale": [
             [
              0,
              "#0d0887"
             ],
             [
              0.1111111111111111,
              "#46039f"
             ],
             [
              0.2222222222222222,
              "#7201a8"
             ],
             [
              0.3333333333333333,
              "#9c179e"
             ],
             [
              0.4444444444444444,
              "#bd3786"
             ],
             [
              0.5555555555555556,
              "#d8576b"
             ],
             [
              0.6666666666666666,
              "#ed7953"
             ],
             [
              0.7777777777777778,
              "#fb9f3a"
             ],
             [
              0.8888888888888888,
              "#fdca26"
             ],
             [
              1,
              "#f0f921"
             ]
            ],
            "type": "heatmap"
           }
          ],
          "heatmapgl": [
           {
            "colorbar": {
             "outlinewidth": 0,
             "ticks": ""
            },
            "colorscale": [
             [
              0,
              "#0d0887"
             ],
             [
              0.1111111111111111,
              "#46039f"
             ],
             [
              0.2222222222222222,
              "#7201a8"
             ],
             [
              0.3333333333333333,
              "#9c179e"
             ],
             [
              0.4444444444444444,
              "#bd3786"
             ],
             [
              0.5555555555555556,
              "#d8576b"
             ],
             [
              0.6666666666666666,
              "#ed7953"
             ],
             [
              0.7777777777777778,
              "#fb9f3a"
             ],
             [
              0.8888888888888888,
              "#fdca26"
             ],
             [
              1,
              "#f0f921"
             ]
            ],
            "type": "heatmapgl"
           }
          ],
          "histogram": [
           {
            "marker": {
             "colorbar": {
              "outlinewidth": 0,
              "ticks": ""
             }
            },
            "type": "histogram"
           }
          ],
          "histogram2d": [
           {
            "colorbar": {
             "outlinewidth": 0,
             "ticks": ""
            },
            "colorscale": [
             [
              0,
              "#0d0887"
             ],
             [
              0.1111111111111111,
              "#46039f"
             ],
             [
              0.2222222222222222,
              "#7201a8"
             ],
             [
              0.3333333333333333,
              "#9c179e"
             ],
             [
              0.4444444444444444,
              "#bd3786"
             ],
             [
              0.5555555555555556,
              "#d8576b"
             ],
             [
              0.6666666666666666,
              "#ed7953"
             ],
             [
              0.7777777777777778,
              "#fb9f3a"
             ],
             [
              0.8888888888888888,
              "#fdca26"
             ],
             [
              1,
              "#f0f921"
             ]
            ],
            "type": "histogram2d"
           }
          ],
          "histogram2dcontour": [
           {
            "colorbar": {
             "outlinewidth": 0,
             "ticks": ""
            },
            "colorscale": [
             [
              0,
              "#0d0887"
             ],
             [
              0.1111111111111111,
              "#46039f"
             ],
             [
              0.2222222222222222,
              "#7201a8"
             ],
             [
              0.3333333333333333,
              "#9c179e"
             ],
             [
              0.4444444444444444,
              "#bd3786"
             ],
             [
              0.5555555555555556,
              "#d8576b"
             ],
             [
              0.6666666666666666,
              "#ed7953"
             ],
             [
              0.7777777777777778,
              "#fb9f3a"
             ],
             [
              0.8888888888888888,
              "#fdca26"
             ],
             [
              1,
              "#f0f921"
             ]
            ],
            "type": "histogram2dcontour"
           }
          ],
          "mesh3d": [
           {
            "colorbar": {
             "outlinewidth": 0,
             "ticks": ""
            },
            "type": "mesh3d"
           }
          ],
          "parcoords": [
           {
            "line": {
             "colorbar": {
              "outlinewidth": 0,
              "ticks": ""
             }
            },
            "type": "parcoords"
           }
          ],
          "pie": [
           {
            "automargin": true,
            "type": "pie"
           }
          ],
          "scatter": [
           {
            "marker": {
             "colorbar": {
              "outlinewidth": 0,
              "ticks": ""
             }
            },
            "type": "scatter"
           }
          ],
          "scatter3d": [
           {
            "line": {
             "colorbar": {
              "outlinewidth": 0,
              "ticks": ""
             }
            },
            "marker": {
             "colorbar": {
              "outlinewidth": 0,
              "ticks": ""
             }
            },
            "type": "scatter3d"
           }
          ],
          "scattercarpet": [
           {
            "marker": {
             "colorbar": {
              "outlinewidth": 0,
              "ticks": ""
             }
            },
            "type": "scattercarpet"
           }
          ],
          "scattergeo": [
           {
            "marker": {
             "colorbar": {
              "outlinewidth": 0,
              "ticks": ""
             }
            },
            "type": "scattergeo"
           }
          ],
          "scattergl": [
           {
            "marker": {
             "colorbar": {
              "outlinewidth": 0,
              "ticks": ""
             }
            },
            "type": "scattergl"
           }
          ],
          "scattermapbox": [
           {
            "marker": {
             "colorbar": {
              "outlinewidth": 0,
              "ticks": ""
             }
            },
            "type": "scattermapbox"
           }
          ],
          "scatterpolar": [
           {
            "marker": {
             "colorbar": {
              "outlinewidth": 0,
              "ticks": ""
             }
            },
            "type": "scatterpolar"
           }
          ],
          "scatterpolargl": [
           {
            "marker": {
             "colorbar": {
              "outlinewidth": 0,
              "ticks": ""
             }
            },
            "type": "scatterpolargl"
           }
          ],
          "scatterternary": [
           {
            "marker": {
             "colorbar": {
              "outlinewidth": 0,
              "ticks": ""
             }
            },
            "type": "scatterternary"
           }
          ],
          "surface": [
           {
            "colorbar": {
             "outlinewidth": 0,
             "ticks": ""
            },
            "colorscale": [
             [
              0,
              "#0d0887"
             ],
             [
              0.1111111111111111,
              "#46039f"
             ],
             [
              0.2222222222222222,
              "#7201a8"
             ],
             [
              0.3333333333333333,
              "#9c179e"
             ],
             [
              0.4444444444444444,
              "#bd3786"
             ],
             [
              0.5555555555555556,
              "#d8576b"
             ],
             [
              0.6666666666666666,
              "#ed7953"
             ],
             [
              0.7777777777777778,
              "#fb9f3a"
             ],
             [
              0.8888888888888888,
              "#fdca26"
             ],
             [
              1,
              "#f0f921"
             ]
            ],
            "type": "surface"
           }
          ],
          "table": [
           {
            "cells": {
             "fill": {
              "color": "#EBF0F8"
             },
             "line": {
              "color": "white"
             }
            },
            "header": {
             "fill": {
              "color": "#C8D4E3"
             },
             "line": {
              "color": "white"
             }
            },
            "type": "table"
           }
          ]
         },
         "layout": {
          "annotationdefaults": {
           "arrowcolor": "#2a3f5f",
           "arrowhead": 0,
           "arrowwidth": 1
          },
          "coloraxis": {
           "colorbar": {
            "outlinewidth": 0,
            "ticks": ""
           }
          },
          "colorscale": {
           "diverging": [
            [
             0,
             "#8e0152"
            ],
            [
             0.1,
             "#c51b7d"
            ],
            [
             0.2,
             "#de77ae"
            ],
            [
             0.3,
             "#f1b6da"
            ],
            [
             0.4,
             "#fde0ef"
            ],
            [
             0.5,
             "#f7f7f7"
            ],
            [
             0.6,
             "#e6f5d0"
            ],
            [
             0.7,
             "#b8e186"
            ],
            [
             0.8,
             "#7fbc41"
            ],
            [
             0.9,
             "#4d9221"
            ],
            [
             1,
             "#276419"
            ]
           ],
           "sequential": [
            [
             0,
             "#0d0887"
            ],
            [
             0.1111111111111111,
             "#46039f"
            ],
            [
             0.2222222222222222,
             "#7201a8"
            ],
            [
             0.3333333333333333,
             "#9c179e"
            ],
            [
             0.4444444444444444,
             "#bd3786"
            ],
            [
             0.5555555555555556,
             "#d8576b"
            ],
            [
             0.6666666666666666,
             "#ed7953"
            ],
            [
             0.7777777777777778,
             "#fb9f3a"
            ],
            [
             0.8888888888888888,
             "#fdca26"
            ],
            [
             1,
             "#f0f921"
            ]
           ],
           "sequentialminus": [
            [
             0,
             "#0d0887"
            ],
            [
             0.1111111111111111,
             "#46039f"
            ],
            [
             0.2222222222222222,
             "#7201a8"
            ],
            [
             0.3333333333333333,
             "#9c179e"
            ],
            [
             0.4444444444444444,
             "#bd3786"
            ],
            [
             0.5555555555555556,
             "#d8576b"
            ],
            [
             0.6666666666666666,
             "#ed7953"
            ],
            [
             0.7777777777777778,
             "#fb9f3a"
            ],
            [
             0.8888888888888888,
             "#fdca26"
            ],
            [
             1,
             "#f0f921"
            ]
           ]
          },
          "colorway": [
           "#636efa",
           "#EF553B",
           "#00cc96",
           "#ab63fa",
           "#FFA15A",
           "#19d3f3",
           "#FF6692",
           "#B6E880",
           "#FF97FF",
           "#FECB52"
          ],
          "font": {
           "color": "#2a3f5f"
          },
          "geo": {
           "bgcolor": "white",
           "lakecolor": "white",
           "landcolor": "#E5ECF6",
           "showlakes": true,
           "showland": true,
           "subunitcolor": "white"
          },
          "hoverlabel": {
           "align": "left"
          },
          "hovermode": "closest",
          "mapbox": {
           "style": "light"
          },
          "paper_bgcolor": "white",
          "plot_bgcolor": "#E5ECF6",
          "polar": {
           "angularaxis": {
            "gridcolor": "white",
            "linecolor": "white",
            "ticks": ""
           },
           "bgcolor": "#E5ECF6",
           "radialaxis": {
            "gridcolor": "white",
            "linecolor": "white",
            "ticks": ""
           }
          },
          "scene": {
           "xaxis": {
            "backgroundcolor": "#E5ECF6",
            "gridcolor": "white",
            "gridwidth": 2,
            "linecolor": "white",
            "showbackground": true,
            "ticks": "",
            "zerolinecolor": "white"
           },
           "yaxis": {
            "backgroundcolor": "#E5ECF6",
            "gridcolor": "white",
            "gridwidth": 2,
            "linecolor": "white",
            "showbackground": true,
            "ticks": "",
            "zerolinecolor": "white"
           },
           "zaxis": {
            "backgroundcolor": "#E5ECF6",
            "gridcolor": "white",
            "gridwidth": 2,
            "linecolor": "white",
            "showbackground": true,
            "ticks": "",
            "zerolinecolor": "white"
           }
          },
          "shapedefaults": {
           "line": {
            "color": "#2a3f5f"
           }
          },
          "ternary": {
           "aaxis": {
            "gridcolor": "white",
            "linecolor": "white",
            "ticks": ""
           },
           "baxis": {
            "gridcolor": "white",
            "linecolor": "white",
            "ticks": ""
           },
           "bgcolor": "#E5ECF6",
           "caxis": {
            "gridcolor": "white",
            "linecolor": "white",
            "ticks": ""
           }
          },
          "title": {
           "x": 0.05
          },
          "xaxis": {
           "automargin": true,
           "gridcolor": "white",
           "linecolor": "white",
           "ticks": "",
           "title": {
            "standoff": 15
           },
           "zerolinecolor": "white",
           "zerolinewidth": 2
          },
          "yaxis": {
           "automargin": true,
           "gridcolor": "white",
           "linecolor": "white",
           "ticks": "",
           "title": {
            "standoff": 15
           },
           "zerolinecolor": "white",
           "zerolinewidth": 2
          }
         }
        },
        "title": {
         "text": "Testing Set Scores"
        },
        "xaxis": {
         "autorange": true,
         "range": [
          -0.5,
          2.5
         ],
         "type": "category"
        },
        "yaxis": {
         "autorange": true,
         "range": [
          0.8240740740740741,
          1.0092592592592593
         ],
         "type": "linear"
        }
       }
      },
      "image/png": "[encoded data removed]",
      "text/html": [
       "<div>\n",
       "        \n",
       "        \n",
       "            <div id=\"28d864e9-0c8e-4a08-b61c-7973f13cb0bb\" class=\"plotly-graph-div\" style=\"height:525px; width:100%;\"></div>\n",
       "            <script type=\"text/javascript\">\n",
       "                require([\"plotly\"], function(Plotly) {\n",
       "                    window.PLOTLYENV=window.PLOTLYENV || {};\n",
       "                    \n",
       "                if (document.getElementById(\"28d864e9-0c8e-4a08-b61c-7973f13cb0bb\")) {\n",
       "                    Plotly.newPlot(\n",
       "                        '28d864e9-0c8e-4a08-b61c-7973f13cb0bb',\n",
       "                        [{\"boxmean\": \"sd\", \"boxpoints\": \"outliers\", \"name\": \"linear\", \"type\": \"box\", \"y\": [1.0, 0.9666666666666667, 0.9333333333333333, 0.9666666666666667, 0.9333333333333333, 0.9333333333333333, 1.0, 0.9666666666666667, 0.9666666666666667, 0.9333333333333333, 0.9666666666666667, 0.9333333333333333, 0.9333333333333333, 1.0, 0.9666666666666667, 1.0, 1.0, 0.9666666666666667, 0.9, 0.9333333333333333, 0.9666666666666667, 1.0, 0.9666666666666667, 0.9333333333333333, 0.9333333333333333, 0.9333333333333333, 1.0, 1.0, 0.9666666666666667, 0.9666666666666667, 0.9666666666666667, 0.9666666666666667, 1.0, 0.9666666666666667, 0.9666666666666667, 0.9666666666666667, 0.9666666666666667, 1.0, 1.0, 0.9333333333333333, 1.0, 1.0, 0.9666666666666667, 0.9666666666666667, 0.9, 0.9666666666666667, 1.0, 0.9666666666666667, 1.0, 0.9333333333333333, 0.9, 1.0, 0.9333333333333333, 1.0, 0.9666666666666667, 0.9333333333333333, 0.9666666666666667, 0.9666666666666667, 1.0, 0.9666666666666667, 0.9, 0.9666666666666667, 0.9666666666666667, 0.9666666666666667, 0.9, 0.9666666666666667, 0.9666666666666667, 1.0, 0.9666666666666667, 1.0, 1.0, 0.9333333333333333, 0.9, 0.9, 1.0, 1.0, 1.0, 1.0, 0.9, 0.9333333333333333, 1.0, 0.9, 0.9, 1.0, 1.0, 0.9666666666666667, 0.9666666666666667, 1.0, 0.9666666666666667, 1.0, 0.9, 0.8333333333333334, 0.9666666666666667, 0.9333333333333333, 0.8666666666666667, 0.9333333333333333, 0.9666666666666667, 0.9333333333333333, 0.9666666666666667, 0.9333333333333333]}, {\"boxmean\": \"sd\", \"boxpoints\": \"outliers\", \"name\": \"poly\", \"type\": \"box\", \"y\": [1.0, 0.9666666666666667, 0.9666666666666667, 0.9666666666666667, 0.9, 0.9333333333333333, 1.0, 0.9666666666666667, 0.9333333333333333, 0.9333333333333333, 0.9333333333333333, 1.0, 0.9333333333333333, 1.0, 0.9666666666666667, 0.9, 1.0, 0.9666666666666667, 0.9, 0.9333333333333333, 1.0, 1.0, 1.0, 0.9333333333333333, 0.9666666666666667, 0.9666666666666667, 1.0, 1.0, 0.9666666666666667, 0.9333333333333333, 1.0, 0.9666666666666667, 1.0, 0.9333333333333333, 0.9666666666666667, 0.9333333333333333, 0.9666666666666667, 1.0, 1.0, 0.9333333333333333, 1.0, 1.0, 1.0, 0.9666666666666667, 0.9333333333333333, 0.9666666666666667, 1.0, 0.9666666666666667, 1.0, 0.9333333333333333, 0.9, 1.0, 0.9666666666666667, 1.0, 0.9666666666666667, 0.9, 0.9666666666666667, 0.9666666666666667, 1.0, 0.9333333333333333, 0.9, 0.9666666666666667, 0.9666666666666667, 0.9666666666666667, 0.9, 0.9666666666666667, 0.9666666666666667, 1.0, 1.0, 1.0, 1.0, 0.9333333333333333, 0.9333333333333333, 0.9333333333333333, 1.0, 1.0, 1.0, 1.0, 0.9333333333333333, 0.9666666666666667, 1.0, 0.9333333333333333, 0.9666666666666667, 1.0, 0.9333333333333333, 0.9666666666666667, 0.9666666666666667, 1.0, 0.9666666666666667, 1.0, 0.9333333333333333, 0.8666666666666667, 0.9333333333333333, 0.9333333333333333, 0.8666666666666667, 0.9, 0.9, 0.9333333333333333, 0.9666666666666667, 0.9666666666666667]}, {\"boxmean\": \"sd\", \"boxpoints\": \"outliers\", \"name\": \"rbf\", \"type\": \"box\", \"y\": [0.9666666666666667, 0.9666666666666667, 0.9666666666666667, 1.0, 0.8666666666666667, 0.9333333333333333, 1.0, 0.9666666666666667, 0.9333333333333333, 0.9333333333333333, 0.9, 0.9666666666666667, 0.9333333333333333, 1.0, 0.9666666666666667, 0.9666666666666667, 0.9666666666666667, 0.9666666666666667, 0.9, 0.9333333333333333, 0.9666666666666667, 1.0, 0.9333333333333333, 0.9666666666666667, 0.9, 0.9, 1.0, 1.0, 0.9666666666666667, 0.9, 0.9, 0.9, 1.0, 0.8333333333333334, 0.9666666666666667, 0.9333333333333333, 0.9333333333333333, 1.0, 1.0, 0.9333333333333333, 1.0, 0.9333333333333333, 1.0, 0.9666666666666667, 0.9333333333333333, 0.9333333333333333, 1.0, 0.9333333333333333, 0.9666666666666667, 0.8666666666666667, 0.8666666666666667, 0.9666666666666667, 0.9666666666666667, 0.9666666666666667, 0.9666666666666667, 0.9666666666666667, 0.9666666666666667, 0.9666666666666667, 0.9666666666666667, 0.9666666666666667, 0.9, 0.9, 0.9666666666666667, 0.9666666666666667, 0.9333333333333333, 0.9333333333333333, 0.9, 0.9666666666666667, 0.9666666666666667, 1.0, 1.0, 0.9333333333333333, 0.9333333333333333, 0.9333333333333333, 0.9333333333333333, 1.0, 1.0, 0.9666666666666667, 0.9666666666666667, 0.9, 1.0, 0.9, 0.9666666666666667, 0.9666666666666667, 0.9333333333333333, 0.9666666666666667, 0.9666666666666667, 0.9666666666666667, 0.9666666666666667, 1.0, 0.9333333333333333, 0.9, 0.9333333333333333, 0.9, 0.8666666666666667, 0.9, 0.8666666666666667, 0.9333333333333333, 0.9666666666666667, 0.9333333333333333]}],\n",
       "                        {\"template\": {\"data\": {\"bar\": [{\"error_x\": {\"color\": \"#2a3f5f\"}, \"error_y\": {\"color\": \"#2a3f5f\"}, \"marker\": {\"line\": {\"color\": \"#E5ECF6\", \"width\": 0.5}}, \"type\": \"bar\"}], \"barpolar\": [{\"marker\": {\"line\": {\"color\": \"#E5ECF6\", \"width\": 0.5}}, \"type\": \"barpolar\"}], \"carpet\": [{\"aaxis\": {\"endlinecolor\": \"#2a3f5f\", \"gridcolor\": \"white\", \"linecolor\": \"white\", \"minorgridcolor\": \"white\", \"startlinecolor\": \"#2a3f5f\"}, \"baxis\": {\"endlinecolor\": \"#2a3f5f\", \"gridcolor\": \"white\", \"linecolor\": \"white\", \"minorgridcolor\": \"white\", \"startlinecolor\": \"#2a3f5f\"}, \"type\": \"carpet\"}], \"choropleth\": [{\"colorbar\": {\"outlinewidth\": 0, \"ticks\": \"\"}, \"type\": \"choropleth\"}], \"contour\": [{\"colorbar\": {\"outlinewidth\": 0, \"ticks\": \"\"}, \"colorscale\": [[0.0, \"#0d0887\"], [0.1111111111111111, \"#46039f\"], [0.2222222222222222, \"#7201a8\"], [0.3333333333333333, \"#9c179e\"], [0.4444444444444444, \"#bd3786\"], [0.5555555555555556, \"#d8576b\"], [0.6666666666666666, \"#ed7953\"], [0.7777777777777778, \"#fb9f3a\"], [0.8888888888888888, \"#fdca26\"], [1.0, \"#f0f921\"]], \"type\": \"contour\"}], \"contourcarpet\": [{\"colorbar\": {\"outlinewidth\": 0, \"ticks\": \"\"}, \"type\": \"contourcarpet\"}], \"heatmap\": [{\"colorbar\": {\"outlinewidth\": 0, \"ticks\": \"\"}, \"colorscale\": [[0.0, \"#0d0887\"], [0.1111111111111111, \"#46039f\"], [0.2222222222222222, \"#7201a8\"], [0.3333333333333333, \"#9c179e\"], [0.4444444444444444, \"#bd3786\"], [0.5555555555555556, \"#d8576b\"], [0.6666666666666666, \"#ed7953\"], [0.7777777777777778, \"#fb9f3a\"], [0.8888888888888888, \"#fdca26\"], [1.0, \"#f0f921\"]], \"type\": \"heatmap\"}], \"heatmapgl\": [{\"colorbar\": {\"outlinewidth\": 0, \"ticks\": \"\"}, \"colorscale\": [[0.0, \"#0d0887\"], [0.1111111111111111, \"#46039f\"], [0.2222222222222222, \"#7201a8\"], [0.3333333333333333, \"#9c179e\"], [0.4444444444444444, \"#bd3786\"], [0.5555555555555556, \"#d8576b\"], [0.6666666666666666, \"#ed7953\"], [0.7777777777777778, \"#fb9f3a\"], [0.8888888888888888, \"#fdca26\"], [1.0, \"#f0f921\"]], \"type\": \"heatmapgl\"}], \"histogram\": [{\"marker\": {\"colorbar\": {\"outlinewidth\": 0, \"ticks\": \"\"}}, \"type\": \"histogram\"}], \"histogram2d\": [{\"colorbar\": {\"outlinewidth\": 0, \"ticks\": \"\"}, \"colorscale\": [[0.0, \"#0d0887\"], [0.1111111111111111, \"#46039f\"], [0.2222222222222222, \"#7201a8\"], [0.3333333333333333, \"#9c179e\"], [0.4444444444444444, \"#bd3786\"], [0.5555555555555556, \"#d8576b\"], [0.6666666666666666, \"#ed7953\"], [0.7777777777777778, \"#fb9f3a\"], [0.8888888888888888, \"#fdca26\"], [1.0, \"#f0f921\"]], \"type\": \"histogram2d\"}], \"histogram2dcontour\": [{\"colorbar\": {\"outlinewidth\": 0, \"ticks\": \"\"}, \"colorscale\": [[0.0, \"#0d0887\"], [0.1111111111111111, \"#46039f\"], [0.2222222222222222, \"#7201a8\"], [0.3333333333333333, \"#9c179e\"], [0.4444444444444444, \"#bd3786\"], [0.5555555555555556, \"#d8576b\"], [0.6666666666666666, \"#ed7953\"], [0.7777777777777778, \"#fb9f3a\"], [0.8888888888888888, \"#fdca26\"], [1.0, \"#f0f921\"]], \"type\": \"histogram2dcontour\"}], \"mesh3d\": [{\"colorbar\": {\"outlinewidth\": 0, \"ticks\": \"\"}, \"type\": \"mesh3d\"}], \"parcoords\": [{\"line\": {\"colorbar\": {\"outlinewidth\": 0, \"ticks\": \"\"}}, \"type\": \"parcoords\"}], \"pie\": [{\"automargin\": true, \"type\": \"pie\"}], \"scatter\": [{\"marker\": {\"colorbar\": {\"outlinewidth\": 0, \"ticks\": \"\"}}, \"type\": \"scatter\"}], \"scatter3d\": [{\"line\": {\"colorbar\": {\"outlinewidth\": 0, \"ticks\": \"\"}}, \"marker\": {\"colorbar\": {\"outlinewidth\": 0, \"ticks\": \"\"}}, \"type\": \"scatter3d\"}], \"scattercarpet\": [{\"marker\": {\"colorbar\": {\"outlinewidth\": 0, \"ticks\": \"\"}}, \"type\": \"scattercarpet\"}], \"scattergeo\": [{\"marker\": {\"colorbar\": {\"outlinewidth\": 0, \"ticks\": \"\"}}, \"type\": \"scattergeo\"}], \"scattergl\": [{\"marker\": {\"colorbar\": {\"outlinewidth\": 0, \"ticks\": \"\"}}, \"type\": \"scattergl\"}], \"scattermapbox\": [{\"marker\": {\"colorbar\": {\"outlinewidth\": 0, \"ticks\": \"\"}}, \"type\": \"scattermapbox\"}], \"scatterpolar\": [{\"marker\": {\"colorbar\": {\"outlinewidth\": 0, \"ticks\": \"\"}}, \"type\": \"scatterpolar\"}], \"scatterpolargl\": [{\"marker\": {\"colorbar\": {\"outlinewidth\": 0, \"ticks\": \"\"}}, \"type\": \"scatterpolargl\"}], \"scatterternary\": [{\"marker\": {\"colorbar\": {\"outlinewidth\": 0, \"ticks\": \"\"}}, \"type\": \"scatterternary\"}], \"surface\": [{\"colorbar\": {\"outlinewidth\": 0, \"ticks\": \"\"}, \"colorscale\": [[0.0, \"#0d0887\"], [0.1111111111111111, \"#46039f\"], [0.2222222222222222, \"#7201a8\"], [0.3333333333333333, \"#9c179e\"], [0.4444444444444444, \"#bd3786\"], [0.5555555555555556, \"#d8576b\"], [0.6666666666666666, \"#ed7953\"], [0.7777777777777778, \"#fb9f3a\"], [0.8888888888888888, \"#fdca26\"], [1.0, \"#f0f921\"]], \"type\": \"surface\"}], \"table\": [{\"cells\": {\"fill\": {\"color\": \"#EBF0F8\"}, \"line\": {\"color\": \"white\"}}, \"header\": {\"fill\": {\"color\": \"#C8D4E3\"}, \"line\": {\"color\": \"white\"}}, \"type\": \"table\"}]}, \"layout\": {\"annotationdefaults\": {\"arrowcolor\": \"#2a3f5f\", \"arrowhead\": 0, \"arrowwidth\": 1}, \"coloraxis\": {\"colorbar\": {\"outlinewidth\": 0, \"ticks\": \"\"}}, \"colorscale\": {\"diverging\": [[0, \"#8e0152\"], [0.1, \"#c51b7d\"], [0.2, \"#de77ae\"], [0.3, \"#f1b6da\"], [0.4, \"#fde0ef\"], [0.5, \"#f7f7f7\"], [0.6, \"#e6f5d0\"], [0.7, \"#b8e186\"], [0.8, \"#7fbc41\"], [0.9, \"#4d9221\"], [1, \"#276419\"]], \"sequential\": [[0.0, \"#0d0887\"], [0.1111111111111111, \"#46039f\"], [0.2222222222222222, \"#7201a8\"], [0.3333333333333333, \"#9c179e\"], [0.4444444444444444, \"#bd3786\"], [0.5555555555555556, \"#d8576b\"], [0.6666666666666666, \"#ed7953\"], [0.7777777777777778, \"#fb9f3a\"], [0.8888888888888888, \"#fdca26\"], [1.0, \"#f0f921\"]], \"sequentialminus\": [[0.0, \"#0d0887\"], [0.1111111111111111, \"#46039f\"], [0.2222222222222222, \"#7201a8\"], [0.3333333333333333, \"#9c179e\"], [0.4444444444444444, \"#bd3786\"], [0.5555555555555556, \"#d8576b\"], [0.6666666666666666, \"#ed7953\"], [0.7777777777777778, \"#fb9f3a\"], [0.8888888888888888, \"#fdca26\"], [1.0, \"#f0f921\"]]}, \"colorway\": [\"#636efa\", \"#EF553B\", \"#00cc96\", \"#ab63fa\", \"#FFA15A\", \"#19d3f3\", \"#FF6692\", \"#B6E880\", \"#FF97FF\", \"#FECB52\"], \"font\": {\"color\": \"#2a3f5f\"}, \"geo\": {\"bgcolor\": \"white\", \"lakecolor\": \"white\", \"landcolor\": \"#E5ECF6\", \"showlakes\": true, \"showland\": true, \"subunitcolor\": \"white\"}, \"hoverlabel\": {\"align\": \"left\"}, \"hovermode\": \"closest\", \"mapbox\": {\"style\": \"light\"}, \"paper_bgcolor\": \"white\", \"plot_bgcolor\": \"#E5ECF6\", \"polar\": {\"angularaxis\": {\"gridcolor\": \"white\", \"linecolor\": \"white\", \"ticks\": \"\"}, \"bgcolor\": \"#E5ECF6\", \"radialaxis\": {\"gridcolor\": \"white\", \"linecolor\": \"white\", \"ticks\": \"\"}}, \"scene\": {\"xaxis\": {\"backgroundcolor\": \"#E5ECF6\", \"gridcolor\": \"white\", \"gridwidth\": 2, \"linecolor\": \"white\", \"showbackground\": true, \"ticks\": \"\", \"zerolinecolor\": \"white\"}, \"yaxis\": {\"backgroundcolor\": \"#E5ECF6\", \"gridcolor\": \"white\", \"gridwidth\": 2, \"linecolor\": \"white\", \"showbackground\": true, \"ticks\": \"\", \"zerolinecolor\": \"white\"}, \"zaxis\": {\"backgroundcolor\": \"#E5ECF6\", \"gridcolor\": \"white\", \"gridwidth\": 2, \"linecolor\": \"white\", \"showbackground\": true, \"ticks\": \"\", \"zerolinecolor\": \"white\"}}, \"shapedefaults\": {\"line\": {\"color\": \"#2a3f5f\"}}, \"ternary\": {\"aaxis\": {\"gridcolor\": \"white\", \"linecolor\": \"white\", \"ticks\": \"\"}, \"baxis\": {\"gridcolor\": \"white\", \"linecolor\": \"white\", \"ticks\": \"\"}, \"bgcolor\": \"#E5ECF6\", \"caxis\": {\"gridcolor\": \"white\", \"linecolor\": \"white\", \"ticks\": \"\"}}, \"title\": {\"x\": 0.05}, \"xaxis\": {\"automargin\": true, \"gridcolor\": \"white\", \"linecolor\": \"white\", \"ticks\": \"\", \"title\": {\"standoff\": 15}, \"zerolinecolor\": \"white\", \"zerolinewidth\": 2}, \"yaxis\": {\"automargin\": true, \"gridcolor\": \"white\", \"linecolor\": \"white\", \"ticks\": \"\", \"title\": {\"standoff\": 15}, \"zerolinecolor\": \"white\", \"zerolinewidth\": 2}}}, \"title\": {\"text\": \"Testing Set Scores\"}},\n",
       "                        {\"responsive\": true}\n",
       "                    ).then(function(){\n",
       "                            \n",
       "var gd = document.getElementById('28d864e9-0c8e-4a08-b61c-7973f13cb0bb');\n",
       "var x = new MutationObserver(function (mutations, observer) {{\n",
       "        var display = window.getComputedStyle(gd).display;\n",
       "        if (!display || display === 'none') {{\n",
       "            console.log([gd, 'removed!']);\n",
       "            Plotly.purge(gd);\n",
       "            observer.disconnect();\n",
       "        }}\n",
       "}});\n",
       "\n",
       "// Listen for the removal of the full notebook cells\n",
       "var notebookContainer = gd.closest('#notebook-container');\n",
       "if (notebookContainer) {{\n",
       "    x.observe(notebookContainer, {childList: true});\n",
       "}}\n",
       "\n",
       "// Listen for the clearing of the current output cell\n",
       "var outputEl = gd.closest('.output');\n",
       "if (outputEl) {{\n",
       "    x.observe(outputEl, {childList: true});\n",
       "}}\n",
       "\n",
       "                        })\n",
       "                };\n",
       "                });\n",
       "            </script>\n",
       "        </div>"
      ]
     },
     "metadata": {},
     "output_type": "display_data"
    }
   ],
   "source": [
    "# show distribution of test scores by kernel\n",
    "trc = []\n",
    "for kern in tstScores.columns:\n",
    "    # easier to see differences if sigmoid is skipped, as it sucks for this data\n",
    "    if kern != 'sigmoid':\n",
    "        thisData = irisData.loc[irisData.Variety==var,feat]\n",
    "        trc.append(go.Box(y=tstScores[kern], name=kern, boxmean='sd', boxpoints='outliers'))\n",
    "        \n",
    "plyoff.iplot(go.Figure(data=trc, layout=go.Layout(title='Testing Set Scores')))"
   ]
  },
  {
   "cell_type": "markdown",
   "metadata": {},
   "source": [
    "Looking at median testing set performance, it appears that the best SVM model for this dataset could use either a linear, quadratic polynomial, or Gaussian RBF kernel. But recall that there were some values (gamma, coef0, etc.) that I just set. Perhaps we could identify a truly \"best\" kernel with a different parameterization? We can evaluate this possibility with *hyperparameter tuning*."
   ]
  },
  {
   "cell_type": "markdown",
   "metadata": {},
   "source": [
    "<a id=gridsearch></a>\n",
    "### Hyperparameter Tuning - Grid Search\n",
    "<a href=#top>Go to top</a> - <a href=#bottom>Go to bottom</a>\n",
    "\n",
    "All machine learning models learn patterns / relationships in an input dataset by setting **parameters**. For example, in the simple *ordinary least squares* (OLS) regression model\n",
    "\n",
    "$y_i = b_0 + b_1x_i + \\varepsilon_i$\n",
    "\n",
    "the intercept ($b_0$) and slope ($b_1$) are model parameters. Parameters are used to encode some information about the data. In the case of OLS, the intercept informs us of the value expected for $y$ when $x=0$; the slope encodes the rate at which $y$ is expected to change for a unit change in $x$.\n",
    "\n",
    "In addition to paramters, most machine learning models emply **hyperparameters**, which define the mathematical behavior of the model and / or it's optimization. Examples of hyperparameters include:\n",
    "- learning rate generally used in gradient descent (a generic optimization method)\n",
    "- regularization used in loss functions; for example L1 = $\\sum_i\\left\\vert y - y_i \\right\\vert$ vs L2 = $\\sum_i\\left(y - y_i\\right)^2$\n",
    "- number of hidden layers and nodes per layer in a neural network\n",
    "- depth of a decision tree\n",
    "- number of clusters in k-means, mixture, or hierarchical clustering models\n",
    "\n",
    "Hyperparameters take precedence over regular parameters in their impact on a model, which is reflected in the name: the prefix *hyper* comes from a greek word (ὑπέρ) meaning \"over\" or \"above\". They could also be seen as conveying information about a model - *metaparameters*, if you will. For example, the primary difference between *ridge regression* and *LASSO regression* is that the former applies a penalty of $\\lambda\\sum b_j^2$ of the regression coefficients, and the latter applies a penalty of $\\lambda\\sum\\left\\vert b_j\\right\\vert$. Hence the difference is that of L2 vs L1 regularization.\n",
    "\n",
    "The optimal value for a hyperparameter (whether a continuous or discrete value) is often dependent upon the data. Hyperparameters are usually optimized by training multiple versions of a model with different values for the hyperparameters, then selecting the values that resulted in the best performance on a held-out testing dataset. This process is called **hyperparameter tuning**, and can be done in a few different ways, including Bayesian Optimization, Gradient Descent, Evolutionary Algorithms, Random Search, or Grid Search.\n",
    "\n",
    "In **Grid Search** hyperparameter tuning, the goal is to search the possible values of a hyperparameter, seeking the best value, as efficiently as possible. This is usually done by generating a grid of values to test via uniform interval sampling from the space of possible values. The narrower the interval, the higher the likelihood of finding the best value. For a hyperparameter that can only take on values from a short enumeration of values, that enumeration is taken as the grid. If multiple hyperparameters are to be tuned simultaneously, the cartesian product of their grids is usually computed, so that all combinations of all grid values may be evaluated. This grid of grids is called the **hyperparameters space**.\n",
    "\n",
    "Iteration with grid search is often a successful way to increase the chance of efficiently finding an optimal set of hyperparameters when the hyperparameters space is very large. This entails iterating over two steps (beginning with the entire space for all hyperparameters):\n",
    "1. grid search the space to find the optimum\n",
    "2. narrow the search space by \"zooming in\" around the previously-found optimum\n",
    "\n",
    "This procedure is akin to **aliasing** in *signal processing*, and is one way to increase the efficiency of grid search.\n",
    "\n",
    "When the number of hyperparameters being tuned simultaneously is large, with many values sampled in their grids, grid search can become too slow, even using aliasing. In that case, **random search** can be used. This procedure does exactly what it sounds like - the space of values is sampled, usually uniformly. With random search, we can often avoid iteration, instead sampling the hyperparameters space with more frequency. The benefit of this is demonstrated here:\n",
    "<center><img src=\"./gridrandomsearch.png\" alt=\"Grid vs Random Search\" width=\"400\"/></center>\n",
    "\n",
    "While random search has been shown to outperform grid search when the hyperparameters space is large, this is at the expense of higher variability in the search results. Also, it is not guaranteed to find the best set of hyperparameters. This is ok, because grid search is also not guaranteed to find the best set of hyperparameters. To be fair, there is little in machine learning that comes with a guarantee.\n",
    "\n",
    "For some continuously-valued hyperparameters, the space might be so large that a regular grid search over the range directly will not very efficently span what is generally considered to be the most important portion of the range. This would be the case for a parameter such as the *learning rate*, which often takes values spanning many orders of magnitude - $[0.0001, 1.0]$, for example. For hyperparameters such as this, a good strategy is to sample the grid in (base 10) log scale. This is demonstrated below by the series marked with <font color='red'>red x</font> and <font color='green'>green x</font>. The plot also demonstrates random search for the learning rate, in the series marked by <font color='red'>red &#9679;</font> and <font color='green'>green &#x25CF;</font>."
   ]
  },
  {
   "cell_type": "code",
   "execution_count": 17,
   "metadata": {},
   "outputs": [
    {
     "data": {
      "application/vnd.plotly.v1+json": {
       "config": {
        "linkText": "Export to plot.ly",
        "plotlyServerURL": "https://plot.ly",
        "showLink": false
       },
       "data": [
        {
         "marker": {
          "color": "red",
          "symbol": "x"
         },
         "mode": "markers",
         "name": "Linear Grid",
         "type": "scatter",
         "x": [
          0.0001,
          0.02050612244897959,
          0.04091224489795919,
          0.06131836734693878,
          0.08172448979591837,
          0.10213061224489796,
          0.12253673469387756,
          0.14294285714285712,
          0.16334897959183672,
          0.18375510204081633,
          0.2041612244897959,
          0.2245673469387755,
          0.2449734693877551,
          0.2653795918367347,
          0.28578571428571425,
          0.30619183673469386,
          0.32659795918367346,
          0.34700408163265306,
          0.36741020408163266,
          0.3878163265306122,
          0.4082224489795918,
          0.4286285714285714,
          0.449034693877551,
          0.4694408163265306,
          0.4898469387755102,
          0.5102530612244898,
          0.5306591836734694,
          0.551065306122449,
          0.5714714285714285,
          0.5918775510204082,
          0.6122836734693877,
          0.6326897959183674,
          0.6530959183673469,
          0.6735020408163265,
          0.6939081632653061,
          0.7143142857142857,
          0.7347204081632653,
          0.7551265306122449,
          0.7755326530612244,
          0.7959387755102041,
          0.8163448979591836,
          0.8367510204081633,
          0.8571571428571428,
          0.8775632653061224,
          0.897969387755102,
          0.9183755102040816,
          0.9387816326530612,
          0.9591877551020408,
          0.9795938775510205,
          1
         ],
         "y": [
          1,
          1,
          1,
          1,
          1,
          1,
          1,
          1,
          1,
          1,
          1,
          1,
          1,
          1,
          1,
          1,
          1,
          1,
          1,
          1,
          1,
          1,
          1,
          1,
          1,
          1,
          1,
          1,
          1,
          1,
          1,
          1,
          1,
          1,
          1,
          1,
          1,
          1,
          1,
          1,
          1,
          1,
          1,
          1,
          1,
          1,
          1,
          1,
          1,
          1
         ]
        },
        {
         "marker": {
          "color": "green",
          "symbol": "x"
         },
         "mode": "markers",
         "name": "Log Grid",
         "type": "scatter",
         "x": [
          0.0001,
          0.00012067926406393288,
          0.00014563484775012445,
          0.00017575106248547912,
          0.00021209508879201905,
          0.0002559547922699536,
          0.00030888435964774815,
          0.0003727593720314938,
          0.0004498432668969444,
          0.0005428675439323859,
          0.0006551285568595509,
          0.0007906043210907702,
          0.0009540954763499944,
          0.0011513953993264468,
          0.0013894954943731374,
          0.0016768329368110067,
          0.0020235896477251557,
          0.0024420530945486497,
          0.0029470517025518097,
          0.0035564803062231283,
          0.004291934260128779,
          0.005179474679231213,
          0.0062505519252739694,
          0.007543120063354615,
          0.009102981779915217,
          0.010985411419875584,
          0.013257113655901081,
          0.015998587196060572,
          0.019306977288832496,
          0.023299518105153717,
          0.02811768697974228,
          0.033932217718953266,
          0.040949150623804234,
          0.04941713361323833,
          0.05963623316594643,
          0.07196856730011514,
          0.08685113737513521,
          0.10481131341546852,
          0.12648552168552957,
          0.15264179671752318,
          0.18420699693267145,
          0.22229964825261933,
          0.2682695795279725,
          0.32374575428176433,
          0.3906939937054613,
          0.47148663634573895,
          0.5689866029018293,
          0.6866488450042998,
          0.8286427728546842,
          1
         ],
         "y": [
          2,
          2,
          2,
          2,
          2,
          2,
          2,
          2,
          2,
          2,
          2,
          2,
          2,
          2,
          2,
          2,
          2,
          2,
          2,
          2,
          2,
          2,
          2,
          2,
          2,
          2,
          2,
          2,
          2,
          2,
          2,
          2,
          2,
          2,
          2,
          2,
          2,
          2,
          2,
          2,
          2,
          2,
          2,
          2,
          2,
          2,
          2,
          2,
          2,
          2
         ]
        },
        {
         "marker": {
          "color": "red",
          "symbol": "circle"
         },
         "mode": "markers",
         "name": "Linear Random",
         "type": "scatter",
         "x": [
          0.3746030393755966,
          0.9507201856935815,
          0.7320214744111657,
          0.598699217007101,
          0.1561031945970327,
          0.15607907687868933,
          0.05817786189059481,
          0.8661903943365034,
          0.6011555013570462,
          0.7081024786108436,
          0.02068245643086716,
          0.9699138310866302,
          0.8324602289789824,
          0.21241808910631899,
          0.1819069665353471,
          0.1834863528069583,
          0.3043121229774847,
          0.5248044807455062,
          0.43200225608527015,
          0.2913003085131623,
          0.611892321285802,
          0.13958005075983726,
          0.2922157262150131,
          0.3664255734712056,
          0.4561248332885984,
          0.7851982289728356,
          0.19975401445392604,
          0.5142835292042086,
          0.5924559198197251,
          0.04654581412913845,
          0.6075847049611001,
          0.17060724179904646,
          0.06514515287757397,
          0.9488915975851451,
          0.9656364355032849,
          0.8084173167789975,
          0.3046836124102225,
          0.09776244446709724,
          0.6842652874425321,
          0.44020891864272105,
          0.12212615305952919,
          0.4952278875971691,
          0.03448511665162799,
          0.9093303793589762,
          0.2588543623818385,
          0.6625566946478308,
          0.3117802166928781,
          0.5201165344437142,
          0.5467561550256246,
          0.18493615493443
         ],
         "y": [
          3,
          3,
          3,
          3,
          3,
          3,
          3,
          3,
          3,
          3,
          3,
          3,
          3,
          3,
          3,
          3,
          3,
          3,
          3,
          3,
          3,
          3,
          3,
          3,
          3,
          3,
          3,
          3,
          3,
          3,
          3,
          3,
          3,
          3,
          3,
          3,
          3,
          3,
          3,
          3,
          3,
          3,
          3,
          3,
          3,
          3,
          3,
          3,
          3,
          3
         ]
        },
        {
         "marker": {
          "color": "green",
          "symbol": "circle"
         },
         "mode": "markers",
         "name": "Log Random",
         "type": "scatter",
         "x": [
          0.00013233096786938124,
          0.0007933570887229406,
          0.00017458391722451327,
          0.00026344538695625947,
          0.004058822738727253,
          0.00020535394950242015,
          0.44261893797525725,
          0.16446312961886092,
          0.659311793594736,
          0.049966470941842325,
          0.02787987621844156,
          0.08214930109172941,
          0.00048422807238007466,
          0.037409912570661695,
          0.0752076400742407,
          0.006748630764178944,
          0.27308830387668137,
          0.0006183182668819682,
          0.5032658079455584,
          0.00011283718773307215,
          0.0008147435346146418,
          0.16037522322088743,
          0.9504111692533549,
          0.0005472103286993992,
          0.0014878893137368282,
          0.0012133087450593273,
          0.0008220885761913813,
          0.5056166805015345,
          0.03682451925468805,
          0.3439725309085141,
          0.00035284689210541913,
          0.0032122363527967387,
          0.04746876148167417,
          0.5568863832770137,
          0.057025711570546166,
          0.050034171391407985,
          0.0012066332446617038,
          0.0028168914693061198,
          0.00028258495088570666,
          0.012916364709298035,
          0.3323709177279687,
          0.0014028810572995327,
          0.0009054402688233532,
          0.005687104516723125,
          0.0008243872762622998,
          0.010588089764579242,
          0.00811089319245657,
          0.01949108101162662,
          0.7912678003597983,
          0.3701981908430131
         ],
         "y": [
          4,
          4,
          4,
          4,
          4,
          4,
          4,
          4,
          4,
          4,
          4,
          4,
          4,
          4,
          4,
          4,
          4,
          4,
          4,
          4,
          4,
          4,
          4,
          4,
          4,
          4,
          4,
          4,
          4,
          4,
          4,
          4,
          4,
          4,
          4,
          4,
          4,
          4,
          4,
          4,
          4,
          4,
          4,
          4,
          4,
          4,
          4,
          4,
          4,
          4
         ]
        }
       ],
       "layout": {
        "autosize": true,
        "template": {
         "data": {
          "bar": [
           {
            "error_x": {
             "color": "#2a3f5f"
            },
            "error_y": {
             "color": "#2a3f5f"
            },
            "marker": {
             "line": {
              "color": "#E5ECF6",
              "width": 0.5
             }
            },
            "type": "bar"
           }
          ],
          "barpolar": [
           {
            "marker": {
             "line": {
              "color": "#E5ECF6",
              "width": 0.5
             }
            },
            "type": "barpolar"
           }
          ],
          "carpet": [
           {
            "aaxis": {
             "endlinecolor": "#2a3f5f",
             "gridcolor": "white",
             "linecolor": "white",
             "minorgridcolor": "white",
             "startlinecolor": "#2a3f5f"
            },
            "baxis": {
             "endlinecolor": "#2a3f5f",
             "gridcolor": "white",
             "linecolor": "white",
             "minorgridcolor": "white",
             "startlinecolor": "#2a3f5f"
            },
            "type": "carpet"
           }
          ],
          "choropleth": [
           {
            "colorbar": {
             "outlinewidth": 0,
             "ticks": ""
            },
            "type": "choropleth"
           }
          ],
          "contour": [
           {
            "colorbar": {
             "outlinewidth": 0,
             "ticks": ""
            },
            "colorscale": [
             [
              0,
              "#0d0887"
             ],
             [
              0.1111111111111111,
              "#46039f"
             ],
             [
              0.2222222222222222,
              "#7201a8"
             ],
             [
              0.3333333333333333,
              "#9c179e"
             ],
             [
              0.4444444444444444,
              "#bd3786"
             ],
             [
              0.5555555555555556,
              "#d8576b"
             ],
             [
              0.6666666666666666,
              "#ed7953"
             ],
             [
              0.7777777777777778,
              "#fb9f3a"
             ],
             [
              0.8888888888888888,
              "#fdca26"
             ],
             [
              1,
              "#f0f921"
             ]
            ],
            "type": "contour"
           }
          ],
          "contourcarpet": [
           {
            "colorbar": {
             "outlinewidth": 0,
             "ticks": ""
            },
            "type": "contourcarpet"
           }
          ],
          "heatmap": [
           {
            "colorbar": {
             "outlinewidth": 0,
             "ticks": ""
            },
            "colorscale": [
             [
              0,
              "#0d0887"
             ],
             [
              0.1111111111111111,
              "#46039f"
             ],
             [
              0.2222222222222222,
              "#7201a8"
             ],
             [
              0.3333333333333333,
              "#9c179e"
             ],
             [
              0.4444444444444444,
              "#bd3786"
             ],
             [
              0.5555555555555556,
              "#d8576b"
             ],
             [
              0.6666666666666666,
              "#ed7953"
             ],
             [
              0.7777777777777778,
              "#fb9f3a"
             ],
             [
              0.8888888888888888,
              "#fdca26"
             ],
             [
              1,
              "#f0f921"
             ]
            ],
            "type": "heatmap"
           }
          ],
          "heatmapgl": [
           {
            "colorbar": {
             "outlinewidth": 0,
             "ticks": ""
            },
            "colorscale": [
             [
              0,
              "#0d0887"
             ],
             [
              0.1111111111111111,
              "#46039f"
             ],
             [
              0.2222222222222222,
              "#7201a8"
             ],
             [
              0.3333333333333333,
              "#9c179e"
             ],
             [
              0.4444444444444444,
              "#bd3786"
             ],
             [
              0.5555555555555556,
              "#d8576b"
             ],
             [
              0.6666666666666666,
              "#ed7953"
             ],
             [
              0.7777777777777778,
              "#fb9f3a"
             ],
             [
              0.8888888888888888,
              "#fdca26"
             ],
             [
              1,
              "#f0f921"
             ]
            ],
            "type": "heatmapgl"
           }
          ],
          "histogram": [
           {
            "marker": {
             "colorbar": {
              "outlinewidth": 0,
              "ticks": ""
             }
            },
            "type": "histogram"
           }
          ],
          "histogram2d": [
           {
            "colorbar": {
             "outlinewidth": 0,
             "ticks": ""
            },
            "colorscale": [
             [
              0,
              "#0d0887"
             ],
             [
              0.1111111111111111,
              "#46039f"
             ],
             [
              0.2222222222222222,
              "#7201a8"
             ],
             [
              0.3333333333333333,
              "#9c179e"
             ],
             [
              0.4444444444444444,
              "#bd3786"
             ],
             [
              0.5555555555555556,
              "#d8576b"
             ],
             [
              0.6666666666666666,
              "#ed7953"
             ],
             [
              0.7777777777777778,
              "#fb9f3a"
             ],
             [
              0.8888888888888888,
              "#fdca26"
             ],
             [
              1,
              "#f0f921"
             ]
            ],
            "type": "histogram2d"
           }
          ],
          "histogram2dcontour": [
           {
            "colorbar": {
             "outlinewidth": 0,
             "ticks": ""
            },
            "colorscale": [
             [
              0,
              "#0d0887"
             ],
             [
              0.1111111111111111,
              "#46039f"
             ],
             [
              0.2222222222222222,
              "#7201a8"
             ],
             [
              0.3333333333333333,
              "#9c179e"
             ],
             [
              0.4444444444444444,
              "#bd3786"
             ],
             [
              0.5555555555555556,
              "#d8576b"
             ],
             [
              0.6666666666666666,
              "#ed7953"
             ],
             [
              0.7777777777777778,
              "#fb9f3a"
             ],
             [
              0.8888888888888888,
              "#fdca26"
             ],
             [
              1,
              "#f0f921"
             ]
            ],
            "type": "histogram2dcontour"
           }
          ],
          "mesh3d": [
           {
            "colorbar": {
             "outlinewidth": 0,
             "ticks": ""
            },
            "type": "mesh3d"
           }
          ],
          "parcoords": [
           {
            "line": {
             "colorbar": {
              "outlinewidth": 0,
              "ticks": ""
             }
            },
            "type": "parcoords"
           }
          ],
          "pie": [
           {
            "automargin": true,
            "type": "pie"
           }
          ],
          "scatter": [
           {
            "marker": {
             "colorbar": {
              "outlinewidth": 0,
              "ticks": ""
             }
            },
            "type": "scatter"
           }
          ],
          "scatter3d": [
           {
            "line": {
             "colorbar": {
              "outlinewidth": 0,
              "ticks": ""
             }
            },
            "marker": {
             "colorbar": {
              "outlinewidth": 0,
              "ticks": ""
             }
            },
            "type": "scatter3d"
           }
          ],
          "scattercarpet": [
           {
            "marker": {
             "colorbar": {
              "outlinewidth": 0,
              "ticks": ""
             }
            },
            "type": "scattercarpet"
           }
          ],
          "scattergeo": [
           {
            "marker": {
             "colorbar": {
              "outlinewidth": 0,
              "ticks": ""
             }
            },
            "type": "scattergeo"
           }
          ],
          "scattergl": [
           {
            "marker": {
             "colorbar": {
              "outlinewidth": 0,
              "ticks": ""
             }
            },
            "type": "scattergl"
           }
          ],
          "scattermapbox": [
           {
            "marker": {
             "colorbar": {
              "outlinewidth": 0,
              "ticks": ""
             }
            },
            "type": "scattermapbox"
           }
          ],
          "scatterpolar": [
           {
            "marker": {
             "colorbar": {
              "outlinewidth": 0,
              "ticks": ""
             }
            },
            "type": "scatterpolar"
           }
          ],
          "scatterpolargl": [
           {
            "marker": {
             "colorbar": {
              "outlinewidth": 0,
              "ticks": ""
             }
            },
            "type": "scatterpolargl"
           }
          ],
          "scatterternary": [
           {
            "marker": {
             "colorbar": {
              "outlinewidth": 0,
              "ticks": ""
             }
            },
            "type": "scatterternary"
           }
          ],
          "surface": [
           {
            "colorbar": {
             "outlinewidth": 0,
             "ticks": ""
            },
            "colorscale": [
             [
              0,
              "#0d0887"
             ],
             [
              0.1111111111111111,
              "#46039f"
             ],
             [
              0.2222222222222222,
              "#7201a8"
             ],
             [
              0.3333333333333333,
              "#9c179e"
             ],
             [
              0.4444444444444444,
              "#bd3786"
             ],
             [
              0.5555555555555556,
              "#d8576b"
             ],
             [
              0.6666666666666666,
              "#ed7953"
             ],
             [
              0.7777777777777778,
              "#fb9f3a"
             ],
             [
              0.8888888888888888,
              "#fdca26"
             ],
             [
              1,
              "#f0f921"
             ]
            ],
            "type": "surface"
           }
          ],
          "table": [
           {
            "cells": {
             "fill": {
              "color": "#EBF0F8"
             },
             "line": {
              "color": "white"
             }
            },
            "header": {
             "fill": {
              "color": "#C8D4E3"
             },
             "line": {
              "color": "white"
             }
            },
            "type": "table"
           }
          ]
         },
         "layout": {
          "annotationdefaults": {
           "arrowcolor": "#2a3f5f",
           "arrowhead": 0,
           "arrowwidth": 1
          },
          "coloraxis": {
           "colorbar": {
            "outlinewidth": 0,
            "ticks": ""
           }
          },
          "colorscale": {
           "diverging": [
            [
             0,
             "#8e0152"
            ],
            [
             0.1,
             "#c51b7d"
            ],
            [
             0.2,
             "#de77ae"
            ],
            [
             0.3,
             "#f1b6da"
            ],
            [
             0.4,
             "#fde0ef"
            ],
            [
             0.5,
             "#f7f7f7"
            ],
            [
             0.6,
             "#e6f5d0"
            ],
            [
             0.7,
             "#b8e186"
            ],
            [
             0.8,
             "#7fbc41"
            ],
            [
             0.9,
             "#4d9221"
            ],
            [
             1,
             "#276419"
            ]
           ],
           "sequential": [
            [
             0,
             "#0d0887"
            ],
            [
             0.1111111111111111,
             "#46039f"
            ],
            [
             0.2222222222222222,
             "#7201a8"
            ],
            [
             0.3333333333333333,
             "#9c179e"
            ],
            [
             0.4444444444444444,
             "#bd3786"
            ],
            [
             0.5555555555555556,
             "#d8576b"
            ],
            [
             0.6666666666666666,
             "#ed7953"
            ],
            [
             0.7777777777777778,
             "#fb9f3a"
            ],
            [
             0.8888888888888888,
             "#fdca26"
            ],
            [
             1,
             "#f0f921"
            ]
           ],
           "sequentialminus": [
            [
             0,
             "#0d0887"
            ],
            [
             0.1111111111111111,
             "#46039f"
            ],
            [
             0.2222222222222222,
             "#7201a8"
            ],
            [
             0.3333333333333333,
             "#9c179e"
            ],
            [
             0.4444444444444444,
             "#bd3786"
            ],
            [
             0.5555555555555556,
             "#d8576b"
            ],
            [
             0.6666666666666666,
             "#ed7953"
            ],
            [
             0.7777777777777778,
             "#fb9f3a"
            ],
            [
             0.8888888888888888,
             "#fdca26"
            ],
            [
             1,
             "#f0f921"
            ]
           ]
          },
          "colorway": [
           "#636efa",
           "#EF553B",
           "#00cc96",
           "#ab63fa",
           "#FFA15A",
           "#19d3f3",
           "#FF6692",
           "#B6E880",
           "#FF97FF",
           "#FECB52"
          ],
          "font": {
           "color": "#2a3f5f"
          },
          "geo": {
           "bgcolor": "white",
           "lakecolor": "white",
           "landcolor": "#E5ECF6",
           "showlakes": true,
           "showland": true,
           "subunitcolor": "white"
          },
          "hoverlabel": {
           "align": "left"
          },
          "hovermode": "closest",
          "mapbox": {
           "style": "light"
          },
          "paper_bgcolor": "white",
          "plot_bgcolor": "#E5ECF6",
          "polar": {
           "angularaxis": {
            "gridcolor": "white",
            "linecolor": "white",
            "ticks": ""
           },
           "bgcolor": "#E5ECF6",
           "radialaxis": {
            "gridcolor": "white",
            "linecolor": "white",
            "ticks": ""
           }
          },
          "scene": {
           "xaxis": {
            "backgroundcolor": "#E5ECF6",
            "gridcolor": "white",
            "gridwidth": 2,
            "linecolor": "white",
            "showbackground": true,
            "ticks": "",
            "zerolinecolor": "white"
           },
           "yaxis": {
            "backgroundcolor": "#E5ECF6",
            "gridcolor": "white",
            "gridwidth": 2,
            "linecolor": "white",
            "showbackground": true,
            "ticks": "",
            "zerolinecolor": "white"
           },
           "zaxis": {
            "backgroundcolor": "#E5ECF6",
            "gridcolor": "white",
            "gridwidth": 2,
            "linecolor": "white",
            "showbackground": true,
            "ticks": "",
            "zerolinecolor": "white"
           }
          },
          "shapedefaults": {
           "line": {
            "color": "#2a3f5f"
           }
          },
          "ternary": {
           "aaxis": {
            "gridcolor": "white",
            "linecolor": "white",
            "ticks": ""
           },
           "baxis": {
            "gridcolor": "white",
            "linecolor": "white",
            "ticks": ""
           },
           "bgcolor": "#E5ECF6",
           "caxis": {
            "gridcolor": "white",
            "linecolor": "white",
            "ticks": ""
           }
          },
          "title": {
           "x": 0.05
          },
          "xaxis": {
           "automargin": true,
           "gridcolor": "white",
           "linecolor": "white",
           "ticks": "",
           "title": {
            "standoff": 15
           },
           "zerolinecolor": "white",
           "zerolinewidth": 2
          },
          "yaxis": {
           "automargin": true,
           "gridcolor": "white",
           "linecolor": "white",
           "ticks": "",
           "title": {
            "standoff": 15
           },
           "zerolinecolor": "white",
           "zerolinewidth": 2
          }
         }
        },
        "title": {
         "text": "Learning Rate Search Values"
        },
        "xaxis": {
         "autorange": true,
         "range": [
          -0.06286061899679829,
          1.0629606189967984
         ],
         "type": "linear"
        },
        "yaxis": {
         "autorange": true,
         "range": [
          0.7802547770700636,
          4.219745222929936
         ],
         "type": "linear"
        }
       }
      },
      "image/png": "[encoded data removed]",
      "text/html": [
       "<div>\n",
       "        \n",
       "        \n",
       "            <div id=\"7c0e06e3-8e61-42bc-90de-7992d1ee307d\" class=\"plotly-graph-div\" style=\"height:525px; width:100%;\"></div>\n",
       "            <script type=\"text/javascript\">\n",
       "                require([\"plotly\"], function(Plotly) {\n",
       "                    window.PLOTLYENV=window.PLOTLYENV || {};\n",
       "                    \n",
       "                if (document.getElementById(\"7c0e06e3-8e61-42bc-90de-7992d1ee307d\")) {\n",
       "                    Plotly.newPlot(\n",
       "                        '7c0e06e3-8e61-42bc-90de-7992d1ee307d',\n",
       "                        [{\"marker\": {\"color\": \"red\", \"symbol\": \"x\"}, \"mode\": \"markers\", \"name\": \"Linear Grid\", \"type\": \"scatter\", \"x\": [0.0001, 0.02050612244897959, 0.04091224489795919, 0.06131836734693878, 0.08172448979591837, 0.10213061224489796, 0.12253673469387756, 0.14294285714285712, 0.16334897959183672, 0.18375510204081633, 0.2041612244897959, 0.2245673469387755, 0.2449734693877551, 0.2653795918367347, 0.28578571428571425, 0.30619183673469386, 0.32659795918367346, 0.34700408163265306, 0.36741020408163266, 0.3878163265306122, 0.4082224489795918, 0.4286285714285714, 0.449034693877551, 0.4694408163265306, 0.4898469387755102, 0.5102530612244898, 0.5306591836734694, 0.551065306122449, 0.5714714285714285, 0.5918775510204082, 0.6122836734693877, 0.6326897959183674, 0.6530959183673469, 0.6735020408163265, 0.6939081632653061, 0.7143142857142857, 0.7347204081632653, 0.7551265306122449, 0.7755326530612244, 0.7959387755102041, 0.8163448979591836, 0.8367510204081633, 0.8571571428571428, 0.8775632653061224, 0.897969387755102, 0.9183755102040816, 0.9387816326530612, 0.9591877551020408, 0.9795938775510205, 1.0], \"y\": [1.0, 1.0, 1.0, 1.0, 1.0, 1.0, 1.0, 1.0, 1.0, 1.0, 1.0, 1.0, 1.0, 1.0, 1.0, 1.0, 1.0, 1.0, 1.0, 1.0, 1.0, 1.0, 1.0, 1.0, 1.0, 1.0, 1.0, 1.0, 1.0, 1.0, 1.0, 1.0, 1.0, 1.0, 1.0, 1.0, 1.0, 1.0, 1.0, 1.0, 1.0, 1.0, 1.0, 1.0, 1.0, 1.0, 1.0, 1.0, 1.0, 1.0]}, {\"marker\": {\"color\": \"green\", \"symbol\": \"x\"}, \"mode\": \"markers\", \"name\": \"Log Grid\", \"type\": \"scatter\", \"x\": [0.0001, 0.00012067926406393288, 0.00014563484775012445, 0.00017575106248547912, 0.00021209508879201905, 0.0002559547922699536, 0.00030888435964774815, 0.0003727593720314938, 0.0004498432668969444, 0.0005428675439323859, 0.0006551285568595509, 0.0007906043210907702, 0.0009540954763499944, 0.0011513953993264468, 0.0013894954943731374, 0.0016768329368110067, 0.0020235896477251557, 0.0024420530945486497, 0.0029470517025518097, 0.0035564803062231283, 0.004291934260128779, 0.005179474679231213, 0.0062505519252739694, 0.007543120063354615, 0.009102981779915217, 0.010985411419875584, 0.013257113655901081, 0.015998587196060572, 0.019306977288832496, 0.023299518105153717, 0.02811768697974228, 0.033932217718953266, 0.040949150623804234, 0.04941713361323833, 0.05963623316594643, 0.07196856730011514, 0.08685113737513521, 0.10481131341546852, 0.12648552168552957, 0.15264179671752318, 0.18420699693267145, 0.22229964825261933, 0.2682695795279725, 0.32374575428176433, 0.3906939937054613, 0.47148663634573895, 0.5689866029018293, 0.6866488450042998, 0.8286427728546842, 1.0], \"y\": [2.0, 2.0, 2.0, 2.0, 2.0, 2.0, 2.0, 2.0, 2.0, 2.0, 2.0, 2.0, 2.0, 2.0, 2.0, 2.0, 2.0, 2.0, 2.0, 2.0, 2.0, 2.0, 2.0, 2.0, 2.0, 2.0, 2.0, 2.0, 2.0, 2.0, 2.0, 2.0, 2.0, 2.0, 2.0, 2.0, 2.0, 2.0, 2.0, 2.0, 2.0, 2.0, 2.0, 2.0, 2.0, 2.0, 2.0, 2.0, 2.0, 2.0]}, {\"marker\": {\"color\": \"red\", \"symbol\": \"circle\"}, \"mode\": \"markers\", \"name\": \"Linear Random\", \"type\": \"scatter\", \"x\": [0.3746030393755966, 0.9507201856935815, 0.7320214744111657, 0.598699217007101, 0.1561031945970327, 0.15607907687868933, 0.05817786189059481, 0.8661903943365034, 0.6011555013570462, 0.7081024786108436, 0.02068245643086716, 0.9699138310866302, 0.8324602289789824, 0.21241808910631899, 0.1819069665353471, 0.1834863528069583, 0.3043121229774847, 0.5248044807455062, 0.43200225608527015, 0.2913003085131623, 0.611892321285802, 0.13958005075983726, 0.2922157262150131, 0.3664255734712056, 0.4561248332885984, 0.7851982289728356, 0.19975401445392604, 0.5142835292042086, 0.5924559198197251, 0.04654581412913845, 0.6075847049611001, 0.17060724179904646, 0.06514515287757397, 0.9488915975851451, 0.9656364355032849, 0.8084173167789975, 0.3046836124102225, 0.09776244446709724, 0.6842652874425321, 0.44020891864272105, 0.12212615305952919, 0.4952278875971691, 0.03448511665162799, 0.9093303793589762, 0.2588543623818385, 0.6625566946478308, 0.3117802166928781, 0.5201165344437142, 0.5467561550256246, 0.18493615493443], \"y\": [3.0, 3.0, 3.0, 3.0, 3.0, 3.0, 3.0, 3.0, 3.0, 3.0, 3.0, 3.0, 3.0, 3.0, 3.0, 3.0, 3.0, 3.0, 3.0, 3.0, 3.0, 3.0, 3.0, 3.0, 3.0, 3.0, 3.0, 3.0, 3.0, 3.0, 3.0, 3.0, 3.0, 3.0, 3.0, 3.0, 3.0, 3.0, 3.0, 3.0, 3.0, 3.0, 3.0, 3.0, 3.0, 3.0, 3.0, 3.0, 3.0, 3.0]}, {\"marker\": {\"color\": \"green\", \"symbol\": \"circle\"}, \"mode\": \"markers\", \"name\": \"Log Random\", \"type\": \"scatter\", \"x\": [0.00013233096786938124, 0.0007933570887229406, 0.00017458391722451327, 0.00026344538695625947, 0.004058822738727253, 0.00020535394950242015, 0.44261893797525725, 0.16446312961886092, 0.659311793594736, 0.049966470941842325, 0.02787987621844156, 0.08214930109172941, 0.00048422807238007466, 0.037409912570661695, 0.0752076400742407, 0.006748630764178944, 0.27308830387668137, 0.0006183182668819682, 0.5032658079455584, 0.00011283718773307215, 0.0008147435346146418, 0.16037522322088743, 0.9504111692533549, 0.0005472103286993992, 0.0014878893137368282, 0.0012133087450593273, 0.0008220885761913813, 0.5056166805015345, 0.03682451925468805, 0.3439725309085141, 0.00035284689210541913, 0.0032122363527967387, 0.04746876148167417, 0.5568863832770137, 0.057025711570546166, 0.050034171391407985, 0.0012066332446617038, 0.0028168914693061198, 0.00028258495088570666, 0.012916364709298035, 0.3323709177279687, 0.0014028810572995327, 0.0009054402688233532, 0.005687104516723125, 0.0008243872762622998, 0.010588089764579242, 0.00811089319245657, 0.01949108101162662, 0.7912678003597983, 0.3701981908430131], \"y\": [4.0, 4.0, 4.0, 4.0, 4.0, 4.0, 4.0, 4.0, 4.0, 4.0, 4.0, 4.0, 4.0, 4.0, 4.0, 4.0, 4.0, 4.0, 4.0, 4.0, 4.0, 4.0, 4.0, 4.0, 4.0, 4.0, 4.0, 4.0, 4.0, 4.0, 4.0, 4.0, 4.0, 4.0, 4.0, 4.0, 4.0, 4.0, 4.0, 4.0, 4.0, 4.0, 4.0, 4.0, 4.0, 4.0, 4.0, 4.0, 4.0, 4.0]}],\n",
       "                        {\"template\": {\"data\": {\"bar\": [{\"error_x\": {\"color\": \"#2a3f5f\"}, \"error_y\": {\"color\": \"#2a3f5f\"}, \"marker\": {\"line\": {\"color\": \"#E5ECF6\", \"width\": 0.5}}, \"type\": \"bar\"}], \"barpolar\": [{\"marker\": {\"line\": {\"color\": \"#E5ECF6\", \"width\": 0.5}}, \"type\": \"barpolar\"}], \"carpet\": [{\"aaxis\": {\"endlinecolor\": \"#2a3f5f\", \"gridcolor\": \"white\", \"linecolor\": \"white\", \"minorgridcolor\": \"white\", \"startlinecolor\": \"#2a3f5f\"}, \"baxis\": {\"endlinecolor\": \"#2a3f5f\", \"gridcolor\": \"white\", \"linecolor\": \"white\", \"minorgridcolor\": \"white\", \"startlinecolor\": \"#2a3f5f\"}, \"type\": \"carpet\"}], \"choropleth\": [{\"colorbar\": {\"outlinewidth\": 0, \"ticks\": \"\"}, \"type\": \"choropleth\"}], \"contour\": [{\"colorbar\": {\"outlinewidth\": 0, \"ticks\": \"\"}, \"colorscale\": [[0.0, \"#0d0887\"], [0.1111111111111111, \"#46039f\"], [0.2222222222222222, \"#7201a8\"], [0.3333333333333333, \"#9c179e\"], [0.4444444444444444, \"#bd3786\"], [0.5555555555555556, \"#d8576b\"], [0.6666666666666666, \"#ed7953\"], [0.7777777777777778, \"#fb9f3a\"], [0.8888888888888888, \"#fdca26\"], [1.0, \"#f0f921\"]], \"type\": \"contour\"}], \"contourcarpet\": [{\"colorbar\": {\"outlinewidth\": 0, \"ticks\": \"\"}, \"type\": \"contourcarpet\"}], \"heatmap\": [{\"colorbar\": {\"outlinewidth\": 0, \"ticks\": \"\"}, \"colorscale\": [[0.0, \"#0d0887\"], [0.1111111111111111, \"#46039f\"], [0.2222222222222222, \"#7201a8\"], [0.3333333333333333, \"#9c179e\"], [0.4444444444444444, \"#bd3786\"], [0.5555555555555556, \"#d8576b\"], [0.6666666666666666, \"#ed7953\"], [0.7777777777777778, \"#fb9f3a\"], [0.8888888888888888, \"#fdca26\"], [1.0, \"#f0f921\"]], \"type\": \"heatmap\"}], \"heatmapgl\": [{\"colorbar\": {\"outlinewidth\": 0, \"ticks\": \"\"}, \"colorscale\": [[0.0, \"#0d0887\"], [0.1111111111111111, \"#46039f\"], [0.2222222222222222, \"#7201a8\"], [0.3333333333333333, \"#9c179e\"], [0.4444444444444444, \"#bd3786\"], [0.5555555555555556, \"#d8576b\"], [0.6666666666666666, \"#ed7953\"], [0.7777777777777778, \"#fb9f3a\"], [0.8888888888888888, \"#fdca26\"], [1.0, \"#f0f921\"]], \"type\": \"heatmapgl\"}], \"histogram\": [{\"marker\": {\"colorbar\": {\"outlinewidth\": 0, \"ticks\": \"\"}}, \"type\": \"histogram\"}], \"histogram2d\": [{\"colorbar\": {\"outlinewidth\": 0, \"ticks\": \"\"}, \"colorscale\": [[0.0, \"#0d0887\"], [0.1111111111111111, \"#46039f\"], [0.2222222222222222, \"#7201a8\"], [0.3333333333333333, \"#9c179e\"], [0.4444444444444444, \"#bd3786\"], [0.5555555555555556, \"#d8576b\"], [0.6666666666666666, \"#ed7953\"], [0.7777777777777778, \"#fb9f3a\"], [0.8888888888888888, \"#fdca26\"], [1.0, \"#f0f921\"]], \"type\": \"histogram2d\"}], \"histogram2dcontour\": [{\"colorbar\": {\"outlinewidth\": 0, \"ticks\": \"\"}, \"colorscale\": [[0.0, \"#0d0887\"], [0.1111111111111111, \"#46039f\"], [0.2222222222222222, \"#7201a8\"], [0.3333333333333333, \"#9c179e\"], [0.4444444444444444, \"#bd3786\"], [0.5555555555555556, \"#d8576b\"], [0.6666666666666666, \"#ed7953\"], [0.7777777777777778, \"#fb9f3a\"], [0.8888888888888888, \"#fdca26\"], [1.0, \"#f0f921\"]], \"type\": \"histogram2dcontour\"}], \"mesh3d\": [{\"colorbar\": {\"outlinewidth\": 0, \"ticks\": \"\"}, \"type\": \"mesh3d\"}], \"parcoords\": [{\"line\": {\"colorbar\": {\"outlinewidth\": 0, \"ticks\": \"\"}}, \"type\": \"parcoords\"}], \"pie\": [{\"automargin\": true, \"type\": \"pie\"}], \"scatter\": [{\"marker\": {\"colorbar\": {\"outlinewidth\": 0, \"ticks\": \"\"}}, \"type\": \"scatter\"}], \"scatter3d\": [{\"line\": {\"colorbar\": {\"outlinewidth\": 0, \"ticks\": \"\"}}, \"marker\": {\"colorbar\": {\"outlinewidth\": 0, \"ticks\": \"\"}}, \"type\": \"scatter3d\"}], \"scattercarpet\": [{\"marker\": {\"colorbar\": {\"outlinewidth\": 0, \"ticks\": \"\"}}, \"type\": \"scattercarpet\"}], \"scattergeo\": [{\"marker\": {\"colorbar\": {\"outlinewidth\": 0, \"ticks\": \"\"}}, \"type\": \"scattergeo\"}], \"scattergl\": [{\"marker\": {\"colorbar\": {\"outlinewidth\": 0, \"ticks\": \"\"}}, \"type\": \"scattergl\"}], \"scattermapbox\": [{\"marker\": {\"colorbar\": {\"outlinewidth\": 0, \"ticks\": \"\"}}, \"type\": \"scattermapbox\"}], \"scatterpolar\": [{\"marker\": {\"colorbar\": {\"outlinewidth\": 0, \"ticks\": \"\"}}, \"type\": \"scatterpolar\"}], \"scatterpolargl\": [{\"marker\": {\"colorbar\": {\"outlinewidth\": 0, \"ticks\": \"\"}}, \"type\": \"scatterpolargl\"}], \"scatterternary\": [{\"marker\": {\"colorbar\": {\"outlinewidth\": 0, \"ticks\": \"\"}}, \"type\": \"scatterternary\"}], \"surface\": [{\"colorbar\": {\"outlinewidth\": 0, \"ticks\": \"\"}, \"colorscale\": [[0.0, \"#0d0887\"], [0.1111111111111111, \"#46039f\"], [0.2222222222222222, \"#7201a8\"], [0.3333333333333333, \"#9c179e\"], [0.4444444444444444, \"#bd3786\"], [0.5555555555555556, \"#d8576b\"], [0.6666666666666666, \"#ed7953\"], [0.7777777777777778, \"#fb9f3a\"], [0.8888888888888888, \"#fdca26\"], [1.0, \"#f0f921\"]], \"type\": \"surface\"}], \"table\": [{\"cells\": {\"fill\": {\"color\": \"#EBF0F8\"}, \"line\": {\"color\": \"white\"}}, \"header\": {\"fill\": {\"color\": \"#C8D4E3\"}, \"line\": {\"color\": \"white\"}}, \"type\": \"table\"}]}, \"layout\": {\"annotationdefaults\": {\"arrowcolor\": \"#2a3f5f\", \"arrowhead\": 0, \"arrowwidth\": 1}, \"coloraxis\": {\"colorbar\": {\"outlinewidth\": 0, \"ticks\": \"\"}}, \"colorscale\": {\"diverging\": [[0, \"#8e0152\"], [0.1, \"#c51b7d\"], [0.2, \"#de77ae\"], [0.3, \"#f1b6da\"], [0.4, \"#fde0ef\"], [0.5, \"#f7f7f7\"], [0.6, \"#e6f5d0\"], [0.7, \"#b8e186\"], [0.8, \"#7fbc41\"], [0.9, \"#4d9221\"], [1, \"#276419\"]], \"sequential\": [[0.0, \"#0d0887\"], [0.1111111111111111, \"#46039f\"], [0.2222222222222222, \"#7201a8\"], [0.3333333333333333, \"#9c179e\"], [0.4444444444444444, \"#bd3786\"], [0.5555555555555556, \"#d8576b\"], [0.6666666666666666, \"#ed7953\"], [0.7777777777777778, \"#fb9f3a\"], [0.8888888888888888, \"#fdca26\"], [1.0, \"#f0f921\"]], \"sequentialminus\": [[0.0, \"#0d0887\"], [0.1111111111111111, \"#46039f\"], [0.2222222222222222, \"#7201a8\"], [0.3333333333333333, \"#9c179e\"], [0.4444444444444444, \"#bd3786\"], [0.5555555555555556, \"#d8576b\"], [0.6666666666666666, \"#ed7953\"], [0.7777777777777778, \"#fb9f3a\"], [0.8888888888888888, \"#fdca26\"], [1.0, \"#f0f921\"]]}, \"colorway\": [\"#636efa\", \"#EF553B\", \"#00cc96\", \"#ab63fa\", \"#FFA15A\", \"#19d3f3\", \"#FF6692\", \"#B6E880\", \"#FF97FF\", \"#FECB52\"], \"font\": {\"color\": \"#2a3f5f\"}, \"geo\": {\"bgcolor\": \"white\", \"lakecolor\": \"white\", \"landcolor\": \"#E5ECF6\", \"showlakes\": true, \"showland\": true, \"subunitcolor\": \"white\"}, \"hoverlabel\": {\"align\": \"left\"}, \"hovermode\": \"closest\", \"mapbox\": {\"style\": \"light\"}, \"paper_bgcolor\": \"white\", \"plot_bgcolor\": \"#E5ECF6\", \"polar\": {\"angularaxis\": {\"gridcolor\": \"white\", \"linecolor\": \"white\", \"ticks\": \"\"}, \"bgcolor\": \"#E5ECF6\", \"radialaxis\": {\"gridcolor\": \"white\", \"linecolor\": \"white\", \"ticks\": \"\"}}, \"scene\": {\"xaxis\": {\"backgroundcolor\": \"#E5ECF6\", \"gridcolor\": \"white\", \"gridwidth\": 2, \"linecolor\": \"white\", \"showbackground\": true, \"ticks\": \"\", \"zerolinecolor\": \"white\"}, \"yaxis\": {\"backgroundcolor\": \"#E5ECF6\", \"gridcolor\": \"white\", \"gridwidth\": 2, \"linecolor\": \"white\", \"showbackground\": true, \"ticks\": \"\", \"zerolinecolor\": \"white\"}, \"zaxis\": {\"backgroundcolor\": \"#E5ECF6\", \"gridcolor\": \"white\", \"gridwidth\": 2, \"linecolor\": \"white\", \"showbackground\": true, \"ticks\": \"\", \"zerolinecolor\": \"white\"}}, \"shapedefaults\": {\"line\": {\"color\": \"#2a3f5f\"}}, \"ternary\": {\"aaxis\": {\"gridcolor\": \"white\", \"linecolor\": \"white\", \"ticks\": \"\"}, \"baxis\": {\"gridcolor\": \"white\", \"linecolor\": \"white\", \"ticks\": \"\"}, \"bgcolor\": \"#E5ECF6\", \"caxis\": {\"gridcolor\": \"white\", \"linecolor\": \"white\", \"ticks\": \"\"}}, \"title\": {\"x\": 0.05}, \"xaxis\": {\"automargin\": true, \"gridcolor\": \"white\", \"linecolor\": \"white\", \"ticks\": \"\", \"title\": {\"standoff\": 15}, \"zerolinecolor\": \"white\", \"zerolinewidth\": 2}, \"yaxis\": {\"automargin\": true, \"gridcolor\": \"white\", \"linecolor\": \"white\", \"ticks\": \"\", \"title\": {\"standoff\": 15}, \"zerolinecolor\": \"white\", \"zerolinewidth\": 2}}}, \"title\": {\"text\": \"Learning Rate Search Values\"}},\n",
       "                        {\"responsive\": true}\n",
       "                    ).then(function(){\n",
       "                            \n",
       "var gd = document.getElementById('7c0e06e3-8e61-42bc-90de-7992d1ee307d');\n",
       "var x = new MutationObserver(function (mutations, observer) {{\n",
       "        var display = window.getComputedStyle(gd).display;\n",
       "        if (!display || display === 'none') {{\n",
       "            console.log([gd, 'removed!']);\n",
       "            Plotly.purge(gd);\n",
       "            observer.disconnect();\n",
       "        }}\n",
       "}});\n",
       "\n",
       "// Listen for the removal of the full notebook cells\n",
       "var notebookContainer = gd.closest('#notebook-container');\n",
       "if (notebookContainer) {{\n",
       "    x.observe(notebookContainer, {childList: true});\n",
       "}}\n",
       "\n",
       "// Listen for the clearing of the current output cell\n",
       "var outputEl = gd.closest('.output');\n",
       "if (outputEl) {{\n",
       "    x.observe(outputEl, {childList: true});\n",
       "}}\n",
       "\n",
       "                        })\n",
       "                };\n",
       "                });\n",
       "            </script>\n",
       "        </div>"
      ]
     },
     "metadata": {},
     "output_type": "display_data"
    }
   ],
   "source": [
    "''' demonstrate linear- and log-scale random and grid search for a learning rate hyperparameter '''\n",
    "np.random.seed(42)\n",
    "granu = 50\n",
    "\n",
    "# linear sampling\n",
    "learn_rate_0 = np.linspace(0.0001, 1.0, num=granu, endpoint=True)\n",
    "learn_rate_2 = np.random.uniform(0.0001, 1.000001, granu)\n",
    "\n",
    "# log sampling\n",
    "learn_rate_1 = 10**np.linspace(-4, 0, num=granu, endpoint=True)\n",
    "learn_rate_3 = 10**(-4*np.random.rand(granu))\n",
    "\n",
    "# plot\n",
    "lrY = np.ones(shape=learn_rate_0.shape)\n",
    "trcs = [go.Scatter(x=learn_rate_0, y=lrY*1, mode='markers', marker={'symbol':'x','color':'red'}, name='Linear Grid'),\n",
    "        go.Scatter(x=learn_rate_1, y=lrY*2, mode='markers', marker={'symbol':'x','color':'green'}, name='Log Grid'),\n",
    "        go.Scatter(x=learn_rate_2, y=lrY*3, mode='markers', marker={'symbol':'circle','color':'red'}, name='Linear Random'),\n",
    "        go.Scatter(x=learn_rate_3, y=lrY*4, mode='markers', marker={'symbol':'circle','color':'green'}, name='Log Random')]\n",
    "fig = go.Figure(data=trcs, layout = go.Layout(title='Learning Rate Search Values'))\n",
    "plyoff.iplot(fig)"
   ]
  },
  {
   "cell_type": "code",
   "execution_count": 18,
   "metadata": {},
   "outputs": [
    {
     "name": "stdout",
     "output_type": "stream",
     "text": [
      "Best Model Mean Test Set Correct Classification Rate = 96.20% (on all data = 98.00%)\n",
      "\tcoef0 = -1\n",
      "\tdegree = 1\n",
      "\tgamma = 2\n",
      "\tkernel = 'poly'\n",
      "Confusion Matrix\n"
     ]
    },
    {
     "data": {
      "text/html": [
       "<div>\n",
       "<style scoped>\n",
       "    .dataframe tbody tr th:only-of-type {\n",
       "        vertical-align: middle;\n",
       "    }\n",
       "\n",
       "    .dataframe tbody tr th {\n",
       "        vertical-align: top;\n",
       "    }\n",
       "\n",
       "    .dataframe thead th {\n",
       "        text-align: right;\n",
       "    }\n",
       "</style>\n",
       "<table border=\"1\" class=\"dataframe\">\n",
       "  <thead>\n",
       "    <tr style=\"text-align: right;\">\n",
       "      <th></th>\n",
       "      <th>setosa</th>\n",
       "      <th>versicolor</th>\n",
       "      <th>virginica</th>\n",
       "    </tr>\n",
       "  </thead>\n",
       "  <tbody>\n",
       "    <tr>\n",
       "      <th>setosa</th>\n",
       "      <td>50</td>\n",
       "      <td>0</td>\n",
       "      <td>0</td>\n",
       "    </tr>\n",
       "    <tr>\n",
       "      <th>versicolor</th>\n",
       "      <td>0</td>\n",
       "      <td>48</td>\n",
       "      <td>2</td>\n",
       "    </tr>\n",
       "    <tr>\n",
       "      <th>virginica</th>\n",
       "      <td>0</td>\n",
       "      <td>1</td>\n",
       "      <td>49</td>\n",
       "    </tr>\n",
       "  </tbody>\n",
       "</table>\n",
       "</div>"
      ],
      "text/plain": [
       "            setosa  versicolor  virginica\n",
       "setosa          50           0          0\n",
       "versicolor       0          48          2\n",
       "virginica        0           1         49"
      ]
     },
     "metadata": {},
     "output_type": "display_data"
    }
   ],
   "source": [
    "''' perform cross-validated grid search for kernel SVM '''\n",
    "# get the data\n",
    "data = irisData[features].values\n",
    "labl = irisData.Class.values\n",
    "\n",
    "# create the hyperparameter spaces - linear and polynomial kernels collapsed to polynomial with the degree parameter\n",
    "params = [{'kernel':['poly'],'degree':[1,2,3],'gamma':[1/p,1,2],'coef0':[-1,0,1]},\n",
    "          {'kernel':['rbf'],'gamma':[1/p,1,2],'degree':[3],'coef0':[0]},\n",
    "          {'kernel':['sigmoid'],'gamma':[1/p,1,2],'coef0':[-1,0,1],'degree':[3]}]\n",
    "\n",
    "# grid search and prediction\n",
    "GSC = GridSearchCV(estimator=SVC(random_state=42), param_grid=params, cv=crossVal,\n",
    "                   return_train_score=True, n_jobs=-1, verbose=0)\n",
    "GSC.fit(X=data, y=labl)\n",
    "bestKern = GSC.best_params_['kernel']\n",
    "irisData['%sSVMPred_GSC'%bestKern] = GSC.predict(X=data)\n",
    "classRate = GSC.score(X=data, y=labl)\n",
    "\n",
    "# talk\n",
    "print('Best Model Mean Test Set Correct Classification Rate = %0.2f%% (on all data = %0.2f%%)'%(100*GSC.best_score_,100*classRate))\n",
    "for param in GSC.best_params_.keys():\n",
    "    print('\\t%s = %r'%(param,GSC.best_params_[param]))\n",
    "# confusion matrix\n",
    "confMat = myConfusionMatrix(labl, irisData['%sSVMPred_GSC'%bestKern].values, range(k), varieties)\n",
    "print('Confusion Matrix')\n",
    "display(confMat)"
   ]
  },
  {
   "cell_type": "code",
   "execution_count": 19,
   "metadata": {},
   "outputs": [
    {
     "name": "stdout",
     "output_type": "stream",
     "text": [
      "dict_keys(['mean_fit_time', 'std_fit_time', 'mean_score_time', 'std_score_time', 'param_coef0', 'param_degree', 'param_gamma', 'param_kernel', 'params', 'split0_test_score', 'split1_test_score', 'split2_test_score', 'split3_test_score', 'split4_test_score', 'split5_test_score', 'split6_test_score', 'split7_test_score', 'split8_test_score', 'split9_test_score', 'split10_test_score', 'split11_test_score', 'split12_test_score', 'split13_test_score', 'split14_test_score', 'split15_test_score', 'split16_test_score', 'split17_test_score', 'split18_test_score', 'split19_test_score', 'split20_test_score', 'split21_test_score', 'split22_test_score', 'split23_test_score', 'split24_test_score', 'split25_test_score', 'split26_test_score', 'split27_test_score', 'split28_test_score', 'split29_test_score', 'split30_test_score', 'split31_test_score', 'split32_test_score', 'split33_test_score', 'split34_test_score', 'split35_test_score', 'split36_test_score', 'split37_test_score', 'split38_test_score', 'split39_test_score', 'split40_test_score', 'split41_test_score', 'split42_test_score', 'split43_test_score', 'split44_test_score', 'split45_test_score', 'split46_test_score', 'split47_test_score', 'split48_test_score', 'split49_test_score', 'split50_test_score', 'split51_test_score', 'split52_test_score', 'split53_test_score', 'split54_test_score', 'split55_test_score', 'split56_test_score', 'split57_test_score', 'split58_test_score', 'split59_test_score', 'split60_test_score', 'split61_test_score', 'split62_test_score', 'split63_test_score', 'split64_test_score', 'split65_test_score', 'split66_test_score', 'split67_test_score', 'split68_test_score', 'split69_test_score', 'split70_test_score', 'split71_test_score', 'split72_test_score', 'split73_test_score', 'split74_test_score', 'split75_test_score', 'split76_test_score', 'split77_test_score', 'split78_test_score', 'split79_test_score', 'split80_test_score', 'split81_test_score', 'split82_test_score', 'split83_test_score', 'split84_test_score', 'split85_test_score', 'split86_test_score', 'split87_test_score', 'split88_test_score', 'split89_test_score', 'split90_test_score', 'split91_test_score', 'split92_test_score', 'split93_test_score', 'split94_test_score', 'split95_test_score', 'split96_test_score', 'split97_test_score', 'split98_test_score', 'split99_test_score', 'mean_test_score', 'std_test_score', 'rank_test_score', 'split0_train_score', 'split1_train_score', 'split2_train_score', 'split3_train_score', 'split4_train_score', 'split5_train_score', 'split6_train_score', 'split7_train_score', 'split8_train_score', 'split9_train_score', 'split10_train_score', 'split11_train_score', 'split12_train_score', 'split13_train_score', 'split14_train_score', 'split15_train_score', 'split16_train_score', 'split17_train_score', 'split18_train_score', 'split19_train_score', 'split20_train_score', 'split21_train_score', 'split22_train_score', 'split23_train_score', 'split24_train_score', 'split25_train_score', 'split26_train_score', 'split27_train_score', 'split28_train_score', 'split29_train_score', 'split30_train_score', 'split31_train_score', 'split32_train_score', 'split33_train_score', 'split34_train_score', 'split35_train_score', 'split36_train_score', 'split37_train_score', 'split38_train_score', 'split39_train_score', 'split40_train_score', 'split41_train_score', 'split42_train_score', 'split43_train_score', 'split44_train_score', 'split45_train_score', 'split46_train_score', 'split47_train_score', 'split48_train_score', 'split49_train_score', 'split50_train_score', 'split51_train_score', 'split52_train_score', 'split53_train_score', 'split54_train_score', 'split55_train_score', 'split56_train_score', 'split57_train_score', 'split58_train_score', 'split59_train_score', 'split60_train_score', 'split61_train_score', 'split62_train_score', 'split63_train_score', 'split64_train_score', 'split65_train_score', 'split66_train_score', 'split67_train_score', 'split68_train_score', 'split69_train_score', 'split70_train_score', 'split71_train_score', 'split72_train_score', 'split73_train_score', 'split74_train_score', 'split75_train_score', 'split76_train_score', 'split77_train_score', 'split78_train_score', 'split79_train_score', 'split80_train_score', 'split81_train_score', 'split82_train_score', 'split83_train_score', 'split84_train_score', 'split85_train_score', 'split86_train_score', 'split87_train_score', 'split88_train_score', 'split89_train_score', 'split90_train_score', 'split91_train_score', 'split92_train_score', 'split93_train_score', 'split94_train_score', 'split95_train_score', 'split96_train_score', 'split97_train_score', 'split98_train_score', 'split99_train_score', 'mean_train_score', 'std_train_score'])\n"
     ]
    },
    {
     "data": {
      "text/html": [
       "<div>\n",
       "<style scoped>\n",
       "    .dataframe tbody tr th:only-of-type {\n",
       "        vertical-align: middle;\n",
       "    }\n",
       "\n",
       "    .dataframe tbody tr th {\n",
       "        vertical-align: top;\n",
       "    }\n",
       "\n",
       "    .dataframe thead th {\n",
       "        text-align: right;\n",
       "    }\n",
       "</style>\n",
       "<table border=\"1\" class=\"dataframe\">\n",
       "  <thead>\n",
       "    <tr style=\"text-align: right;\">\n",
       "      <th></th>\n",
       "      <th>coef0</th>\n",
       "      <th>degree</th>\n",
       "      <th>gamma</th>\n",
       "      <th>kernel</th>\n",
       "      <th>Mean Train CCR</th>\n",
       "      <th>Mean Test CCR</th>\n",
       "      <th>Rank</th>\n",
       "    </tr>\n",
       "  </thead>\n",
       "  <tbody>\n",
       "    <tr>\n",
       "      <th>2</th>\n",
       "      <td>-1</td>\n",
       "      <td>1</td>\n",
       "      <td>2.0</td>\n",
       "      <td>poly</td>\n",
       "      <td>0.984167</td>\n",
       "      <td>0.962000</td>\n",
       "      <td>1.0</td>\n",
       "    </tr>\n",
       "    <tr>\n",
       "      <th>3</th>\n",
       "      <td>-1</td>\n",
       "      <td>2</td>\n",
       "      <td>0.1</td>\n",
       "      <td>poly</td>\n",
       "      <td>0.989750</td>\n",
       "      <td>0.962000</td>\n",
       "      <td>1.0</td>\n",
       "    </tr>\n",
       "    <tr>\n",
       "      <th>11</th>\n",
       "      <td>0</td>\n",
       "      <td>1</td>\n",
       "      <td>2.0</td>\n",
       "      <td>poly</td>\n",
       "      <td>0.984167</td>\n",
       "      <td>0.962000</td>\n",
       "      <td>1.0</td>\n",
       "    </tr>\n",
       "    <tr>\n",
       "      <th>12</th>\n",
       "      <td>0</td>\n",
       "      <td>2</td>\n",
       "      <td>0.1</td>\n",
       "      <td>poly</td>\n",
       "      <td>0.989750</td>\n",
       "      <td>0.962000</td>\n",
       "      <td>1.0</td>\n",
       "    </tr>\n",
       "    <tr>\n",
       "      <th>20</th>\n",
       "      <td>1</td>\n",
       "      <td>1</td>\n",
       "      <td>2.0</td>\n",
       "      <td>poly</td>\n",
       "      <td>0.984167</td>\n",
       "      <td>0.962000</td>\n",
       "      <td>1.0</td>\n",
       "    </tr>\n",
       "    <tr>\n",
       "      <th>21</th>\n",
       "      <td>1</td>\n",
       "      <td>2</td>\n",
       "      <td>0.1</td>\n",
       "      <td>poly</td>\n",
       "      <td>0.989917</td>\n",
       "      <td>0.961333</td>\n",
       "      <td>6.0</td>\n",
       "    </tr>\n",
       "    <tr>\n",
       "      <th>1</th>\n",
       "      <td>-1</td>\n",
       "      <td>1</td>\n",
       "      <td>1.0</td>\n",
       "      <td>poly</td>\n",
       "      <td>0.983500</td>\n",
       "      <td>0.960333</td>\n",
       "      <td>7.0</td>\n",
       "    </tr>\n",
       "    <tr>\n",
       "      <th>10</th>\n",
       "      <td>0</td>\n",
       "      <td>1</td>\n",
       "      <td>1.0</td>\n",
       "      <td>poly</td>\n",
       "      <td>0.983500</td>\n",
       "      <td>0.960333</td>\n",
       "      <td>7.0</td>\n",
       "    </tr>\n",
       "    <tr>\n",
       "      <th>19</th>\n",
       "      <td>1</td>\n",
       "      <td>1</td>\n",
       "      <td>1.0</td>\n",
       "      <td>poly</td>\n",
       "      <td>0.983500</td>\n",
       "      <td>0.960333</td>\n",
       "      <td>7.0</td>\n",
       "    </tr>\n",
       "    <tr>\n",
       "      <th>0</th>\n",
       "      <td>-1</td>\n",
       "      <td>1</td>\n",
       "      <td>0.1</td>\n",
       "      <td>poly</td>\n",
       "      <td>0.972083</td>\n",
       "      <td>0.957333</td>\n",
       "      <td>10.0</td>\n",
       "    </tr>\n",
       "    <tr>\n",
       "      <th>9</th>\n",
       "      <td>0</td>\n",
       "      <td>1</td>\n",
       "      <td>0.1</td>\n",
       "      <td>poly</td>\n",
       "      <td>0.972083</td>\n",
       "      <td>0.957333</td>\n",
       "      <td>10.0</td>\n",
       "    </tr>\n",
       "    <tr>\n",
       "      <th>18</th>\n",
       "      <td>1</td>\n",
       "      <td>1</td>\n",
       "      <td>0.1</td>\n",
       "      <td>poly</td>\n",
       "      <td>0.972083</td>\n",
       "      <td>0.957333</td>\n",
       "      <td>10.0</td>\n",
       "    </tr>\n",
       "    <tr>\n",
       "      <th>5</th>\n",
       "      <td>-1</td>\n",
       "      <td>2</td>\n",
       "      <td>2.0</td>\n",
       "      <td>poly</td>\n",
       "      <td>1.000000</td>\n",
       "      <td>0.943667</td>\n",
       "      <td>14.0</td>\n",
       "    </tr>\n",
       "    <tr>\n",
       "      <th>13</th>\n",
       "      <td>0</td>\n",
       "      <td>2</td>\n",
       "      <td>1.0</td>\n",
       "      <td>poly</td>\n",
       "      <td>1.000000</td>\n",
       "      <td>0.943667</td>\n",
       "      <td>14.0</td>\n",
       "    </tr>\n",
       "    <tr>\n",
       "      <th>14</th>\n",
       "      <td>0</td>\n",
       "      <td>2</td>\n",
       "      <td>2.0</td>\n",
       "      <td>poly</td>\n",
       "      <td>1.000000</td>\n",
       "      <td>0.943667</td>\n",
       "      <td>14.0</td>\n",
       "    </tr>\n",
       "    <tr>\n",
       "      <th>22</th>\n",
       "      <td>1</td>\n",
       "      <td>2</td>\n",
       "      <td>1.0</td>\n",
       "      <td>poly</td>\n",
       "      <td>1.000000</td>\n",
       "      <td>0.943333</td>\n",
       "      <td>17.0</td>\n",
       "    </tr>\n",
       "    <tr>\n",
       "      <th>23</th>\n",
       "      <td>1</td>\n",
       "      <td>2</td>\n",
       "      <td>2.0</td>\n",
       "      <td>poly</td>\n",
       "      <td>1.000000</td>\n",
       "      <td>0.943333</td>\n",
       "      <td>17.0</td>\n",
       "    </tr>\n",
       "    <tr>\n",
       "      <th>4</th>\n",
       "      <td>-1</td>\n",
       "      <td>2</td>\n",
       "      <td>1.0</td>\n",
       "      <td>poly</td>\n",
       "      <td>1.000000</td>\n",
       "      <td>0.942667</td>\n",
       "      <td>19.0</td>\n",
       "    </tr>\n",
       "    <tr>\n",
       "      <th>6</th>\n",
       "      <td>-1</td>\n",
       "      <td>3</td>\n",
       "      <td>0.1</td>\n",
       "      <td>poly</td>\n",
       "      <td>1.000000</td>\n",
       "      <td>0.941667</td>\n",
       "      <td>20.0</td>\n",
       "    </tr>\n",
       "    <tr>\n",
       "      <th>8</th>\n",
       "      <td>-1</td>\n",
       "      <td>3</td>\n",
       "      <td>2.0</td>\n",
       "      <td>poly</td>\n",
       "      <td>1.000000</td>\n",
       "      <td>0.941000</td>\n",
       "      <td>21.0</td>\n",
       "    </tr>\n",
       "    <tr>\n",
       "      <th>15</th>\n",
       "      <td>0</td>\n",
       "      <td>3</td>\n",
       "      <td>0.1</td>\n",
       "      <td>poly</td>\n",
       "      <td>1.000000</td>\n",
       "      <td>0.941000</td>\n",
       "      <td>21.0</td>\n",
       "    </tr>\n",
       "    <tr>\n",
       "      <th>16</th>\n",
       "      <td>0</td>\n",
       "      <td>3</td>\n",
       "      <td>1.0</td>\n",
       "      <td>poly</td>\n",
       "      <td>1.000000</td>\n",
       "      <td>0.941000</td>\n",
       "      <td>21.0</td>\n",
       "    </tr>\n",
       "    <tr>\n",
       "      <th>17</th>\n",
       "      <td>0</td>\n",
       "      <td>3</td>\n",
       "      <td>2.0</td>\n",
       "      <td>poly</td>\n",
       "      <td>1.000000</td>\n",
       "      <td>0.941000</td>\n",
       "      <td>21.0</td>\n",
       "    </tr>\n",
       "    <tr>\n",
       "      <th>25</th>\n",
       "      <td>1</td>\n",
       "      <td>3</td>\n",
       "      <td>1.0</td>\n",
       "      <td>poly</td>\n",
       "      <td>1.000000</td>\n",
       "      <td>0.941000</td>\n",
       "      <td>21.0</td>\n",
       "    </tr>\n",
       "    <tr>\n",
       "      <th>26</th>\n",
       "      <td>1</td>\n",
       "      <td>3</td>\n",
       "      <td>2.0</td>\n",
       "      <td>poly</td>\n",
       "      <td>1.000000</td>\n",
       "      <td>0.941000</td>\n",
       "      <td>21.0</td>\n",
       "    </tr>\n",
       "    <tr>\n",
       "      <th>7</th>\n",
       "      <td>-1</td>\n",
       "      <td>3</td>\n",
       "      <td>1.0</td>\n",
       "      <td>poly</td>\n",
       "      <td>1.000000</td>\n",
       "      <td>0.940667</td>\n",
       "      <td>27.0</td>\n",
       "    </tr>\n",
       "    <tr>\n",
       "      <th>24</th>\n",
       "      <td>1</td>\n",
       "      <td>3</td>\n",
       "      <td>0.1</td>\n",
       "      <td>poly</td>\n",
       "      <td>1.000000</td>\n",
       "      <td>0.939667</td>\n",
       "      <td>28.0</td>\n",
       "    </tr>\n",
       "    <tr>\n",
       "      <th>27</th>\n",
       "      <td>0</td>\n",
       "      <td>3</td>\n",
       "      <td>0.1</td>\n",
       "      <td>rbf</td>\n",
       "      <td>0.994167</td>\n",
       "      <td>0.948333</td>\n",
       "      <td>13.0</td>\n",
       "    </tr>\n",
       "    <tr>\n",
       "      <th>28</th>\n",
       "      <td>0</td>\n",
       "      <td>3</td>\n",
       "      <td>1.0</td>\n",
       "      <td>rbf</td>\n",
       "      <td>1.000000</td>\n",
       "      <td>0.776333</td>\n",
       "      <td>29.0</td>\n",
       "    </tr>\n",
       "    <tr>\n",
       "      <th>29</th>\n",
       "      <td>0</td>\n",
       "      <td>3</td>\n",
       "      <td>2.0</td>\n",
       "      <td>rbf</td>\n",
       "      <td>1.000000</td>\n",
       "      <td>0.659000</td>\n",
       "      <td>30.0</td>\n",
       "    </tr>\n",
       "    <tr>\n",
       "      <th>30</th>\n",
       "      <td>-1</td>\n",
       "      <td>3</td>\n",
       "      <td>0.1</td>\n",
       "      <td>sigmoid</td>\n",
       "      <td>0.333333</td>\n",
       "      <td>0.333333</td>\n",
       "      <td>31.0</td>\n",
       "    </tr>\n",
       "    <tr>\n",
       "      <th>31</th>\n",
       "      <td>-1</td>\n",
       "      <td>3</td>\n",
       "      <td>1.0</td>\n",
       "      <td>sigmoid</td>\n",
       "      <td>0.333333</td>\n",
       "      <td>0.333333</td>\n",
       "      <td>31.0</td>\n",
       "    </tr>\n",
       "    <tr>\n",
       "      <th>32</th>\n",
       "      <td>-1</td>\n",
       "      <td>3</td>\n",
       "      <td>2.0</td>\n",
       "      <td>sigmoid</td>\n",
       "      <td>0.333333</td>\n",
       "      <td>0.333333</td>\n",
       "      <td>31.0</td>\n",
       "    </tr>\n",
       "    <tr>\n",
       "      <th>33</th>\n",
       "      <td>0</td>\n",
       "      <td>3</td>\n",
       "      <td>0.1</td>\n",
       "      <td>sigmoid</td>\n",
       "      <td>0.333333</td>\n",
       "      <td>0.333333</td>\n",
       "      <td>31.0</td>\n",
       "    </tr>\n",
       "    <tr>\n",
       "      <th>34</th>\n",
       "      <td>0</td>\n",
       "      <td>3</td>\n",
       "      <td>1.0</td>\n",
       "      <td>sigmoid</td>\n",
       "      <td>0.333333</td>\n",
       "      <td>0.333333</td>\n",
       "      <td>31.0</td>\n",
       "    </tr>\n",
       "    <tr>\n",
       "      <th>35</th>\n",
       "      <td>0</td>\n",
       "      <td>3</td>\n",
       "      <td>2.0</td>\n",
       "      <td>sigmoid</td>\n",
       "      <td>0.333333</td>\n",
       "      <td>0.333333</td>\n",
       "      <td>31.0</td>\n",
       "    </tr>\n",
       "    <tr>\n",
       "      <th>36</th>\n",
       "      <td>1</td>\n",
       "      <td>3</td>\n",
       "      <td>0.1</td>\n",
       "      <td>sigmoid</td>\n",
       "      <td>0.333333</td>\n",
       "      <td>0.333333</td>\n",
       "      <td>31.0</td>\n",
       "    </tr>\n",
       "    <tr>\n",
       "      <th>37</th>\n",
       "      <td>1</td>\n",
       "      <td>3</td>\n",
       "      <td>1.0</td>\n",
       "      <td>sigmoid</td>\n",
       "      <td>0.333333</td>\n",
       "      <td>0.333333</td>\n",
       "      <td>31.0</td>\n",
       "    </tr>\n",
       "    <tr>\n",
       "      <th>38</th>\n",
       "      <td>1</td>\n",
       "      <td>3</td>\n",
       "      <td>2.0</td>\n",
       "      <td>sigmoid</td>\n",
       "      <td>0.333333</td>\n",
       "      <td>0.333333</td>\n",
       "      <td>31.0</td>\n",
       "    </tr>\n",
       "  </tbody>\n",
       "</table>\n",
       "</div>"
      ],
      "text/plain": [
       "    coef0  degree  gamma   kernel  Mean Train CCR  Mean Test CCR  Rank\n",
       "2      -1       1    2.0     poly        0.984167       0.962000   1.0\n",
       "3      -1       2    0.1     poly        0.989750       0.962000   1.0\n",
       "11      0       1    2.0     poly        0.984167       0.962000   1.0\n",
       "12      0       2    0.1     poly        0.989750       0.962000   1.0\n",
       "20      1       1    2.0     poly        0.984167       0.962000   1.0\n",
       "21      1       2    0.1     poly        0.989917       0.961333   6.0\n",
       "1      -1       1    1.0     poly        0.983500       0.960333   7.0\n",
       "10      0       1    1.0     poly        0.983500       0.960333   7.0\n",
       "19      1       1    1.0     poly        0.983500       0.960333   7.0\n",
       "0      -1       1    0.1     poly        0.972083       0.957333  10.0\n",
       "9       0       1    0.1     poly        0.972083       0.957333  10.0\n",
       "18      1       1    0.1     poly        0.972083       0.957333  10.0\n",
       "5      -1       2    2.0     poly        1.000000       0.943667  14.0\n",
       "13      0       2    1.0     poly        1.000000       0.943667  14.0\n",
       "14      0       2    2.0     poly        1.000000       0.943667  14.0\n",
       "22      1       2    1.0     poly        1.000000       0.943333  17.0\n",
       "23      1       2    2.0     poly        1.000000       0.943333  17.0\n",
       "4      -1       2    1.0     poly        1.000000       0.942667  19.0\n",
       "6      -1       3    0.1     poly        1.000000       0.941667  20.0\n",
       "8      -1       3    2.0     poly        1.000000       0.941000  21.0\n",
       "15      0       3    0.1     poly        1.000000       0.941000  21.0\n",
       "16      0       3    1.0     poly        1.000000       0.941000  21.0\n",
       "17      0       3    2.0     poly        1.000000       0.941000  21.0\n",
       "25      1       3    1.0     poly        1.000000       0.941000  21.0\n",
       "26      1       3    2.0     poly        1.000000       0.941000  21.0\n",
       "7      -1       3    1.0     poly        1.000000       0.940667  27.0\n",
       "24      1       3    0.1     poly        1.000000       0.939667  28.0\n",
       "27      0       3    0.1      rbf        0.994167       0.948333  13.0\n",
       "28      0       3    1.0      rbf        1.000000       0.776333  29.0\n",
       "29      0       3    2.0      rbf        1.000000       0.659000  30.0\n",
       "30     -1       3    0.1  sigmoid        0.333333       0.333333  31.0\n",
       "31     -1       3    1.0  sigmoid        0.333333       0.333333  31.0\n",
       "32     -1       3    2.0  sigmoid        0.333333       0.333333  31.0\n",
       "33      0       3    0.1  sigmoid        0.333333       0.333333  31.0\n",
       "34      0       3    1.0  sigmoid        0.333333       0.333333  31.0\n",
       "35      0       3    2.0  sigmoid        0.333333       0.333333  31.0\n",
       "36      1       3    0.1  sigmoid        0.333333       0.333333  31.0\n",
       "37      1       3    1.0  sigmoid        0.333333       0.333333  31.0\n",
       "38      1       3    2.0  sigmoid        0.333333       0.333333  31.0"
      ]
     },
     "metadata": {},
     "output_type": "display_data"
    }
   ],
   "source": [
    "''' review the data saved by GSC '''\n",
    "print(GSC.cv_results_.keys())\n",
    "# extract\n",
    "parms = GSC.cv_results_['params']\n",
    "tstMean = GSC.cv_results_['mean_test_score']\n",
    "tstRank = GSC.cv_results_['rank_test_score']\n",
    "trnMean = GSC.cv_results_['mean_train_score']\n",
    "\n",
    "# combine\n",
    "GSCResults = pd.DataFrame(parms).join(pd.DataFrame(np.c_[trnMean,tstMean,tstRank],columns=['Mean Train CCR','Mean Test CCR','Rank']))\n",
    "GSCResults.sort_values(by=['kernel','Rank'], inplace=True)\n",
    "\n",
    "# talk\n",
    "display(GSCResults)"
   ]
  },
  {
   "cell_type": "code",
   "execution_count": 20,
   "metadata": {},
   "outputs": [
    {
     "data": {
      "application/vnd.plotly.v1+json": {
       "config": {
        "linkText": "Export to plot.ly",
        "plotlyServerURL": "https://plot.ly",
        "showLink": false
       },
       "data": [
        {
         "hovertemplate": "kernel=poly<br>coef0=-1<br>gamma=%{x}<br>degree=%{y}<br>Mean Test CCR=%{z}<extra></extra>",
         "legendgroup": "poly, -1",
         "marker": {
          "color": "#636efa",
          "symbol": "circle"
         },
         "mode": "markers",
         "name": "poly, -1",
         "scene": "scene",
         "showlegend": true,
         "type": "scatter3d",
         "x": [
          2,
          0.1,
          1,
          0.1,
          2,
          1,
          0.1,
          2,
          1
         ],
         "y": [
          1,
          2,
          1,
          1,
          2,
          2,
          3,
          3,
          3
         ],
         "z": [
          0.9620000000000002,
          0.9620000000000002,
          0.9603333333333336,
          0.9573333333333335,
          0.943666666666667,
          0.942666666666667,
          0.9416666666666669,
          0.9410000000000003,
          0.9406666666666669
         ]
        },
        {
         "hovertemplate": "kernel=poly<br>coef0=0<br>gamma=%{x}<br>degree=%{y}<br>Mean Test CCR=%{z}<extra></extra>",
         "legendgroup": "poly, 0",
         "marker": {
          "color": "#636efa",
          "symbol": "diamond"
         },
         "mode": "markers",
         "name": "poly, 0",
         "scene": "scene",
         "showlegend": true,
         "type": "scatter3d",
         "x": [
          2,
          0.1,
          1,
          0.1,
          1,
          2,
          0.1,
          1,
          2
         ],
         "y": [
          1,
          2,
          1,
          1,
          2,
          2,
          3,
          3,
          3
         ],
         "z": [
          0.9620000000000002,
          0.9620000000000002,
          0.9603333333333336,
          0.9573333333333335,
          0.943666666666667,
          0.943666666666667,
          0.9410000000000003,
          0.9410000000000003,
          0.9410000000000003
         ]
        },
        {
         "hovertemplate": "kernel=poly<br>coef0=1<br>gamma=%{x}<br>degree=%{y}<br>Mean Test CCR=%{z}<extra></extra>",
         "legendgroup": "poly, 1",
         "marker": {
          "color": "#636efa",
          "symbol": "square"
         },
         "mode": "markers",
         "name": "poly, 1",
         "scene": "scene",
         "showlegend": true,
         "type": "scatter3d",
         "x": [
          2,
          0.1,
          1,
          0.1,
          1,
          2,
          1,
          2,
          0.1
         ],
         "y": [
          1,
          2,
          1,
          1,
          2,
          2,
          3,
          3,
          3
         ],
         "z": [
          0.9620000000000002,
          0.9613333333333336,
          0.9603333333333336,
          0.9573333333333335,
          0.9433333333333337,
          0.9433333333333337,
          0.9410000000000003,
          0.9410000000000003,
          0.939666666666667
         ]
        },
        {
         "hovertemplate": "kernel=rbf<br>coef0=0<br>gamma=%{x}<br>degree=%{y}<br>Mean Test CCR=%{z}<extra></extra>",
         "legendgroup": "rbf, 0",
         "marker": {
          "color": "#EF553B",
          "symbol": "diamond"
         },
         "mode": "markers",
         "name": "rbf, 0",
         "scene": "scene",
         "showlegend": true,
         "type": "scatter3d",
         "x": [
          0.1,
          1,
          2
         ],
         "y": [
          3,
          3,
          3
         ],
         "z": [
          0.9483333333333335,
          0.7763333333333334,
          0.659
         ]
        },
        {
         "hovertemplate": "kernel=sigmoid<br>coef0=-1<br>gamma=%{x}<br>degree=%{y}<br>Mean Test CCR=%{z}<extra></extra>",
         "legendgroup": "sigmoid, -1",
         "marker": {
          "color": "#00cc96",
          "symbol": "circle"
         },
         "mode": "markers",
         "name": "sigmoid, -1",
         "scene": "scene",
         "showlegend": true,
         "type": "scatter3d",
         "x": [
          0.1,
          1,
          2
         ],
         "y": [
          3,
          3,
          3
         ],
         "z": [
          0.3333333333333334,
          0.3333333333333334,
          0.3333333333333334
         ]
        },
        {
         "hovertemplate": "kernel=sigmoid<br>coef0=0<br>gamma=%{x}<br>degree=%{y}<br>Mean Test CCR=%{z}<extra></extra>",
         "legendgroup": "sigmoid, 0",
         "marker": {
          "color": "#00cc96",
          "symbol": "diamond"
         },
         "mode": "markers",
         "name": "sigmoid, 0",
         "scene": "scene",
         "showlegend": true,
         "type": "scatter3d",
         "x": [
          0.1,
          1,
          2
         ],
         "y": [
          3,
          3,
          3
         ],
         "z": [
          0.3333333333333334,
          0.3333333333333334,
          0.3333333333333334
         ]
        },
        {
         "hovertemplate": "kernel=sigmoid<br>coef0=1<br>gamma=%{x}<br>degree=%{y}<br>Mean Test CCR=%{z}<extra></extra>",
         "legendgroup": "sigmoid, 1",
         "marker": {
          "color": "#00cc96",
          "symbol": "square"
         },
         "mode": "markers",
         "name": "sigmoid, 1",
         "scene": "scene",
         "showlegend": true,
         "type": "scatter3d",
         "x": [
          0.1,
          1,
          2
         ],
         "y": [
          3,
          3,
          3
         ],
         "z": [
          0.3333333333333334,
          0.3333333333333334,
          0.3333333333333334
         ]
        }
       ],
       "layout": {
        "autosize": true,
        "legend": {
         "title": {
          "text": "kernel, coef0"
         },
         "tracegroupgap": 0
        },
        "margin": {
         "t": 60
        },
        "scene": {
         "aspectmode": "auto",
         "aspectratio": {
          "x": 1.4212994594101642,
          "y": 1.4961046941159624,
          "z": 0.4702755755171175
         },
         "domain": {
          "x": [
           0,
           1
          ],
          "y": [
           0,
           1
          ]
         },
         "xaxis": {
          "title": {
           "text": "gamma"
          },
          "type": "linear"
         },
         "yaxis": {
          "title": {
           "text": "degree"
          },
          "type": "linear"
         },
         "zaxis": {
          "title": {
           "text": "Mean Test CCR"
          },
          "type": "linear"
         }
        },
        "template": {
         "data": {
          "bar": [
           {
            "error_x": {
             "color": "#2a3f5f"
            },
            "error_y": {
             "color": "#2a3f5f"
            },
            "marker": {
             "line": {
              "color": "#E5ECF6",
              "width": 0.5
             }
            },
            "type": "bar"
           }
          ],
          "barpolar": [
           {
            "marker": {
             "line": {
              "color": "#E5ECF6",
              "width": 0.5
             }
            },
            "type": "barpolar"
           }
          ],
          "carpet": [
           {
            "aaxis": {
             "endlinecolor": "#2a3f5f",
             "gridcolor": "white",
             "linecolor": "white",
             "minorgridcolor": "white",
             "startlinecolor": "#2a3f5f"
            },
            "baxis": {
             "endlinecolor": "#2a3f5f",
             "gridcolor": "white",
             "linecolor": "white",
             "minorgridcolor": "white",
             "startlinecolor": "#2a3f5f"
            },
            "type": "carpet"
           }
          ],
          "choropleth": [
           {
            "colorbar": {
             "outlinewidth": 0,
             "ticks": ""
            },
            "type": "choropleth"
           }
          ],
          "contour": [
           {
            "colorbar": {
             "outlinewidth": 0,
             "ticks": ""
            },
            "colorscale": [
             [
              0,
              "#0d0887"
             ],
             [
              0.1111111111111111,
              "#46039f"
             ],
             [
              0.2222222222222222,
              "#7201a8"
             ],
             [
              0.3333333333333333,
              "#9c179e"
             ],
             [
              0.4444444444444444,
              "#bd3786"
             ],
             [
              0.5555555555555556,
              "#d8576b"
             ],
             [
              0.6666666666666666,
              "#ed7953"
             ],
             [
              0.7777777777777778,
              "#fb9f3a"
             ],
             [
              0.8888888888888888,
              "#fdca26"
             ],
             [
              1,
              "#f0f921"
             ]
            ],
            "type": "contour"
           }
          ],
          "contourcarpet": [
           {
            "colorbar": {
             "outlinewidth": 0,
             "ticks": ""
            },
            "type": "contourcarpet"
           }
          ],
          "heatmap": [
           {
            "colorbar": {
             "outlinewidth": 0,
             "ticks": ""
            },
            "colorscale": [
             [
              0,
              "#0d0887"
             ],
             [
              0.1111111111111111,
              "#46039f"
             ],
             [
              0.2222222222222222,
              "#7201a8"
             ],
             [
              0.3333333333333333,
              "#9c179e"
             ],
             [
              0.4444444444444444,
              "#bd3786"
             ],
             [
              0.5555555555555556,
              "#d8576b"
             ],
             [
              0.6666666666666666,
              "#ed7953"
             ],
             [
              0.7777777777777778,
              "#fb9f3a"
             ],
             [
              0.8888888888888888,
              "#fdca26"
             ],
             [
              1,
              "#f0f921"
             ]
            ],
            "type": "heatmap"
           }
          ],
          "heatmapgl": [
           {
            "colorbar": {
             "outlinewidth": 0,
             "ticks": ""
            },
            "colorscale": [
             [
              0,
              "#0d0887"
             ],
             [
              0.1111111111111111,
              "#46039f"
             ],
             [
              0.2222222222222222,
              "#7201a8"
             ],
             [
              0.3333333333333333,
              "#9c179e"
             ],
             [
              0.4444444444444444,
              "#bd3786"
             ],
             [
              0.5555555555555556,
              "#d8576b"
             ],
             [
              0.6666666666666666,
              "#ed7953"
             ],
             [
              0.7777777777777778,
              "#fb9f3a"
             ],
             [
              0.8888888888888888,
              "#fdca26"
             ],
             [
              1,
              "#f0f921"
             ]
            ],
            "type": "heatmapgl"
           }
          ],
          "histogram": [
           {
            "marker": {
             "colorbar": {
              "outlinewidth": 0,
              "ticks": ""
             }
            },
            "type": "histogram"
           }
          ],
          "histogram2d": [
           {
            "colorbar": {
             "outlinewidth": 0,
             "ticks": ""
            },
            "colorscale": [
             [
              0,
              "#0d0887"
             ],
             [
              0.1111111111111111,
              "#46039f"
             ],
             [
              0.2222222222222222,
              "#7201a8"
             ],
             [
              0.3333333333333333,
              "#9c179e"
             ],
             [
              0.4444444444444444,
              "#bd3786"
             ],
             [
              0.5555555555555556,
              "#d8576b"
             ],
             [
              0.6666666666666666,
              "#ed7953"
             ],
             [
              0.7777777777777778,
              "#fb9f3a"
             ],
             [
              0.8888888888888888,
              "#fdca26"
             ],
             [
              1,
              "#f0f921"
             ]
            ],
            "type": "histogram2d"
           }
          ],
          "histogram2dcontour": [
           {
            "colorbar": {
             "outlinewidth": 0,
             "ticks": ""
            },
            "colorscale": [
             [
              0,
              "#0d0887"
             ],
             [
              0.1111111111111111,
              "#46039f"
             ],
             [
              0.2222222222222222,
              "#7201a8"
             ],
             [
              0.3333333333333333,
              "#9c179e"
             ],
             [
              0.4444444444444444,
              "#bd3786"
             ],
             [
              0.5555555555555556,
              "#d8576b"
             ],
             [
              0.6666666666666666,
              "#ed7953"
             ],
             [
              0.7777777777777778,
              "#fb9f3a"
             ],
             [
              0.8888888888888888,
              "#fdca26"
             ],
             [
              1,
              "#f0f921"
             ]
            ],
            "type": "histogram2dcontour"
           }
          ],
          "mesh3d": [
           {
            "colorbar": {
             "outlinewidth": 0,
             "ticks": ""
            },
            "type": "mesh3d"
           }
          ],
          "parcoords": [
           {
            "line": {
             "colorbar": {
              "outlinewidth": 0,
              "ticks": ""
             }
            },
            "type": "parcoords"
           }
          ],
          "pie": [
           {
            "automargin": true,
            "type": "pie"
           }
          ],
          "scatter": [
           {
            "marker": {
             "colorbar": {
              "outlinewidth": 0,
              "ticks": ""
             }
            },
            "type": "scatter"
           }
          ],
          "scatter3d": [
           {
            "line": {
             "colorbar": {
              "outlinewidth": 0,
              "ticks": ""
             }
            },
            "marker": {
             "colorbar": {
              "outlinewidth": 0,
              "ticks": ""
             }
            },
            "type": "scatter3d"
           }
          ],
          "scattercarpet": [
           {
            "marker": {
             "colorbar": {
              "outlinewidth": 0,
              "ticks": ""
             }
            },
            "type": "scattercarpet"
           }
          ],
          "scattergeo": [
           {
            "marker": {
             "colorbar": {
              "outlinewidth": 0,
              "ticks": ""
             }
            },
            "type": "scattergeo"
           }
          ],
          "scattergl": [
           {
            "marker": {
             "colorbar": {
              "outlinewidth": 0,
              "ticks": ""
             }
            },
            "type": "scattergl"
           }
          ],
          "scattermapbox": [
           {
            "marker": {
             "colorbar": {
              "outlinewidth": 0,
              "ticks": ""
             }
            },
            "type": "scattermapbox"
           }
          ],
          "scatterpolar": [
           {
            "marker": {
             "colorbar": {
              "outlinewidth": 0,
              "ticks": ""
             }
            },
            "type": "scatterpolar"
           }
          ],
          "scatterpolargl": [
           {
            "marker": {
             "colorbar": {
              "outlinewidth": 0,
              "ticks": ""
             }
            },
            "type": "scatterpolargl"
           }
          ],
          "scatterternary": [
           {
            "marker": {
             "colorbar": {
              "outlinewidth": 0,
              "ticks": ""
             }
            },
            "type": "scatterternary"
           }
          ],
          "surface": [
           {
            "colorbar": {
             "outlinewidth": 0,
             "ticks": ""
            },
            "colorscale": [
             [
              0,
              "#0d0887"
             ],
             [
              0.1111111111111111,
              "#46039f"
             ],
             [
              0.2222222222222222,
              "#7201a8"
             ],
             [
              0.3333333333333333,
              "#9c179e"
             ],
             [
              0.4444444444444444,
              "#bd3786"
             ],
             [
              0.5555555555555556,
              "#d8576b"
             ],
             [
              0.6666666666666666,
              "#ed7953"
             ],
             [
              0.7777777777777778,
              "#fb9f3a"
             ],
             [
              0.8888888888888888,
              "#fdca26"
             ],
             [
              1,
              "#f0f921"
             ]
            ],
            "type": "surface"
           }
          ],
          "table": [
           {
            "cells": {
             "fill": {
              "color": "#EBF0F8"
             },
             "line": {
              "color": "white"
             }
            },
            "header": {
             "fill": {
              "color": "#C8D4E3"
             },
             "line": {
              "color": "white"
             }
            },
            "type": "table"
           }
          ]
         },
         "layout": {
          "annotationdefaults": {
           "arrowcolor": "#2a3f5f",
           "arrowhead": 0,
           "arrowwidth": 1
          },
          "coloraxis": {
           "colorbar": {
            "outlinewidth": 0,
            "ticks": ""
           }
          },
          "colorscale": {
           "diverging": [
            [
             0,
             "#8e0152"
            ],
            [
             0.1,
             "#c51b7d"
            ],
            [
             0.2,
             "#de77ae"
            ],
            [
             0.3,
             "#f1b6da"
            ],
            [
             0.4,
             "#fde0ef"
            ],
            [
             0.5,
             "#f7f7f7"
            ],
            [
             0.6,
             "#e6f5d0"
            ],
            [
             0.7,
             "#b8e186"
            ],
            [
             0.8,
             "#7fbc41"
            ],
            [
             0.9,
             "#4d9221"
            ],
            [
             1,
             "#276419"
            ]
           ],
           "sequential": [
            [
             0,
             "#0d0887"
            ],
            [
             0.1111111111111111,
             "#46039f"
            ],
            [
             0.2222222222222222,
             "#7201a8"
            ],
            [
             0.3333333333333333,
             "#9c179e"
            ],
            [
             0.4444444444444444,
             "#bd3786"
            ],
            [
             0.5555555555555556,
             "#d8576b"
            ],
            [
             0.6666666666666666,
             "#ed7953"
            ],
            [
             0.7777777777777778,
             "#fb9f3a"
            ],
            [
             0.8888888888888888,
             "#fdca26"
            ],
            [
             1,
             "#f0f921"
            ]
           ],
           "sequentialminus": [
            [
             0,
             "#0d0887"
            ],
            [
             0.1111111111111111,
             "#46039f"
            ],
            [
             0.2222222222222222,
             "#7201a8"
            ],
            [
             0.3333333333333333,
             "#9c179e"
            ],
            [
             0.4444444444444444,
             "#bd3786"
            ],
            [
             0.5555555555555556,
             "#d8576b"
            ],
            [
             0.6666666666666666,
             "#ed7953"
            ],
            [
             0.7777777777777778,
             "#fb9f3a"
            ],
            [
             0.8888888888888888,
             "#fdca26"
            ],
            [
             1,
             "#f0f921"
            ]
           ]
          },
          "colorway": [
           "#636efa",
           "#EF553B",
           "#00cc96",
           "#ab63fa",
           "#FFA15A",
           "#19d3f3",
           "#FF6692",
           "#B6E880",
           "#FF97FF",
           "#FECB52"
          ],
          "font": {
           "color": "#2a3f5f"
          },
          "geo": {
           "bgcolor": "white",
           "lakecolor": "white",
           "landcolor": "#E5ECF6",
           "showlakes": true,
           "showland": true,
           "subunitcolor": "white"
          },
          "hoverlabel": {
           "align": "left"
          },
          "hovermode": "closest",
          "mapbox": {
           "style": "light"
          },
          "paper_bgcolor": "white",
          "plot_bgcolor": "#E5ECF6",
          "polar": {
           "angularaxis": {
            "gridcolor": "white",
            "linecolor": "white",
            "ticks": ""
           },
           "bgcolor": "#E5ECF6",
           "radialaxis": {
            "gridcolor": "white",
            "linecolor": "white",
            "ticks": ""
           }
          },
          "scene": {
           "xaxis": {
            "backgroundcolor": "#E5ECF6",
            "gridcolor": "white",
            "gridwidth": 2,
            "linecolor": "white",
            "showbackground": true,
            "ticks": "",
            "zerolinecolor": "white"
           },
           "yaxis": {
            "backgroundcolor": "#E5ECF6",
            "gridcolor": "white",
            "gridwidth": 2,
            "linecolor": "white",
            "showbackground": true,
            "ticks": "",
            "zerolinecolor": "white"
           },
           "zaxis": {
            "backgroundcolor": "#E5ECF6",
            "gridcolor": "white",
            "gridwidth": 2,
            "linecolor": "white",
            "showbackground": true,
            "ticks": "",
            "zerolinecolor": "white"
           }
          },
          "shapedefaults": {
           "line": {
            "color": "#2a3f5f"
           }
          },
          "ternary": {
           "aaxis": {
            "gridcolor": "white",
            "linecolor": "white",
            "ticks": ""
           },
           "baxis": {
            "gridcolor": "white",
            "linecolor": "white",
            "ticks": ""
           },
           "bgcolor": "#E5ECF6",
           "caxis": {
            "gridcolor": "white",
            "linecolor": "white",
            "ticks": ""
           }
          },
          "title": {
           "x": 0.05
          },
          "xaxis": {
           "automargin": true,
           "gridcolor": "white",
           "linecolor": "white",
           "ticks": "",
           "title": {
            "standoff": 15
           },
           "zerolinecolor": "white",
           "zerolinewidth": 2
          },
          "yaxis": {
           "automargin": true,
           "gridcolor": "white",
           "linecolor": "white",
           "ticks": "",
           "title": {
            "standoff": 15
           },
           "zerolinecolor": "white",
           "zerolinewidth": 2
          }
         }
        },
        "title": {
         "text": "Hyperparameter Performance Space"
        }
       }
      },
      "image/png": "[encoded data removed]",
      "text/html": [
       "<div>\n",
       "        \n",
       "        \n",
       "            <div id=\"6a1aa489-1bfa-4e60-8cd1-6bdbc62b54b5\" class=\"plotly-graph-div\" style=\"height:525px; width:100%;\"></div>\n",
       "            <script type=\"text/javascript\">\n",
       "                require([\"plotly\"], function(Plotly) {\n",
       "                    window.PLOTLYENV=window.PLOTLYENV || {};\n",
       "                    \n",
       "                if (document.getElementById(\"6a1aa489-1bfa-4e60-8cd1-6bdbc62b54b5\")) {\n",
       "                    Plotly.newPlot(\n",
       "                        '6a1aa489-1bfa-4e60-8cd1-6bdbc62b54b5',\n",
       "                        [{\"hovertemplate\": \"kernel=poly<br>coef0=-1<br>gamma=%{x}<br>degree=%{y}<br>Mean Test CCR=%{z}<extra></extra>\", \"legendgroup\": \"poly, -1\", \"marker\": {\"color\": \"#636efa\", \"symbol\": \"circle\"}, \"mode\": \"markers\", \"name\": \"poly, -1\", \"scene\": \"scene\", \"showlegend\": true, \"type\": \"scatter3d\", \"x\": [2.0, 0.1, 1.0, 0.1, 2.0, 1.0, 0.1, 2.0, 1.0], \"y\": [1, 2, 1, 1, 2, 2, 3, 3, 3], \"z\": [0.9620000000000002, 0.9620000000000002, 0.9603333333333336, 0.9573333333333335, 0.943666666666667, 0.942666666666667, 0.9416666666666669, 0.9410000000000003, 0.9406666666666669]}, {\"hovertemplate\": \"kernel=poly<br>coef0=0<br>gamma=%{x}<br>degree=%{y}<br>Mean Test CCR=%{z}<extra></extra>\", \"legendgroup\": \"poly, 0\", \"marker\": {\"color\": \"#636efa\", \"symbol\": \"diamond\"}, \"mode\": \"markers\", \"name\": \"poly, 0\", \"scene\": \"scene\", \"showlegend\": true, \"type\": \"scatter3d\", \"x\": [2.0, 0.1, 1.0, 0.1, 1.0, 2.0, 0.1, 1.0, 2.0], \"y\": [1, 2, 1, 1, 2, 2, 3, 3, 3], \"z\": [0.9620000000000002, 0.9620000000000002, 0.9603333333333336, 0.9573333333333335, 0.943666666666667, 0.943666666666667, 0.9410000000000003, 0.9410000000000003, 0.9410000000000003]}, {\"hovertemplate\": \"kernel=poly<br>coef0=1<br>gamma=%{x}<br>degree=%{y}<br>Mean Test CCR=%{z}<extra></extra>\", \"legendgroup\": \"poly, 1\", \"marker\": {\"color\": \"#636efa\", \"symbol\": \"square\"}, \"mode\": \"markers\", \"name\": \"poly, 1\", \"scene\": \"scene\", \"showlegend\": true, \"type\": \"scatter3d\", \"x\": [2.0, 0.1, 1.0, 0.1, 1.0, 2.0, 1.0, 2.0, 0.1], \"y\": [1, 2, 1, 1, 2, 2, 3, 3, 3], \"z\": [0.9620000000000002, 0.9613333333333336, 0.9603333333333336, 0.9573333333333335, 0.9433333333333337, 0.9433333333333337, 0.9410000000000003, 0.9410000000000003, 0.939666666666667]}, {\"hovertemplate\": \"kernel=rbf<br>coef0=0<br>gamma=%{x}<br>degree=%{y}<br>Mean Test CCR=%{z}<extra></extra>\", \"legendgroup\": \"rbf, 0\", \"marker\": {\"color\": \"#EF553B\", \"symbol\": \"diamond\"}, \"mode\": \"markers\", \"name\": \"rbf, 0\", \"scene\": \"scene\", \"showlegend\": true, \"type\": \"scatter3d\", \"x\": [0.1, 1.0, 2.0], \"y\": [3, 3, 3], \"z\": [0.9483333333333335, 0.7763333333333334, 0.659]}, {\"hovertemplate\": \"kernel=sigmoid<br>coef0=-1<br>gamma=%{x}<br>degree=%{y}<br>Mean Test CCR=%{z}<extra></extra>\", \"legendgroup\": \"sigmoid, -1\", \"marker\": {\"color\": \"#00cc96\", \"symbol\": \"circle\"}, \"mode\": \"markers\", \"name\": \"sigmoid, -1\", \"scene\": \"scene\", \"showlegend\": true, \"type\": \"scatter3d\", \"x\": [0.1, 1.0, 2.0], \"y\": [3, 3, 3], \"z\": [0.3333333333333334, 0.3333333333333334, 0.3333333333333334]}, {\"hovertemplate\": \"kernel=sigmoid<br>coef0=0<br>gamma=%{x}<br>degree=%{y}<br>Mean Test CCR=%{z}<extra></extra>\", \"legendgroup\": \"sigmoid, 0\", \"marker\": {\"color\": \"#00cc96\", \"symbol\": \"diamond\"}, \"mode\": \"markers\", \"name\": \"sigmoid, 0\", \"scene\": \"scene\", \"showlegend\": true, \"type\": \"scatter3d\", \"x\": [0.1, 1.0, 2.0], \"y\": [3, 3, 3], \"z\": [0.3333333333333334, 0.3333333333333334, 0.3333333333333334]}, {\"hovertemplate\": \"kernel=sigmoid<br>coef0=1<br>gamma=%{x}<br>degree=%{y}<br>Mean Test CCR=%{z}<extra></extra>\", \"legendgroup\": \"sigmoid, 1\", \"marker\": {\"color\": \"#00cc96\", \"symbol\": \"square\"}, \"mode\": \"markers\", \"name\": \"sigmoid, 1\", \"scene\": \"scene\", \"showlegend\": true, \"type\": \"scatter3d\", \"x\": [0.1, 1.0, 2.0], \"y\": [3, 3, 3], \"z\": [0.3333333333333334, 0.3333333333333334, 0.3333333333333334]}],\n",
       "                        {\"legend\": {\"title\": {\"text\": \"kernel, coef0\"}, \"tracegroupgap\": 0}, \"margin\": {\"t\": 60}, \"scene\": {\"domain\": {\"x\": [0.0, 1.0], \"y\": [0.0, 1.0]}, \"xaxis\": {\"title\": {\"text\": \"gamma\"}}, \"yaxis\": {\"title\": {\"text\": \"degree\"}}, \"zaxis\": {\"title\": {\"text\": \"Mean Test CCR\"}}}, \"template\": {\"data\": {\"bar\": [{\"error_x\": {\"color\": \"#2a3f5f\"}, \"error_y\": {\"color\": \"#2a3f5f\"}, \"marker\": {\"line\": {\"color\": \"#E5ECF6\", \"width\": 0.5}}, \"type\": \"bar\"}], \"barpolar\": [{\"marker\": {\"line\": {\"color\": \"#E5ECF6\", \"width\": 0.5}}, \"type\": \"barpolar\"}], \"carpet\": [{\"aaxis\": {\"endlinecolor\": \"#2a3f5f\", \"gridcolor\": \"white\", \"linecolor\": \"white\", \"minorgridcolor\": \"white\", \"startlinecolor\": \"#2a3f5f\"}, \"baxis\": {\"endlinecolor\": \"#2a3f5f\", \"gridcolor\": \"white\", \"linecolor\": \"white\", \"minorgridcolor\": \"white\", \"startlinecolor\": \"#2a3f5f\"}, \"type\": \"carpet\"}], \"choropleth\": [{\"colorbar\": {\"outlinewidth\": 0, \"ticks\": \"\"}, \"type\": \"choropleth\"}], \"contour\": [{\"colorbar\": {\"outlinewidth\": 0, \"ticks\": \"\"}, \"colorscale\": [[0.0, \"#0d0887\"], [0.1111111111111111, \"#46039f\"], [0.2222222222222222, \"#7201a8\"], [0.3333333333333333, \"#9c179e\"], [0.4444444444444444, \"#bd3786\"], [0.5555555555555556, \"#d8576b\"], [0.6666666666666666, \"#ed7953\"], [0.7777777777777778, \"#fb9f3a\"], [0.8888888888888888, \"#fdca26\"], [1.0, \"#f0f921\"]], \"type\": \"contour\"}], \"contourcarpet\": [{\"colorbar\": {\"outlinewidth\": 0, \"ticks\": \"\"}, \"type\": \"contourcarpet\"}], \"heatmap\": [{\"colorbar\": {\"outlinewidth\": 0, \"ticks\": \"\"}, \"colorscale\": [[0.0, \"#0d0887\"], [0.1111111111111111, \"#46039f\"], [0.2222222222222222, \"#7201a8\"], [0.3333333333333333, \"#9c179e\"], [0.4444444444444444, \"#bd3786\"], [0.5555555555555556, \"#d8576b\"], [0.6666666666666666, \"#ed7953\"], [0.7777777777777778, \"#fb9f3a\"], [0.8888888888888888, \"#fdca26\"], [1.0, \"#f0f921\"]], \"type\": \"heatmap\"}], \"heatmapgl\": [{\"colorbar\": {\"outlinewidth\": 0, \"ticks\": \"\"}, \"colorscale\": [[0.0, \"#0d0887\"], [0.1111111111111111, \"#46039f\"], [0.2222222222222222, \"#7201a8\"], [0.3333333333333333, \"#9c179e\"], [0.4444444444444444, \"#bd3786\"], [0.5555555555555556, \"#d8576b\"], [0.6666666666666666, \"#ed7953\"], [0.7777777777777778, \"#fb9f3a\"], [0.8888888888888888, \"#fdca26\"], [1.0, \"#f0f921\"]], \"type\": \"heatmapgl\"}], \"histogram\": [{\"marker\": {\"colorbar\": {\"outlinewidth\": 0, \"ticks\": \"\"}}, \"type\": \"histogram\"}], \"histogram2d\": [{\"colorbar\": {\"outlinewidth\": 0, \"ticks\": \"\"}, \"colorscale\": [[0.0, \"#0d0887\"], [0.1111111111111111, \"#46039f\"], [0.2222222222222222, \"#7201a8\"], [0.3333333333333333, \"#9c179e\"], [0.4444444444444444, \"#bd3786\"], [0.5555555555555556, \"#d8576b\"], [0.6666666666666666, \"#ed7953\"], [0.7777777777777778, \"#fb9f3a\"], [0.8888888888888888, \"#fdca26\"], [1.0, \"#f0f921\"]], \"type\": \"histogram2d\"}], \"histogram2dcontour\": [{\"colorbar\": {\"outlinewidth\": 0, \"ticks\": \"\"}, \"colorscale\": [[0.0, \"#0d0887\"], [0.1111111111111111, \"#46039f\"], [0.2222222222222222, \"#7201a8\"], [0.3333333333333333, \"#9c179e\"], [0.4444444444444444, \"#bd3786\"], [0.5555555555555556, \"#d8576b\"], [0.6666666666666666, \"#ed7953\"], [0.7777777777777778, \"#fb9f3a\"], [0.8888888888888888, \"#fdca26\"], [1.0, \"#f0f921\"]], \"type\": \"histogram2dcontour\"}], \"mesh3d\": [{\"colorbar\": {\"outlinewidth\": 0, \"ticks\": \"\"}, \"type\": \"mesh3d\"}], \"parcoords\": [{\"line\": {\"colorbar\": {\"outlinewidth\": 0, \"ticks\": \"\"}}, \"type\": \"parcoords\"}], \"pie\": [{\"automargin\": true, \"type\": \"pie\"}], \"scatter\": [{\"marker\": {\"colorbar\": {\"outlinewidth\": 0, \"ticks\": \"\"}}, \"type\": \"scatter\"}], \"scatter3d\": [{\"line\": {\"colorbar\": {\"outlinewidth\": 0, \"ticks\": \"\"}}, \"marker\": {\"colorbar\": {\"outlinewidth\": 0, \"ticks\": \"\"}}, \"type\": \"scatter3d\"}], \"scattercarpet\": [{\"marker\": {\"colorbar\": {\"outlinewidth\": 0, \"ticks\": \"\"}}, \"type\": \"scattercarpet\"}], \"scattergeo\": [{\"marker\": {\"colorbar\": {\"outlinewidth\": 0, \"ticks\": \"\"}}, \"type\": \"scattergeo\"}], \"scattergl\": [{\"marker\": {\"colorbar\": {\"outlinewidth\": 0, \"ticks\": \"\"}}, \"type\": \"scattergl\"}], \"scattermapbox\": [{\"marker\": {\"colorbar\": {\"outlinewidth\": 0, \"ticks\": \"\"}}, \"type\": \"scattermapbox\"}], \"scatterpolar\": [{\"marker\": {\"colorbar\": {\"outlinewidth\": 0, \"ticks\": \"\"}}, \"type\": \"scatterpolar\"}], \"scatterpolargl\": [{\"marker\": {\"colorbar\": {\"outlinewidth\": 0, \"ticks\": \"\"}}, \"type\": \"scatterpolargl\"}], \"scatterternary\": [{\"marker\": {\"colorbar\": {\"outlinewidth\": 0, \"ticks\": \"\"}}, \"type\": \"scatterternary\"}], \"surface\": [{\"colorbar\": {\"outlinewidth\": 0, \"ticks\": \"\"}, \"colorscale\": [[0.0, \"#0d0887\"], [0.1111111111111111, \"#46039f\"], [0.2222222222222222, \"#7201a8\"], [0.3333333333333333, \"#9c179e\"], [0.4444444444444444, \"#bd3786\"], [0.5555555555555556, \"#d8576b\"], [0.6666666666666666, \"#ed7953\"], [0.7777777777777778, \"#fb9f3a\"], [0.8888888888888888, \"#fdca26\"], [1.0, \"#f0f921\"]], \"type\": \"surface\"}], \"table\": [{\"cells\": {\"fill\": {\"color\": \"#EBF0F8\"}, \"line\": {\"color\": \"white\"}}, \"header\": {\"fill\": {\"color\": \"#C8D4E3\"}, \"line\": {\"color\": \"white\"}}, \"type\": \"table\"}]}, \"layout\": {\"annotationdefaults\": {\"arrowcolor\": \"#2a3f5f\", \"arrowhead\": 0, \"arrowwidth\": 1}, \"coloraxis\": {\"colorbar\": {\"outlinewidth\": 0, \"ticks\": \"\"}}, \"colorscale\": {\"diverging\": [[0, \"#8e0152\"], [0.1, \"#c51b7d\"], [0.2, \"#de77ae\"], [0.3, \"#f1b6da\"], [0.4, \"#fde0ef\"], [0.5, \"#f7f7f7\"], [0.6, \"#e6f5d0\"], [0.7, \"#b8e186\"], [0.8, \"#7fbc41\"], [0.9, \"#4d9221\"], [1, \"#276419\"]], \"sequential\": [[0.0, \"#0d0887\"], [0.1111111111111111, \"#46039f\"], [0.2222222222222222, \"#7201a8\"], [0.3333333333333333, \"#9c179e\"], [0.4444444444444444, \"#bd3786\"], [0.5555555555555556, \"#d8576b\"], [0.6666666666666666, \"#ed7953\"], [0.7777777777777778, \"#fb9f3a\"], [0.8888888888888888, \"#fdca26\"], [1.0, \"#f0f921\"]], \"sequentialminus\": [[0.0, \"#0d0887\"], [0.1111111111111111, \"#46039f\"], [0.2222222222222222, \"#7201a8\"], [0.3333333333333333, \"#9c179e\"], [0.4444444444444444, \"#bd3786\"], [0.5555555555555556, \"#d8576b\"], [0.6666666666666666, \"#ed7953\"], [0.7777777777777778, \"#fb9f3a\"], [0.8888888888888888, \"#fdca26\"], [1.0, \"#f0f921\"]]}, \"colorway\": [\"#636efa\", \"#EF553B\", \"#00cc96\", \"#ab63fa\", \"#FFA15A\", \"#19d3f3\", \"#FF6692\", \"#B6E880\", \"#FF97FF\", \"#FECB52\"], \"font\": {\"color\": \"#2a3f5f\"}, \"geo\": {\"bgcolor\": \"white\", \"lakecolor\": \"white\", \"landcolor\": \"#E5ECF6\", \"showlakes\": true, \"showland\": true, \"subunitcolor\": \"white\"}, \"hoverlabel\": {\"align\": \"left\"}, \"hovermode\": \"closest\", \"mapbox\": {\"style\": \"light\"}, \"paper_bgcolor\": \"white\", \"plot_bgcolor\": \"#E5ECF6\", \"polar\": {\"angularaxis\": {\"gridcolor\": \"white\", \"linecolor\": \"white\", \"ticks\": \"\"}, \"bgcolor\": \"#E5ECF6\", \"radialaxis\": {\"gridcolor\": \"white\", \"linecolor\": \"white\", \"ticks\": \"\"}}, \"scene\": {\"xaxis\": {\"backgroundcolor\": \"#E5ECF6\", \"gridcolor\": \"white\", \"gridwidth\": 2, \"linecolor\": \"white\", \"showbackground\": true, \"ticks\": \"\", \"zerolinecolor\": \"white\"}, \"yaxis\": {\"backgroundcolor\": \"#E5ECF6\", \"gridcolor\": \"white\", \"gridwidth\": 2, \"linecolor\": \"white\", \"showbackground\": true, \"ticks\": \"\", \"zerolinecolor\": \"white\"}, \"zaxis\": {\"backgroundcolor\": \"#E5ECF6\", \"gridcolor\": \"white\", \"gridwidth\": 2, \"linecolor\": \"white\", \"showbackground\": true, \"ticks\": \"\", \"zerolinecolor\": \"white\"}}, \"shapedefaults\": {\"line\": {\"color\": \"#2a3f5f\"}}, \"ternary\": {\"aaxis\": {\"gridcolor\": \"white\", \"linecolor\": \"white\", \"ticks\": \"\"}, \"baxis\": {\"gridcolor\": \"white\", \"linecolor\": \"white\", \"ticks\": \"\"}, \"bgcolor\": \"#E5ECF6\", \"caxis\": {\"gridcolor\": \"white\", \"linecolor\": \"white\", \"ticks\": \"\"}}, \"title\": {\"x\": 0.05}, \"xaxis\": {\"automargin\": true, \"gridcolor\": \"white\", \"linecolor\": \"white\", \"ticks\": \"\", \"title\": {\"standoff\": 15}, \"zerolinecolor\": \"white\", \"zerolinewidth\": 2}, \"yaxis\": {\"automargin\": true, \"gridcolor\": \"white\", \"linecolor\": \"white\", \"ticks\": \"\", \"title\": {\"standoff\": 15}, \"zerolinecolor\": \"white\", \"zerolinewidth\": 2}}}, \"title\": {\"text\": \"Hyperparameter Performance Space\"}},\n",
       "                        {\"responsive\": true}\n",
       "                    ).then(function(){\n",
       "                            \n",
       "var gd = document.getElementById('6a1aa489-1bfa-4e60-8cd1-6bdbc62b54b5');\n",
       "var x = new MutationObserver(function (mutations, observer) {{\n",
       "        var display = window.getComputedStyle(gd).display;\n",
       "        if (!display || display === 'none') {{\n",
       "            console.log([gd, 'removed!']);\n",
       "            Plotly.purge(gd);\n",
       "            observer.disconnect();\n",
       "        }}\n",
       "}});\n",
       "\n",
       "// Listen for the removal of the full notebook cells\n",
       "var notebookContainer = gd.closest('#notebook-container');\n",
       "if (notebookContainer) {{\n",
       "    x.observe(notebookContainer, {childList: true});\n",
       "}}\n",
       "\n",
       "// Listen for the clearing of the current output cell\n",
       "var outputEl = gd.closest('.output');\n",
       "if (outputEl) {{\n",
       "    x.observe(outputEl, {childList: true});\n",
       "}}\n",
       "\n",
       "                        })\n",
       "                };\n",
       "                });\n",
       "            </script>\n",
       "        </div>"
      ]
     },
     "metadata": {},
     "output_type": "display_data"
    }
   ],
   "source": [
    "''' review the hyperparameter performance space '''\n",
    "fig = px.scatter_3d(GSCResults, x='gamma', y='degree', z='Mean Test CCR', color='kernel', symbol='coef0')\n",
    "fig.update_layout(title='Hyperparameter Performance Space')\n",
    "plyoff.iplot(fig)"
   ]
  },
  {
   "cell_type": "markdown",
   "metadata": {},
   "source": [
    "These results suggest that the best predictive model may be a linear polynomial kernel SVM with $\\gamma=2$ (though other models seem to perform identically). This is for fitting a model with $p=10$ features - the original four measurements plus the 6 pairwise interactions we engineered. Perhaps a model fit to a subset of these features would perform better, or at least perform similarly while being simpler? We can find out with *feature selection*."
   ]
  },
  {
   "cell_type": "markdown",
   "metadata": {},
   "source": [
    "<a id=featsel></a>\n",
    "### Feature Selection - Combinatorial Enumeration\n",
    "<a href=#top>Go to top</a> - <a href=#bottom>Go to bottom</a>\n",
    "\n",
    "Statistical modelers have been trying models on subsets of features for almost as long as statistical modeling (most of what we call \"machine learning\" is actually statistical modeling) has been around. Perhaps unimaginably, we call the process of selecting a subset of available features **feature selection**. In feature selection, we use some procedure to generate subsets of the existing features, fit a model to them, and evaluate that model to find an optimal subset. The goal of feature selection is generally to balance two considerations: model performance and *model complexity*. It is generally beneficial for a model to be simpler - to use fewer features, for example. We often prefer a simpler model, even if it performs slightly worse than a more complex model. This follows the principle of *occam's razor*.\n",
    "\n",
    "By this point in the knowledge share series, it will come as no surprise when I say that there are several ways to perform feature selection. Consider the oft-followed process during regression modeling of looking at p-values to remove \"unimportant\" features from a model."
   ]
  },
  {
   "cell_type": "code",
   "execution_count": 21,
   "metadata": {},
   "outputs": [
    {
     "name": "stdout",
     "output_type": "stream",
     "text": [
      "Student's t critical value for alpha=0.0050 = ±2.82\n"
     ]
    },
    {
     "data": {
      "text/html": [
       "<div>\n",
       "<style scoped>\n",
       "    .dataframe tbody tr th:only-of-type {\n",
       "        vertical-align: middle;\n",
       "    }\n",
       "\n",
       "    .dataframe tbody tr th {\n",
       "        vertical-align: top;\n",
       "    }\n",
       "\n",
       "    .dataframe thead th {\n",
       "        text-align: right;\n",
       "    }\n",
       "</style>\n",
       "<table border=\"1\" class=\"dataframe\">\n",
       "  <thead>\n",
       "    <tr style=\"text-align: right;\">\n",
       "      <th></th>\n",
       "      <th>Coefficient</th>\n",
       "      <th>Standard Error</th>\n",
       "      <th>Test Statistic</th>\n",
       "      <th>P-value</th>\n",
       "      <th>Decision</th>\n",
       "    </tr>\n",
       "  </thead>\n",
       "  <tbody>\n",
       "    <tr>\n",
       "      <th>Constant</th>\n",
       "      <td>152.133</td>\n",
       "      <td>2.576</td>\n",
       "      <td>59.061</td>\n",
       "      <td>0.000</td>\n",
       "      <td>Keep</td>\n",
       "    </tr>\n",
       "    <tr>\n",
       "      <th>sex</th>\n",
       "      <td>-239.819</td>\n",
       "      <td>61.222</td>\n",
       "      <td>-3.917</td>\n",
       "      <td>0.000</td>\n",
       "      <td>Keep</td>\n",
       "    </tr>\n",
       "    <tr>\n",
       "      <th>bmi</th>\n",
       "      <td>519.840</td>\n",
       "      <td>66.534</td>\n",
       "      <td>7.813</td>\n",
       "      <td>0.000</td>\n",
       "      <td>Keep</td>\n",
       "    </tr>\n",
       "    <tr>\n",
       "      <th>bp</th>\n",
       "      <td>324.390</td>\n",
       "      <td>65.422</td>\n",
       "      <td>4.958</td>\n",
       "      <td>0.000</td>\n",
       "      <td>Keep</td>\n",
       "    </tr>\n",
       "    <tr>\n",
       "      <th>s5</th>\n",
       "      <td>751.279</td>\n",
       "      <td>171.902</td>\n",
       "      <td>4.370</td>\n",
       "      <td>0.000</td>\n",
       "      <td>Keep</td>\n",
       "    </tr>\n",
       "    <tr>\n",
       "      <th>s1</th>\n",
       "      <td>-792.184</td>\n",
       "      <td>416.684</td>\n",
       "      <td>-1.901</td>\n",
       "      <td>0.059</td>\n",
       "      <td>Keep</td>\n",
       "    </tr>\n",
       "    <tr>\n",
       "      <th>s2</th>\n",
       "      <td>476.746</td>\n",
       "      <td>339.035</td>\n",
       "      <td>1.406</td>\n",
       "      <td>0.162</td>\n",
       "      <td>Keep</td>\n",
       "    </tr>\n",
       "    <tr>\n",
       "      <th>s4</th>\n",
       "      <td>177.064</td>\n",
       "      <td>161.476</td>\n",
       "      <td>1.097</td>\n",
       "      <td>0.275</td>\n",
       "      <td>Keep</td>\n",
       "    </tr>\n",
       "    <tr>\n",
       "      <th>s6</th>\n",
       "      <td>67.625</td>\n",
       "      <td>65.984</td>\n",
       "      <td>1.025</td>\n",
       "      <td>0.307</td>\n",
       "      <td>Keep</td>\n",
       "    </tr>\n",
       "    <tr>\n",
       "      <th>s3</th>\n",
       "      <td>101.045</td>\n",
       "      <td>212.533</td>\n",
       "      <td>0.475</td>\n",
       "      <td>0.635</td>\n",
       "      <td>Keep</td>\n",
       "    </tr>\n",
       "    <tr>\n",
       "      <th>age</th>\n",
       "      <td>-10.012</td>\n",
       "      <td>59.749</td>\n",
       "      <td>-0.168</td>\n",
       "      <td>0.867</td>\n",
       "      <td>Keep</td>\n",
       "    </tr>\n",
       "  </tbody>\n",
       "</table>\n",
       "</div>"
      ],
      "text/plain": [
       "          Coefficient  Standard Error  Test Statistic  P-value Decision\n",
       "Constant      152.133           2.576          59.061    0.000     Keep\n",
       "sex          -239.819          61.222          -3.917    0.000     Keep\n",
       "bmi           519.840          66.534           7.813    0.000     Keep\n",
       "bp            324.390          65.422           4.958    0.000     Keep\n",
       "s5            751.279         171.902           4.370    0.000     Keep\n",
       "s1           -792.184         416.684          -1.901    0.059     Keep\n",
       "s2            476.746         339.035           1.406    0.162     Keep\n",
       "s4            177.064         161.476           1.097    0.275     Keep\n",
       "s6             67.625          65.984           1.025    0.307     Keep\n",
       "s3            101.045         212.533           0.475    0.635     Keep\n",
       "age           -10.012          59.749          -0.168    0.867     Keep"
      ]
     },
     "metadata": {},
     "output_type": "display_data"
    }
   ],
   "source": [
    "''' demonstrate using p-values for feature selection in regressin '''\n",
    "# load the diabeted data - try print(diabetes['DESCR']) for more information\n",
    "diabetes = load_diabetes()\n",
    "dataD = diabetes['data']\n",
    "targD = diabetes['target']\n",
    "featD = diabetes['feature_names']\n",
    "nD,pD = dataD.shape\n",
    "\n",
    "# fit the saturated model and predict\n",
    "lin = LinearRegression(n_jobs=-1)\n",
    "pred = lin.fit(X=dataD, y=targD).predict(X=dataD)\n",
    "\n",
    "# prepare the coefficients and data prepended with the model intercept\n",
    "coefs = lin.coef_.tolist(); coefs.insert(0, lin.intercept_)\n",
    "xwones = np.c_[np.ones(shape=(nD, 1), dtype=float), dataD]\n",
    "featD.insert(0, 'Constant')\n",
    "\n",
    "# compute the feature coefficient statistics: standard error, test stat, p-value, decision\n",
    "alpha = 0.005\n",
    "critVal = stats.t.ppf(1-alpha/2, df=nD-pD-1)\n",
    "MSE = np.sum((targD - pred)**2)/(nD - pD - 1)\n",
    "coefStdErrs = np.sqrt(MSE*(np.linalg.inv(np.dot(xwones.T, xwones)).diagonal()))\n",
    "coefTestStats = coefs / coefStdErrs\n",
    "coefPVals = [2*(1 - stats.t.cdf(abs(ts), n-1)) for ts in coefTestStats]\n",
    "coefDecide = [['Reject','Keep'][int(pval<p)] for pval in coefPVals]\n",
    "\n",
    "# put it all together and talk\n",
    "regStats = pd.DataFrame(index=featD, data={'Coefficient':np.round(coefs, 3), 'Standard Error':np.round(coefStdErrs, 3),\n",
    "                                           'Test Statistic':np.round(coefTestStats, 3), 'P-value':np.round(coefPVals, 3),\n",
    "                                           'Decision':coefDecide}).sort_values(by=['P-value'])\n",
    "print(\"Student's t critical value for alpha=%0.4f = ±%0.2f\"%(alpha, critVal))\n",
    "display(regStats)"
   ]
  },
  {
   "cell_type": "markdown",
   "metadata": {},
   "source": [
    "Starting with the fully *saturated model* - with all features included - the modeler would iteratively\n",
    "- remove the last feature from the model\n",
    "- re-fit and score the model\n",
    "\n",
    "until obtaining a model with only \"Keep\" in the last column. There are issues with following this procedure, but that's a conversation for another day.\n",
    "\n",
    "This iterative procedure is generally formalized in what's called *stepwise regression*, and is usually driven by *model criteria* such as $R^2$, the $F-$statistic, AIC, BIC, Mallows' $C_p$, etc. The three main ways of performing stepwise regression are:\n",
    "- *Forward Selection*: Features are added to a model sequentially, in the order of most improvement in the model criterion\n",
    "- *Backward Elimination*: The saturated model is fit, then features are selected for removal sequentially, in the order of least degradation of the model criterion.\n",
    "- *Bidirectional Elimination*: A combination of forward selection & backward elimination, which allows features to both enter & exit the model in each iteration.\n",
    "\n",
    "Of course, the same kind of stepwise procedures could be used for most any machine learning model, as long as there is an approriate model criterion to drive the selection / elimination.\n",
    "\n",
    "Choosing the correct model criterion is of special importance, but is often not done correctly. For example, of the list of criteria in the preceding paragram, only AIC, BIC, and Mallows' $C_p$ penalize a subset regression model for model complexity. The others, which are used most, are all about the model performance - no balance. In the case of a classification model the correct classification rate criterion generally used to assess models would also fail in this aspect.\n",
    "\n",
    "The *genetic algorithm* can be used for a more advanced form of feature selection. Genetic algorithms are a class of general optimization procedures which operate much like natural selection on a set of solutions to a problem (*population* of *individuals*). For the problem of feature selection from a set of $p$ features, each individual is a $p-$length binary string indicating that a feature is in that solution (1) or out of it (0). For our Fisher's Iris Data example, one such solution could be $\\left[1010010000\\right]$, which would indicate selecting only the Sepal Length, Petal Length, and their pairwise interaction feature. As with stepwise methods, a model criterion, or *objective function* is needed to optimize. The GA as a feature selection optimizer is flexible, and can converge to an optimal, or near-optimal set of features relatively quickly. However, it also requires many executions of the objective function, and is quite computationally expensive, so generally most useful for datasets with many features.\n",
    "\n",
    "A simpler way to perform feature selection, that guarantees finding the most optimal subset of features is *combinatorial enumeration* - a.k.a. **brute force**. Combinatorial enumeration does exactly what it sounds like - the model is evauated on the enumeration of all possible combinations of features. This is no mean feat, as the number of ways to combine $p$ features is exponential in $p$; there are $2^p-1$ possible subsets. This is demonstrated below.\n",
    "\n",
    "There is one final consideration when the features in a dataset include compound features such as higher-order ($x_i^2$) or interaction ($x_i\\times x_j$) terms. In this case, we often want to ensure that feature selection selects all simple features involved in any selected compound feature - we want to ensure *hierarchy holds*. For our Fisher's Iris Data example, the argument of hierarchy would insist that the subset $\\left[0000000011\\right]$ (Sepal Width $\\times$ Petal Width & Petal Length $\\times$ Petal Width) is invalid, but $\\left[0111000011\\right]$ (including the three simple features) is valid. While the importance of feature hierarchy in feature selection is, in fact, debated, it is clearly reasonable from the perspective of model interpretability."
   ]
  },
  {
   "cell_type": "code",
   "execution_count": 22,
   "metadata": {},
   "outputs": [
    {
     "data": {
      "text/html": [
       "<div>\n",
       "<style scoped>\n",
       "    .dataframe tbody tr th:only-of-type {\n",
       "        vertical-align: middle;\n",
       "    }\n",
       "\n",
       "    .dataframe tbody tr th {\n",
       "        vertical-align: top;\n",
       "    }\n",
       "\n",
       "    .dataframe thead th {\n",
       "        text-align: right;\n",
       "    }\n",
       "</style>\n",
       "<table border=\"1\" class=\"dataframe\">\n",
       "  <thead>\n",
       "    <tr style=\"text-align: right;\">\n",
       "      <th></th>\n",
       "      <th>subsets</th>\n",
       "    </tr>\n",
       "  </thead>\n",
       "  <tbody>\n",
       "    <tr>\n",
       "      <th>2</th>\n",
       "      <td>3</td>\n",
       "    </tr>\n",
       "    <tr>\n",
       "      <th>3</th>\n",
       "      <td>7</td>\n",
       "    </tr>\n",
       "    <tr>\n",
       "      <th>4</th>\n",
       "      <td>15</td>\n",
       "    </tr>\n",
       "    <tr>\n",
       "      <th>5</th>\n",
       "      <td>31</td>\n",
       "    </tr>\n",
       "    <tr>\n",
       "      <th>10</th>\n",
       "      <td>1023</td>\n",
       "    </tr>\n",
       "    <tr>\n",
       "      <th>20</th>\n",
       "      <td>1048575</td>\n",
       "    </tr>\n",
       "    <tr>\n",
       "      <th>50</th>\n",
       "      <td>1125899906842623</td>\n",
       "    </tr>\n",
       "    <tr>\n",
       "      <th>100</th>\n",
       "      <td>1267650600228229401496703205375</td>\n",
       "    </tr>\n",
       "  </tbody>\n",
       "</table>\n",
       "</div>"
      ],
      "text/plain": [
       "                             subsets\n",
       "2                                  3\n",
       "3                                  7\n",
       "4                                 15\n",
       "5                                 31\n",
       "10                              1023\n",
       "20                           1048575\n",
       "50                  1125899906842623\n",
       "100  1267650600228229401496703205375"
      ]
     },
     "metadata": {},
     "output_type": "display_data"
    }
   ],
   "source": [
    "''' demonstrate exponential growth in feature subsets '''\n",
    "ps = [2,3,4,5,10,20,50,100]\n",
    "display(pd.DataFrame(index=ps, data=[2**p - 1 for p in ps], columns=['subsets']))"
   ]
  },
  {
   "cell_type": "code",
   "execution_count": 23,
   "metadata": {},
   "outputs": [
    {
     "name": "stdout",
     "output_type": "stream",
     "text": [
      "1023 feature subsets, counting by subset size\n"
     ]
    },
    {
     "data": {
      "text/plain": [
       "1      10\n",
       "2      45\n",
       "3     120\n",
       "4     210\n",
       "5     252\n",
       "6     210\n",
       "7     120\n",
       "8      45\n",
       "9      10\n",
       "10      1\n",
       "dtype: int64"
      ]
     },
     "metadata": {},
     "output_type": "display_data"
    },
    {
     "name": "stdout",
     "output_type": "stream",
     "text": [
      "78 valid subsets\n"
     ]
    }
   ],
   "source": [
    "''' generate all subsets of features '''\n",
    "hierarchy = True\n",
    "\n",
    "# generate all subsets\n",
    "subsets = VarSubset(p)[0][1:] # function I originally wrote in MATLAB in 2006!\n",
    "subsetCount = len(subsets)\n",
    "sizeCounts = pd.Series(data=np.sum(subsets, axis=1)).value_counts().sort_index()\n",
    "# talk\n",
    "print('%d feature subsets, counting by subset size'%subsetCount)\n",
    "display(sizeCounts)\n",
    "\n",
    "# dispose of hierarchy-flouting subsets, maybe\n",
    "valids = [False]*subsetCount\n",
    "if hierarchy:\n",
    "    for i, subset in enumerate(subsets):\n",
    "        # simple vs compound features\n",
    "        simps = subset[:4]\n",
    "        comps = subset[4:]\n",
    "        # are there any compound features selected?\n",
    "        if comps.sum()>0:\n",
    "            # get the simple features expected from all compounds\n",
    "            expect = np.any(depends[:,comps], axis=1)\n",
    "            # check that all are selected\n",
    "            valids[i] = np.all(expect == simps)\n",
    "        else:\n",
    "            # only simples are automatically valid\n",
    "            valids[i] = True\n",
    "    subsets = subsets[valids,:]\n",
    "    subsetCount = len(subsets)\n",
    "    print('%d valid subsets'%subsetCount)"
   ]
  },
  {
   "cell_type": "code",
   "execution_count": 24,
   "metadata": {},
   "outputs": [
    {
     "name": "stdout",
     "output_type": "stream",
     "text": [
      "Subset 0001 of 0078: poly(0001000000) = 0.9533; Global Best: 0001000000 = 0.9533\n",
      "Subset 0004 of 0078: poly(1000000000) = 0.7367; Global Best: 0001000000 = 0.9533\n",
      "Subset 0008 of 0078: poly(0110000000) = 0.9533; Global Best: 1010000000 = 0.9567\n",
      "Subset 0012 of 0078: poly(1001001000) = 0.9500; Global Best: 0011000001 = 0.9633\n",
      "Subset 0016 of 0078: rbf(1101000000) = 0.9567; Global Best: 1011000000 = 0.9767\n",
      "Subset 0020 of 0078: poly(0110000100) = 0.9567; Global Best: 1011000000 = 0.9767\n",
      "Subset 0024 of 0078: poly(0111000011) = 0.9567; Global Best: 1011000000 = 0.9767\n",
      "Subset 0028 of 0078: poly(1110010100) = 0.9567; Global Best: 1011000000 = 0.9767\n",
      "Subset 0032 of 0078: poly(1011010001) = 0.9600; Global Best: 1011000000 = 0.9767\n",
      "Subset 0036 of 0078: poly(1111100001) = 0.9667; Global Best: 1011000000 = 0.9767\n",
      "Subset 0040 of 0078: poly(1011011001) = 0.9633; Global Best: 1011000000 = 0.9767\n",
      "Subset 0044 of 0078: poly(1111010011) = 0.9600; Global Best: 1011000000 = 0.9767\n",
      "Subset 0048 of 0078: poly(1111011100) = 0.9600; Global Best: 1011000000 = 0.9767\n",
      "Subset 0052 of 0078: poly(1111101001) = 0.9667; Global Best: 1011000000 = 0.9767\n",
      "Subset 0056 of 0078: poly(1111111000) = 0.9600; Global Best: 1011000000 = 0.9767\n",
      "Subset 0060 of 0078: poly(1111111001) = 0.9600; Global Best: 1011000000 = 0.9767\n",
      "Subset 0064 of 0078: poly(1111101101) = 0.9633; Global Best: 1011000000 = 0.9767\n",
      "Subset 0068 of 0078: poly(1111011101) = 0.9567; Global Best: 1011000000 = 0.9767\n",
      "Subset 0072 of 0078: poly(1111011111) = 0.9567; Global Best: 1011000000 = 0.9767\n",
      "Subset 0076 of 0078: poly(1111111101) = 0.9633; Global Best: 1011000000 = 0.9767\n",
      "Subset 0078 of 0078: poly(1111111111) = 0.9633; Global Best: 1011000000 = 0.9767\n"
     ]
    }
   ],
   "source": [
    "''' perform combinatorial enumeration feature selection with cross-validated grid search for kernel SVM '''\n",
    "splits = 10 # use fewer cross-validation splits to speed things up, or rather, make them less slow\n",
    "# evaluate all subset models\n",
    "fsModels = [None]*subsetCount\n",
    "fsParams = [None]*subsetCount\n",
    "fsScores = [0]*subsetCount\n",
    "talkFreq = max(4, int(0.004*subsetCount))\n",
    "for i, sub in enumerate(subsets):\n",
    "    subStr = ''.join(sub.astype(int).astype(str))\n",
    "    # define the gsc object\n",
    "    fsModels[i] = GridSearchCV(estimator=SVC(random_state=42), param_grid=params,\n",
    "                             cv=StratifiedShuffleSplit(splits, test_size = 0.2, random_state=42),\n",
    "                             n_jobs=-1, verbose=0)    \n",
    "    # cross-validated grid search\n",
    "    fsModels[i].fit(X=data[:,sub], y=labl)\n",
    "    # save the best model & score per subset\n",
    "    fsParams[i] = fsModels[i].best_params_\n",
    "    fsScores[i] = fsModels[i].best_score_ # best Mean Test Set Correct Classification Rate\n",
    "    # get the global best so far\n",
    "    gloBstInd = np.argmax(fsScores)\n",
    "    gloBstScr = fsScores[gloBstInd]\n",
    "    gloBstSubStr = ''.join(subsets[gloBstInd,:].astype(int).astype(str))\n",
    "    # talk\n",
    "    if ((i+1) % talkFreq == 0) | (i == 0) | (i == subsetCount-1):\n",
    "        print('Subset %04d of %04d: %s(%s) = %0.4f; Global Best: %s = %0.4f'%\\\n",
    "              (i+1, subsetCount, fsParams[i]['kernel'], subStr, fsScores[i], gloBstSubStr, gloBstScr))"
   ]
  },
  {
   "cell_type": "code",
   "execution_count": 25,
   "metadata": {},
   "outputs": [
    {
     "name": "stdout",
     "output_type": "stream",
     "text": [
      "Best Subset of Features: ['sep_len', 'pet_len', 'pet_wid']\n",
      "Best Kernel SVM Model:\n",
      "\tcoef0 = -1\n",
      "\tdegree = 1\n",
      "\tgamma = 1\n",
      "\tkernel = 'poly'\n",
      "Distribution of Test Set Correct Classification Rates\n"
     ]
    },
    {
     "data": {
      "text/plain": [
       "count    100.000000\n",
       "mean       0.963667\n",
       "std        0.031102\n",
       "min        0.866667\n",
       "25%        0.933333\n",
       "50%        0.966667\n",
       "75%        1.000000\n",
       "max        1.000000\n",
       "Name: poly, dtype: float64"
      ]
     },
     "metadata": {},
     "output_type": "display_data"
    }
   ],
   "source": [
    "''' get final best model results '''\n",
    "# now find the subset with the best score, then get that subset, model, & it's parameters, and perform cross-validation on it\n",
    "best = np.argmax(fsScores)\n",
    "bestSubset = subsets[best,:]\n",
    "bestParams = fsParams[best]\n",
    "bestModel = fsModels[best]\n",
    "bestModelScores = cross_val_score(bestModel, X=data[:,bestSubset], y=labl, cv=crossVal)\n",
    "\n",
    "# talk\n",
    "print('Best Subset of Features: %r\\nBest Kernel SVM Model:'%[f for f, s in zip(features, bestSubset) if s])\n",
    "for param, value in bestParams.items():\n",
    "    print('\\t%s = %r'%(param, value))\n",
    "print('Distribution of Test Set Correct Classification Rates')\n",
    "display(pd.Series(data=bestModelScores, name=bestParams['kernel']).describe())"
   ]
  },
  {
   "cell_type": "code",
   "execution_count": 26,
   "metadata": {},
   "outputs": [
    {
     "data": {
      "text/html": [
       "<div>\n",
       "<style scoped>\n",
       "    .dataframe tbody tr th:only-of-type {\n",
       "        vertical-align: middle;\n",
       "    }\n",
       "\n",
       "    .dataframe tbody tr th {\n",
       "        vertical-align: top;\n",
       "    }\n",
       "\n",
       "    .dataframe thead th {\n",
       "        text-align: right;\n",
       "    }\n",
       "</style>\n",
       "<table border=\"1\" class=\"dataframe\">\n",
       "  <thead>\n",
       "    <tr style=\"text-align: right;\">\n",
       "      <th></th>\n",
       "      <th>Size</th>\n",
       "      <th>Score</th>\n",
       "      <th>Subset</th>\n",
       "      <th>Kernel</th>\n",
       "      <th>Degree</th>\n",
       "    </tr>\n",
       "  </thead>\n",
       "  <tbody>\n",
       "    <tr>\n",
       "      <th>0</th>\n",
       "      <td>1</td>\n",
       "      <td>0.953333</td>\n",
       "      <td>[pet_wid]</td>\n",
       "      <td>poly</td>\n",
       "      <td>1</td>\n",
       "    </tr>\n",
       "    <tr>\n",
       "      <th>8</th>\n",
       "      <td>2</td>\n",
       "      <td>0.963333</td>\n",
       "      <td>[pet_len, pet_wid]</td>\n",
       "      <td>poly</td>\n",
       "      <td>1</td>\n",
       "    </tr>\n",
       "    <tr>\n",
       "      <th>13</th>\n",
       "      <td>3</td>\n",
       "      <td>0.976667</td>\n",
       "      <td>[sep_len, pet_len, pet_wid]</td>\n",
       "      <td>poly</td>\n",
       "      <td>1</td>\n",
       "    </tr>\n",
       "    <tr>\n",
       "      <th>20</th>\n",
       "      <td>4</td>\n",
       "      <td>0.976667</td>\n",
       "      <td>[sep_len, sep_wid, pet_len, pet_wid]</td>\n",
       "      <td>poly</td>\n",
       "      <td>1</td>\n",
       "    </tr>\n",
       "    <tr>\n",
       "      <th>21</th>\n",
       "      <td>5</td>\n",
       "      <td>0.963333</td>\n",
       "      <td>[sep_wid, pet_len, pet_wid, sep_wid_x_pet_len, sep_wid_x_pet_wid]</td>\n",
       "      <td>rbf</td>\n",
       "      <td>3</td>\n",
       "    </tr>\n",
       "    <tr>\n",
       "      <th>35</th>\n",
       "      <td>6</td>\n",
       "      <td>0.966667</td>\n",
       "      <td>[sep_len, sep_wid, pet_len, pet_wid, sep_len_x_sep_wid, pet_len_x_pet_wid]</td>\n",
       "      <td>poly</td>\n",
       "      <td>1</td>\n",
       "    </tr>\n",
       "    <tr>\n",
       "      <th>49</th>\n",
       "      <td>7</td>\n",
       "      <td>0.973333</td>\n",
       "      <td>[sep_len, sep_wid, pet_len, pet_wid, sep_len_x_sep_wid, sep_wid_x_pet_len, pet_len_x_pet_wid]</td>\n",
       "      <td>rbf</td>\n",
       "      <td>3</td>\n",
       "    </tr>\n",
       "    <tr>\n",
       "      <th>61</th>\n",
       "      <td>8</td>\n",
       "      <td>0.966667</td>\n",
       "      <td>[sep_len, sep_wid, pet_len, pet_wid, sep_len_x_sep_wid, sep_len_x_pet_len, sep_wid_x_pet_wid, pet_len_x_pet_wid]</td>\n",
       "      <td>poly</td>\n",
       "      <td>1</td>\n",
       "    </tr>\n",
       "    <tr>\n",
       "      <th>74</th>\n",
       "      <td>9</td>\n",
       "      <td>0.963333</td>\n",
       "      <td>[sep_len, sep_wid, pet_len, pet_wid, sep_len_x_sep_wid, sep_len_x_pet_len, sep_len_x_pet_wid, sep_wid_x_pet_wid, pet_len_x_pet_wid]</td>\n",
       "      <td>poly</td>\n",
       "      <td>1</td>\n",
       "    </tr>\n",
       "    <tr>\n",
       "      <th>77</th>\n",
       "      <td>10</td>\n",
       "      <td>0.963333</td>\n",
       "      <td>[sep_len, sep_wid, pet_len, pet_wid, sep_len_x_sep_wid, sep_len_x_pet_len, sep_len_x_pet_wid, sep_wid_x_pet_len, sep_wid_x_pet_wid, pet_len_x_pet_wid]</td>\n",
       "      <td>poly</td>\n",
       "      <td>1</td>\n",
       "    </tr>\n",
       "  </tbody>\n",
       "</table>\n",
       "</div>"
      ],
      "text/plain": [
       "    Size     Score  \\\n",
       "0      1  0.953333   \n",
       "8      2  0.963333   \n",
       "13     3  0.976667   \n",
       "20     4  0.976667   \n",
       "21     5  0.963333   \n",
       "35     6  0.966667   \n",
       "49     7  0.973333   \n",
       "61     8  0.966667   \n",
       "74     9  0.963333   \n",
       "77    10  0.963333   \n",
       "\n",
       "                                                                                                                                                    Subset  \\\n",
       "0                                                                                                                                                [pet_wid]   \n",
       "8                                                                                                                                       [pet_len, pet_wid]   \n",
       "13                                                                                                                             [sep_len, pet_len, pet_wid]   \n",
       "20                                                                                                                    [sep_len, sep_wid, pet_len, pet_wid]   \n",
       "21                                                                                       [sep_wid, pet_len, pet_wid, sep_wid_x_pet_len, sep_wid_x_pet_wid]   \n",
       "35                                                                              [sep_len, sep_wid, pet_len, pet_wid, sep_len_x_sep_wid, pet_len_x_pet_wid]   \n",
       "49                                                           [sep_len, sep_wid, pet_len, pet_wid, sep_len_x_sep_wid, sep_wid_x_pet_len, pet_len_x_pet_wid]   \n",
       "61                                        [sep_len, sep_wid, pet_len, pet_wid, sep_len_x_sep_wid, sep_len_x_pet_len, sep_wid_x_pet_wid, pet_len_x_pet_wid]   \n",
       "74                     [sep_len, sep_wid, pet_len, pet_wid, sep_len_x_sep_wid, sep_len_x_pet_len, sep_len_x_pet_wid, sep_wid_x_pet_wid, pet_len_x_pet_wid]   \n",
       "77  [sep_len, sep_wid, pet_len, pet_wid, sep_len_x_sep_wid, sep_len_x_pet_len, sep_len_x_pet_wid, sep_wid_x_pet_len, sep_wid_x_pet_wid, pet_len_x_pet_wid]   \n",
       "\n",
       "   Kernel  Degree  \n",
       "0    poly       1  \n",
       "8    poly       1  \n",
       "13   poly       1  \n",
       "20   poly       1  \n",
       "21    rbf       3  \n",
       "35   poly       1  \n",
       "49    rbf       3  \n",
       "61   poly       1  \n",
       "74   poly       1  \n",
       "77   poly       1  "
      ]
     },
     "metadata": {},
     "output_type": "display_data"
    },
    {
     "data": {
      "text/html": [
       "<div>\n",
       "<style scoped>\n",
       "    .dataframe tbody tr th:only-of-type {\n",
       "        vertical-align: middle;\n",
       "    }\n",
       "\n",
       "    .dataframe tbody tr th {\n",
       "        vertical-align: top;\n",
       "    }\n",
       "\n",
       "    .dataframe thead th {\n",
       "        text-align: right;\n",
       "    }\n",
       "</style>\n",
       "<table border=\"1\" class=\"dataframe\">\n",
       "  <thead>\n",
       "    <tr style=\"text-align: right;\">\n",
       "      <th></th>\n",
       "      <th>Size</th>\n",
       "      <th>Score</th>\n",
       "      <th>Subset</th>\n",
       "      <th>Kernel</th>\n",
       "      <th>Degree</th>\n",
       "    </tr>\n",
       "  </thead>\n",
       "  <tbody>\n",
       "    <tr>\n",
       "      <th>0</th>\n",
       "      <td>1</td>\n",
       "      <td>0.953333</td>\n",
       "      <td>[pet_wid]</td>\n",
       "      <td>poly</td>\n",
       "      <td>1</td>\n",
       "    </tr>\n",
       "    <tr>\n",
       "      <th>1</th>\n",
       "      <td>1</td>\n",
       "      <td>0.950000</td>\n",
       "      <td>[pet_len]</td>\n",
       "      <td>poly</td>\n",
       "      <td>2</td>\n",
       "    </tr>\n",
       "    <tr>\n",
       "      <th>3</th>\n",
       "      <td>1</td>\n",
       "      <td>0.736667</td>\n",
       "      <td>[sep_len]</td>\n",
       "      <td>poly</td>\n",
       "      <td>2</td>\n",
       "    </tr>\n",
       "    <tr>\n",
       "      <th>2</th>\n",
       "      <td>1</td>\n",
       "      <td>0.573333</td>\n",
       "      <td>[sep_wid]</td>\n",
       "      <td>rbf</td>\n",
       "      <td>3</td>\n",
       "    </tr>\n",
       "    <tr>\n",
       "      <th>8</th>\n",
       "      <td>2</td>\n",
       "      <td>0.963333</td>\n",
       "      <td>[pet_len, pet_wid]</td>\n",
       "      <td>poly</td>\n",
       "      <td>1</td>\n",
       "    </tr>\n",
       "    <tr>\n",
       "      <th>5</th>\n",
       "      <td>2</td>\n",
       "      <td>0.956667</td>\n",
       "      <td>[sep_len, pet_len]</td>\n",
       "      <td>poly</td>\n",
       "      <td>2</td>\n",
       "    </tr>\n",
       "    <tr>\n",
       "      <th>6</th>\n",
       "      <td>2</td>\n",
       "      <td>0.953333</td>\n",
       "      <td>[sep_len, pet_wid]</td>\n",
       "      <td>rbf</td>\n",
       "      <td>3</td>\n",
       "    </tr>\n",
       "    <tr>\n",
       "      <th>7</th>\n",
       "      <td>2</td>\n",
       "      <td>0.953333</td>\n",
       "      <td>[sep_wid, pet_len]</td>\n",
       "      <td>poly</td>\n",
       "      <td>1</td>\n",
       "    </tr>\n",
       "    <tr>\n",
       "      <th>9</th>\n",
       "      <td>2</td>\n",
       "      <td>0.953333</td>\n",
       "      <td>[sep_wid, pet_wid]</td>\n",
       "      <td>rbf</td>\n",
       "      <td>3</td>\n",
       "    </tr>\n",
       "    <tr>\n",
       "      <th>4</th>\n",
       "      <td>2</td>\n",
       "      <td>0.786667</td>\n",
       "      <td>[sep_len, sep_wid]</td>\n",
       "      <td>poly</td>\n",
       "      <td>1</td>\n",
       "    </tr>\n",
       "    <tr>\n",
       "      <th>13</th>\n",
       "      <td>3</td>\n",
       "      <td>0.976667</td>\n",
       "      <td>[sep_len, pet_len, pet_wid]</td>\n",
       "      <td>poly</td>\n",
       "      <td>1</td>\n",
       "    </tr>\n",
       "    <tr>\n",
       "      <th>18</th>\n",
       "      <td>3</td>\n",
       "      <td>0.970000</td>\n",
       "      <td>[sep_wid, pet_len, pet_wid]</td>\n",
       "      <td>poly</td>\n",
       "      <td>2</td>\n",
       "    </tr>\n",
       "    <tr>\n",
       "      <th>10</th>\n",
       "      <td>3</td>\n",
       "      <td>0.963333</td>\n",
       "      <td>[pet_len, pet_wid, pet_len_x_pet_wid]</td>\n",
       "      <td>poly</td>\n",
       "      <td>3</td>\n",
       "    </tr>\n",
       "    <tr>\n",
       "      <th>16</th>\n",
       "      <td>3</td>\n",
       "      <td>0.963333</td>\n",
       "      <td>[sep_len, sep_wid, pet_len]</td>\n",
       "      <td>poly</td>\n",
       "      <td>1</td>\n",
       "    </tr>\n",
       "    <tr>\n",
       "      <th>15</th>\n",
       "      <td>3</td>\n",
       "      <td>0.956667</td>\n",
       "      <td>[sep_len, sep_wid, pet_wid]</td>\n",
       "      <td>rbf</td>\n",
       "      <td>3</td>\n",
       "    </tr>\n",
       "    <tr>\n",
       "      <th>19</th>\n",
       "      <td>3</td>\n",
       "      <td>0.956667</td>\n",
       "      <td>[sep_wid, pet_len, sep_wid_x_pet_len]</td>\n",
       "      <td>poly</td>\n",
       "      <td>2</td>\n",
       "    </tr>\n",
       "    <tr>\n",
       "      <th>12</th>\n",
       "      <td>3</td>\n",
       "      <td>0.953333</td>\n",
       "      <td>[sep_len, pet_len, sep_len_x_pet_len]</td>\n",
       "      <td>poly</td>\n",
       "      <td>1</td>\n",
       "    </tr>\n",
       "    <tr>\n",
       "      <th>11</th>\n",
       "      <td>3</td>\n",
       "      <td>0.950000</td>\n",
       "      <td>[sep_len, pet_wid, sep_len_x_pet_wid]</td>\n",
       "      <td>poly</td>\n",
       "      <td>1</td>\n",
       "    </tr>\n",
       "    <tr>\n",
       "      <th>17</th>\n",
       "      <td>3</td>\n",
       "      <td>0.943333</td>\n",
       "      <td>[sep_wid, pet_wid, sep_wid_x_pet_wid]</td>\n",
       "      <td>poly</td>\n",
       "      <td>1</td>\n",
       "    </tr>\n",
       "    <tr>\n",
       "      <th>14</th>\n",
       "      <td>3</td>\n",
       "      <td>0.770000</td>\n",
       "      <td>[sep_len, sep_wid, sep_len_x_sep_wid]</td>\n",
       "      <td>poly</td>\n",
       "      <td>1</td>\n",
       "    </tr>\n",
       "    <tr>\n",
       "      <th>20</th>\n",
       "      <td>4</td>\n",
       "      <td>0.976667</td>\n",
       "      <td>[sep_len, sep_wid, pet_len, pet_wid]</td>\n",
       "      <td>poly</td>\n",
       "      <td>1</td>\n",
       "    </tr>\n",
       "    <tr>\n",
       "      <th>21</th>\n",
       "      <td>5</td>\n",
       "      <td>0.963333</td>\n",
       "      <td>[sep_wid, pet_len, pet_wid, sep_wid_x_pet_len, sep_wid_x_pet_wid]</td>\n",
       "      <td>rbf</td>\n",
       "      <td>3</td>\n",
       "    </tr>\n",
       "    <tr>\n",
       "      <th>25</th>\n",
       "      <td>5</td>\n",
       "      <td>0.963333</td>\n",
       "      <td>[sep_len, sep_wid, pet_len, sep_len_x_sep_wid, sep_len_x_pet_len]</td>\n",
       "      <td>poly</td>\n",
       "      <td>1</td>\n",
       "    </tr>\n",
       "    <tr>\n",
       "      <th>32</th>\n",
       "      <td>5</td>\n",
       "      <td>0.963333</td>\n",
       "      <td>[sep_len, pet_len, pet_wid, sep_len_x_pet_wid, pet_len_x_pet_wid]</td>\n",
       "      <td>poly</td>\n",
       "      <td>2</td>\n",
       "    </tr>\n",
       "    <tr>\n",
       "      <th>30</th>\n",
       "      <td>5</td>\n",
       "      <td>0.960000</td>\n",
       "      <td>[sep_len, pet_len, pet_wid, sep_len_x_pet_len, sep_len_x_pet_wid]</td>\n",
       "      <td>poly</td>\n",
       "      <td>2</td>\n",
       "    </tr>\n",
       "    <tr>\n",
       "      <th>31</th>\n",
       "      <td>5</td>\n",
       "      <td>0.960000</td>\n",
       "      <td>[sep_len, pet_len, pet_wid, sep_len_x_pet_len, pet_len_x_pet_wid]</td>\n",
       "      <td>poly</td>\n",
       "      <td>2</td>\n",
       "    </tr>\n",
       "    <tr>\n",
       "      <th>23</th>\n",
       "      <td>5</td>\n",
       "      <td>0.956667</td>\n",
       "      <td>[sep_wid, pet_len, pet_wid, sep_wid_x_pet_wid, pet_len_x_pet_wid]</td>\n",
       "      <td>poly</td>\n",
       "      <td>3</td>\n",
       "    </tr>\n",
       "    <tr>\n",
       "      <th>22</th>\n",
       "      <td>5</td>\n",
       "      <td>0.956667</td>\n",
       "      <td>[sep_wid, pet_len, pet_wid, sep_wid_x_pet_len, pet_len_x_pet_wid]</td>\n",
       "      <td>poly</td>\n",
       "      <td>3</td>\n",
       "    </tr>\n",
       "    <tr>\n",
       "      <th>27</th>\n",
       "      <td>5</td>\n",
       "      <td>0.956667</td>\n",
       "      <td>[sep_len, sep_wid, pet_len, sep_len_x_pet_len, sep_wid_x_pet_len]</td>\n",
       "      <td>poly</td>\n",
       "      <td>1</td>\n",
       "    </tr>\n",
       "    <tr>\n",
       "      <th>24</th>\n",
       "      <td>5</td>\n",
       "      <td>0.950000</td>\n",
       "      <td>[sep_len, sep_wid, pet_wid, sep_len_x_pet_wid, sep_wid_x_pet_wid]</td>\n",
       "      <td>poly</td>\n",
       "      <td>1</td>\n",
       "    </tr>\n",
       "    <tr>\n",
       "      <th>26</th>\n",
       "      <td>5</td>\n",
       "      <td>0.946667</td>\n",
       "      <td>[sep_len, sep_wid, pet_len, sep_len_x_sep_wid, sep_wid_x_pet_len]</td>\n",
       "      <td>poly</td>\n",
       "      <td>1</td>\n",
       "    </tr>\n",
       "    <tr>\n",
       "      <th>28</th>\n",
       "      <td>5</td>\n",
       "      <td>0.946667</td>\n",
       "      <td>[sep_len, sep_wid, pet_wid, sep_len_x_sep_wid, sep_len_x_pet_wid]</td>\n",
       "      <td>poly</td>\n",
       "      <td>3</td>\n",
       "    </tr>\n",
       "    <tr>\n",
       "      <th>29</th>\n",
       "      <td>5</td>\n",
       "      <td>0.943333</td>\n",
       "      <td>[sep_len, sep_wid, pet_wid, sep_len_x_sep_wid, sep_wid_x_pet_wid]</td>\n",
       "      <td>poly</td>\n",
       "      <td>3</td>\n",
       "    </tr>\n",
       "    <tr>\n",
       "      <th>35</th>\n",
       "      <td>6</td>\n",
       "      <td>0.966667</td>\n",
       "      <td>[sep_len, sep_wid, pet_len, pet_wid, sep_len_x_sep_wid, pet_len_x_pet_wid]</td>\n",
       "      <td>poly</td>\n",
       "      <td>1</td>\n",
       "    </tr>\n",
       "    <tr>\n",
       "      <th>33</th>\n",
       "      <td>6</td>\n",
       "      <td>0.963333</td>\n",
       "      <td>[sep_wid, pet_len, pet_wid, sep_wid_x_pet_len, sep_wid_x_pet_wid, pet_len_x_pet_wid]</td>\n",
       "      <td>poly</td>\n",
       "      <td>3</td>\n",
       "    </tr>\n",
       "    <tr>\n",
       "      <th>39</th>\n",
       "      <td>6</td>\n",
       "      <td>0.963333</td>\n",
       "      <td>[sep_len, pet_len, pet_wid, sep_len_x_pet_len, sep_len_x_pet_wid, pet_len_x_pet_wid]</td>\n",
       "      <td>poly</td>\n",
       "      <td>2</td>\n",
       "    </tr>\n",
       "    <tr>\n",
       "      <th>36</th>\n",
       "      <td>6</td>\n",
       "      <td>0.960000</td>\n",
       "      <td>[sep_len, sep_wid, pet_len, pet_wid, sep_len_x_pet_len, sep_wid_x_pet_wid]</td>\n",
       "      <td>poly</td>\n",
       "      <td>1</td>\n",
       "    </tr>\n",
       "    <tr>\n",
       "      <th>37</th>\n",
       "      <td>6</td>\n",
       "      <td>0.960000</td>\n",
       "      <td>[sep_len, sep_wid, pet_len, pet_wid, sep_len_x_pet_wid, sep_wid_x_pet_len]</td>\n",
       "      <td>poly</td>\n",
       "      <td>2</td>\n",
       "    </tr>\n",
       "    <tr>\n",
       "      <th>38</th>\n",
       "      <td>6</td>\n",
       "      <td>0.956667</td>\n",
       "      <td>[sep_len, sep_wid, pet_len, sep_len_x_sep_wid, sep_len_x_pet_len, sep_wid_x_pet_len]</td>\n",
       "      <td>poly</td>\n",
       "      <td>1</td>\n",
       "    </tr>\n",
       "    <tr>\n",
       "      <th>34</th>\n",
       "      <td>6</td>\n",
       "      <td>0.943333</td>\n",
       "      <td>[sep_len, sep_wid, pet_wid, sep_len_x_sep_wid, sep_len_x_pet_wid, sep_wid_x_pet_wid]</td>\n",
       "      <td>poly</td>\n",
       "      <td>3</td>\n",
       "    </tr>\n",
       "    <tr>\n",
       "      <th>49</th>\n",
       "      <td>7</td>\n",
       "      <td>0.973333</td>\n",
       "      <td>[sep_len, sep_wid, pet_len, pet_wid, sep_len_x_sep_wid, sep_wid_x_pet_len, pet_len_x_pet_wid]</td>\n",
       "      <td>rbf</td>\n",
       "      <td>3</td>\n",
       "    </tr>\n",
       "    <tr>\n",
       "      <th>50</th>\n",
       "      <td>7</td>\n",
       "      <td>0.970000</td>\n",
       "      <td>[sep_len, sep_wid, pet_len, pet_wid, sep_len_x_sep_wid, sep_wid_x_pet_len, sep_wid_x_pet_wid]</td>\n",
       "      <td>poly</td>\n",
       "      <td>2</td>\n",
       "    </tr>\n",
       "    <tr>\n",
       "      <th>53</th>\n",
       "      <td>7</td>\n",
       "      <td>0.970000</td>\n",
       "      <td>[sep_len, sep_wid, pet_len, pet_wid, sep_len_x_sep_wid, sep_len_x_pet_len, pet_len_x_pet_wid]</td>\n",
       "      <td>poly</td>\n",
       "      <td>1</td>\n",
       "    </tr>\n",
       "    <tr>\n",
       "      <th>51</th>\n",
       "      <td>7</td>\n",
       "      <td>0.966667</td>\n",
       "      <td>[sep_len, sep_wid, pet_len, pet_wid, sep_len_x_sep_wid, sep_len_x_pet_wid, pet_len_x_pet_wid]</td>\n",
       "      <td>poly</td>\n",
       "      <td>1</td>\n",
       "    </tr>\n",
       "    <tr>\n",
       "      <th>40</th>\n",
       "      <td>7</td>\n",
       "      <td>0.963333</td>\n",
       "      <td>[sep_len, sep_wid, pet_len, pet_wid, sep_len_x_pet_wid, sep_wid_x_pet_wid, pet_len_x_pet_wid]</td>\n",
       "      <td>poly</td>\n",
       "      <td>3</td>\n",
       "    </tr>\n",
       "    <tr>\n",
       "      <th>41</th>\n",
       "      <td>7</td>\n",
       "      <td>0.963333</td>\n",
       "      <td>[sep_len, sep_wid, pet_len, pet_wid, sep_len_x_pet_wid, sep_wid_x_pet_len, pet_len_x_pet_wid]</td>\n",
       "      <td>poly</td>\n",
       "      <td>1</td>\n",
       "    </tr>\n",
       "    <tr>\n",
       "      <th>48</th>\n",
       "      <td>7</td>\n",
       "      <td>0.963333</td>\n",
       "      <td>[sep_len, sep_wid, pet_len, pet_wid, sep_len_x_sep_wid, sep_wid_x_pet_wid, pet_len_x_pet_wid]</td>\n",
       "      <td>poly</td>\n",
       "      <td>1</td>\n",
       "    </tr>\n",
       "    <tr>\n",
       "      <th>54</th>\n",
       "      <td>7</td>\n",
       "      <td>0.963333</td>\n",
       "      <td>[sep_len, sep_wid, pet_len, pet_wid, sep_len_x_sep_wid, sep_len_x_pet_len, sep_wid_x_pet_wid]</td>\n",
       "      <td>poly</td>\n",
       "      <td>1</td>\n",
       "    </tr>\n",
       "    <tr>\n",
       "      <th>55</th>\n",
       "      <td>7</td>\n",
       "      <td>0.960000</td>\n",
       "      <td>[sep_len, sep_wid, pet_len, pet_wid, sep_len_x_sep_wid, sep_len_x_pet_len, sep_len_x_pet_wid]</td>\n",
       "      <td>poly</td>\n",
       "      <td>2</td>\n",
       "    </tr>\n",
       "    <tr>\n",
       "      <th>43</th>\n",
       "      <td>7</td>\n",
       "      <td>0.960000</td>\n",
       "      <td>[sep_len, sep_wid, pet_len, pet_wid, sep_len_x_pet_len, sep_wid_x_pet_wid, pet_len_x_pet_wid]</td>\n",
       "      <td>poly</td>\n",
       "      <td>2</td>\n",
       "    </tr>\n",
       "    <tr>\n",
       "      <th>45</th>\n",
       "      <td>7</td>\n",
       "      <td>0.960000</td>\n",
       "      <td>[sep_len, sep_wid, pet_len, pet_wid, sep_len_x_pet_len, sep_wid_x_pet_len, sep_wid_x_pet_wid]</td>\n",
       "      <td>poly</td>\n",
       "      <td>2</td>\n",
       "    </tr>\n",
       "    <tr>\n",
       "      <th>46</th>\n",
       "      <td>7</td>\n",
       "      <td>0.960000</td>\n",
       "      <td>[sep_len, sep_wid, pet_len, pet_wid, sep_len_x_pet_len, sep_len_x_pet_wid, sep_wid_x_pet_wid]</td>\n",
       "      <td>poly</td>\n",
       "      <td>2</td>\n",
       "    </tr>\n",
       "    <tr>\n",
       "      <th>47</th>\n",
       "      <td>7</td>\n",
       "      <td>0.960000</td>\n",
       "      <td>[sep_len, sep_wid, pet_len, pet_wid, sep_len_x_pet_len, sep_len_x_pet_wid, sep_wid_x_pet_len]</td>\n",
       "      <td>poly</td>\n",
       "      <td>2</td>\n",
       "    </tr>\n",
       "    <tr>\n",
       "      <th>52</th>\n",
       "      <td>7</td>\n",
       "      <td>0.960000</td>\n",
       "      <td>[sep_len, sep_wid, pet_len, pet_wid, sep_len_x_sep_wid, sep_len_x_pet_wid, sep_wid_x_pet_len]</td>\n",
       "      <td>poly</td>\n",
       "      <td>1</td>\n",
       "    </tr>\n",
       "    <tr>\n",
       "      <th>42</th>\n",
       "      <td>7</td>\n",
       "      <td>0.956667</td>\n",
       "      <td>[sep_len, sep_wid, pet_len, pet_wid, sep_len_x_pet_wid, sep_wid_x_pet_len, sep_wid_x_pet_wid]</td>\n",
       "      <td>rbf</td>\n",
       "      <td>3</td>\n",
       "    </tr>\n",
       "    <tr>\n",
       "      <th>44</th>\n",
       "      <td>7</td>\n",
       "      <td>0.953333</td>\n",
       "      <td>[sep_len, sep_wid, pet_len, pet_wid, sep_len_x_pet_len, sep_wid_x_pet_len, pet_len_x_pet_wid]</td>\n",
       "      <td>poly</td>\n",
       "      <td>1</td>\n",
       "    </tr>\n",
       "    <tr>\n",
       "      <th>61</th>\n",
       "      <td>8</td>\n",
       "      <td>0.966667</td>\n",
       "      <td>[sep_len, sep_wid, pet_len, pet_wid, sep_len_x_sep_wid, sep_len_x_pet_len, sep_wid_x_pet_wid, pet_len_x_pet_wid]</td>\n",
       "      <td>poly</td>\n",
       "      <td>1</td>\n",
       "    </tr>\n",
       "    <tr>\n",
       "      <th>65</th>\n",
       "      <td>8</td>\n",
       "      <td>0.966667</td>\n",
       "      <td>[sep_len, sep_wid, pet_len, pet_wid, sep_len_x_sep_wid, sep_wid_x_pet_len, sep_wid_x_pet_wid, pet_len_x_pet_wid]</td>\n",
       "      <td>poly</td>\n",
       "      <td>1</td>\n",
       "    </tr>\n",
       "    <tr>\n",
       "      <th>60</th>\n",
       "      <td>8</td>\n",
       "      <td>0.963333</td>\n",
       "      <td>[sep_len, sep_wid, pet_len, pet_wid, sep_len_x_sep_wid, sep_len_x_pet_len, sep_wid_x_pet_len, sep_wid_x_pet_wid]</td>\n",
       "      <td>poly</td>\n",
       "      <td>1</td>\n",
       "    </tr>\n",
       "    <tr>\n",
       "      <th>62</th>\n",
       "      <td>8</td>\n",
       "      <td>0.963333</td>\n",
       "      <td>[sep_len, sep_wid, pet_len, pet_wid, sep_len_x_sep_wid, sep_len_x_pet_wid, sep_wid_x_pet_len, sep_wid_x_pet_wid]</td>\n",
       "      <td>poly</td>\n",
       "      <td>1</td>\n",
       "    </tr>\n",
       "    <tr>\n",
       "      <th>63</th>\n",
       "      <td>8</td>\n",
       "      <td>0.963333</td>\n",
       "      <td>[sep_len, sep_wid, pet_len, pet_wid, sep_len_x_sep_wid, sep_len_x_pet_wid, sep_wid_x_pet_len, pet_len_x_pet_wid]</td>\n",
       "      <td>poly</td>\n",
       "      <td>1</td>\n",
       "    </tr>\n",
       "    <tr>\n",
       "      <th>66</th>\n",
       "      <td>8</td>\n",
       "      <td>0.963333</td>\n",
       "      <td>[sep_len, sep_wid, pet_len, pet_wid, sep_len_x_sep_wid, sep_len_x_pet_len, sep_wid_x_pet_len, pet_len_x_pet_wid]</td>\n",
       "      <td>rbf</td>\n",
       "      <td>3</td>\n",
       "    </tr>\n",
       "    <tr>\n",
       "      <th>59</th>\n",
       "      <td>8</td>\n",
       "      <td>0.960000</td>\n",
       "      <td>[sep_len, sep_wid, pet_len, pet_wid, sep_len_x_sep_wid, sep_len_x_pet_len, sep_len_x_pet_wid, pet_len_x_pet_wid]</td>\n",
       "      <td>poly</td>\n",
       "      <td>1</td>\n",
       "    </tr>\n",
       "    <tr>\n",
       "      <th>69</th>\n",
       "      <td>8</td>\n",
       "      <td>0.960000</td>\n",
       "      <td>[sep_len, sep_wid, pet_len, pet_wid, sep_len_x_pet_wid, sep_wid_x_pet_len, sep_wid_x_pet_wid, pet_len_x_pet_wid]</td>\n",
       "      <td>poly</td>\n",
       "      <td>1</td>\n",
       "    </tr>\n",
       "    <tr>\n",
       "      <th>64</th>\n",
       "      <td>8</td>\n",
       "      <td>0.960000</td>\n",
       "      <td>[sep_len, sep_wid, pet_len, pet_wid, sep_len_x_sep_wid, sep_len_x_pet_wid, sep_wid_x_pet_wid, pet_len_x_pet_wid]</td>\n",
       "      <td>poly</td>\n",
       "      <td>1</td>\n",
       "    </tr>\n",
       "    <tr>\n",
       "      <th>70</th>\n",
       "      <td>8</td>\n",
       "      <td>0.960000</td>\n",
       "      <td>[sep_len, sep_wid, pet_len, pet_wid, sep_len_x_pet_len, sep_len_x_pet_wid, sep_wid_x_pet_len, sep_wid_x_pet_wid]</td>\n",
       "      <td>poly</td>\n",
       "      <td>2</td>\n",
       "    </tr>\n",
       "    <tr>\n",
       "      <th>56</th>\n",
       "      <td>8</td>\n",
       "      <td>0.956667</td>\n",
       "      <td>[sep_len, sep_wid, pet_len, pet_wid, sep_len_x_pet_len, sep_wid_x_pet_len, sep_wid_x_pet_wid, pet_len_x_pet_wid]</td>\n",
       "      <td>poly</td>\n",
       "      <td>1</td>\n",
       "    </tr>\n",
       "    <tr>\n",
       "      <th>58</th>\n",
       "      <td>8</td>\n",
       "      <td>0.956667</td>\n",
       "      <td>[sep_len, sep_wid, pet_len, pet_wid, sep_len_x_sep_wid, sep_len_x_pet_len, sep_len_x_pet_wid, sep_wid_x_pet_wid]</td>\n",
       "      <td>poly</td>\n",
       "      <td>2</td>\n",
       "    </tr>\n",
       "    <tr>\n",
       "      <th>57</th>\n",
       "      <td>8</td>\n",
       "      <td>0.956667</td>\n",
       "      <td>[sep_len, sep_wid, pet_len, pet_wid, sep_len_x_sep_wid, sep_len_x_pet_len, sep_len_x_pet_wid, sep_wid_x_pet_len]</td>\n",
       "      <td>poly</td>\n",
       "      <td>1</td>\n",
       "    </tr>\n",
       "    <tr>\n",
       "      <th>67</th>\n",
       "      <td>8</td>\n",
       "      <td>0.956667</td>\n",
       "      <td>[sep_len, sep_wid, pet_len, pet_wid, sep_len_x_pet_len, sep_len_x_pet_wid, sep_wid_x_pet_len, pet_len_x_pet_wid]</td>\n",
       "      <td>poly</td>\n",
       "      <td>1</td>\n",
       "    </tr>\n",
       "    <tr>\n",
       "      <th>68</th>\n",
       "      <td>8</td>\n",
       "      <td>0.956667</td>\n",
       "      <td>[sep_len, sep_wid, pet_len, pet_wid, sep_len_x_pet_len, sep_len_x_pet_wid, sep_wid_x_pet_wid, pet_len_x_pet_wid]</td>\n",
       "      <td>poly</td>\n",
       "      <td>1</td>\n",
       "    </tr>\n",
       "    <tr>\n",
       "      <th>74</th>\n",
       "      <td>9</td>\n",
       "      <td>0.963333</td>\n",
       "      <td>[sep_len, sep_wid, pet_len, pet_wid, sep_len_x_sep_wid, sep_len_x_pet_len, sep_len_x_pet_wid, sep_wid_x_pet_wid, pet_len_x_pet_wid]</td>\n",
       "      <td>poly</td>\n",
       "      <td>1</td>\n",
       "    </tr>\n",
       "    <tr>\n",
       "      <th>75</th>\n",
       "      <td>9</td>\n",
       "      <td>0.963333</td>\n",
       "      <td>[sep_len, sep_wid, pet_len, pet_wid, sep_len_x_sep_wid, sep_len_x_pet_len, sep_len_x_pet_wid, sep_wid_x_pet_len, pet_len_x_pet_wid]</td>\n",
       "      <td>poly</td>\n",
       "      <td>1</td>\n",
       "    </tr>\n",
       "    <tr>\n",
       "      <th>76</th>\n",
       "      <td>9</td>\n",
       "      <td>0.963333</td>\n",
       "      <td>[sep_len, sep_wid, pet_len, pet_wid, sep_len_x_sep_wid, sep_len_x_pet_wid, sep_wid_x_pet_len, sep_wid_x_pet_wid, pet_len_x_pet_wid]</td>\n",
       "      <td>poly</td>\n",
       "      <td>1</td>\n",
       "    </tr>\n",
       "    <tr>\n",
       "      <th>72</th>\n",
       "      <td>9</td>\n",
       "      <td>0.960000</td>\n",
       "      <td>[sep_len, sep_wid, pet_len, pet_wid, sep_len_x_sep_wid, sep_len_x_pet_len, sep_len_x_pet_wid, sep_wid_x_pet_len, sep_wid_x_pet_wid]</td>\n",
       "      <td>poly</td>\n",
       "      <td>2</td>\n",
       "    </tr>\n",
       "    <tr>\n",
       "      <th>73</th>\n",
       "      <td>9</td>\n",
       "      <td>0.960000</td>\n",
       "      <td>[sep_len, sep_wid, pet_len, pet_wid, sep_len_x_sep_wid, sep_len_x_pet_len, sep_wid_x_pet_len, sep_wid_x_pet_wid, pet_len_x_pet_wid]</td>\n",
       "      <td>poly</td>\n",
       "      <td>1</td>\n",
       "    </tr>\n",
       "    <tr>\n",
       "      <th>71</th>\n",
       "      <td>9</td>\n",
       "      <td>0.956667</td>\n",
       "      <td>[sep_len, sep_wid, pet_len, pet_wid, sep_len_x_pet_len, sep_len_x_pet_wid, sep_wid_x_pet_len, sep_wid_x_pet_wid, pet_len_x_pet_wid]</td>\n",
       "      <td>poly</td>\n",
       "      <td>1</td>\n",
       "    </tr>\n",
       "    <tr>\n",
       "      <th>77</th>\n",
       "      <td>10</td>\n",
       "      <td>0.963333</td>\n",
       "      <td>[sep_len, sep_wid, pet_len, pet_wid, sep_len_x_sep_wid, sep_len_x_pet_len, sep_len_x_pet_wid, sep_wid_x_pet_len, sep_wid_x_pet_wid, pet_len_x_pet_wid]</td>\n",
       "      <td>poly</td>\n",
       "      <td>1</td>\n",
       "    </tr>\n",
       "  </tbody>\n",
       "</table>\n",
       "</div>"
      ],
      "text/plain": [
       "    Size     Score  \\\n",
       "0      1  0.953333   \n",
       "1      1  0.950000   \n",
       "3      1  0.736667   \n",
       "2      1  0.573333   \n",
       "8      2  0.963333   \n",
       "5      2  0.956667   \n",
       "6      2  0.953333   \n",
       "7      2  0.953333   \n",
       "9      2  0.953333   \n",
       "4      2  0.786667   \n",
       "13     3  0.976667   \n",
       "18     3  0.970000   \n",
       "10     3  0.963333   \n",
       "16     3  0.963333   \n",
       "15     3  0.956667   \n",
       "19     3  0.956667   \n",
       "12     3  0.953333   \n",
       "11     3  0.950000   \n",
       "17     3  0.943333   \n",
       "14     3  0.770000   \n",
       "20     4  0.976667   \n",
       "21     5  0.963333   \n",
       "25     5  0.963333   \n",
       "32     5  0.963333   \n",
       "30     5  0.960000   \n",
       "31     5  0.960000   \n",
       "23     5  0.956667   \n",
       "22     5  0.956667   \n",
       "27     5  0.956667   \n",
       "24     5  0.950000   \n",
       "26     5  0.946667   \n",
       "28     5  0.946667   \n",
       "29     5  0.943333   \n",
       "35     6  0.966667   \n",
       "33     6  0.963333   \n",
       "39     6  0.963333   \n",
       "36     6  0.960000   \n",
       "37     6  0.960000   \n",
       "38     6  0.956667   \n",
       "34     6  0.943333   \n",
       "49     7  0.973333   \n",
       "50     7  0.970000   \n",
       "53     7  0.970000   \n",
       "51     7  0.966667   \n",
       "40     7  0.963333   \n",
       "41     7  0.963333   \n",
       "48     7  0.963333   \n",
       "54     7  0.963333   \n",
       "55     7  0.960000   \n",
       "43     7  0.960000   \n",
       "45     7  0.960000   \n",
       "46     7  0.960000   \n",
       "47     7  0.960000   \n",
       "52     7  0.960000   \n",
       "42     7  0.956667   \n",
       "44     7  0.953333   \n",
       "61     8  0.966667   \n",
       "65     8  0.966667   \n",
       "60     8  0.963333   \n",
       "62     8  0.963333   \n",
       "63     8  0.963333   \n",
       "66     8  0.963333   \n",
       "59     8  0.960000   \n",
       "69     8  0.960000   \n",
       "64     8  0.960000   \n",
       "70     8  0.960000   \n",
       "56     8  0.956667   \n",
       "58     8  0.956667   \n",
       "57     8  0.956667   \n",
       "67     8  0.956667   \n",
       "68     8  0.956667   \n",
       "74     9  0.963333   \n",
       "75     9  0.963333   \n",
       "76     9  0.963333   \n",
       "72     9  0.960000   \n",
       "73     9  0.960000   \n",
       "71     9  0.956667   \n",
       "77    10  0.963333   \n",
       "\n",
       "                                                                                                                                                    Subset  \\\n",
       "0                                                                                                                                                [pet_wid]   \n",
       "1                                                                                                                                                [pet_len]   \n",
       "3                                                                                                                                                [sep_len]   \n",
       "2                                                                                                                                                [sep_wid]   \n",
       "8                                                                                                                                       [pet_len, pet_wid]   \n",
       "5                                                                                                                                       [sep_len, pet_len]   \n",
       "6                                                                                                                                       [sep_len, pet_wid]   \n",
       "7                                                                                                                                       [sep_wid, pet_len]   \n",
       "9                                                                                                                                       [sep_wid, pet_wid]   \n",
       "4                                                                                                                                       [sep_len, sep_wid]   \n",
       "13                                                                                                                             [sep_len, pet_len, pet_wid]   \n",
       "18                                                                                                                             [sep_wid, pet_len, pet_wid]   \n",
       "10                                                                                                                   [pet_len, pet_wid, pet_len_x_pet_wid]   \n",
       "16                                                                                                                             [sep_len, sep_wid, pet_len]   \n",
       "15                                                                                                                             [sep_len, sep_wid, pet_wid]   \n",
       "19                                                                                                                   [sep_wid, pet_len, sep_wid_x_pet_len]   \n",
       "12                                                                                                                   [sep_len, pet_len, sep_len_x_pet_len]   \n",
       "11                                                                                                                   [sep_len, pet_wid, sep_len_x_pet_wid]   \n",
       "17                                                                                                                   [sep_wid, pet_wid, sep_wid_x_pet_wid]   \n",
       "14                                                                                                                   [sep_len, sep_wid, sep_len_x_sep_wid]   \n",
       "20                                                                                                                    [sep_len, sep_wid, pet_len, pet_wid]   \n",
       "21                                                                                       [sep_wid, pet_len, pet_wid, sep_wid_x_pet_len, sep_wid_x_pet_wid]   \n",
       "25                                                                                       [sep_len, sep_wid, pet_len, sep_len_x_sep_wid, sep_len_x_pet_len]   \n",
       "32                                                                                       [sep_len, pet_len, pet_wid, sep_len_x_pet_wid, pet_len_x_pet_wid]   \n",
       "30                                                                                       [sep_len, pet_len, pet_wid, sep_len_x_pet_len, sep_len_x_pet_wid]   \n",
       "31                                                                                       [sep_len, pet_len, pet_wid, sep_len_x_pet_len, pet_len_x_pet_wid]   \n",
       "23                                                                                       [sep_wid, pet_len, pet_wid, sep_wid_x_pet_wid, pet_len_x_pet_wid]   \n",
       "22                                                                                       [sep_wid, pet_len, pet_wid, sep_wid_x_pet_len, pet_len_x_pet_wid]   \n",
       "27                                                                                       [sep_len, sep_wid, pet_len, sep_len_x_pet_len, sep_wid_x_pet_len]   \n",
       "24                                                                                       [sep_len, sep_wid, pet_wid, sep_len_x_pet_wid, sep_wid_x_pet_wid]   \n",
       "26                                                                                       [sep_len, sep_wid, pet_len, sep_len_x_sep_wid, sep_wid_x_pet_len]   \n",
       "28                                                                                       [sep_len, sep_wid, pet_wid, sep_len_x_sep_wid, sep_len_x_pet_wid]   \n",
       "29                                                                                       [sep_len, sep_wid, pet_wid, sep_len_x_sep_wid, sep_wid_x_pet_wid]   \n",
       "35                                                                              [sep_len, sep_wid, pet_len, pet_wid, sep_len_x_sep_wid, pet_len_x_pet_wid]   \n",
       "33                                                                    [sep_wid, pet_len, pet_wid, sep_wid_x_pet_len, sep_wid_x_pet_wid, pet_len_x_pet_wid]   \n",
       "39                                                                    [sep_len, pet_len, pet_wid, sep_len_x_pet_len, sep_len_x_pet_wid, pet_len_x_pet_wid]   \n",
       "36                                                                              [sep_len, sep_wid, pet_len, pet_wid, sep_len_x_pet_len, sep_wid_x_pet_wid]   \n",
       "37                                                                              [sep_len, sep_wid, pet_len, pet_wid, sep_len_x_pet_wid, sep_wid_x_pet_len]   \n",
       "38                                                                    [sep_len, sep_wid, pet_len, sep_len_x_sep_wid, sep_len_x_pet_len, sep_wid_x_pet_len]   \n",
       "34                                                                    [sep_len, sep_wid, pet_wid, sep_len_x_sep_wid, sep_len_x_pet_wid, sep_wid_x_pet_wid]   \n",
       "49                                                           [sep_len, sep_wid, pet_len, pet_wid, sep_len_x_sep_wid, sep_wid_x_pet_len, pet_len_x_pet_wid]   \n",
       "50                                                           [sep_len, sep_wid, pet_len, pet_wid, sep_len_x_sep_wid, sep_wid_x_pet_len, sep_wid_x_pet_wid]   \n",
       "53                                                           [sep_len, sep_wid, pet_len, pet_wid, sep_len_x_sep_wid, sep_len_x_pet_len, pet_len_x_pet_wid]   \n",
       "51                                                           [sep_len, sep_wid, pet_len, pet_wid, sep_len_x_sep_wid, sep_len_x_pet_wid, pet_len_x_pet_wid]   \n",
       "40                                                           [sep_len, sep_wid, pet_len, pet_wid, sep_len_x_pet_wid, sep_wid_x_pet_wid, pet_len_x_pet_wid]   \n",
       "41                                                           [sep_len, sep_wid, pet_len, pet_wid, sep_len_x_pet_wid, sep_wid_x_pet_len, pet_len_x_pet_wid]   \n",
       "48                                                           [sep_len, sep_wid, pet_len, pet_wid, sep_len_x_sep_wid, sep_wid_x_pet_wid, pet_len_x_pet_wid]   \n",
       "54                                                           [sep_len, sep_wid, pet_len, pet_wid, sep_len_x_sep_wid, sep_len_x_pet_len, sep_wid_x_pet_wid]   \n",
       "55                                                           [sep_len, sep_wid, pet_len, pet_wid, sep_len_x_sep_wid, sep_len_x_pet_len, sep_len_x_pet_wid]   \n",
       "43                                                           [sep_len, sep_wid, pet_len, pet_wid, sep_len_x_pet_len, sep_wid_x_pet_wid, pet_len_x_pet_wid]   \n",
       "45                                                           [sep_len, sep_wid, pet_len, pet_wid, sep_len_x_pet_len, sep_wid_x_pet_len, sep_wid_x_pet_wid]   \n",
       "46                                                           [sep_len, sep_wid, pet_len, pet_wid, sep_len_x_pet_len, sep_len_x_pet_wid, sep_wid_x_pet_wid]   \n",
       "47                                                           [sep_len, sep_wid, pet_len, pet_wid, sep_len_x_pet_len, sep_len_x_pet_wid, sep_wid_x_pet_len]   \n",
       "52                                                           [sep_len, sep_wid, pet_len, pet_wid, sep_len_x_sep_wid, sep_len_x_pet_wid, sep_wid_x_pet_len]   \n",
       "42                                                           [sep_len, sep_wid, pet_len, pet_wid, sep_len_x_pet_wid, sep_wid_x_pet_len, sep_wid_x_pet_wid]   \n",
       "44                                                           [sep_len, sep_wid, pet_len, pet_wid, sep_len_x_pet_len, sep_wid_x_pet_len, pet_len_x_pet_wid]   \n",
       "61                                        [sep_len, sep_wid, pet_len, pet_wid, sep_len_x_sep_wid, sep_len_x_pet_len, sep_wid_x_pet_wid, pet_len_x_pet_wid]   \n",
       "65                                        [sep_len, sep_wid, pet_len, pet_wid, sep_len_x_sep_wid, sep_wid_x_pet_len, sep_wid_x_pet_wid, pet_len_x_pet_wid]   \n",
       "60                                        [sep_len, sep_wid, pet_len, pet_wid, sep_len_x_sep_wid, sep_len_x_pet_len, sep_wid_x_pet_len, sep_wid_x_pet_wid]   \n",
       "62                                        [sep_len, sep_wid, pet_len, pet_wid, sep_len_x_sep_wid, sep_len_x_pet_wid, sep_wid_x_pet_len, sep_wid_x_pet_wid]   \n",
       "63                                        [sep_len, sep_wid, pet_len, pet_wid, sep_len_x_sep_wid, sep_len_x_pet_wid, sep_wid_x_pet_len, pet_len_x_pet_wid]   \n",
       "66                                        [sep_len, sep_wid, pet_len, pet_wid, sep_len_x_sep_wid, sep_len_x_pet_len, sep_wid_x_pet_len, pet_len_x_pet_wid]   \n",
       "59                                        [sep_len, sep_wid, pet_len, pet_wid, sep_len_x_sep_wid, sep_len_x_pet_len, sep_len_x_pet_wid, pet_len_x_pet_wid]   \n",
       "69                                        [sep_len, sep_wid, pet_len, pet_wid, sep_len_x_pet_wid, sep_wid_x_pet_len, sep_wid_x_pet_wid, pet_len_x_pet_wid]   \n",
       "64                                        [sep_len, sep_wid, pet_len, pet_wid, sep_len_x_sep_wid, sep_len_x_pet_wid, sep_wid_x_pet_wid, pet_len_x_pet_wid]   \n",
       "70                                        [sep_len, sep_wid, pet_len, pet_wid, sep_len_x_pet_len, sep_len_x_pet_wid, sep_wid_x_pet_len, sep_wid_x_pet_wid]   \n",
       "56                                        [sep_len, sep_wid, pet_len, pet_wid, sep_len_x_pet_len, sep_wid_x_pet_len, sep_wid_x_pet_wid, pet_len_x_pet_wid]   \n",
       "58                                        [sep_len, sep_wid, pet_len, pet_wid, sep_len_x_sep_wid, sep_len_x_pet_len, sep_len_x_pet_wid, sep_wid_x_pet_wid]   \n",
       "57                                        [sep_len, sep_wid, pet_len, pet_wid, sep_len_x_sep_wid, sep_len_x_pet_len, sep_len_x_pet_wid, sep_wid_x_pet_len]   \n",
       "67                                        [sep_len, sep_wid, pet_len, pet_wid, sep_len_x_pet_len, sep_len_x_pet_wid, sep_wid_x_pet_len, pet_len_x_pet_wid]   \n",
       "68                                        [sep_len, sep_wid, pet_len, pet_wid, sep_len_x_pet_len, sep_len_x_pet_wid, sep_wid_x_pet_wid, pet_len_x_pet_wid]   \n",
       "74                     [sep_len, sep_wid, pet_len, pet_wid, sep_len_x_sep_wid, sep_len_x_pet_len, sep_len_x_pet_wid, sep_wid_x_pet_wid, pet_len_x_pet_wid]   \n",
       "75                     [sep_len, sep_wid, pet_len, pet_wid, sep_len_x_sep_wid, sep_len_x_pet_len, sep_len_x_pet_wid, sep_wid_x_pet_len, pet_len_x_pet_wid]   \n",
       "76                     [sep_len, sep_wid, pet_len, pet_wid, sep_len_x_sep_wid, sep_len_x_pet_wid, sep_wid_x_pet_len, sep_wid_x_pet_wid, pet_len_x_pet_wid]   \n",
       "72                     [sep_len, sep_wid, pet_len, pet_wid, sep_len_x_sep_wid, sep_len_x_pet_len, sep_len_x_pet_wid, sep_wid_x_pet_len, sep_wid_x_pet_wid]   \n",
       "73                     [sep_len, sep_wid, pet_len, pet_wid, sep_len_x_sep_wid, sep_len_x_pet_len, sep_wid_x_pet_len, sep_wid_x_pet_wid, pet_len_x_pet_wid]   \n",
       "71                     [sep_len, sep_wid, pet_len, pet_wid, sep_len_x_pet_len, sep_len_x_pet_wid, sep_wid_x_pet_len, sep_wid_x_pet_wid, pet_len_x_pet_wid]   \n",
       "77  [sep_len, sep_wid, pet_len, pet_wid, sep_len_x_sep_wid, sep_len_x_pet_len, sep_len_x_pet_wid, sep_wid_x_pet_len, sep_wid_x_pet_wid, pet_len_x_pet_wid]   \n",
       "\n",
       "   Kernel  Degree  \n",
       "0    poly       1  \n",
       "1    poly       2  \n",
       "3    poly       2  \n",
       "2     rbf       3  \n",
       "8    poly       1  \n",
       "5    poly       2  \n",
       "6     rbf       3  \n",
       "7    poly       1  \n",
       "9     rbf       3  \n",
       "4    poly       1  \n",
       "13   poly       1  \n",
       "18   poly       2  \n",
       "10   poly       3  \n",
       "16   poly       1  \n",
       "15    rbf       3  \n",
       "19   poly       2  \n",
       "12   poly       1  \n",
       "11   poly       1  \n",
       "17   poly       1  \n",
       "14   poly       1  \n",
       "20   poly       1  \n",
       "21    rbf       3  \n",
       "25   poly       1  \n",
       "32   poly       2  \n",
       "30   poly       2  \n",
       "31   poly       2  \n",
       "23   poly       3  \n",
       "22   poly       3  \n",
       "27   poly       1  \n",
       "24   poly       1  \n",
       "26   poly       1  \n",
       "28   poly       3  \n",
       "29   poly       3  \n",
       "35   poly       1  \n",
       "33   poly       3  \n",
       "39   poly       2  \n",
       "36   poly       1  \n",
       "37   poly       2  \n",
       "38   poly       1  \n",
       "34   poly       3  \n",
       "49    rbf       3  \n",
       "50   poly       2  \n",
       "53   poly       1  \n",
       "51   poly       1  \n",
       "40   poly       3  \n",
       "41   poly       1  \n",
       "48   poly       1  \n",
       "54   poly       1  \n",
       "55   poly       2  \n",
       "43   poly       2  \n",
       "45   poly       2  \n",
       "46   poly       2  \n",
       "47   poly       2  \n",
       "52   poly       1  \n",
       "42    rbf       3  \n",
       "44   poly       1  \n",
       "61   poly       1  \n",
       "65   poly       1  \n",
       "60   poly       1  \n",
       "62   poly       1  \n",
       "63   poly       1  \n",
       "66    rbf       3  \n",
       "59   poly       1  \n",
       "69   poly       1  \n",
       "64   poly       1  \n",
       "70   poly       2  \n",
       "56   poly       1  \n",
       "58   poly       2  \n",
       "57   poly       1  \n",
       "67   poly       1  \n",
       "68   poly       1  \n",
       "74   poly       1  \n",
       "75   poly       1  \n",
       "76   poly       1  \n",
       "72   poly       2  \n",
       "73   poly       1  \n",
       "71   poly       1  \n",
       "77   poly       1  "
      ]
     },
     "metadata": {},
     "output_type": "display_data"
    }
   ],
   "source": [
    "''' review model performance'''\n",
    "# put together the results\n",
    "resultsBySize = pd.DataFrame(data={'Size':np.sum(subsets, axis=1), 'Score':fsScores,\n",
    "                                   'Subset':[[f for f, s in zip(features, sub) if s] for sub in subsets],\n",
    "                                   'Kernel':[p['kernel'] for p in fsParams],\n",
    "                                   'Degree':[p['degree'] for p in fsParams]}).sort_values(by=['Size', 'Score'], ascending=[True,False])\n",
    "# and also filter to get the best by size\n",
    "bestBySize = resultsBySize[~resultsBySize.duplicated(subset=['Size'], keep='first')]\n",
    "\n",
    "# talk\n",
    "display(bestBySize)\n",
    "display(resultsBySize)"
   ]
  },
  {
   "cell_type": "markdown",
   "metadata": {},
   "source": [
    "So after all this, if we want to use a single model to predict the variety of an iris flower, it appears that we only need to measure the length of the sepal and petal, and the width of the petal, then apply a SVM model, using a linear kernel with coef0 $= -1$ and $\\gamma = 1$. Of course, this is from having only reviewed Logistic Regression and Support Vector Machines (though, to be fair, we did not do the extensive machine learning with Logistic Regression).\n",
    "\n",
    "The reason why there are different machine learning models is that they have their own strengths & weaknesses. There is no model that will always be best for all datasets that can ever exist (though a Deep Learning Neural Networks may someday be that). Can we create a model that combines multiple models together, uses the strengths of some to combat the weaknesses of others? Yes we can; this is called *ensemble modeling*."
   ]
  },
  {
   "cell_type": "markdown",
   "metadata": {},
   "source": [
    "<a id=ensemble></a>\n",
    "### Ensemble Modeling\n",
    "<a href=#top>Go to top</a> - <a href=#bottom>Go to bottom</a>"
   ]
  },
  {
   "cell_type": "markdown",
   "metadata": {},
   "source": [
    "We've all heard the phrase \"less is more\", but that is not always the case in machine learning. Founded on the idea that the only thing better than a machine learning model is two machine learning models (gratuitous *Water Boy* reference!), the **ensemble model**, which is literally an ensemble of models, proves this. I began modeling with ensemble models in the early 2000's, having never heard of the term. At the time, I was developing daily trading model for *index mutual funds*. We reasoned that we could make more robust and more accurate predictions on the direction of the market if we used a set of models that diversified by instrument, methodology, source, and frequency. An important component of an ensemble model is the *voting mechanism* - this defines how you handle when the component models disagree. For trading, I developed an allocation system that allocated a fixed number of votes among the component models based on the recent performance of their signals. As compared to any of the component models, the resultant ensemble model made higher returns, spent less time in drawdowns, and experienced lower volatility over many years of bull, bear, and whipsaw markets. This is called *market neutrality*.\n",
    "\n",
    "Perhaps the simplest way to create a machine learning ensemble model is to simply fit $M$ models to a dataset, and combine their predictions. In the case of predicting a continuous response, the voting mechanism could simply average the predicted values. For classification, we could pick the most often predicted class, choose the class predicted by the model that had the highest predicted probability, or combine & rebalance all models' class probabilities. For example, we could fit both the Logistic Regression and Kernel SVM models we've already seen to the Fisher Iris Data to predict the flower varieties. In my prior work on predicting North Sea field production volumes, I created an ensemble model that averaged together *elastic net*, *gradient boosting*, and *adaptive boosting* regression models. This was then treated as a single model, and ensembled together with the WM forecasts using a static .75 / .25 weighted average.\n",
    "<center><img src=./ensemble_architecture.png alt=\"Ensemble Architecture\" width=700/></center>\n",
    "\n",
    "In machine learning, there are three major ideas behind ensemble models: *bagging*, *boosting*, and *stacking*. Bagging, originally a contraction of the term *bootstrap aggregating*, works by combining many models together, in which each one is fit to a *bootstrapped* dataset. Bootstrapping is the process of randomly selecting - with replacement - a subset of observations from a dataset. In addition to this, bagging can also refer to *attribute bagging* or *feature bagging*, in which each model is fit to a randomly-selected subset of the features. The *random forest* model typically uses both observation and feature bagging. Boosting is a complex and precisely-defined mathematical mechanism that typically works by fitting a series of models to a dataset, iterating over two steps:\n",
    "- fit a *weak learner* model\n",
    "- reweight observations, giving higher weighting to those that the model got most wrong.\n",
    "\n",
    "Perhaps a stacked ensemble model could be almost thought of as *psuedo-boosting*, though there's no weighting of observations. There are different ways to create a stacked ensemble model, but one would be to use multiple models create predictions, then use those predictions as features for another model. This could include, for example, fitting a regression model to some data, then fitting a second regression model to the residuals to predict the same response.\n",
    "\n",
    "Ensemble models are used for multiple reasons:\n",
    "- allow the strengths of some models to overcome the weakness of others\n",
    "- reduce model variance\n",
    "- avoid overfitting\n",
    "- reduce correlation among models\n",
    "- reduce bias\n",
    "\n",
    "The only downsides to ensemble models that I can think of is the additional computational time, additional complexity, and possible difficulty interpreting / explaining results.\n",
    "\n",
    "Scikit-learn documentation currently lists almost 20 [ensemble methods](https://scikit-learn.org/stable/modules/classes.html#module-sklearn.ensemble)."
   ]
  },
  {
   "cell_type": "code",
   "execution_count": null,
   "metadata": {},
   "outputs": [],
   "source": [
    "''' demonstrate voting classifier '''\n",
    "# component models\n",
    "models = ['Ensemble','Logistic Regression', 'Kernel SVM']\n",
    "LGRG = LogisticRegression(multi_class='ovr', max_iter=500, n_jobs=-1, random_state=42)\n",
    "KSVM = SVC(kernel=GSC.best_params_['kernel'], degree=GSC.best_params_['degree'],\n",
    "           gamma=GSC.best_params_['gamma'], coef0=GSC.best_params_['coef0'], random_state=42)\n",
    "\n",
    "# setup the voting classifier\n",
    "vot = 'hard' # hard = uses predicted class labels for majority voting; soft = uses predicted probabilities\n",
    "votClas = VotingClassifier(estimators=[('Logistic Regression', LGRG), ('Kernel SVM', KSVM)], n_jobs=-1)\n",
    "\n",
    "# perform the cross-validation model evaluation\n",
    "crossValScores = np.zeros((2, crossVal.n_splits, 3), dtype=float)\n",
    "talkFreq = int(0.2*crossVal.n_splits)\n",
    "for i,(trn, tst) in enumerate(crossVal.split(data, labl)):\n",
    "    # talk\n",
    "    if (i+1) % talkFreq == 0:\n",
    "        print('Random split %04d of %04d'%(i+1,splits))\n",
    "    # get the training / testing data\n",
    "    trnData = data[trn]; trnLabl = labl[trn]\n",
    "    tstData = data[tst]; tstLabl = labl[tst]\n",
    "    # fit & score\n",
    "    votClas.fit(X=trnData, y=trnLabl)\n",
    "    crossValScores[0,i,0] = votClas.score(X=trnData, y=trnLabl)\n",
    "    crossValScores[1,i,0] = votClas.score(X=tstData, y=tstLabl)\n",
    "    # do the same for the component models\n",
    "    crossValScores[0,i,1] = votClas.named_estimators_['Logistic Regression'].score(X=trnData, y=trnLabl)\n",
    "    crossValScores[1,i,1] = votClas.named_estimators_['Logistic Regression'].score(X=tstData, y=tstLabl)\n",
    "    crossValScores[0,i,2] = votClas.named_estimators_['Kernel SVM'].score(X=trnData, y=trnLabl)\n",
    "    crossValScores[1,i,2] = votClas.named_estimators_['Kernel SVM'].score(X=tstData, y=tstLabl)\n",
    "    \n",
    "# summarize & talk\n",
    "trnScores = pd.DataFrame(data=crossValScores[0,:,:], columns=models)\n",
    "tstScores = pd.DataFrame(data=crossValScores[1,:,:], columns=models)\n",
    "scores = trnScores.join(tstScores, how='inner', lsuffix='_trn', rsuffix='_tst').sort_index(axis=1)\n",
    "display(scores.describe())"
   ]
  },
  {
   "cell_type": "code",
   "execution_count": null,
   "metadata": {},
   "outputs": [],
   "source": [
    "''' demonstrate stacking classifier '''\n",
    "# setup the stacked classifier (using the same models as the voting classifier)\n",
    "crossValInput = 5 # this indicates 5-fold stratified cv\n",
    "passThrough = True # true = final trained on X + predictions, false = final trained only on predictions\n",
    "finalEstim = DecisionTreeClassifier(random_state=42)\n",
    "stkClas = StackingClassifier(estimators=[('Logistic Regression', LGRG), ('Kernel SVM', KSVM)],\n",
    "                             cv=crossValInput, passthrough=passThrough, final_estimator=finalEstim,\n",
    "                             n_jobs=-1)\n",
    "\n",
    "# perform the cross-validation model evaluation\n",
    "crossValScores = np.zeros((2, crossVal.n_splits, 3), dtype=float)\n",
    "talkFreq = int(0.2*crossVal.n_splits)\n",
    "for i,(trn, tst) in enumerate(crossVal.split(data, labl)):\n",
    "    # talk\n",
    "    if (i+1) % talkFreq == 0:\n",
    "        print('Random split %04d of %04d'%(i+1,splits))\n",
    "    # get the training / testing data\n",
    "    trnData = data[trn]; trnLabl = labl[trn]\n",
    "    tstData = data[tst]; tstLabl = labl[tst]\n",
    "    # fit & score\n",
    "    stkClas.fit(X=trnData, y=trnLabl)\n",
    "    crossValScores[0,i,0] = stkClas.score(X=trnData, y=trnLabl)\n",
    "    crossValScores[1,i,0] = stkClas.score(X=tstData, y=tstLabl)\n",
    "    # do the same for the component models\n",
    "    crossValScores[0,i,1] = stkClas.named_estimators_['Logistic Regression'].score(X=trnData, y=trnLabl)\n",
    "    crossValScores[1,i,1] = stkClas.named_estimators_['Logistic Regression'].score(X=tstData, y=tstLabl)\n",
    "    crossValScores[0,i,2] = stkClas.named_estimators_['Kernel SVM'].score(X=trnData, y=trnLabl)\n",
    "    crossValScores[1,i,2] = stkClas.named_estimators_['Kernel SVM'].score(X=tstData, y=tstLabl)\n",
    "    \n",
    "# summarize & talk\n",
    "trnScores = pd.DataFrame(data=crossValScores[0,:,:], columns=models)\n",
    "tstScores = pd.DataFrame(data=crossValScores[1,:,:], columns=models)\n",
    "scores = trnScores.join(tstScores, how='inner', lsuffix='_trn', rsuffix='_tst').sort_index(axis=1)\n",
    "display(scores.describe())"
   ]
  },
  {
   "cell_type": "code",
   "execution_count": null,
   "metadata": {},
   "outputs": [],
   "source": [
    "''' plot the decision tree & show feature importances from the last stacking classifier '''\n",
    "# need to create a list of features, I *think* with passthrough=True that the features in order are\n",
    "# Logistic Regression class probs, Kernel SVM class probs, original features\n",
    "feats = ['_'.join(mv) for mv in product(models[1:],varieties)]\n",
    "feats.extend(features)\n",
    "\n",
    "# show the feature importances\n",
    "featImports = [(f, i) for f, i in zip(feats, stkClas.final_estimator_.feature_importances_)]\n",
    "featImports.sort(key=lambda x:x[1])\n",
    "for (f, i) in featImports[::-1]:\n",
    "    print('%s = %0.2f'%(f,i))\n",
    "\n",
    "# plot\n",
    "_ = plot_tree(stkClas.final_estimator_, feature_names=feats, class_names=varieties, filled=True)"
   ]
  },
  {
   "cell_type": "code",
   "execution_count": null,
   "metadata": {},
   "outputs": [],
   "source": [
    "''' demonstrate random forest '''\n",
    "# setup the random forest classifier\n",
    "numberTrees = 100\n",
    "RF = RandomForestClassifier(n_estimators=numberTrees, random_state=42, n_jobs=-1)\n",
    "\n",
    "# perform the cross-validation model evaluation\n",
    "# cross-validation is probably not strictly required, since each decision tree sees a different sample\n",
    "crossValScores = np.zeros((crossVal.n_splits, 2), dtype=float )\n",
    "talkFreq = int(0.2*crossVal.n_splits)\n",
    "for i,(trn, tst) in enumerate(crossVal.split(data, labl)):\n",
    "    # talk\n",
    "    if (i+1) % talkFreq == 0:\n",
    "        print('Random split %04d of %04d'%(i+1,splits))\n",
    "    # get the training / testing data\n",
    "    trnData = data[trn]; trnLabl = labl[trn]\n",
    "    tstData = data[tst]; tstLabl = labl[tst]\n",
    "    # fit & score\n",
    "    RF.fit(X=trnData, y=trnLabl)\n",
    "    crossValScores[i,0] = RF.score(X=trnData, y=trnLabl)\n",
    "    crossValScores[i,1] = RF.score(X=tstData, y=tstLabl)\n",
    "\n",
    "# summarize & talk\n",
    "trnScores = pd.DataFrame(data=crossValScores[:,0], columns=['Random Forest'])\n",
    "tstScores = pd.DataFrame(data=crossValScores[:,1], columns=['Random Forest'])\n",
    "scores = trnScores.join(tstScores, how='inner', lsuffix='_trn', rsuffix='_tst').sort_index(axis=1)\n",
    "display(scores.describe())\n",
    "# final random forest performance\n",
    "print('Correct Classification Rate: %0.3f%%'%(100*crossValScores[-1,1]))\n",
    "# final random forest overall feature importances\n",
    "featImports = [(f, i) for f, i in zip(features, RF.feature_importances_)]\n",
    "featImports.sort(key=lambda x:x[1])\n",
    "for (f, i) in featImports[::-1]:\n",
    "    print('%s = %0.2f'%(f,i))"
   ]
  },
  {
   "cell_type": "code",
   "execution_count": null,
   "metadata": {},
   "outputs": [],
   "source": [
    "''' get some information from the last random forest '''\n",
    "# choose the best tree, based on the last testing set\n",
    "treeScores = [atree.score(X=tstData, y=tstLabl) for atree in RF.estimators_]\n",
    "bestTree = np.argsort(treeScores)[-1]    # just reusing variable\n",
    "bestTreeScore = treeScores[bestTree]\n",
    "bestTree = RF.estimators_[bestTree]\n",
    "print('Best Tree Correct Classification Rate: %0.3f%%'%(100*bestTreeScore))\n",
    "\n",
    "# show the feature importances\n",
    "featImports = [(f, i) for f, i in zip(features, bestTree.feature_importances_)]\n",
    "featImports.sort(key=lambda x:x[1])\n",
    "for (f, i) in featImports[::-1]:\n",
    "    print('%s = %0.2f'%(f,i))\n",
    "\n",
    "# plot it\n",
    "_ = plot_tree(bestTree, feature_names=features, class_names=varieties, filled=True)"
   ]
  },
  {
   "cell_type": "markdown",
   "metadata": {},
   "source": [
    "<a id=bottom></a>Done! <a href=#top>Go to top</a>"
   ]
  },
  {
   "cell_type": "code",
   "execution_count": null,
   "metadata": {},
   "outputs": [],
   "source": []
  }
 ],
 "metadata": {
  "kernelspec": {
   "display_name": "Python 3",
   "language": "python",
   "name": "python3"
  },
  "language_info": {
   "codemirror_mode": {
    "name": "ipython",
    "version": 3
   },
   "file_extension": ".py",
   "mimetype": "text/x-python",
   "name": "python",
   "nbconvert_exporter": "python",
   "pygments_lexer": "ipython3",
   "version": "3.7.7"
  }
 },
 "nbformat": 4,
 "nbformat_minor": 4
}
